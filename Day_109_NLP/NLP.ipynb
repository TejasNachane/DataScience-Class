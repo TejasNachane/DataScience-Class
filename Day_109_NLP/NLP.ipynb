{
 "cells": [
  {
   "cell_type": "markdown",
   "id": "5cbd24cb",
   "metadata": {},
   "source": [
    "# NLP - Natural Language Processing"
   ]
  },
  {
   "cell_type": "markdown",
   "id": "99a5d18c",
   "metadata": {},
   "source": [
    "### 1. What is NLP?"
   ]
  },
  {
   "cell_type": "markdown",
   "id": "697bb7a4",
   "metadata": {},
   "source": [
    "1. NLP stands for Natural Language Processing\n",
    "2. NLP is part of coumputer science, Human Language and Artificial Intelligence\n",
    "3. It is technology that used by machine to understand, analysis, manipulate, and interpret humans language.\n",
    "4. Using NLP we performing task such as:\n",
    "    1. Translation\n",
    "    2. Automatic Summarization\n",
    "    3. Name Entity Recognition (NER)\n",
    "    4. Speech Recognition\n",
    "    5. Relationship Extraction and \n",
    "    6. Topic Segementation"
   ]
  },
  {
   "cell_type": "markdown",
   "id": "8b7921d3",
   "metadata": {},
   "source": [
    "### 2. Advantages of NLP"
   ]
  },
  {
   "cell_type": "markdown",
   "id": "dbce8a3a",
   "metadata": {},
   "source": [
    "1. NLP helps uses to ask question about any subject and get a answer (response) within seconds\n",
    "2. NLP offers exact answers to the question means it does not offer unnecessory and unwanted information\n",
    "3. NLP helps computers to communicate with human in their language \n",
    "4. It is very time effiecient \n",
    "5. Most of the components use NLP to improves the effiecincy of documentation process, identify the information from large dataset"
   ]
  },
  {
   "cell_type": "markdown",
   "id": "bacdf8e8",
   "metadata": {},
   "source": [
    "### 3. Disadvantages of NLP"
   ]
  },
  {
   "cell_type": "markdown",
   "id": "ee0ea564",
   "metadata": {},
   "source": [
    "1. NLP may not show context\n",
    "2. NLP is unpredictable\n",
    "3. NLP may require more keystroke\n",
    "4. NLP is unable to adapt the new domain"
   ]
  },
  {
   "cell_type": "markdown",
   "id": "3bbdc266",
   "metadata": {},
   "source": [
    "### 4. Application of NLP"
   ]
  },
  {
   "cell_type": "markdown",
   "id": "d15acfbf",
   "metadata": {},
   "source": [
    "1. Question Answering:\n",
    "    1. Question Answering focuses on building systems that automatically answer the question ask by humans\n",
    "2. Spam Detection:\n",
    "    1. Spam detection is used to detect unwanted e-mail getting to user's inbox\n",
    "3. Sentiment Analysis:\n",
    "    1. Sentiment Analsis also called as Openion Mining\n",
    "    2. It is used on the web to analyse, behaviour, emotional state, attitude to the sender\n",
    "    3. This application implemented through a combination of NLP (Natural Language Processing) and statistics by assigning the values\n",
    "    4. (Positive, Negative, or Natural), Identify the mood of context (Happy, Sad, Angry etc.)\n",
    "4. Machine Translation:\n",
    "    1. Machine translation is used to translate text or speech from one natural language to another natural language\n",
    "    2. Google Translator\n",
    "5. Spelling correction:\n",
    "    1. Microsft Coroporation provides word processor software like MS-Word, Powerpoint for the spelling correction\n",
    "6. Speech Recognition:\n",
    "    1. Speech recognition is used for converting spoken words into text.\n",
    "    2. It is used in application, mobile, home automation, video recovery\n",
    "    3. voice Biometrics \n",
    "7. Chatbot:\n",
    "    1. Chatbot is one of the importatn application of NLP\n",
    "8. Inforamtion Extraction\n",
    "9. Natural Language Understanding (NLU)"
   ]
  },
  {
   "cell_type": "markdown",
   "id": "454b3d39",
   "metadata": {},
   "source": [
    "### How to build an NLP Pipeline ?"
   ]
  },
  {
   "cell_type": "markdown",
   "id": "ba7d38b4",
   "metadata": {},
   "source": [
    "**There are following steps to build an NLP Pipeline**"
   ]
  },
  {
   "cell_type": "markdown",
   "id": "a22178ae",
   "metadata": {},
   "source": [
    "1. Sentence Segementation\n",
    "2. Word Tokenizaitation\n",
    "3. Steaming\n",
    "4. Lemmatization\n",
    "5. Identifying stop words\n",
    "6. Dependency Parsing\n",
    "7. POS tags\n",
    "8. Named Entity Recognition (NER)\n",
    "9. Chunking"
   ]
  },
  {
   "cell_type": "code",
   "execution_count": null,
   "id": "64c764f7",
   "metadata": {},
   "outputs": [],
   "source": []
  }
 ],
 "metadata": {
  "kernelspec": {
   "display_name": "Python 3",
   "language": "python",
   "name": "python3"
  },
  "language_info": {
   "codemirror_mode": {
    "name": "ipython",
    "version": 3
   },
   "file_extension": ".py",
   "mimetype": "text/x-python",
   "name": "python",
   "nbconvert_exporter": "python",
   "pygments_lexer": "ipython3",
   "version": "3.8.8"
  }
 },
 "nbformat": 4,
 "nbformat_minor": 5
}
