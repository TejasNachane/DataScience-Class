{
 "cells": [
  {
   "cell_type": "markdown",
   "metadata": {},
   "source": [
    "# 1. Regression"
   ]
  },
  {
   "cell_type": "markdown",
   "metadata": {},
   "source": [
    "1. Regression analysis is form of predictive modeling technique,which is used **findout the relationship between independent and Dependent variable.**\n",
    "1. There are diffrent types of Regression:\n",
    "    1. Linear Regression\n",
    "    2. Logistic Regression \n",
    "    3. Polynomial Regression\n",
    "    4. Lasso Regression\n",
    "    5. Ridge Regression"
   ]
  },
  {
   "cell_type": "markdown",
   "metadata": {},
   "source": [
    "# 1. Linear Regression"
   ]
  },
  {
   "cell_type": "markdown",
   "metadata": {},
   "source": [
    "1. Linear Regression is supervised machine learning algorithm\n",
    "2. which is predict output on contineous and constant slope\n",
    "3. It is used to **predict the value within range** rather than the classify category\n",
    "4. Example:\n",
    "    1. Evaluate Trends and Sales Estimate\n",
    "    2. Analyzing the price changes\n",
    "    3. Accessing the Risk\n",
    "5. There are two different types of Linear Regression:\n",
    "    1. Simple Linear Regression\n",
    "    2. Multiple Linear Regression"
   ]
  },
  {
   "cell_type": "markdown",
   "metadata": {},
   "source": [
    "### 1. Simple Linear Regression"
   ]
  },
  {
   "cell_type": "markdown",
   "metadata": {},
   "source": [
    "1. Simple linear regression is useful to finding relationship between two variables:\n",
    "    1. Independent Variable [x]\n",
    "    2. Dependent Variable [y]\n",
    "2. Finding the relationship between two quantitative variable:\n",
    "    1. How strong Relationship between two variables?\n",
    "    2. The value of dependent variable of certain independent variable"
   ]
  },
  {
   "cell_type": "markdown",
   "metadata": {},
   "source": [
    "**Note - If more than one independent variable, use Multiple Linear Regression**"
   ]
  },
  {
   "cell_type": "markdown",
   "metadata": {},
   "source": [
    "**Formula for Simple Linear Regression [y = mx + c] = y = b0+b1x1+epsilon**"
   ]
  },
  {
   "cell_type": "markdown",
   "metadata": {},
   "source": [
    "**Where,**"
   ]
  },
  {
   "cell_type": "markdown",
   "metadata": {},
   "source": [
    "1. y = Predicted value of Dependent Variable [y - output variable] for the given independent variable [x]\n",
    "2. b0 - intercept predicted value of y when x is 0\n",
    "3. b1 - Regression of Coefficient - How much y except changes as x increase\n",
    "4. x - Independent Variable\n",
    "5. e - Error"
   ]
  },
  {
   "cell_type": "markdown",
   "metadata": {},
   "source": [
    "### Assumption"
   ]
  },
  {
   "cell_type": "markdown",
   "metadata": {},
   "source": [
    "#### There are four Assumption required in Linear Regression\n",
    "1. Simple Linear Regression is a parameter test, meaning that if makes a certain assumption about the data:\n",
    "    1. Homogenaty of Variance (Homoscedasticity)\n",
    "    2. Independance of Observation\n",
    "    3. Normality\n",
    "    4. Linearity"
   ]
  },
  {
   "cell_type": "markdown",
   "metadata": {},
   "source": [
    "1. Homogenaty of Variance:\n",
    "    1. Size of error in our prediction does not change significantly across the value of the independant variable\n",
    "2. Independance of Observation:\n",
    "    1. No hidden relationship among observation\n",
    "    2. Observations in the dataset were collection using statistic valid sampling method\n",
    "3. Normality:\n",
    "    1. Data follows Normal Distribution\n",
    "4. Linearity:\n",
    "    1. Relationship between the independant and dependent variable is Linear.\n",
    "    2. The line of best fit through the data points is a straight line (rather than curve or some sort of grouping factor)"
   ]
  },
  {
   "cell_type": "code",
   "execution_count": null,
   "metadata": {},
   "outputs": [],
   "source": []
  }
 ],
 "metadata": {
  "kernelspec": {
   "display_name": "Python 3",
   "language": "python",
   "name": "python3"
  },
  "language_info": {
   "codemirror_mode": {
    "name": "ipython",
    "version": 3
   },
   "file_extension": ".py",
   "mimetype": "text/x-python",
   "name": "python",
   "nbconvert_exporter": "python",
   "pygments_lexer": "ipython3",
   "version": "3.8.5"
  }
 },
 "nbformat": 4,
 "nbformat_minor": 5
}
