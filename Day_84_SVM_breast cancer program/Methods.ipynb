{
 "cells": [
  {
   "cell_type": "markdown",
   "id": "e3564393",
   "metadata": {},
   "source": [
    "1. Gradient Discent \n",
    "2. Standardization and Noramlization\n",
    "3. IQR\n",
    "4. Underfitting and Overfitting\n",
    "5. Encoding Technique:\n",
    "    1. One Hot Encoding\n",
    "    2. Label Encoding\n",
    "    3. Dummy Variable Encoding\n",
    "    4. Ordinal Encoding"
   ]
  },
  {
   "cell_type": "markdown",
   "id": "8e2f53e3",
   "metadata": {},
   "source": [
    "#### **1. Why do we need to Perform Feature Scalling?**"
   ]
  },
  {
   "cell_type": "markdown",
   "id": "b4bc1aae",
   "metadata": {},
   "source": [
    "1. Absoulute Maximum scalling\n",
    "2. Min max scalling\n",
    "3. Noramlization\n",
    "3. Standardization\n",
    "5. Robust scalling"
   ]
  },
  {
   "cell_type": "markdown",
   "id": "833a1fe3",
   "metadata": {},
   "source": [
    "## Feature Engineering"
   ]
  },
  {
   "cell_type": "markdown",
   "id": "7405572d",
   "metadata": {},
   "source": [
    "1. EDA - (Exploratory Data Analysis):\n",
    "    1. Outliers\n",
    "    2. Cleaning or not\n",
    "2. Handling Missing Values(Intution Technique):\n",
    "    1. Mean\n",
    "    2. Mode\n",
    "    3. Median\n",
    "3. Handling Imbalanced Dataset:\n",
    "    1. Undersampling\n",
    "    2. Oversampling\n",
    "    3. SMOTE\n",
    "4. Treating Outliers:\n",
    "    1. Box plot\n",
    "5. Scalling the data:\n",
    "    1. Standardization\n",
    "    2. Normalization\n",
    "6. Converting categorical features in Numerical features:\n",
    "    1. One Hot Encoding\n",
    "    2. Normalization"
   ]
  },
  {
   "cell_type": "code",
   "execution_count": null,
   "id": "38d120ab",
   "metadata": {},
   "outputs": [],
   "source": []
  },
  {
   "cell_type": "code",
   "execution_count": null,
   "id": "b7786101",
   "metadata": {},
   "outputs": [],
   "source": []
  }
 ],
 "metadata": {
  "kernelspec": {
   "display_name": "Python 3 (ipykernel)",
   "language": "python",
   "name": "python3"
  },
  "language_info": {
   "codemirror_mode": {
    "name": "ipython",
    "version": 3
   },
   "file_extension": ".py",
   "mimetype": "text/x-python",
   "name": "python",
   "nbconvert_exporter": "python",
   "pygments_lexer": "ipython3",
   "version": "3.9.7"
  }
 },
 "nbformat": 4,
 "nbformat_minor": 5
}
