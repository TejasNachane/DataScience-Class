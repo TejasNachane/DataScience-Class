{
 "cells": [
  {
   "cell_type": "code",
   "execution_count": 1,
   "metadata": {},
   "outputs": [],
   "source": [
    "my_list = ['apple','mango','chrrry','banana','watermelon', 'blackcurrent']"
   ]
  },
  {
   "cell_type": "code",
   "execution_count": 2,
   "metadata": {},
   "outputs": [
    {
     "name": "stdout",
     "output_type": "stream",
     "text": [
      "['apple', 'banana', 'blackcurrent', 'chrrry', 'mango', 'watermelon']\n"
     ]
    }
   ],
   "source": [
    "my_list.sort()\n",
    "print(my_list)"
   ]
  },
  {
   "cell_type": "code",
   "execution_count": 3,
   "metadata": {},
   "outputs": [],
   "source": [
    "my_list = ['apple','mango','chrrry','banana','watermelon', 'blackcurrent', 'ORANGE','APPLE','Banana']"
   ]
  },
  {
   "cell_type": "code",
   "execution_count": 4,
   "metadata": {},
   "outputs": [
    {
     "name": "stdout",
     "output_type": "stream",
     "text": [
      "['APPLE', 'Banana', 'ORANGE', 'apple', 'banana', 'blackcurrent', 'chrrry', 'mango', 'watermelon']\n"
     ]
    }
   ],
   "source": [
    "my_list.sort()\n",
    "print(my_list)"
   ]
  },
  {
   "cell_type": "markdown",
   "metadata": {},
   "source": [
    "## Reverse Order (Descending Order)"
   ]
  },
  {
   "cell_type": "code",
   "execution_count": 5,
   "metadata": {},
   "outputs": [
    {
     "name": "stdout",
     "output_type": "stream",
     "text": [
      "['watermelon', 'mango', 'chrrry', 'blackcurrent', 'banana', 'apple', 'ORANGE', 'Banana', 'APPLE']\n"
     ]
    }
   ],
   "source": [
    "my_list = ['apple','mango','chrrry','banana','watermelon', 'blackcurrent', 'ORANGE','APPLE','Banana']\n",
    "\n",
    "my_list.sort(reverse=True)\n",
    "print(my_list)"
   ]
  },
  {
   "cell_type": "code",
   "execution_count": 6,
   "metadata": {},
   "outputs": [
    {
     "name": "stdout",
     "output_type": "stream",
     "text": [
      "['apple', 'APPLE', 'banana', 'Banana', 'blackcurrent', 'chrrry', 'mango', 'ORANGE', 'watermelon']\n"
     ]
    }
   ],
   "source": [
    "my_list = ['apple','mango','chrrry','banana','watermelon', 'blackcurrent', 'ORANGE','APPLE','Banana']\n",
    "\n",
    "my_list.sort(key= str.lower)\n",
    "print(my_list)"
   ]
  },
  {
   "cell_type": "code",
   "execution_count": 7,
   "metadata": {},
   "outputs": [
    {
     "name": "stdout",
     "output_type": "stream",
     "text": [
      "['apple', 'APPLE', 'banana', 'Banana', 'blackcurrent', 'chrrry', 'mango', 'ORANGE', 'watermelon']\n"
     ]
    }
   ],
   "source": [
    "my_list = ['apple','mango','chrrry','banana','watermelon', 'blackcurrent', 'ORANGE','APPLE','Banana']\n",
    "\n",
    "my_list.sort(key= str.upper)\n",
    "print(my_list)"
   ]
  },
  {
   "cell_type": "code",
   "execution_count": 8,
   "metadata": {},
   "outputs": [
    {
     "name": "stdout",
     "output_type": "stream",
     "text": [
      "['apple', 'APPLE', 'banana', 'Banana', 'blackcurrent', 'chrrry', 'mango', 'ORANGE', 'watermelon']\n"
     ]
    }
   ],
   "source": [
    "my_list = ['apple','mango','chrrry','banana','watermelon', 'blackcurrent', 'ORANGE','APPLE','Banana']\n",
    "\n",
    "my_list.sort(key= str.capitalize)\n",
    "print(my_list)"
   ]
  },
  {
   "cell_type": "markdown",
   "metadata": {},
   "source": [
    "# Reverse Method"
   ]
  },
  {
   "cell_type": "code",
   "execution_count": 9,
   "metadata": {},
   "outputs": [
    {
     "name": "stdout",
     "output_type": "stream",
     "text": [
      "['blackcurrent', 'watermelon', 'banana', 'chrrry', 'mango', 'apple']\n"
     ]
    }
   ],
   "source": [
    "my_list = ['apple','mango','chrrry','banana','watermelon', 'blackcurrent']\n",
    "\n",
    "my_list.reverse()\n",
    "print(my_list)"
   ]
  },
  {
   "cell_type": "markdown",
   "metadata": {},
   "source": [
    "# Copy Method:\n",
    "    1. List [list]\n",
    "    2. Copy"
   ]
  },
  {
   "cell_type": "code",
   "execution_count": 10,
   "metadata": {},
   "outputs": [
    {
     "name": "stdout",
     "output_type": "stream",
     "text": [
      "['apple', 'mango', 'chrrry', 'banana', 'watermelon', 'blackcurrent']\n"
     ]
    }
   ],
   "source": [
    "my_list = ['apple','mango','chrrry','banana','watermelon', 'blackcurrent']\n",
    "\n",
    "new_list = my_list.copy()\n",
    "\n",
    "print(new_list)"
   ]
  },
  {
   "cell_type": "code",
   "execution_count": 14,
   "metadata": {},
   "outputs": [
    {
     "name": "stdout",
     "output_type": "stream",
     "text": [
      "['apple', 'mango', 'chrrry', 'banana', 'watermelon', 'blackcurrent']\n"
     ]
    }
   ],
   "source": [
    "my_list1 = ['apple','mango','chrrry','banana','watermelon', 'blackcurrent']\n",
    "\n",
    "# print(new_list1)\n",
    "new_list1 = list(my_list1)\n",
    "print(new_list1)"
   ]
  },
  {
   "cell_type": "markdown",
   "metadata": {},
   "source": [
    "# Join List:\n",
    "    1. Concatenate two or more list in python\n",
    "    2. use [+] operator to join two or more list in python"
   ]
  },
  {
   "cell_type": "code",
   "execution_count": 17,
   "metadata": {},
   "outputs": [
    {
     "name": "stdout",
     "output_type": "stream",
     "text": [
      "['banana', 'watermelon', 'blackcurrent', 'apple', 'mango', 'chrrry', 'orange']\n"
     ]
    }
   ],
   "source": [
    "my_list1 = ['apple','mango','chrrry','orange']\n",
    "my_list2 = ['banana','watermelon', 'blackcurrent']\n",
    "\n",
    "new_list = my_list2 + my_list1\n",
    "print(new_list)"
   ]
  },
  {
   "cell_type": "code",
   "execution_count": 18,
   "metadata": {},
   "outputs": [
    {
     "name": "stdout",
     "output_type": "stream",
     "text": [
      "['apple', 'mango', 'chrrry', 'orange', 'banana', 'watermelon', 'blackcurrent']\n"
     ]
    }
   ],
   "source": [
    "my_list1 = ['apple','mango','chrrry','orange']\n",
    "my_list2 = ['banana','watermelon', 'blackcurrent']\n",
    "\n",
    "for i in my_list2:\n",
    "    my_list1.append(i)\n",
    "    \n",
    "print(my_list1)"
   ]
  },
  {
   "cell_type": "code",
   "execution_count": 20,
   "metadata": {},
   "outputs": [
    {
     "name": "stdout",
     "output_type": "stream",
     "text": [
      "['apple', 'mango', 'chrrry', 'orange', 'banana', 'watermelon', 'blackcurrent']\n"
     ]
    }
   ],
   "source": [
    "my_list1 = ['apple','mango','chrrry','orange']\n",
    "my_list2 = ['banana','watermelon', 'blackcurrent']\n",
    "\n",
    "my_list1.extend(my_list2)\n",
    "print(my_list1)"
   ]
  },
  {
   "cell_type": "code",
   "execution_count": 22,
   "metadata": {},
   "outputs": [
    {
     "name": "stdout",
     "output_type": "stream",
     "text": [
      "None\n"
     ]
    }
   ],
   "source": [
    "my_list1 = ['apple','mango','chrrry','orange']\n",
    "my_list2 = ['banana','watermelon', 'blackcurrent']\n",
    "\n",
    "new_list = my_list1.extend(my_list2)\n",
    "print(new_list)"
   ]
  },
  {
   "cell_type": "code",
   "execution_count": 23,
   "metadata": {},
   "outputs": [
    {
     "name": "stdout",
     "output_type": "stream",
     "text": [
      "4\n"
     ]
    }
   ],
   "source": [
    "my_list = ['apple','mango','chrrry','orange','banana','watermelon', 'blackcurrent']\n",
    "\n",
    "x = my_list.index(\"banana\")\n",
    "print(x)"
   ]
  },
  {
   "cell_type": "code",
   "execution_count": 24,
   "metadata": {},
   "outputs": [
    {
     "name": "stdout",
     "output_type": "stream",
     "text": [
      "3\n"
     ]
    }
   ],
   "source": [
    "my_list = [10,20,30,40,50,60,70]\n",
    "\n",
    "x =  my_list.index(40)\n",
    "print(x)"
   ]
  },
  {
   "cell_type": "markdown",
   "metadata": {},
   "source": [
    "# Count Method"
   ]
  },
  {
   "cell_type": "code",
   "execution_count": 26,
   "metadata": {},
   "outputs": [
    {
     "name": "stdout",
     "output_type": "stream",
     "text": [
      "10\n"
     ]
    }
   ],
   "source": [
    "my_list = [10,20,30,40,50,60,70,80,90,50,50,50,50,10,20,30,40,50,60,70,80,90,50,50,50,50]\n",
    "\n",
    "x = my_list.count(50)\n",
    "print(x)"
   ]
  },
  {
   "cell_type": "code",
   "execution_count": 31,
   "metadata": {},
   "outputs": [
    {
     "name": "stdout",
     "output_type": "stream",
     "text": [
      "2\n"
     ]
    }
   ],
   "source": [
    "my_list = ['apple','mango','chrrry','orange','banana','watermelon', 'blackcurrent','APPLE','apple']\n",
    "\n",
    "x = my_list.count('apple')\n",
    "print(x)"
   ]
  },
  {
   "cell_type": "markdown",
   "metadata": {},
   "source": [
    "**1. Python Program to find Largest element in List**"
   ]
  },
  {
   "cell_type": "code",
   "execution_count": 33,
   "metadata": {},
   "outputs": [
    {
     "name": "stdout",
     "output_type": "stream",
     "text": [
      "[90, 80, 70, 50, 40, 30, 20, 10.6]\n",
      "Largest element in List:  90\n"
     ]
    }
   ],
   "source": [
    "my_list = [20,40,30,10.60,50,70,90,80]\n",
    "\n",
    "my_list.sort(reverse=True)\n",
    "print(my_list)\n",
    "\n",
    "print(\"Largest element in List: \",my_list[0])"
   ]
  },
  {
   "cell_type": "code",
   "execution_count": 40,
   "metadata": {},
   "outputs": [
    {
     "name": "stdout",
     "output_type": "stream",
     "text": [
      "[10.6, 20, 30, 40, 50, 70, 80, 90]\n",
      "Largest element in List:  90\n"
     ]
    }
   ],
   "source": [
    "my_list = [20,40,30,10.60,50,70,90,80]\n",
    "\n",
    "my_list.sort()\n",
    "print(my_list)\n",
    "\n",
    "print(\"Largest element in List: \",my_list[-1])"
   ]
  },
  {
   "cell_type": "code",
   "execution_count": 34,
   "metadata": {},
   "outputs": [
    {
     "name": "stdout",
     "output_type": "stream",
     "text": [
      "Largest element in List:  90\n"
     ]
    }
   ],
   "source": [
    "my_list = [20,40,30,10.60,50,70,90,80]\n",
    "\n",
    "print(\"Largest element in List: \", max(my_list))"
   ]
  },
  {
   "cell_type": "code",
   "execution_count": 39,
   "metadata": {},
   "outputs": [
    {
     "name": "stdout",
     "output_type": "stream",
     "text": [
      "Enter number of elements in list: 5\n",
      "Enter elements in list: 12\n",
      "Enter elements in list: 70\n",
      "Enter elements in list: 92\n",
      "Enter elements in list: 42\n",
      "Enter elements in list: 1\n",
      "Largest elements in list:  92\n"
     ]
    }
   ],
   "source": [
    "my_list = []\n",
    "\n",
    "num = int(input(\"Enter number of elements in list: \"))\n",
    "\n",
    "for i in range(1, num + 1):\n",
    "    my_ele = int(input(\"Enter elements in list: \"))\n",
    "    my_list.append(my_ele)\n",
    "    \n",
    "print(\"Largest elements in list: \", max(my_list))"
   ]
  },
  {
   "cell_type": "code",
   "execution_count": 41,
   "metadata": {},
   "outputs": [],
   "source": [
    "my_list = ['apple','APPLE','BANANA']"
   ]
  },
  {
   "cell_type": "code",
   "execution_count": 43,
   "metadata": {},
   "outputs": [
    {
     "name": "stdout",
     "output_type": "stream",
     "text": [
      "['APPLE', 'apple', 'BANANA']\n"
     ]
    }
   ],
   "source": [
    "my_list.sort(key=str.upper)\n",
    "print(my_list)"
   ]
  },
  {
   "cell_type": "code",
   "execution_count": 46,
   "metadata": {},
   "outputs": [
    {
     "name": "stdout",
     "output_type": "stream",
     "text": [
      "['apple', 'apple', 'BANANA', 'banana']\n"
     ]
    }
   ],
   "source": [
    "my_list = ['apple','apple','BANANA', 'banana']\n",
    "\n",
    "my_list.sort(key=str.lower)\n",
    "print(my_list)"
   ]
  },
  {
   "cell_type": "code",
   "execution_count": 53,
   "metadata": {},
   "outputs": [
    {
     "name": "stdout",
     "output_type": "stream",
     "text": [
      "['apple', 'Apple', 'APPLE', 'BANANA', 'banana']\n"
     ]
    }
   ],
   "source": [
    "my_list = ['apple','Apple','BANANA', 'banana','APPLE']\n",
    "\n",
    "my_list.sort(key=str.upper)\n",
    "print(my_list)"
   ]
  },
  {
   "cell_type": "code",
   "execution_count": null,
   "metadata": {},
   "outputs": [],
   "source": []
  }
 ],
 "metadata": {
  "kernelspec": {
   "display_name": "Python 3",
   "language": "python",
   "name": "python3"
  },
  "language_info": {
   "codemirror_mode": {
    "name": "ipython",
    "version": 3
   },
   "file_extension": ".py",
   "mimetype": "text/x-python",
   "name": "python",
   "nbconvert_exporter": "python",
   "pygments_lexer": "ipython3",
   "version": "3.8.5"
  }
 },
 "nbformat": 4,
 "nbformat_minor": 5
}
