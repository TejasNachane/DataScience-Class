{
 "cells": [
  {
   "cell_type": "markdown",
   "id": "23585b04",
   "metadata": {},
   "source": [
    "# Python List"
   ]
  },
  {
   "cell_type": "code",
   "execution_count": 1,
   "id": "9a3d8160",
   "metadata": {},
   "outputs": [],
   "source": [
    "my_list = []"
   ]
  },
  {
   "cell_type": "code",
   "execution_count": 2,
   "id": "ad00884e",
   "metadata": {},
   "outputs": [
    {
     "name": "stdout",
     "output_type": "stream",
     "text": [
      "[]\n"
     ]
    }
   ],
   "source": [
    "print(my_list)"
   ]
  },
  {
   "cell_type": "code",
   "execution_count": 3,
   "id": "30dfeeb9",
   "metadata": {},
   "outputs": [
    {
     "name": "stdout",
     "output_type": "stream",
     "text": [
      "<class 'list'>\n"
     ]
    }
   ],
   "source": [
    "print(type(my_list))"
   ]
  },
  {
   "cell_type": "code",
   "execution_count": 4,
   "id": "91194d10",
   "metadata": {},
   "outputs": [],
   "source": [
    "my_list = [10,'python',\"DataScience\",12.12,True,4j]"
   ]
  },
  {
   "cell_type": "code",
   "execution_count": 5,
   "id": "e8fad07c",
   "metadata": {},
   "outputs": [
    {
     "data": {
      "text/plain": [
       "[10, 'python', 'DataScience', 12.12, True, 4j]"
      ]
     },
     "execution_count": 5,
     "metadata": {},
     "output_type": "execute_result"
    }
   ],
   "source": [
    "my_list"
   ]
  },
  {
   "cell_type": "code",
   "execution_count": 6,
   "id": "2fd6e600",
   "metadata": {},
   "outputs": [],
   "source": [
    "my_list1 = [10,20,30,40,50]\n",
    "my_list2 = ['apple','mango','watermelon','cherry','papaya']\n",
    "my_list3 = [True, False, True, True]"
   ]
  },
  {
   "cell_type": "code",
   "execution_count": 7,
   "id": "c670a3d0",
   "metadata": {},
   "outputs": [
    {
     "data": {
      "text/plain": [
       "[True, False, True, True]"
      ]
     },
     "execution_count": 7,
     "metadata": {},
     "output_type": "execute_result"
    }
   ],
   "source": [
    "my_list1\n",
    "my_list2\n",
    "my_list3"
   ]
  },
  {
   "cell_type": "code",
   "execution_count": 8,
   "id": "da8e4383",
   "metadata": {},
   "outputs": [
    {
     "name": "stdout",
     "output_type": "stream",
     "text": [
      "[10, 20, 30, 40, 50]\n",
      "['apple', 'mango', 'watermelon', 'cherry', 'papaya']\n",
      "[True, False, True, True]\n"
     ]
    }
   ],
   "source": [
    "print(my_list1)\n",
    "print(my_list2)\n",
    "print(my_list3)"
   ]
  },
  {
   "cell_type": "code",
   "execution_count": 9,
   "id": "6440c94e",
   "metadata": {},
   "outputs": [
    {
     "name": "stdout",
     "output_type": "stream",
     "text": [
      "<class 'list'>\n",
      "<class 'list'>\n",
      "<class 'list'>\n"
     ]
    }
   ],
   "source": [
    "print(type(my_list1))\n",
    "print(type(my_list2))\n",
    "print(type(my_list3))"
   ]
  },
  {
   "cell_type": "code",
   "execution_count": 10,
   "id": "33e04831",
   "metadata": {},
   "outputs": [
    {
     "name": "stdout",
     "output_type": "stream",
     "text": [
      "10\n",
      "<class 'int'>\n"
     ]
    }
   ],
   "source": [
    "my_list = 10\n",
    "print(my_list)\n",
    "print(type(my_list))"
   ]
  },
  {
   "cell_type": "code",
   "execution_count": 11,
   "id": "f0138c99",
   "metadata": {},
   "outputs": [
    {
     "name": "stdout",
     "output_type": "stream",
     "text": [
      "['apple', 'mango', 'watermelon', 'cherry', 'papaya']\n",
      "<class 'type'>\n"
     ]
    }
   ],
   "source": [
    "my_list = ['apple', 'mango', 'watermelon', 'cherry', 'papaya']\n",
    "print(my_list)\n",
    "print(type(list))"
   ]
  },
  {
   "cell_type": "code",
   "execution_count": 12,
   "id": "8cac9d6c",
   "metadata": {},
   "outputs": [
    {
     "name": "stdout",
     "output_type": "stream",
     "text": [
      "apple\n",
      "<class 'str'>\n"
     ]
    }
   ],
   "source": [
    "my_list = 'apple'\n",
    "print(my_list)\n",
    "print(type(my_list))"
   ]
  },
  {
   "cell_type": "markdown",
   "id": "1886c0ce",
   "metadata": {},
   "source": [
    "### Access List Item in Python:\n",
    "    1. Positive Indexing\n",
    "    2. Negative Indexing\n",
    "    3. Range of Indexing:\n",
    "        1. Positive \n",
    "        2. Negative"
   ]
  },
  {
   "cell_type": "code",
   "execution_count": 15,
   "id": "ac44aca0",
   "metadata": {},
   "outputs": [],
   "source": [
    " my_list = ['apple', 'mango', 'watermelon', 'cherry', 'papaya','banana','pineapple']"
   ]
  },
  {
   "cell_type": "code",
   "execution_count": 16,
   "id": "8e8f47a1",
   "metadata": {},
   "outputs": [
    {
     "name": "stdout",
     "output_type": "stream",
     "text": [
      "['apple', 'mango', 'watermelon', 'cherry', 'papaya', 'banana', 'pineapple']\n"
     ]
    }
   ],
   "source": [
    "print(my_list)"
   ]
  },
  {
   "cell_type": "markdown",
   "id": "0f9e2ca7",
   "metadata": {},
   "source": [
    "### 1. Positive Indexing:\n",
    "    1. Positive indexing start with [0] is being first elements"
   ]
  },
  {
   "cell_type": "code",
   "execution_count": 22,
   "id": "3159c3f3",
   "metadata": {},
   "outputs": [],
   "source": [
    " my_list = ['apple', 'mango', 'watermelon', 'cherry', 'papaya','banana','pineapple','Apple']"
   ]
  },
  {
   "cell_type": "code",
   "execution_count": 18,
   "id": "b96578aa",
   "metadata": {},
   "outputs": [
    {
     "data": {
      "text/plain": [
       "'watermelon'"
      ]
     },
     "execution_count": 18,
     "metadata": {},
     "output_type": "execute_result"
    }
   ],
   "source": [
    "my_list[2]"
   ]
  },
  {
   "cell_type": "code",
   "execution_count": 19,
   "id": "be1184a0",
   "metadata": {},
   "outputs": [
    {
     "data": {
      "text/plain": [
       "'pineapple'"
      ]
     },
     "execution_count": 19,
     "metadata": {},
     "output_type": "execute_result"
    }
   ],
   "source": [
    "my_list[6]"
   ]
  },
  {
   "cell_type": "code",
   "execution_count": 20,
   "id": "db76f69a",
   "metadata": {},
   "outputs": [
    {
     "data": {
      "text/plain": [
       "'apple'"
      ]
     },
     "execution_count": 20,
     "metadata": {},
     "output_type": "execute_result"
    }
   ],
   "source": [
    "my_list[0]"
   ]
  },
  {
   "cell_type": "code",
   "execution_count": 21,
   "id": "91000494",
   "metadata": {},
   "outputs": [
    {
     "ename": "IndexError",
     "evalue": "list index out of range",
     "output_type": "error",
     "traceback": [
      "\u001b[1;31m---------------------------------------------------------------------------\u001b[0m",
      "\u001b[1;31mIndexError\u001b[0m                                Traceback (most recent call last)",
      "\u001b[1;32m<ipython-input-21-352a83797fff>\u001b[0m in \u001b[0;36m<module>\u001b[1;34m\u001b[0m\n\u001b[1;32m----> 1\u001b[1;33m \u001b[0mmy_list\u001b[0m\u001b[1;33m[\u001b[0m\u001b[1;36m7\u001b[0m\u001b[1;33m]\u001b[0m\u001b[1;33m\u001b[0m\u001b[1;33m\u001b[0m\u001b[0m\n\u001b[0m",
      "\u001b[1;31mIndexError\u001b[0m: list index out of range"
     ]
    }
   ],
   "source": [
    "my_list[7]"
   ]
  },
  {
   "cell_type": "code",
   "execution_count": 23,
   "id": "a4ee902e",
   "metadata": {},
   "outputs": [
    {
     "data": {
      "text/plain": [
       "'Apple'"
      ]
     },
     "execution_count": 23,
     "metadata": {},
     "output_type": "execute_result"
    }
   ],
   "source": [
    "my_list[7]"
   ]
  },
  {
   "cell_type": "markdown",
   "id": "b06bce98",
   "metadata": {},
   "source": [
    "### 2. Negative Indexing:\n",
    "    1. Negative indexing starts from the End\n",
    "    2. Negative indexing start with -1"
   ]
  },
  {
   "cell_type": "code",
   "execution_count": 24,
   "id": "d9f03bea",
   "metadata": {},
   "outputs": [],
   "source": [
    " my_list = ['apple', 'mango', 'watermelon', 'cherry', 'papaya','banana','pineapple']"
   ]
  },
  {
   "cell_type": "code",
   "execution_count": 25,
   "id": "dee40c27",
   "metadata": {},
   "outputs": [
    {
     "data": {
      "text/plain": [
       "['apple', 'mango', 'watermelon', 'cherry', 'papaya', 'banana', 'pineapple']"
      ]
     },
     "execution_count": 25,
     "metadata": {},
     "output_type": "execute_result"
    }
   ],
   "source": [
    "my_list"
   ]
  },
  {
   "cell_type": "code",
   "execution_count": 26,
   "id": "c05ba243",
   "metadata": {},
   "outputs": [
    {
     "data": {
      "text/plain": [
       "'pineapple'"
      ]
     },
     "execution_count": 26,
     "metadata": {},
     "output_type": "execute_result"
    }
   ],
   "source": [
    "my_list[-1]"
   ]
  },
  {
   "cell_type": "code",
   "execution_count": 27,
   "id": "14efd74e",
   "metadata": {},
   "outputs": [
    {
     "data": {
      "text/plain": [
       "'apple'"
      ]
     },
     "execution_count": 27,
     "metadata": {},
     "output_type": "execute_result"
    }
   ],
   "source": [
    "my_list[-7]"
   ]
  },
  {
   "cell_type": "code",
   "execution_count": 28,
   "id": "f69562cd",
   "metadata": {},
   "outputs": [
    {
     "data": {
      "text/plain": [
       "'cherry'"
      ]
     },
     "execution_count": 28,
     "metadata": {},
     "output_type": "execute_result"
    }
   ],
   "source": [
    "my_list[-4]"
   ]
  },
  {
   "cell_type": "markdown",
   "id": "38d14c21",
   "metadata": {},
   "source": [
    "### 3. Range of Indexing:\n",
    "    1. Positive indexing\n",
    "    2. Negative indexing"
   ]
  },
  {
   "cell_type": "markdown",
   "id": "533dd0d6",
   "metadata": {},
   "source": [
    "#### 1. Positive Indexing:\n",
    "    1. variablename[start indexing : End indexing]"
   ]
  },
  {
   "cell_type": "code",
   "execution_count": 29,
   "id": "6592b09d",
   "metadata": {},
   "outputs": [],
   "source": [
    " my_list = ['apple', 'mango', 'watermelon', 'cherry', 'papaya','banana','pineapple']"
   ]
  },
  {
   "cell_type": "code",
   "execution_count": 30,
   "id": "036d1b61",
   "metadata": {},
   "outputs": [
    {
     "data": {
      "text/plain": [
       "['apple', 'mango', 'watermelon']"
      ]
     },
     "execution_count": 30,
     "metadata": {},
     "output_type": "execute_result"
    }
   ],
   "source": [
    "my_list[0:3]"
   ]
  },
  {
   "cell_type": "code",
   "execution_count": 31,
   "id": "886d7e4a",
   "metadata": {},
   "outputs": [
    {
     "data": {
      "text/plain": [
       "['apple', 'mango']"
      ]
     },
     "execution_count": 31,
     "metadata": {},
     "output_type": "execute_result"
    }
   ],
   "source": [
    "my_list[0:2]"
   ]
  },
  {
   "cell_type": "code",
   "execution_count": 32,
   "id": "ff47062e",
   "metadata": {},
   "outputs": [
    {
     "data": {
      "text/plain": [
       "['watermelon', 'cherry', 'papaya', 'banana', 'pineapple']"
      ]
     },
     "execution_count": 32,
     "metadata": {},
     "output_type": "execute_result"
    }
   ],
   "source": [
    "my_list[2:]"
   ]
  },
  {
   "cell_type": "code",
   "execution_count": 33,
   "id": "31f82f19",
   "metadata": {},
   "outputs": [
    {
     "data": {
      "text/plain": [
       "['watermelon', 'cherry', 'papaya']"
      ]
     },
     "execution_count": 33,
     "metadata": {},
     "output_type": "execute_result"
    }
   ],
   "source": [
    "my_list[2:5]"
   ]
  },
  {
   "cell_type": "code",
   "execution_count": 34,
   "id": "bb929eb0",
   "metadata": {},
   "outputs": [
    {
     "data": {
      "text/plain": [
       "['apple', 'mango', 'watermelon', 'cherry', 'papaya']"
      ]
     },
     "execution_count": 34,
     "metadata": {},
     "output_type": "execute_result"
    }
   ],
   "source": [
    "my_list[:5]"
   ]
  },
  {
   "cell_type": "code",
   "execution_count": 35,
   "id": "f95c8095",
   "metadata": {},
   "outputs": [
    {
     "data": {
      "text/plain": [
       "['apple', 'mango', 'watermelon', 'cherry', 'papaya', 'banana', 'pineapple']"
      ]
     },
     "execution_count": 35,
     "metadata": {},
     "output_type": "execute_result"
    }
   ],
   "source": [
    "my_list"
   ]
  },
  {
   "cell_type": "code",
   "execution_count": 36,
   "id": "552e9636",
   "metadata": {},
   "outputs": [
    {
     "data": {
      "text/plain": [
       "['apple', 'mango', 'watermelon', 'cherry', 'papaya', 'banana', 'pineapple']"
      ]
     },
     "execution_count": 36,
     "metadata": {},
     "output_type": "execute_result"
    }
   ],
   "source": [
    "my_list[:]"
   ]
  },
  {
   "cell_type": "code",
   "execution_count": 37,
   "id": "4ae69e39",
   "metadata": {},
   "outputs": [
    {
     "data": {
      "text/plain": [
       "['watermelon', 'cherry', 'papaya']"
      ]
     },
     "execution_count": 37,
     "metadata": {},
     "output_type": "execute_result"
    }
   ],
   "source": [
    "my_list[2:5]"
   ]
  },
  {
   "cell_type": "code",
   "execution_count": null,
   "id": "ba81befe",
   "metadata": {},
   "outputs": [],
   "source": [
    "(n-1) = 10 - 1 = 3 2,3,4"
   ]
  },
  {
   "cell_type": "code",
   "execution_count": 38,
   "id": "5339249c",
   "metadata": {},
   "outputs": [
    {
     "data": {
      "text/plain": [
       "['apple', 'mango', 'watermelon', 'cherry', 'papaya', 'banana', 'pineapple']"
      ]
     },
     "execution_count": 38,
     "metadata": {},
     "output_type": "execute_result"
    }
   ],
   "source": [
    "my_list[0:7]"
   ]
  },
  {
   "cell_type": "code",
   "execution_count": 39,
   "id": "8908d9a6",
   "metadata": {},
   "outputs": [
    {
     "data": {
      "text/plain": [
       "['apple', 'mango', 'watermelon', 'cherry', 'papaya', 'banana', 'pineapple']"
      ]
     },
     "execution_count": 39,
     "metadata": {},
     "output_type": "execute_result"
    }
   ],
   "source": [
    "my_list[0:]"
   ]
  },
  {
   "cell_type": "markdown",
   "id": "9a5a1598",
   "metadata": {},
   "source": [
    "#### 2. Negative Indexing"
   ]
  },
  {
   "cell_type": "code",
   "execution_count": 40,
   "id": "6b5015fa",
   "metadata": {},
   "outputs": [],
   "source": [
    " my_list = ['apple', 'mango', 'watermelon', 'cherry', 'papaya','banana','pineapple']"
   ]
  },
  {
   "cell_type": "code",
   "execution_count": 41,
   "id": "d0bc3c27",
   "metadata": {},
   "outputs": [
    {
     "data": {
      "text/plain": [
       "['cherry', 'papaya', 'banana']"
      ]
     },
     "execution_count": 41,
     "metadata": {},
     "output_type": "execute_result"
    }
   ],
   "source": [
    "my_list[-4:-1]"
   ]
  },
  {
   "cell_type": "code",
   "execution_count": 42,
   "id": "ae9174f7",
   "metadata": {},
   "outputs": [
    {
     "data": {
      "text/plain": [
       "['cherry', 'papaya', 'banana']"
      ]
     },
     "execution_count": 42,
     "metadata": {},
     "output_type": "execute_result"
    }
   ],
   "source": [
    "my_list[-4:-1]"
   ]
  },
  {
   "cell_type": "code",
   "execution_count": 45,
   "id": "8e769954",
   "metadata": {},
   "outputs": [
    {
     "data": {
      "text/plain": [
       "['watermelon', 'cherry', 'papaya', 'banana']"
      ]
     },
     "execution_count": 45,
     "metadata": {},
     "output_type": "execute_result"
    }
   ],
   "source": [
    "my_list[-5:-1]"
   ]
  },
  {
   "cell_type": "code",
   "execution_count": 46,
   "id": "63f7185c",
   "metadata": {},
   "outputs": [
    {
     "data": {
      "text/plain": [
       "['apple', 'mango', 'watermelon', 'cherry', 'papaya', 'banana']"
      ]
     },
     "execution_count": 46,
     "metadata": {},
     "output_type": "execute_result"
    }
   ],
   "source": [
    "my_list[:-1]"
   ]
  },
  {
   "cell_type": "code",
   "execution_count": 47,
   "id": "21101de2",
   "metadata": {},
   "outputs": [
    {
     "data": {
      "text/plain": [
       "['watermelon', 'cherry', 'papaya', 'banana', 'pineapple']"
      ]
     },
     "execution_count": 47,
     "metadata": {},
     "output_type": "execute_result"
    }
   ],
   "source": [
    "my_list[-5:]"
   ]
  },
  {
   "cell_type": "code",
   "execution_count": 48,
   "id": "abb86924",
   "metadata": {},
   "outputs": [
    {
     "data": {
      "text/plain": [
       "['apple', 'mango', 'watermelon', 'cherry', 'papaya', 'banana', 'pineapple']"
      ]
     },
     "execution_count": 48,
     "metadata": {},
     "output_type": "execute_result"
    }
   ],
   "source": [
    "my_list"
   ]
  },
  {
   "cell_type": "code",
   "execution_count": 49,
   "id": "09c9e5c8",
   "metadata": {},
   "outputs": [
    {
     "data": {
      "text/plain": [
       "['apple', 'mango', 'watermelon', 'cherry', 'papaya', 'banana', 'pineapple']"
      ]
     },
     "execution_count": 49,
     "metadata": {},
     "output_type": "execute_result"
    }
   ],
   "source": [
    "my_list[:]"
   ]
  },
  {
   "cell_type": "code",
   "execution_count": 50,
   "id": "c3f916af",
   "metadata": {},
   "outputs": [
    {
     "data": {
      "text/plain": [
       "'banana'"
      ]
     },
     "execution_count": 50,
     "metadata": {},
     "output_type": "execute_result"
    }
   ],
   "source": [
    "my_list[-2]"
   ]
  },
  {
   "cell_type": "code",
   "execution_count": 51,
   "id": "62bddf0e",
   "metadata": {},
   "outputs": [
    {
     "data": {
      "text/plain": [
       "'pineapple'"
      ]
     },
     "execution_count": 51,
     "metadata": {},
     "output_type": "execute_result"
    }
   ],
   "source": [
    "my_list[-1]"
   ]
  },
  {
   "cell_type": "code",
   "execution_count": 52,
   "id": "11234915",
   "metadata": {},
   "outputs": [
    {
     "data": {
      "text/plain": [
       "['apple', 'mango', 'watermelon', 'cherry', 'papaya', 'banana', 'pineapple']"
      ]
     },
     "execution_count": 52,
     "metadata": {},
     "output_type": "execute_result"
    }
   ],
   "source": [
    "my_list[:]"
   ]
  },
  {
   "cell_type": "code",
   "execution_count": 53,
   "id": "3e9ee95d",
   "metadata": {},
   "outputs": [
    {
     "data": {
      "text/plain": [
       "['apple', 'mango', 'watermelon', 'cherry', 'papaya', 'banana', 'pineapple']"
      ]
     },
     "execution_count": 53,
     "metadata": {},
     "output_type": "execute_result"
    }
   ],
   "source": [
    "my_list"
   ]
  },
  {
   "cell_type": "code",
   "execution_count": 54,
   "id": "2e41eb78",
   "metadata": {},
   "outputs": [
    {
     "data": {
      "text/plain": [
       "['apple', 'mango', 'watermelon', 'cherry', 'papaya', 'banana']"
      ]
     },
     "execution_count": 54,
     "metadata": {},
     "output_type": "execute_result"
    }
   ],
   "source": [
    "my_list[:-1]"
   ]
  },
  {
   "cell_type": "code",
   "execution_count": 55,
   "id": "f73e8b58",
   "metadata": {},
   "outputs": [],
   "source": [
    " my_list = ['apple', 'mango', 'watermelon', 'cherry', 'papaya','banana','pineapple']"
   ]
  },
  {
   "cell_type": "code",
   "execution_count": 57,
   "id": "975e9f51",
   "metadata": {},
   "outputs": [
    {
     "data": {
      "text/plain": [
       "['apple', 'mango', 'watermelon', 'cherry']"
      ]
     },
     "execution_count": 57,
     "metadata": {},
     "output_type": "execute_result"
    }
   ],
   "source": [
    "my_list[0:4]"
   ]
  },
  {
   "cell_type": "markdown",
   "id": "c4a1016c",
   "metadata": {},
   "source": [
    "## Change List (Item) Value"
   ]
  },
  {
   "cell_type": "code",
   "execution_count": 58,
   "id": "3865e2c0",
   "metadata": {},
   "outputs": [],
   "source": [
    " my_list = ['apple', 'mango', 'watermelon', 'cherry']"
   ]
  },
  {
   "cell_type": "code",
   "execution_count": 59,
   "id": "4b53a2f1",
   "metadata": {},
   "outputs": [
    {
     "data": {
      "text/plain": [
       "['apple', 'mango', 'watermelon', 'cherry']"
      ]
     },
     "execution_count": 59,
     "metadata": {},
     "output_type": "execute_result"
    }
   ],
   "source": [
    "my_list"
   ]
  },
  {
   "cell_type": "code",
   "execution_count": 60,
   "id": "47b6ae86",
   "metadata": {},
   "outputs": [],
   "source": [
    "my_list[1] = 'papaya'"
   ]
  },
  {
   "cell_type": "code",
   "execution_count": 61,
   "id": "8f0c416a",
   "metadata": {},
   "outputs": [
    {
     "data": {
      "text/plain": [
       "['apple', 'papaya', 'watermelon', 'cherry']"
      ]
     },
     "execution_count": 61,
     "metadata": {},
     "output_type": "execute_result"
    }
   ],
   "source": [
    "my_list"
   ]
  },
  {
   "cell_type": "code",
   "execution_count": 62,
   "id": "410693de",
   "metadata": {},
   "outputs": [],
   "source": [
    " my_list = ['apple', 'mango', 'watermelon', 'cherry', 'papaya','banana','pineapple']"
   ]
  },
  {
   "cell_type": "code",
   "execution_count": 63,
   "id": "db5213de",
   "metadata": {},
   "outputs": [],
   "source": [
    "my_list[1:3] = ['kiwi','papaya']"
   ]
  },
  {
   "cell_type": "code",
   "execution_count": 64,
   "id": "f15661b2",
   "metadata": {},
   "outputs": [
    {
     "data": {
      "text/plain": [
       "['apple', 'kiwi', 'papaya', 'cherry', 'papaya', 'banana', 'pineapple']"
      ]
     },
     "execution_count": 64,
     "metadata": {},
     "output_type": "execute_result"
    }
   ],
   "source": [
    "my_list"
   ]
  },
  {
   "cell_type": "code",
   "execution_count": 71,
   "id": "1374fcaa",
   "metadata": {},
   "outputs": [],
   "source": [
    "my_list[1:4] = ['kiwi','kiwi']"
   ]
  },
  {
   "cell_type": "code",
   "execution_count": 72,
   "id": "80b5676b",
   "metadata": {},
   "outputs": [
    {
     "data": {
      "text/plain": [
       "['apple', 'kiwi', 'kiwi']"
      ]
     },
     "execution_count": 72,
     "metadata": {},
     "output_type": "execute_result"
    }
   ],
   "source": [
    "my_list"
   ]
  },
  {
   "cell_type": "markdown",
   "id": "de873b46",
   "metadata": {},
   "source": [
    "### Insert Elements in List"
   ]
  },
  {
   "cell_type": "markdown",
   "id": "91bb6e6f",
   "metadata": {},
   "source": [
    "#### 1. insert method:\n",
    "    1. To add element in specific location in the list"
   ]
  },
  {
   "cell_type": "code",
   "execution_count": 73,
   "id": "ffab0711",
   "metadata": {},
   "outputs": [],
   "source": [
    "my_list = ['apple', 'kiwi', 'papaya', 'cherry', 'papaya', 'banana', 'pineapple']"
   ]
  },
  {
   "cell_type": "code",
   "execution_count": 74,
   "id": "d6b61405",
   "metadata": {},
   "outputs": [
    {
     "data": {
      "text/plain": [
       "['apple', 'mango', 'kiwi', 'papaya', 'cherry', 'papaya', 'banana', 'pineapple']"
      ]
     },
     "execution_count": 74,
     "metadata": {},
     "output_type": "execute_result"
    }
   ],
   "source": [
    "my_list.insert(1,\"mango\")\n",
    "my_list"
   ]
  },
  {
   "cell_type": "code",
   "execution_count": 75,
   "id": "d5c8ff65",
   "metadata": {},
   "outputs": [
    {
     "data": {
      "text/plain": [
       "'kiwi'"
      ]
     },
     "execution_count": 75,
     "metadata": {},
     "output_type": "execute_result"
    }
   ],
   "source": [
    "my_list[2]"
   ]
  },
  {
   "cell_type": "markdown",
   "id": "cecc8832",
   "metadata": {},
   "source": [
    "#### 2. append method:\n",
    "    1. To add item at the end of the list "
   ]
  },
  {
   "cell_type": "code",
   "execution_count": 80,
   "id": "518547af",
   "metadata": {},
   "outputs": [],
   "source": [
    "my_list = ['apple', 'kiwi', 'papaya', 'cherry', 'papaya', 'banana', 'pineapple']"
   ]
  },
  {
   "cell_type": "code",
   "execution_count": 81,
   "id": "369f7b80",
   "metadata": {},
   "outputs": [
    {
     "data": {
      "text/plain": [
       "['apple', 'kiwi', 'papaya', 'cherry', 'papaya', 'banana', 'pineapple']"
      ]
     },
     "execution_count": 81,
     "metadata": {},
     "output_type": "execute_result"
    }
   ],
   "source": [
    "my_list"
   ]
  },
  {
   "cell_type": "code",
   "execution_count": 82,
   "id": "f266d2b7",
   "metadata": {},
   "outputs": [],
   "source": [
    "my_list.append('mango')"
   ]
  },
  {
   "cell_type": "code",
   "execution_count": 83,
   "id": "3e258ad2",
   "metadata": {},
   "outputs": [
    {
     "data": {
      "text/plain": [
       "['apple', 'kiwi', 'papaya', 'cherry', 'papaya', 'banana', 'pineapple', 'mango']"
      ]
     },
     "execution_count": 83,
     "metadata": {},
     "output_type": "execute_result"
    }
   ],
   "source": [
    "my_list"
   ]
  },
  {
   "cell_type": "markdown",
   "id": "677082cc",
   "metadata": {},
   "source": [
    "#### 3. Extend Method"
   ]
  },
  {
   "cell_type": "code",
   "execution_count": 84,
   "id": "02ab6d91",
   "metadata": {},
   "outputs": [],
   "source": [
    "my_list1 = ['apple', 'kiwi', 'papaya', 'cherry']\n",
    "my_list2 = ['papaya', 'banana', 'pineapple']"
   ]
  },
  {
   "cell_type": "code",
   "execution_count": 85,
   "id": "ba6c1eaa",
   "metadata": {},
   "outputs": [
    {
     "name": "stdout",
     "output_type": "stream",
     "text": [
      "['apple', 'kiwi', 'papaya', 'cherry']\n",
      "['papaya', 'banana', 'pineapple']\n"
     ]
    }
   ],
   "source": [
    "print(my_list1)\n",
    "print(my_list2)"
   ]
  },
  {
   "cell_type": "code",
   "execution_count": 86,
   "id": "2ff52186",
   "metadata": {},
   "outputs": [
    {
     "name": "stdout",
     "output_type": "stream",
     "text": [
      "None\n"
     ]
    }
   ],
   "source": [
    "new_list = my_list1.extend(my_list2)\n",
    "print(new_list)"
   ]
  },
  {
   "cell_type": "code",
   "execution_count": 87,
   "id": "1b41a6eb",
   "metadata": {},
   "outputs": [
    {
     "name": "stdout",
     "output_type": "stream",
     "text": [
      "['apple', 'kiwi', 'papaya', 'cherry', 'papaya', 'banana', 'pineapple', 'papaya', 'banana', 'pineapple']\n"
     ]
    }
   ],
   "source": [
    "my_list1.extend(my_list2)\n",
    "print(my_list1)"
   ]
  },
  {
   "cell_type": "code",
   "execution_count": 91,
   "id": "c71fce49",
   "metadata": {},
   "outputs": [],
   "source": [
    "my_list1 = ['apple', 'kiwi', 'papaya', 'cherry']\n",
    "my_list2 = ['papaya', 'banana', 'pineapple']"
   ]
  },
  {
   "cell_type": "code",
   "execution_count": 92,
   "id": "a2828aaa",
   "metadata": {},
   "outputs": [
    {
     "name": "stdout",
     "output_type": "stream",
     "text": [
      "['apple', 'kiwi', 'papaya', 'cherry', 'papaya', 'banana', 'pineapple']\n"
     ]
    }
   ],
   "source": [
    "my_list1.extend(my_list2)\n",
    "print(my_list1)"
   ]
  },
  {
   "cell_type": "code",
   "execution_count": 93,
   "id": "4e8cb8ba",
   "metadata": {},
   "outputs": [],
   "source": [
    "my_list1 = ['apple', 'kiwi', 'papaya', 'cherry']\n",
    "my_list2 = ['papaya', 'banana', 'pineapple']"
   ]
  },
  {
   "cell_type": "code",
   "execution_count": 94,
   "id": "59664f1c",
   "metadata": {},
   "outputs": [
    {
     "name": "stdout",
     "output_type": "stream",
     "text": [
      "['papaya', 'banana', 'pineapple', 'apple', 'kiwi', 'papaya', 'cherry']\n"
     ]
    }
   ],
   "source": [
    "my_list2.extend(my_list1)\n",
    "print(my_list2)"
   ]
  },
  {
   "cell_type": "code",
   "execution_count": 95,
   "id": "e1a9c5ef",
   "metadata": {},
   "outputs": [
    {
     "data": {
      "text/plain": [
       "['apple', 'kiwi', 'papaya', 'cherry']"
      ]
     },
     "execution_count": 95,
     "metadata": {},
     "output_type": "execute_result"
    }
   ],
   "source": [
    "my_list1"
   ]
  },
  {
   "cell_type": "code",
   "execution_count": null,
   "id": "586c13d9",
   "metadata": {},
   "outputs": [],
   "source": []
  }
 ],
 "metadata": {
  "kernelspec": {
   "display_name": "Python 3",
   "language": "python",
   "name": "python3"
  },
  "language_info": {
   "codemirror_mode": {
    "name": "ipython",
    "version": 3
   },
   "file_extension": ".py",
   "mimetype": "text/x-python",
   "name": "python",
   "nbconvert_exporter": "python",
   "pygments_lexer": "ipython3",
   "version": "3.8.8"
  }
 },
 "nbformat": 4,
 "nbformat_minor": 5
}
