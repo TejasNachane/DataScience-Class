{
 "cells": [
  {
   "cell_type": "markdown",
   "id": "0d949e51",
   "metadata": {},
   "source": [
    "# HTTP Protocol"
   ]
  },
  {
   "cell_type": "markdown",
   "id": "fe7a9349",
   "metadata": {},
   "source": [
    "1. HTTP protocol is the foundation of data communication in world wide web.\n",
    "2. Different methods of Data Retrival from specified URL are defiend in this protocols\n",
    "3. There are differnt types of HTTP methods:\n",
    "    1. GET\n",
    "    2. POST\n",
    "    3. PUT\n",
    "    4. HEAD\n",
    "    5. DELETE"
   ]
  },
  {
   "cell_type": "markdown",
   "id": "adbe6c3f",
   "metadata": {},
   "source": [
    "### GET"
   ]
  },
  {
   "cell_type": "markdown",
   "id": "19588ed0",
   "metadata": {},
   "source": [
    "1. Get method, data sent as URL parameter that are usually string as name and value pair\n",
    "2. GET unencrypted method from server, \n",
    "3. Most Common Method\n",
    "\n",
    "1. Advantages:\n",
    "    1. Data sent by the GET method are displayedin the URL\n",
    "    2. It is poosbile to bookmark the page with spefic query string values\n",
    "    3. GET request can be cached and GET request to remains in the browser History\n",
    "    4. GEt request can be bookmarked \n",
    "    \n",
    "2. Disadvantages:\n",
    "    1. GET method is not useful for passing sensible information such as username and password\n",
    "    2. This method are fully visible in the URL \n",
    "    3. Length of URL are limited"
   ]
  },
  {
   "cell_type": "markdown",
   "id": "94cab595",
   "metadata": {},
   "source": [
    "1. It is visible method\n",
    "2. Less Secure\n",
    "3. It can be bookmarked\n",
    "4. Data will display in URL\n",
    "5. It is display in header"
   ]
  },
  {
   "cell_type": "markdown",
   "id": "864d91d9",
   "metadata": {},
   "source": [
    "### POST"
   ]
  },
  {
   "cell_type": "markdown",
   "id": "eeffa909",
   "metadata": {},
   "source": [
    "1. It is secure than the GET method because it is not visible in the URL\n",
    "2. so it is not possible to bookmarked the page of specific string\n",
    "3. Large limit"
   ]
  },
  {
   "cell_type": "markdown",
   "id": "76112d7f",
   "metadata": {},
   "source": [
    "1. It is invisible method\n",
    "2. More Secure\n",
    "3. It cannot be bookmarked\n",
    "4. Data will not display in URL\n",
    "5. It is cache less\n",
    "6. We can send more data in Post as compare to GET method\n",
    "7. It is dispalyed in body"
   ]
  },
  {
   "cell_type": "markdown",
   "id": "ffdf064e",
   "metadata": {},
   "source": [
    "1. GET:\n",
    "    1. Sends data in unencrypted form to the server. Most common method\n",
    "2. POST:\n",
    "    1. same as GET but without response body\n",
    "3. PUT:\n",
    "    1. Used to send HTML form data to server\n",
    "    2. Data received by using POST method is cached by server\n",
    "4. HEAD:\n",
    "    1. Replace all current representation of target resources with the uploaded content\n",
    "5. DELETE:\n",
    "    1. Reverse all current representation of target resources given by URL"
   ]
  },
  {
   "cell_type": "code",
   "execution_count": null,
   "id": "fd6513fe",
   "metadata": {},
   "outputs": [],
   "source": []
  }
 ],
 "metadata": {
  "kernelspec": {
   "display_name": "Python 3",
   "language": "python",
   "name": "python3"
  },
  "language_info": {
   "codemirror_mode": {
    "name": "ipython",
    "version": 3
   },
   "file_extension": ".py",
   "mimetype": "text/x-python",
   "name": "python",
   "nbconvert_exporter": "python",
   "pygments_lexer": "ipython3",
   "version": "3.8.8"
  }
 },
 "nbformat": 4,
 "nbformat_minor": 5
}
