{
 "cells": [
  {
   "cell_type": "markdown",
   "id": "bbff564b",
   "metadata": {},
   "source": [
    "# Decision Tree"
   ]
  },
  {
   "cell_type": "markdown",
   "id": "b05399f4",
   "metadata": {},
   "source": [
    "### Problem Statement\n",
    "\n",
    "**Apply Decision Tree on the following Training dataset from all electronics customer database and extract the classification rule from the tree.**"
   ]
  },
  {
   "cell_type": "code",
   "execution_count": 1,
   "id": "ffe2645e",
   "metadata": {},
   "outputs": [],
   "source": [
    "import pandas as pd"
   ]
  },
  {
   "cell_type": "code",
   "execution_count": 2,
   "id": "4444b154",
   "metadata": {},
   "outputs": [],
   "source": [
    "df = pd.read_csv('DT.csv')"
   ]
  },
  {
   "cell_type": "code",
   "execution_count": 3,
   "id": "503f90cc",
   "metadata": {},
   "outputs": [
    {
     "data": {
      "text/html": [
       "<div>\n",
       "<style scoped>\n",
       "    .dataframe tbody tr th:only-of-type {\n",
       "        vertical-align: middle;\n",
       "    }\n",
       "\n",
       "    .dataframe tbody tr th {\n",
       "        vertical-align: top;\n",
       "    }\n",
       "\n",
       "    .dataframe thead th {\n",
       "        text-align: right;\n",
       "    }\n",
       "</style>\n",
       "<table border=\"1\" class=\"dataframe\">\n",
       "  <thead>\n",
       "    <tr style=\"text-align: right;\">\n",
       "      <th></th>\n",
       "      <th>Age</th>\n",
       "      <th>Income</th>\n",
       "      <th>Student</th>\n",
       "      <th>Credit_rating</th>\n",
       "      <th>Class: buys_computer</th>\n",
       "    </tr>\n",
       "  </thead>\n",
       "  <tbody>\n",
       "    <tr>\n",
       "      <th>0</th>\n",
       "      <td>&lt;=30</td>\n",
       "      <td>High</td>\n",
       "      <td>No</td>\n",
       "      <td>Fair</td>\n",
       "      <td>No</td>\n",
       "    </tr>\n",
       "    <tr>\n",
       "      <th>1</th>\n",
       "      <td>&lt;=30</td>\n",
       "      <td>High</td>\n",
       "      <td>No</td>\n",
       "      <td>Excellent</td>\n",
       "      <td>No</td>\n",
       "    </tr>\n",
       "    <tr>\n",
       "      <th>2</th>\n",
       "      <td>31�40</td>\n",
       "      <td>High</td>\n",
       "      <td>No</td>\n",
       "      <td>Fair</td>\n",
       "      <td>Yes</td>\n",
       "    </tr>\n",
       "    <tr>\n",
       "      <th>3</th>\n",
       "      <td>&gt;40</td>\n",
       "      <td>Medium</td>\n",
       "      <td>No</td>\n",
       "      <td>Fair</td>\n",
       "      <td>Yes</td>\n",
       "    </tr>\n",
       "    <tr>\n",
       "      <th>4</th>\n",
       "      <td>&gt;40</td>\n",
       "      <td>Low</td>\n",
       "      <td>yes</td>\n",
       "      <td>Fair</td>\n",
       "      <td>Yes</td>\n",
       "    </tr>\n",
       "    <tr>\n",
       "      <th>5</th>\n",
       "      <td>&gt;40</td>\n",
       "      <td>Low</td>\n",
       "      <td>yes</td>\n",
       "      <td>Excellent</td>\n",
       "      <td>No</td>\n",
       "    </tr>\n",
       "    <tr>\n",
       "      <th>6</th>\n",
       "      <td>31�..40</td>\n",
       "      <td>Low</td>\n",
       "      <td>yes</td>\n",
       "      <td>Excellent</td>\n",
       "      <td>Yes</td>\n",
       "    </tr>\n",
       "    <tr>\n",
       "      <th>7</th>\n",
       "      <td>&lt;=30</td>\n",
       "      <td>Medium</td>\n",
       "      <td>no</td>\n",
       "      <td>Fair</td>\n",
       "      <td>No</td>\n",
       "    </tr>\n",
       "    <tr>\n",
       "      <th>8</th>\n",
       "      <td>&lt;=30</td>\n",
       "      <td>Low</td>\n",
       "      <td>yes</td>\n",
       "      <td>Fair</td>\n",
       "      <td>Yes</td>\n",
       "    </tr>\n",
       "    <tr>\n",
       "      <th>9</th>\n",
       "      <td>&gt;40</td>\n",
       "      <td>Medium</td>\n",
       "      <td>yes</td>\n",
       "      <td>Fair</td>\n",
       "      <td>Yes</td>\n",
       "    </tr>\n",
       "    <tr>\n",
       "      <th>10</th>\n",
       "      <td>&lt;=30</td>\n",
       "      <td>Medium</td>\n",
       "      <td>yes</td>\n",
       "      <td>Excellent</td>\n",
       "      <td>Yes</td>\n",
       "    </tr>\n",
       "    <tr>\n",
       "      <th>11</th>\n",
       "      <td>31�40</td>\n",
       "      <td>Medium</td>\n",
       "      <td>no</td>\n",
       "      <td>Excellent</td>\n",
       "      <td>Yes</td>\n",
       "    </tr>\n",
       "    <tr>\n",
       "      <th>12</th>\n",
       "      <td>31�40</td>\n",
       "      <td>High</td>\n",
       "      <td>yes</td>\n",
       "      <td>Fair</td>\n",
       "      <td>Yes</td>\n",
       "    </tr>\n",
       "    <tr>\n",
       "      <th>13</th>\n",
       "      <td>&gt;40</td>\n",
       "      <td>Medium</td>\n",
       "      <td>No</td>\n",
       "      <td>Excellent</td>\n",
       "      <td>No</td>\n",
       "    </tr>\n",
       "  </tbody>\n",
       "</table>\n",
       "</div>"
      ],
      "text/plain": [
       "        Age  Income Student Credit_rating Class: buys_computer\n",
       "0      <=30    High      No          Fair                   No\n",
       "1      <=30    High      No     Excellent                   No\n",
       "2     31�40    High      No          Fair                  Yes\n",
       "3       >40  Medium      No          Fair                  Yes\n",
       "4       >40     Low     yes          Fair                  Yes\n",
       "5       >40     Low     yes     Excellent                   No\n",
       "6   31�..40     Low     yes     Excellent                  Yes\n",
       "7      <=30  Medium      no          Fair                   No\n",
       "8      <=30     Low     yes          Fair                  Yes\n",
       "9       >40  Medium     yes          Fair                  Yes\n",
       "10     <=30  Medium     yes     Excellent                  Yes\n",
       "11    31�40  Medium      no     Excellent                  Yes\n",
       "12    31�40    High     yes          Fair                  Yes\n",
       "13      >40  Medium      No     Excellent                   No"
      ]
     },
     "execution_count": 3,
     "metadata": {},
     "output_type": "execute_result"
    }
   ],
   "source": [
    "df"
   ]
  },
  {
   "cell_type": "markdown",
   "id": "c1e0c6cc",
   "metadata": {},
   "source": [
    "1. class P - [Buys_computer ] = 'YES'\n",
    "2. class N - [Buys_computer ] = 'NO'"
   ]
  },
  {
   "cell_type": "markdown",
   "id": "55a9a52d",
   "metadata": {},
   "source": [
    "Total No of Records = 14"
   ]
  },
  {
   "cell_type": "markdown",
   "id": "f1246d7b",
   "metadata": {},
   "source": [
    "**Count the number of Records with 'YES ' and 'NO'**\n",
    "\n",
    "1. class P - [Buys_computer ] = 'YES' = 9\n",
    "2. class N - [Buys_computer ] = 'NO' = 5"
   ]
  },
  {
   "cell_type": "markdown",
   "id": "1c69e41b",
   "metadata": {},
   "source": [
    "### Calculate Information Gain"
   ]
  },
  {
   "cell_type": "markdown",
   "id": "26f26aee",
   "metadata": {},
   "source": [
    "**so Information Gain = I(P, N) = - [P / (P + N) LOG2 P / (P+ N) ] - [N / (P + N) LOG2 N / p + N]**"
   ]
  },
  {
   "cell_type": "markdown",
   "id": "5e7252a1",
   "metadata": {},
   "source": [
    "I(P, N) = I(9,5) = - (9/14)log2(9/14) - (5/14)log2(5/14) = 0.940"
   ]
  },
  {
   "cell_type": "markdown",
   "id": "5b1b3b9f",
   "metadata": {},
   "source": [
    "**Information Gain = 0.940**"
   ]
  },
  {
   "cell_type": "markdown",
   "id": "16425470",
   "metadata": {},
   "source": [
    "### Step 1"
   ]
  },
  {
   "cell_type": "markdown",
   "id": "ec40a662",
   "metadata": {},
   "source": [
    "**Calculate the entropy for 'Age'**"
   ]
  },
  {
   "cell_type": "markdown",
   "id": "390772e9",
   "metadata": {},
   "source": [
    "**1. Information Gain(I(P,N)=-2/(2+3)  log⁡2  2/(2+3)-3/(2+3)  log⁡2  3/(2+3)**"
   ]
  },
  {
   "cell_type": "markdown",
   "id": "a9549267",
   "metadata": {},
   "source": [
    "**2. Information Gain(I(P,N)=-2/(2+3)  log⁡2  2/(2+3)-3/(2+3)  log⁡2  3/(2+3)**\n"
   ]
  },
  {
   "cell_type": "markdown",
   "id": "c5f3a359",
   "metadata": {},
   "source": [
    "**1. Information Gain(I(P,N)=-2/(2+3)  log⁡2  2/(2+3)-3/(2+3)  log⁡2  3/(2+3)**"
   ]
  },
  {
   "cell_type": "markdown",
   "id": "a7eed6e0",
   "metadata": {},
   "source": [
    "### Now Calculate Entropy "
   ]
  },
  {
   "cell_type": "markdown",
   "id": "80e49009",
   "metadata": {},
   "source": [
    "![](https://www.saedsayad.com/images/Entropy_3.png)"
   ]
  },
  {
   "cell_type": "markdown",
   "id": "33d5af73",
   "metadata": {},
   "source": [
    "**E (A) = summation (i= 1 to v) P1 + N1 / P + N [I(Pi, Ni)]**"
   ]
  },
  {
   "cell_type": "markdown",
   "id": "9f2aa14f",
   "metadata": {},
   "source": [
    "Entropy(Age)=  5/14 I(0.971)+4/14 I(0)  5/14 I(0.971) = **0.693**"
   ]
  },
  {
   "cell_type": "raw",
   "id": "1d38150f",
   "metadata": {},
   "source": [
    "### Hence,\n",
    "Information Gain = I(P, N) - Entropy(Age)\n",
    "                 = 0.940 - 0.694  \n",
    "                 = 0.246"
   ]
  },
  {
   "cell_type": "markdown",
   "id": "d90549ca",
   "metadata": {},
   "source": [
    "### Information Gain (Age) = 0.246\n",
    "### Information Gain (Income) = 0.029\n",
    "### Information Gain (Student) = 0.152\n",
    "### Information Gain (Credit_Rating) = 0.048"
   ]
  },
  {
   "cell_type": "markdown",
   "id": "c9cd7ce9",
   "metadata": {},
   "source": [
    "1. Now, Age has highest information in all the attributes\n",
    "2. Age has three possible outcomes (values), root note has three branches:\n",
    "    1. [<=30]\n",
    "    2. [31....40]\n",
    "    3. [>=40]"
   ]
  },
  {
   "cell_type": "code",
   "execution_count": 2,
   "id": "e81ae2e0",
   "metadata": {},
   "outputs": [],
   "source": [
    "df1 = pd.read_csv('step_II.csv')"
   ]
  },
  {
   "cell_type": "code",
   "execution_count": 3,
   "id": "9f0e39ff",
   "metadata": {},
   "outputs": [
    {
     "data": {
      "text/html": [
       "<div>\n",
       "<style scoped>\n",
       "    .dataframe tbody tr th:only-of-type {\n",
       "        vertical-align: middle;\n",
       "    }\n",
       "\n",
       "    .dataframe tbody tr th {\n",
       "        vertical-align: top;\n",
       "    }\n",
       "\n",
       "    .dataframe thead th {\n",
       "        text-align: right;\n",
       "    }\n",
       "</style>\n",
       "<table border=\"1\" class=\"dataframe\">\n",
       "  <thead>\n",
       "    <tr style=\"text-align: right;\">\n",
       "      <th></th>\n",
       "      <th>Age</th>\n",
       "      <th>Income</th>\n",
       "      <th>Student</th>\n",
       "      <th>Credit_Rating</th>\n",
       "      <th>Buys_Computer</th>\n",
       "    </tr>\n",
       "  </thead>\n",
       "  <tbody>\n",
       "    <tr>\n",
       "      <th>0</th>\n",
       "      <td>&lt; = 30</td>\n",
       "      <td>High</td>\n",
       "      <td>No</td>\n",
       "      <td>Fair</td>\n",
       "      <td>No</td>\n",
       "    </tr>\n",
       "    <tr>\n",
       "      <th>1</th>\n",
       "      <td>&lt; = 30</td>\n",
       "      <td>High</td>\n",
       "      <td>No</td>\n",
       "      <td>Excellent</td>\n",
       "      <td>No</td>\n",
       "    </tr>\n",
       "    <tr>\n",
       "      <th>2</th>\n",
       "      <td>&lt; = 30</td>\n",
       "      <td>Medium</td>\n",
       "      <td>No</td>\n",
       "      <td>Fair</td>\n",
       "      <td>No</td>\n",
       "    </tr>\n",
       "    <tr>\n",
       "      <th>3</th>\n",
       "      <td>&lt; = 30</td>\n",
       "      <td>Low</td>\n",
       "      <td>Yes</td>\n",
       "      <td>Fair</td>\n",
       "      <td>Yes</td>\n",
       "    </tr>\n",
       "    <tr>\n",
       "      <th>4</th>\n",
       "      <td>&lt; = 30</td>\n",
       "      <td>Mediam</td>\n",
       "      <td>Yes</td>\n",
       "      <td>Excellent</td>\n",
       "      <td>Yes</td>\n",
       "    </tr>\n",
       "  </tbody>\n",
       "</table>\n",
       "</div>"
      ],
      "text/plain": [
       "     Age   Income Student Credit_Rating Buys_Computer\n",
       "0  < = 30    High      No          Fair            No\n",
       "1  < = 30    High      No     Excellent            No\n",
       "2  < = 30  Medium      No          Fair            No\n",
       "3  < = 30     Low     Yes          Fair           Yes\n",
       "4  < = 30  Mediam     Yes     Excellent           Yes"
      ]
     },
     "execution_count": 3,
     "metadata": {},
     "output_type": "execute_result"
    }
   ],
   "source": [
    "df1"
   ]
  },
  {
   "cell_type": "markdown",
   "id": "2cede93a",
   "metadata": {},
   "source": [
    "#### Total no of 'YES' = 2\n",
    "#### Total no of 'No' = 3"
   ]
  },
  {
   "cell_type": "markdown",
   "id": "8a22ad2f",
   "metadata": {},
   "source": [
    "**I(P, N) = I(2, 3) = -2/(5) log⁡2 2/(5)-3/(5) log⁡2 3/(5)**"
   ]
  },
  {
   "cell_type": "markdown",
   "id": "d5081f5c",
   "metadata": {},
   "source": [
    "### Information Gain I(P, N) = 0.971"
   ]
  },
  {
   "cell_type": "markdown",
   "id": "1d5debe7",
   "metadata": {},
   "source": [
    "Calculate the entropy for Income - [HIGH, MEDIUM, LOW]"
   ]
  },
  {
   "cell_type": "markdown",
   "id": "efd75aee",
   "metadata": {},
   "source": [
    "**Entropy(Income)=  2/5 I(0,2)+3/5 I(1,1)  1/5 I(1,0)=0.4**"
   ]
  },
  {
   "cell_type": "raw",
   "id": "a7b6a657",
   "metadata": {},
   "source": [
    "### Hence,\n",
    "Information Gain = I(P, N) - Entropy(Income)\n",
    "                 = 0.971 - 0.4  \n",
    "                 = 0.571"
   ]
  },
  {
   "cell_type": "code",
   "execution_count": null,
   "id": "2191ebf6",
   "metadata": {},
   "outputs": [],
   "source": []
  }
 ],
 "metadata": {
  "kernelspec": {
   "display_name": "Python 3",
   "language": "python",
   "name": "python3"
  },
  "language_info": {
   "codemirror_mode": {
    "name": "ipython",
    "version": 3
   },
   "file_extension": ".py",
   "mimetype": "text/x-python",
   "name": "python",
   "nbconvert_exporter": "python",
   "pygments_lexer": "ipython3",
   "version": "3.8.8"
  }
 },
 "nbformat": 4,
 "nbformat_minor": 5
}
