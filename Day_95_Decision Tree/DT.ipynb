{
 "cells": [
  {
   "cell_type": "markdown",
   "metadata": {},
   "source": [
    "# Decision Tree"
   ]
  },
  {
   "cell_type": "code",
   "execution_count": 1,
   "metadata": {},
   "outputs": [],
   "source": [
    "import pandas as pd\n",
    "import numpy as np"
   ]
  },
  {
   "cell_type": "code",
   "execution_count": 3,
   "metadata": {},
   "outputs": [],
   "source": [
    "df = pd.read_csv('DT.csv',encoding='unicode_escape')"
   ]
  },
  {
   "cell_type": "code",
   "execution_count": 4,
   "metadata": {},
   "outputs": [
    {
     "data": {
      "text/html": [
       "<div>\n",
       "<style scoped>\n",
       "    .dataframe tbody tr th:only-of-type {\n",
       "        vertical-align: middle;\n",
       "    }\n",
       "\n",
       "    .dataframe tbody tr th {\n",
       "        vertical-align: top;\n",
       "    }\n",
       "\n",
       "    .dataframe thead th {\n",
       "        text-align: right;\n",
       "    }\n",
       "</style>\n",
       "<table border=\"1\" class=\"dataframe\">\n",
       "  <thead>\n",
       "    <tr style=\"text-align: right;\">\n",
       "      <th></th>\n",
       "      <th>Age</th>\n",
       "      <th>Income</th>\n",
       "      <th>Student</th>\n",
       "      <th>Credit_rating</th>\n",
       "      <th>Class: buys_computer</th>\n",
       "    </tr>\n",
       "  </thead>\n",
       "  <tbody>\n",
       "    <tr>\n",
       "      <th>0</th>\n",
       "      <td>&lt;=30</td>\n",
       "      <td>High</td>\n",
       "      <td>No</td>\n",
       "      <td>Fair</td>\n",
       "      <td>No</td>\n",
       "    </tr>\n",
       "    <tr>\n",
       "      <th>1</th>\n",
       "      <td>&lt;=30</td>\n",
       "      <td>High</td>\n",
       "      <td>No</td>\n",
       "      <td>Excellent</td>\n",
       "      <td>No</td>\n",
       "    </tr>\n",
       "    <tr>\n",
       "      <th>2</th>\n",
       "      <td>31",
       "40</td>\n",
       "      <td>High</td>\n",
       "      <td>No</td>\n",
       "      <td>Fair</td>\n",
       "      <td>Yes</td>\n",
       "    </tr>\n",
       "    <tr>\n",
       "      <th>3</th>\n",
       "      <td>&gt;40</td>\n",
       "      <td>Medium</td>\n",
       "      <td>No</td>\n",
       "      <td>Fair</td>\n",
       "      <td>Yes</td>\n",
       "    </tr>\n",
       "    <tr>\n",
       "      <th>4</th>\n",
       "      <td>&gt;40</td>\n",
       "      <td>Low</td>\n",
       "      <td>yes</td>\n",
       "      <td>Fair</td>\n",
       "      <td>Yes</td>\n",
       "    </tr>\n",
       "    <tr>\n",
       "      <th>5</th>\n",
       "      <td>&gt;40</td>\n",
       "      <td>Low</td>\n",
       "      <td>yes</td>\n",
       "      <td>Excellent</td>\n",
       "      <td>No</td>\n",
       "    </tr>\n",
       "    <tr>\n",
       "      <th>6</th>\n",
       "      <td>31",
       "..40</td>\n",
       "      <td>Low</td>\n",
       "      <td>yes</td>\n",
       "      <td>Excellent</td>\n",
       "      <td>Yes</td>\n",
       "    </tr>\n",
       "    <tr>\n",
       "      <th>7</th>\n",
       "      <td>&lt;=30</td>\n",
       "      <td>Medium</td>\n",
       "      <td>no</td>\n",
       "      <td>Fair</td>\n",
       "      <td>No</td>\n",
       "    </tr>\n",
       "    <tr>\n",
       "      <th>8</th>\n",
       "      <td>&lt;=30</td>\n",
       "      <td>Low</td>\n",
       "      <td>yes</td>\n",
       "      <td>Fair</td>\n",
       "      <td>Yes</td>\n",
       "    </tr>\n",
       "    <tr>\n",
       "      <th>9</th>\n",
       "      <td>&gt;40</td>\n",
       "      <td>Medium</td>\n",
       "      <td>yes</td>\n",
       "      <td>Fair</td>\n",
       "      <td>Yes</td>\n",
       "    </tr>\n",
       "    <tr>\n",
       "      <th>10</th>\n",
       "      <td>&lt;=30</td>\n",
       "      <td>Medium</td>\n",
       "      <td>yes</td>\n",
       "      <td>Excellent</td>\n",
       "      <td>Yes</td>\n",
       "    </tr>\n",
       "    <tr>\n",
       "      <th>11</th>\n",
       "      <td>31",
       "40</td>\n",
       "      <td>Medium</td>\n",
       "      <td>no</td>\n",
       "      <td>Excellent</td>\n",
       "      <td>Yes</td>\n",
       "    </tr>\n",
       "    <tr>\n",
       "      <th>12</th>\n",
       "      <td>31",
       "40</td>\n",
       "      <td>High</td>\n",
       "      <td>yes</td>\n",
       "      <td>Fair</td>\n",
       "      <td>Yes</td>\n",
       "    </tr>\n",
       "    <tr>\n",
       "      <th>13</th>\n",
       "      <td>&gt;40</td>\n",
       "      <td>Medium</td>\n",
       "      <td>No</td>\n",
       "      <td>Excellent</td>\n",
       "      <td>No</td>\n",
       "    </tr>\n",
       "  </tbody>\n",
       "</table>\n",
       "</div>"
      ],
      "text/plain": [
       "        Age  Income Student Credit_rating Class: buys_computer\n",
       "0      <=30    High      No          Fair                   No\n",
       "1      <=30    High      No     Excellent                   No\n",
       "2     31\n",
       "40    High      No          Fair                  Yes\n",
       "3       >40  Medium      No          Fair                  Yes\n",
       "4       >40     Low     yes          Fair                  Yes\n",
       "5       >40     Low     yes     Excellent                   No\n",
       "6   31\n",
       "..40     Low     yes     Excellent                  Yes\n",
       "7      <=30  Medium      no          Fair                   No\n",
       "8      <=30     Low     yes          Fair                  Yes\n",
       "9       >40  Medium     yes          Fair                  Yes\n",
       "10     <=30  Medium     yes     Excellent                  Yes\n",
       "11    31\n",
       "40  Medium      no     Excellent                  Yes\n",
       "12    31\n",
       "40    High     yes          Fair                  Yes\n",
       "13      >40  Medium      No     Excellent                   No"
      ]
     },
     "execution_count": 4,
     "metadata": {},
     "output_type": "execute_result"
    }
   ],
   "source": [
    "df"
   ]
  },
  {
   "cell_type": "markdown",
   "metadata": {},
   "source": [
    "### Step 1"
   ]
  },
  {
   "cell_type": "markdown",
   "metadata": {},
   "source": [
    "1. class - P [buys_computer = \"YES\"]\n",
    "2. class - N [buys_computer = \"NO\"]"
   ]
  },
  {
   "cell_type": "markdown",
   "metadata": {},
   "source": [
    "### Total no of Records - 14"
   ]
  },
  {
   "cell_type": "code",
   "execution_count": null,
   "metadata": {},
   "outputs": [],
   "source": []
  }
 ],
 "metadata": {
  "kernelspec": {
   "display_name": "Python 3",
   "language": "python",
   "name": "python3"
  },
  "language_info": {
   "codemirror_mode": {
    "name": "ipython",
    "version": 3
   },
   "file_extension": ".py",
   "mimetype": "text/x-python",
   "name": "python",
   "nbconvert_exporter": "python",
   "pygments_lexer": "ipython3",
   "version": "3.8.5"
  }
 },
 "nbformat": 4,
 "nbformat_minor": 5
}
