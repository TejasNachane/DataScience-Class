{
 "cells": [
  {
   "cell_type": "markdown",
   "id": "afa89054",
   "metadata": {},
   "source": [
    "# Operators\n",
    "1. There are different types of operators are used in python:\n",
    "    1. Arithmatic Operator\n",
    "    2. Assignment Operators\n",
    "    3. Comparison OPerator\n",
    "    4. Logical Opearators\n",
    "    5. Identity OPerators\n",
    "    6. Membership Operators\n",
    "    7. Bitwise Operators"
   ]
  },
  {
   "cell_type": "markdown",
   "id": "00152938",
   "metadata": {},
   "source": [
    "# 2. Assignment Operators"
   ]
  },
  {
   "cell_type": "markdown",
   "id": "3f5593f9",
   "metadata": {},
   "source": [
    "1. [=]:\n",
    "    1. x = 10\n",
    "    \n",
    "2. [+=]:\n",
    "    1. x += 10 similar as x = x + 10\n",
    "    \n",
    "3. [-=]:\n",
    "    1. x -= 10 similar as x = x - 10\n",
    "    \n",
    "4. [*=]:\n",
    "    1. x *= 10 similar as x = x * 10\n",
    "    \n",
    "5. [/=]:\n",
    "    1. x /= 10 similar as x = x / 10\n",
    "    \n",
    "6. [//=]:\n",
    "    1. x //= 10 similar as x = x // 10\n",
    "    \n",
    "7. [**=]:\n",
    "    1. x **= 10 similar as x = x ** 10\n",
    "    \n",
    "8. [&=]:\n",
    "    1. x &= 10 similar as x = x & 10\n",
    "    \n",
    "9. [!=]:\n",
    "    1. x != 10 similar as x = x 1!10\n",
    "10. [^=]:\n",
    "    1. x ^= 10 similar as x = x ^ 10\n",
    "    \n",
    "11. [>>=]:\n",
    "    1. x >>= 10 similar as x = x >> 10\n",
    "    \n",
    "12. [<<=]:\n",
    "    1. x <<= 10 similar as x = x << 10"
   ]
  },
  {
   "cell_type": "code",
   "execution_count": 1,
   "id": "cbe56f63",
   "metadata": {},
   "outputs": [],
   "source": [
    "x = 5"
   ]
  },
  {
   "cell_type": "code",
   "execution_count": 2,
   "id": "70bb728c",
   "metadata": {},
   "outputs": [
    {
     "name": "stdout",
     "output_type": "stream",
     "text": [
      "10\n"
     ]
    }
   ],
   "source": [
    "x = x + 5\n",
    "print(x)"
   ]
  },
  {
   "cell_type": "code",
   "execution_count": 3,
   "id": "254a75c5",
   "metadata": {},
   "outputs": [
    {
     "name": "stdout",
     "output_type": "stream",
     "text": [
      "20\n"
     ]
    }
   ],
   "source": [
    "x += 10\n",
    "print(x)"
   ]
  },
  {
   "cell_type": "code",
   "execution_count": 4,
   "id": "f19dbff3",
   "metadata": {},
   "outputs": [
    {
     "name": "stdout",
     "output_type": "stream",
     "text": [
      "10\n"
     ]
    }
   ],
   "source": [
    "x = x - 10\n",
    "print(x)"
   ]
  },
  {
   "cell_type": "code",
   "execution_count": 5,
   "id": "f4c284ec",
   "metadata": {},
   "outputs": [
    {
     "name": "stdout",
     "output_type": "stream",
     "text": [
      "5\n"
     ]
    }
   ],
   "source": [
    "x -= 5\n",
    "print(x)"
   ]
  },
  {
   "cell_type": "markdown",
   "id": "cdfd6dda",
   "metadata": {},
   "source": [
    "## 3. Comparision Operator"
   ]
  },
  {
   "cell_type": "markdown",
   "id": "f1d7a575",
   "metadata": {},
   "source": [
    "1. Equal [==]\n",
    "2. Not Equal [!=]\n",
    "3. Greater than [>]\n",
    "4. Less than [<]\n",
    "5. Greater than or Equal [>=]\n",
    "6. Less than or Equal [<=]"
   ]
  },
  {
   "cell_type": "code",
   "execution_count": 8,
   "id": "e0d6d793",
   "metadata": {},
   "outputs": [
    {
     "name": "stdout",
     "output_type": "stream",
     "text": [
      "True\n"
     ]
    }
   ],
   "source": [
    "x = 100\n",
    "y = 100\n",
    "\n",
    "print(x == y)"
   ]
  },
  {
   "cell_type": "code",
   "execution_count": 9,
   "id": "620157c6",
   "metadata": {},
   "outputs": [
    {
     "name": "stdout",
     "output_type": "stream",
     "text": [
      "False\n"
     ]
    }
   ],
   "source": [
    "x = 100\n",
    "y = 100\n",
    "\n",
    "print(x != y)"
   ]
  },
  {
   "cell_type": "code",
   "execution_count": 10,
   "id": "07b2adfb",
   "metadata": {},
   "outputs": [
    {
     "name": "stdout",
     "output_type": "stream",
     "text": [
      "True\n"
     ]
    }
   ],
   "source": [
    "x = 100\n",
    "y = 10\n",
    "\n",
    "print(x != y)"
   ]
  },
  {
   "cell_type": "code",
   "execution_count": 11,
   "id": "4bd4d684",
   "metadata": {},
   "outputs": [],
   "source": [
    "# Greater than"
   ]
  },
  {
   "cell_type": "code",
   "execution_count": 13,
   "id": "12df2cbf",
   "metadata": {},
   "outputs": [
    {
     "name": "stdout",
     "output_type": "stream",
     "text": [
      "True\n"
     ]
    }
   ],
   "source": [
    "x = 100\n",
    "y = 10\n",
    "\n",
    "print(x > y)"
   ]
  },
  {
   "cell_type": "code",
   "execution_count": 14,
   "id": "7ebfab5d",
   "metadata": {},
   "outputs": [
    {
     "name": "stdout",
     "output_type": "stream",
     "text": [
      "False\n"
     ]
    }
   ],
   "source": [
    "x = 100\n",
    "y = 100\n",
    "\n",
    "print(x > y)"
   ]
  },
  {
   "cell_type": "code",
   "execution_count": 15,
   "id": "8febeab8",
   "metadata": {},
   "outputs": [],
   "source": [
    "# Less than"
   ]
  },
  {
   "cell_type": "code",
   "execution_count": 16,
   "id": "85d1adea",
   "metadata": {},
   "outputs": [
    {
     "name": "stdout",
     "output_type": "stream",
     "text": [
      "True\n"
     ]
    }
   ],
   "source": [
    "x = 10\n",
    "y = 100\n",
    "\n",
    "print(x < y)"
   ]
  },
  {
   "cell_type": "code",
   "execution_count": 17,
   "id": "b2dac769",
   "metadata": {},
   "outputs": [
    {
     "name": "stdout",
     "output_type": "stream",
     "text": [
      "False\n"
     ]
    }
   ],
   "source": [
    "x = 100\n",
    "y = 10\n",
    "\n",
    "print(x == y)"
   ]
  },
  {
   "cell_type": "code",
   "execution_count": 18,
   "id": "d7729e9b",
   "metadata": {},
   "outputs": [],
   "source": [
    "# Greater than or Equal"
   ]
  },
  {
   "cell_type": "code",
   "execution_count": 21,
   "id": "1b103cc8",
   "metadata": {},
   "outputs": [
    {
     "name": "stdout",
     "output_type": "stream",
     "text": [
      "True\n"
     ]
    }
   ],
   "source": [
    "x = 100\n",
    "y = 100\n",
    "\n",
    "print(x >= y)"
   ]
  },
  {
   "cell_type": "code",
   "execution_count": 22,
   "id": "fa14d880",
   "metadata": {},
   "outputs": [
    {
     "name": "stdout",
     "output_type": "stream",
     "text": [
      "True\n"
     ]
    }
   ],
   "source": [
    "x = 101\n",
    "y = 100\n",
    "\n",
    "print(x >= y)"
   ]
  },
  {
   "cell_type": "code",
   "execution_count": 23,
   "id": "c7ca3f11",
   "metadata": {},
   "outputs": [
    {
     "name": "stdout",
     "output_type": "stream",
     "text": [
      "False\n"
     ]
    }
   ],
   "source": [
    "x = 100\n",
    "y = 101\n",
    "\n",
    "print(x >= y)"
   ]
  },
  {
   "cell_type": "code",
   "execution_count": 24,
   "id": "782ead1e",
   "metadata": {},
   "outputs": [],
   "source": [
    "# less than or Equals"
   ]
  },
  {
   "cell_type": "code",
   "execution_count": 25,
   "id": "5e362f48",
   "metadata": {},
   "outputs": [
    {
     "name": "stdout",
     "output_type": "stream",
     "text": [
      "True\n"
     ]
    }
   ],
   "source": [
    "x = 100\n",
    "y = 100\n",
    "\n",
    "print(x <= y)"
   ]
  },
  {
   "cell_type": "code",
   "execution_count": 26,
   "id": "188660e0",
   "metadata": {},
   "outputs": [
    {
     "name": "stdout",
     "output_type": "stream",
     "text": [
      "True\n"
     ]
    }
   ],
   "source": [
    "x = 10\n",
    "y = 100\n",
    "\n",
    "print(x <= y)"
   ]
  },
  {
   "cell_type": "code",
   "execution_count": 27,
   "id": "b0aaaffe",
   "metadata": {},
   "outputs": [
    {
     "name": "stdout",
     "output_type": "stream",
     "text": [
      "False\n"
     ]
    }
   ],
   "source": [
    "x = 101\n",
    "y = 100\n",
    "\n",
    "print(x <= y)"
   ]
  },
  {
   "cell_type": "markdown",
   "id": "45eb24ab",
   "metadata": {},
   "source": [
    "# 4. Logical Operators:"
   ]
  },
  {
   "cell_type": "markdown",
   "id": "3404a04b",
   "metadata": {},
   "source": [
    "1. Logical Operators:\n",
    "    1. Logical operator is a symbol or words used to connect two or more expression\n",
    "    2. value of the compound expression\n",
    "    3. common logical operators are:\n",
    "        1. and\n",
    "        2. or\n",
    "        3. not\n",
    "    4.to combine conditional statement\n",
    "1. AND [and]:\n",
    "\n",
    "    1. Return TRUE if both condition statement are TRUE\n",
    "    2. Return False if any of the condition statement are False\n",
    "2. OR [or]:\n",
    "    1. Return TRUE if any of the condition statement are TRUE\n",
    "    2. Return False if both condition statement are FALSE\n",
    "3. NOT [not]:\n",
    "    1. Reverse the result return FALSE if the result are TRUE"
   ]
  },
  {
   "cell_type": "markdown",
   "id": "d303c6de",
   "metadata": {},
   "source": [
    "### 1. AND [and]"
   ]
  },
  {
   "cell_type": "code",
   "execution_count": 28,
   "id": "a30ea0e3",
   "metadata": {},
   "outputs": [
    {
     "name": "stdout",
     "output_type": "stream",
     "text": [
      "True\n"
     ]
    }
   ],
   "source": [
    "x = 10\n",
    "y = 20\n",
    "\n",
    "print(x != y and y > x)"
   ]
  },
  {
   "cell_type": "code",
   "execution_count": 29,
   "id": "bb0f9e39",
   "metadata": {},
   "outputs": [
    {
     "name": "stdout",
     "output_type": "stream",
     "text": [
      "False\n"
     ]
    }
   ],
   "source": [
    "x = 10\n",
    "y = 20\n",
    "\n",
    "print(x != y and y < x)"
   ]
  },
  {
   "cell_type": "code",
   "execution_count": 30,
   "id": "37e657f4",
   "metadata": {},
   "outputs": [
    {
     "name": "stdout",
     "output_type": "stream",
     "text": [
      "False\n"
     ]
    }
   ],
   "source": [
    "x = 10\n",
    "y = 20\n",
    "\n",
    "print(x == y and y > x)"
   ]
  },
  {
   "cell_type": "markdown",
   "id": "a03cb534",
   "metadata": {},
   "source": [
    "## 2. OR [or]"
   ]
  },
  {
   "cell_type": "code",
   "execution_count": 32,
   "id": "d881a3c2",
   "metadata": {},
   "outputs": [
    {
     "name": "stdout",
     "output_type": "stream",
     "text": [
      "True\n"
     ]
    }
   ],
   "source": [
    "x = 10\n",
    "y = 20\n",
    "\n",
    "print(x == y or y > x)"
   ]
  },
  {
   "cell_type": "code",
   "execution_count": 34,
   "id": "fce52a42",
   "metadata": {},
   "outputs": [
    {
     "name": "stdout",
     "output_type": "stream",
     "text": [
      "False\n"
     ]
    }
   ],
   "source": [
    "x = 10\n",
    "y = 20\n",
    "\n",
    "print(x == y or y < x)"
   ]
  },
  {
   "cell_type": "markdown",
   "id": "77df1f13",
   "metadata": {},
   "source": [
    "## 3. NOT [not]"
   ]
  },
  {
   "cell_type": "code",
   "execution_count": 37,
   "id": "eeaae370",
   "metadata": {},
   "outputs": [
    {
     "name": "stdout",
     "output_type": "stream",
     "text": [
      "True\n"
     ]
    }
   ],
   "source": [
    "x = 10\n",
    "y = 20\n",
    "\n",
    "print(not(x == y and y < x))"
   ]
  },
  {
   "cell_type": "code",
   "execution_count": 38,
   "id": "9783c670",
   "metadata": {},
   "outputs": [
    {
     "name": "stdout",
     "output_type": "stream",
     "text": [
      "False\n"
     ]
    }
   ],
   "source": [
    "x = 10\n",
    "y = 20\n",
    "\n",
    "print(not(x == y or y > x))"
   ]
  },
  {
   "cell_type": "code",
   "execution_count": 39,
   "id": "10186a50",
   "metadata": {},
   "outputs": [
    {
     "name": "stdout",
     "output_type": "stream",
     "text": [
      "True\n"
     ]
    }
   ],
   "source": [
    "x = 10\n",
    "y = 20\n",
    "\n",
    "print(x == y or y > x)"
   ]
  },
  {
   "cell_type": "markdown",
   "id": "b67f69fc",
   "metadata": {},
   "source": [
    "## 5. Identity Oprators"
   ]
  },
  {
   "cell_type": "markdown",
   "id": "4750f3a9",
   "metadata": {},
   "source": [
    "1. Identity operator are used to compare the object with same memory location\n",
    "2. There are two identity operators in python:\n",
    "    1. IS [is]\n",
    "    2. IS NOT [is not]"
   ]
  },
  {
   "cell_type": "code",
   "execution_count": 40,
   "id": "33bbab81",
   "metadata": {},
   "outputs": [
    {
     "name": "stdout",
     "output_type": "stream",
     "text": [
      "True\n",
      "False\n"
     ]
    }
   ],
   "source": [
    "x = ['apple','mango','cherry','watermelon']\n",
    "y = ['apple','mango','cherry','watermelon']\n",
    "\n",
    "z = x\n",
    "\n",
    "print(z is x)\n",
    "print(x is y)"
   ]
  },
  {
   "cell_type": "code",
   "execution_count": 44,
   "id": "1474ffb0",
   "metadata": {},
   "outputs": [
    {
     "name": "stdout",
     "output_type": "stream",
     "text": [
      "False\n",
      "True\n",
      "True\n"
     ]
    }
   ],
   "source": [
    "x = ['apple','mango','cherry','watermelon']\n",
    "y = ['apple','mango','cherry','watermelon']\n",
    "\n",
    "z = x\n",
    "\n",
    "print(x is not z)\n",
    "\n",
    "print(x is not y)\n",
    "\n",
    "print(x == y)"
   ]
  },
  {
   "cell_type": "markdown",
   "id": "0e8efb5a",
   "metadata": {},
   "source": [
    "# 6. Membership Operators\n",
    "1. Membership operator are used to test if sequence is presented as object\n",
    "2. There are two membership operators:\n",
    "    1. IN [in]\n",
    "    2. NOT IN [not in]\n",
    "\n",
    "1. IN [in]:\n",
    "    1. Return TRUE if sequnece with specific object value is presented in object\n",
    "3. NOT IN [not in]:\n",
    "    1. Returns TRUE if sequnce with specific value is not presented in object"
   ]
  },
  {
   "cell_type": "code",
   "execution_count": 45,
   "id": "bbe446bf",
   "metadata": {},
   "outputs": [
    {
     "name": "stdout",
     "output_type": "stream",
     "text": [
      "True\n"
     ]
    }
   ],
   "source": [
    "x = ['apple','mango','cherry','watermelon']\n",
    "\n",
    "print(\"cherry\" in x)"
   ]
  },
  {
   "cell_type": "code",
   "execution_count": 46,
   "id": "b26b04c2",
   "metadata": {},
   "outputs": [
    {
     "name": "stdout",
     "output_type": "stream",
     "text": [
      "False\n"
     ]
    }
   ],
   "source": [
    "x = ['apple','mango','cherry','watermelon']\n",
    "\n",
    "print(\"banana\" in x)"
   ]
  },
  {
   "cell_type": "markdown",
   "id": "b589253b",
   "metadata": {},
   "source": [
    "## 2. NOT IN [ not in]"
   ]
  },
  {
   "cell_type": "code",
   "execution_count": 47,
   "id": "2ae035a6",
   "metadata": {},
   "outputs": [
    {
     "name": "stdout",
     "output_type": "stream",
     "text": [
      "True\n"
     ]
    }
   ],
   "source": [
    "x = ['apple','mango','cherry','watermelon']\n",
    "\n",
    "print(\"banana\" not in x)"
   ]
  },
  {
   "cell_type": "code",
   "execution_count": 48,
   "id": "a21f321b",
   "metadata": {},
   "outputs": [
    {
     "name": "stdout",
     "output_type": "stream",
     "text": [
      "False\n"
     ]
    }
   ],
   "source": [
    "x = ['apple','mango','cherry','watermelon', 'banana']\n",
    "\n",
    "print(\"banana\" not in x)"
   ]
  },
  {
   "cell_type": "code",
   "execution_count": 49,
   "id": "886335cb",
   "metadata": {},
   "outputs": [
    {
     "name": "stdout",
     "output_type": "stream",
     "text": [
      "False\n"
     ]
    }
   ],
   "source": [
    "x = ('apple','mango','cherry','watermelon', 'banana')\n",
    "\n",
    "print(\"banana\" not in x)"
   ]
  },
  {
   "cell_type": "code",
   "execution_count": 50,
   "id": "fb8f77d0",
   "metadata": {},
   "outputs": [
    {
     "name": "stdout",
     "output_type": "stream",
     "text": [
      "<class 'tuple'>\n"
     ]
    }
   ],
   "source": [
    "print(type(x))"
   ]
  },
  {
   "cell_type": "markdown",
   "id": "29f00721",
   "metadata": {},
   "source": [
    "# 7. Bitwise Operators:\n",
    "    1. AND [&]\n",
    "    2. OR [|]\n",
    "    3. XOR [^]\n",
    "    4. NOT [~]\n",
    "    5. ZERO FILL LEFT SHIFT [<<]\n",
    "    6. SIGNED RIGHT SHIFT [>>]"
   ]
  },
  {
   "cell_type": "code",
   "execution_count": null,
   "id": "4d00afaa",
   "metadata": {},
   "outputs": [],
   "source": []
  }
 ],
 "metadata": {
  "kernelspec": {
   "display_name": "Python 3",
   "language": "python",
   "name": "python3"
  },
  "language_info": {
   "codemirror_mode": {
    "name": "ipython",
    "version": 3
   },
   "file_extension": ".py",
   "mimetype": "text/x-python",
   "name": "python",
   "nbconvert_exporter": "python",
   "pygments_lexer": "ipython3",
   "version": "3.8.8"
  }
 },
 "nbformat": 4,
 "nbformat_minor": 5
}
