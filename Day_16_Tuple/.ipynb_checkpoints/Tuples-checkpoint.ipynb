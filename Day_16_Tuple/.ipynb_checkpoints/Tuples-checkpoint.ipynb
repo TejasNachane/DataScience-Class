{
 "cells": [
  {
   "cell_type": "markdown",
   "id": "7a0b5477",
   "metadata": {},
   "source": [
    "# Tuple"
   ]
  },
  {
   "cell_type": "markdown",
   "id": "509b7262",
   "metadata": {},
   "source": [
    "1. Tuple are used to store multiple items in a single variable\n",
    "2. Tuple are used to store collection of data\n",
    "3. Tuple is a collection which is ordered and unchangeble\n",
    "4. Tuple are written with round paranthesis\n",
    "5. Tuple use parathesis, whereas list used squre bracket\n",
    "6. Sequnce value of Tuple can be any type and Indexing\n",
    "7. Tuple are created by placing sequence of value separated by comma\n",
    "8. Creation of Python without use of the paranthesis is known as Tuple Packing\n",
    "9. Tuple are used to store Heterogeneous of data but commonly use Homogeneous Data"
   ]
  },
  {
   "cell_type": "markdown",
   "id": "a8b64190",
   "metadata": {},
   "source": [
    "1. Create Tuple:\n",
    "    1. my_tuple = (\"apple\",\"mango\")\n",
    "2. Tuple Item:\n",
    "    1. Tuple items are ordered, unchangeble and allow duplicates\n",
    "    2. Tuple item are indexed, first item has indexed[0], second elements[1]\n",
    "3. Ordered:\n",
    "    1. Tuple are ordered, that means item have a defined ordered that order will not change\n",
    "4. Unchangeble (Immutable):\n",
    "    1. Tuples are unchangeble, that means we cannot change, add or remove items aftere its creation \n",
    "5. Allow Duplicates:\n",
    "    1. Tuple are indexed, tuple can have items with same value\n",
    "6. Tuple Length:\n",
    "    1. How many elements(items) in the tuple\n",
    "7. Creating a Tuple with single Item:\n",
    "    1. my_tuple = (\"apple\",)\n",
    "8. Tuple Item with DataTypes\n",
    "9. Tuple Constructor\n",
    "10. Access Tuple Items:\n",
    "    1. Negative Indexing\n",
    "    2. Positive Indexing\n",
    "    3. Range of Indexing"
   ]
  },
  {
   "cell_type": "markdown",
   "id": "3bafafe1",
   "metadata": {},
   "source": [
    "### 1. Create Tuple"
   ]
  },
  {
   "cell_type": "code",
   "execution_count": 1,
   "id": "00873516",
   "metadata": {},
   "outputs": [
    {
     "name": "stdout",
     "output_type": "stream",
     "text": [
      "apple\n",
      "<class 'str'>\n"
     ]
    }
   ],
   "source": [
    "my_tuple = (\"apple\")\n",
    "print(my_tuple)\n",
    "print(type(my_tuple))"
   ]
  },
  {
   "cell_type": "code",
   "execution_count": 2,
   "id": "da6d80ad",
   "metadata": {},
   "outputs": [
    {
     "name": "stdout",
     "output_type": "stream",
     "text": [
      "('apple',)\n",
      "<class 'tuple'>\n"
     ]
    }
   ],
   "source": [
    "my_tuple = (\"apple\",)\n",
    "print(my_tuple)\n",
    "print(type(my_tuple))"
   ]
  },
  {
   "cell_type": "code",
   "execution_count": 3,
   "id": "f82612d1",
   "metadata": {},
   "outputs": [
    {
     "name": "stdout",
     "output_type": "stream",
     "text": [
      "('apple', 'mango', 'watermelon', 'cherry', 'banana')\n",
      "<class 'tuple'>\n"
     ]
    }
   ],
   "source": [
    "my_tuple = (\"apple\", 'mango','watermelon','cherry','banana')\n",
    "print(my_tuple)\n",
    "print(type(my_tuple))"
   ]
  },
  {
   "cell_type": "markdown",
   "id": "8e182a49",
   "metadata": {},
   "source": [
    "### 2. Tuple Items"
   ]
  },
  {
   "cell_type": "code",
   "execution_count": 12,
   "id": "db2cc285",
   "metadata": {},
   "outputs": [
    {
     "name": "stdout",
     "output_type": "stream",
     "text": [
      "('apple', 'mango', 'cherry', 'watermelon', 'apple')\n"
     ]
    }
   ],
   "source": [
    "my_tuple = (\"apple\",\"mango\",\"cherry\",\"watermelon\",\"apple\")\n",
    "print(my_tuple)"
   ]
  },
  {
   "cell_type": "code",
   "execution_count": 13,
   "id": "6c2ecb6e",
   "metadata": {},
   "outputs": [
    {
     "data": {
      "text/plain": [
       "'apple'"
      ]
     },
     "execution_count": 13,
     "metadata": {},
     "output_type": "execute_result"
    }
   ],
   "source": [
    "my_tuple[0]"
   ]
  },
  {
   "cell_type": "code",
   "execution_count": 14,
   "id": "fa82e711",
   "metadata": {},
   "outputs": [
    {
     "data": {
      "text/plain": [
       "'mango'"
      ]
     },
     "execution_count": 14,
     "metadata": {},
     "output_type": "execute_result"
    }
   ],
   "source": [
    "my_tuple[1]"
   ]
  },
  {
   "cell_type": "code",
   "execution_count": 15,
   "id": "252ff4a5",
   "metadata": {},
   "outputs": [
    {
     "data": {
      "text/plain": [
       "2"
      ]
     },
     "execution_count": 15,
     "metadata": {},
     "output_type": "execute_result"
    }
   ],
   "source": [
    "my_tuple.count(\"apple\")"
   ]
  },
  {
   "cell_type": "markdown",
   "id": "094acc92",
   "metadata": {},
   "source": [
    "### 3. Tuple Length"
   ]
  },
  {
   "cell_type": "code",
   "execution_count": 16,
   "id": "e1bc6d5d",
   "metadata": {},
   "outputs": [
    {
     "name": "stdout",
     "output_type": "stream",
     "text": [
      "('apple', 'mango', 'cherry', 'watermelon', 'blackcurrent')\n"
     ]
    }
   ],
   "source": [
    "my_tuple = (\"apple\",\"mango\",\"cherry\",\"watermelon\",\"blackcurrent\")\n",
    "print(my_tuple)"
   ]
  },
  {
   "cell_type": "code",
   "execution_count": 17,
   "id": "bb3c9857",
   "metadata": {},
   "outputs": [
    {
     "name": "stdout",
     "output_type": "stream",
     "text": [
      "5\n"
     ]
    }
   ],
   "source": [
    "print(len(my_tuple))"
   ]
  },
  {
   "cell_type": "markdown",
   "id": "74bab612",
   "metadata": {},
   "source": [
    "### 4. Tuple with Single Elements(items)"
   ]
  },
  {
   "cell_type": "code",
   "execution_count": 18,
   "id": "275e26cd",
   "metadata": {},
   "outputs": [
    {
     "name": "stdout",
     "output_type": "stream",
     "text": [
      "('apple',)\n",
      "<class 'tuple'>\n"
     ]
    }
   ],
   "source": [
    "my_tuple = (\"apple\",)\n",
    "print(my_tuple)\n",
    "print(type(my_tuple))"
   ]
  },
  {
   "cell_type": "code",
   "execution_count": 19,
   "id": "ce4bd278",
   "metadata": {},
   "outputs": [
    {
     "name": "stdout",
     "output_type": "stream",
     "text": [
      "apple\n",
      "<class 'str'>\n"
     ]
    }
   ],
   "source": [
    "my_tuple = (\"apple\")\n",
    "print(my_tuple)\n",
    "print(type(my_tuple))"
   ]
  },
  {
   "cell_type": "markdown",
   "id": "20f1533a",
   "metadata": {},
   "source": [
    "### 5. Tuple Items - Data Types"
   ]
  },
  {
   "cell_type": "code",
   "execution_count": 20,
   "id": "1c170234",
   "metadata": {},
   "outputs": [],
   "source": [
    "my_tuple1 = (\"apple\",\"mango\",\"cherry\",\"watermelon\",\"blackcurrent\")\n",
    "my_tuple2 = (10,12,14,5,9,60,20)\n",
    "my_tuple3 = (True,False, True, False, False)\n",
    "my_tuple4 = (10.10,25,23,45,12,2.0)"
   ]
  },
  {
   "cell_type": "code",
   "execution_count": 22,
   "id": "6ff01d47",
   "metadata": {},
   "outputs": [
    {
     "name": "stdout",
     "output_type": "stream",
     "text": [
      "('apple', 'mango', 'cherry', 'watermelon', 'blackcurrent')\n",
      "(10, 12, 14, 5, 9, 60, 20)\n",
      "(True, False, True, False, False)\n",
      "(10.1, 25, 23, 45, 12, 2.0)\n"
     ]
    }
   ],
   "source": [
    "print(my_tuple1)\n",
    "print(my_tuple2)\n",
    "print(my_tuple3)\n",
    "print(my_tuple4)"
   ]
  },
  {
   "cell_type": "code",
   "execution_count": 24,
   "id": "c21d13ac",
   "metadata": {},
   "outputs": [
    {
     "name": "stdout",
     "output_type": "stream",
     "text": [
      "<class 'tuple'>\n",
      "<class 'tuple'>\n",
      "<class 'tuple'>\n",
      "<class 'tuple'>\n"
     ]
    }
   ],
   "source": [
    "print(type(my_tuple1))\n",
    "print(type(my_tuple2))\n",
    "print(type(my_tuple3))\n",
    "print(type(my_tuple4))"
   ]
  },
  {
   "cell_type": "code",
   "execution_count": 27,
   "id": "07bf4388",
   "metadata": {},
   "outputs": [],
   "source": [
    "my_tuple = ('apple', 'mango', 10, 12, 14, True, False, False, 20,'cherry', 'watermelon',10.1, 25, 12, 2.0, 'blackcurrent')"
   ]
  },
  {
   "cell_type": "code",
   "execution_count": 28,
   "id": "64369f11",
   "metadata": {},
   "outputs": [
    {
     "name": "stdout",
     "output_type": "stream",
     "text": [
      "('apple', 'mango', 10, 12, 14, True, False, False, 20, 'cherry', 'watermelon', 10.1, 25, 12, 2.0, 'blackcurrent')\n",
      "<class 'tuple'>\n"
     ]
    }
   ],
   "source": [
    "print(my_tuple)\n",
    "print(type(my_tuple))"
   ]
  },
  {
   "cell_type": "markdown",
   "id": "88e9be1f",
   "metadata": {},
   "source": [
    "## 6. Access Elements - Indexing"
   ]
  },
  {
   "cell_type": "markdown",
   "id": "69967b6f",
   "metadata": {},
   "source": [
    "**1. Positive Indexing**"
   ]
  },
  {
   "cell_type": "code",
   "execution_count": 29,
   "id": "d44750b7",
   "metadata": {},
   "outputs": [],
   "source": [
    "my_tuple1 = (\"apple\",\"mango\",\"cherry\",\"watermelon\",\"blackcurrent\")"
   ]
  },
  {
   "cell_type": "code",
   "execution_count": 30,
   "id": "d8e017b0",
   "metadata": {},
   "outputs": [
    {
     "data": {
      "text/plain": [
       "'watermelon'"
      ]
     },
     "execution_count": 30,
     "metadata": {},
     "output_type": "execute_result"
    }
   ],
   "source": [
    "my_tuple1[3]"
   ]
  },
  {
   "cell_type": "code",
   "execution_count": 31,
   "id": "81b32b89",
   "metadata": {},
   "outputs": [
    {
     "data": {
      "text/plain": [
       "'apple'"
      ]
     },
     "execution_count": 31,
     "metadata": {},
     "output_type": "execute_result"
    }
   ],
   "source": [
    "my_tuple1[0]"
   ]
  },
  {
   "cell_type": "markdown",
   "id": "1006faa0",
   "metadata": {},
   "source": [
    "**2. Negative Indexing**"
   ]
  },
  {
   "cell_type": "code",
   "execution_count": 32,
   "id": "7e21b629",
   "metadata": {},
   "outputs": [],
   "source": [
    "my_tuple1 = (\"apple\",\"mango\",\"cherry\",\"watermelon\",\"blackcurrent\")"
   ]
  },
  {
   "cell_type": "code",
   "execution_count": 33,
   "id": "32c78ca5",
   "metadata": {},
   "outputs": [
    {
     "data": {
      "text/plain": [
       "'blackcurrent'"
      ]
     },
     "execution_count": 33,
     "metadata": {},
     "output_type": "execute_result"
    }
   ],
   "source": [
    "my_tuple1[-1]"
   ]
  },
  {
   "cell_type": "code",
   "execution_count": 34,
   "id": "2a7b4caf",
   "metadata": {},
   "outputs": [
    {
     "data": {
      "text/plain": [
       "'apple'"
      ]
     },
     "execution_count": 34,
     "metadata": {},
     "output_type": "execute_result"
    }
   ],
   "source": [
    "my_tuple1[-5]"
   ]
  },
  {
   "cell_type": "markdown",
   "id": "2865e4df",
   "metadata": {},
   "source": [
    "### 3. Range of Indexing"
   ]
  },
  {
   "cell_type": "markdown",
   "id": "bf3f08f5",
   "metadata": {},
   "source": [
    "#### 1. Positive Range of Indexing"
   ]
  },
  {
   "cell_type": "code",
   "execution_count": 35,
   "id": "96012c01",
   "metadata": {},
   "outputs": [],
   "source": [
    "my_tuple1 = (\"apple\",\"mango\",\"cherry\",\"watermelon\",\"blackcurrent\")"
   ]
  },
  {
   "cell_type": "code",
   "execution_count": 36,
   "id": "57664fa0",
   "metadata": {},
   "outputs": [],
   "source": [
    "# syntax [start index : end index]"
   ]
  },
  {
   "cell_type": "code",
   "execution_count": 37,
   "id": "850123e3",
   "metadata": {},
   "outputs": [
    {
     "data": {
      "text/plain": [
       "('apple', 'mango', 'cherry', 'watermelon', 'blackcurrent')"
      ]
     },
     "execution_count": 37,
     "metadata": {},
     "output_type": "execute_result"
    }
   ],
   "source": [
    "my_tuple1[:]"
   ]
  },
  {
   "cell_type": "code",
   "execution_count": 38,
   "id": "88ca2d6c",
   "metadata": {},
   "outputs": [
    {
     "data": {
      "text/plain": [
       "('cherry', 'watermelon', 'blackcurrent')"
      ]
     },
     "execution_count": 38,
     "metadata": {},
     "output_type": "execute_result"
    }
   ],
   "source": [
    "my_tuple1[2:]"
   ]
  },
  {
   "cell_type": "code",
   "execution_count": 40,
   "id": "da14e02b",
   "metadata": {},
   "outputs": [
    {
     "data": {
      "text/plain": [
       "('apple', 'mango', 'cherry')"
      ]
     },
     "execution_count": 40,
     "metadata": {},
     "output_type": "execute_result"
    }
   ],
   "source": [
    "my_tuple1[:3]"
   ]
  },
  {
   "cell_type": "markdown",
   "id": "b2286fed",
   "metadata": {},
   "source": [
    "**2. Negative Range of Indexing**"
   ]
  },
  {
   "cell_type": "code",
   "execution_count": 41,
   "id": "d69ba563",
   "metadata": {},
   "outputs": [],
   "source": [
    "my_tuple1 = (\"apple\",\"mango\",\"cherry\",\"watermelon\",\"blackcurrent\")"
   ]
  },
  {
   "cell_type": "code",
   "execution_count": 43,
   "id": "4e175174",
   "metadata": {},
   "outputs": [
    {
     "data": {
      "text/plain": [
       "('apple', 'mango', 'cherry', 'watermelon', 'blackcurrent')"
      ]
     },
     "execution_count": 43,
     "metadata": {},
     "output_type": "execute_result"
    }
   ],
   "source": [
    "my_tuple1[:]"
   ]
  },
  {
   "cell_type": "code",
   "execution_count": 44,
   "id": "733dbf95",
   "metadata": {},
   "outputs": [
    {
     "data": {
      "text/plain": [
       "('apple', 'mango', 'cherry', 'watermelon')"
      ]
     },
     "execution_count": 44,
     "metadata": {},
     "output_type": "execute_result"
    }
   ],
   "source": [
    "my_tuple1[:-1]"
   ]
  },
  {
   "cell_type": "code",
   "execution_count": 46,
   "id": "bba3b419",
   "metadata": {},
   "outputs": [
    {
     "data": {
      "text/plain": [
       "('mango', 'cherry', 'watermelon')"
      ]
     },
     "execution_count": 46,
     "metadata": {},
     "output_type": "execute_result"
    }
   ],
   "source": [
    "my_tuple1[-4:-1]"
   ]
  },
  {
   "cell_type": "code",
   "execution_count": 50,
   "id": "93aab4bb",
   "metadata": {},
   "outputs": [
    {
     "name": "stdout",
     "output_type": "stream",
     "text": [
      "Yes Available\n"
     ]
    }
   ],
   "source": [
    "my_tuple1 = (\"apple\",\"mango\",\"cherry\",\"watermelon\",\"blackcurrent\")\n",
    "\n",
    "if \"apple\" in my_tuple1:\n",
    "    print(\"Yes Available\")\n",
    "else:\n",
    "    print(\"Not Available\")"
   ]
  },
  {
   "cell_type": "markdown",
   "id": "890a141f",
   "metadata": {},
   "source": [
    "# Tuple Updates "
   ]
  },
  {
   "cell_type": "code",
   "execution_count": 51,
   "id": "ce7141ca",
   "metadata": {},
   "outputs": [],
   "source": [
    "my_tuple1 = (\"apple\",\"mango\",\"cherry\",\"watermelon\",\"blackcurrent\")"
   ]
  },
  {
   "cell_type": "code",
   "execution_count": 52,
   "id": "1ec70de0",
   "metadata": {},
   "outputs": [
    {
     "ename": "TypeError",
     "evalue": "'tuple' object does not support item assignment",
     "output_type": "error",
     "traceback": [
      "\u001b[1;31m---------------------------------------------------------------------------\u001b[0m",
      "\u001b[1;31mTypeError\u001b[0m                                 Traceback (most recent call last)",
      "\u001b[1;32m<ipython-input-52-89d7ef7e26bd>\u001b[0m in \u001b[0;36m<module>\u001b[1;34m\u001b[0m\n\u001b[1;32m----> 1\u001b[1;33m \u001b[0mmy_tuple1\u001b[0m\u001b[1;33m[\u001b[0m\u001b[1;36m1\u001b[0m\u001b[1;33m]\u001b[0m \u001b[1;33m=\u001b[0m \u001b[1;34m\"papaya\"\u001b[0m\u001b[1;33m\u001b[0m\u001b[1;33m\u001b[0m\u001b[0m\n\u001b[0m",
      "\u001b[1;31mTypeError\u001b[0m: 'tuple' object does not support item assignment"
     ]
    }
   ],
   "source": [
    "my_tuple1[1] = \"papaya\""
   ]
  },
  {
   "cell_type": "code",
   "execution_count": 53,
   "id": "7430477b",
   "metadata": {},
   "outputs": [],
   "source": [
    "my_tuple1 = (\"apple\",\"mango\",\"cherry\",\"watermelon\",\"blackcurrent\")\n",
    "\n",
    "my_list = list(my_tuple1)"
   ]
  },
  {
   "cell_type": "code",
   "execution_count": 54,
   "id": "0700ccc5",
   "metadata": {},
   "outputs": [
    {
     "name": "stdout",
     "output_type": "stream",
     "text": [
      "('apple', 'mango', 'cherry', 'watermelon', 'blackcurrent')\n",
      "<class 'tuple'>\n"
     ]
    }
   ],
   "source": [
    "print(my_tuple1)\n",
    "print(type(my_tuple1))"
   ]
  },
  {
   "cell_type": "code",
   "execution_count": 55,
   "id": "2ce133e1",
   "metadata": {},
   "outputs": [
    {
     "name": "stdout",
     "output_type": "stream",
     "text": [
      "['apple', 'mango', 'cherry', 'watermelon', 'blackcurrent']\n",
      "<class 'list'>\n"
     ]
    }
   ],
   "source": [
    "print(my_list)\n",
    "print(type(my_list))"
   ]
  },
  {
   "cell_type": "code",
   "execution_count": 56,
   "id": "8c9e484e",
   "metadata": {},
   "outputs": [],
   "source": [
    "my_tuple1 = (\"apple\",\"mango\",\"cherry\",\"watermelon\",\"blackcurrent\")\n",
    "\n",
    "my_list = list(my_tuple1)\n",
    "\n",
    "my_list[1] = \"kiwi\"\n",
    "my_tuple1 = tuple(my_list)"
   ]
  },
  {
   "cell_type": "code",
   "execution_count": 57,
   "id": "99443d49",
   "metadata": {},
   "outputs": [
    {
     "name": "stdout",
     "output_type": "stream",
     "text": [
      "('apple', 'kiwi', 'cherry', 'watermelon', 'blackcurrent')\n"
     ]
    }
   ],
   "source": [
    "print(my_tuple1)"
   ]
  },
  {
   "cell_type": "markdown",
   "id": "33666c91",
   "metadata": {},
   "source": [
    "#### Convert Tuple into a list "
   ]
  },
  {
   "cell_type": "code",
   "execution_count": 62,
   "id": "c0e6315e",
   "metadata": {},
   "outputs": [
    {
     "name": "stdout",
     "output_type": "stream",
     "text": [
      "<class 'list'>\n",
      "['apple', 'mango', 'cherry', 'watermelon', 'blackcurrent']\n",
      "['apple', 'Papaya', 'cherry', 'watermelon', 'blackcurrent']\n",
      "('apple', 'Papaya', 'cherry', 'watermelon', 'blackcurrent')\n"
     ]
    }
   ],
   "source": [
    "my_tuple1 = (\"apple\",\"mango\",\"cherry\",\"watermelon\",\"blackcurrent\")\n",
    "# print(type(my_tuple1))\n",
    "\n",
    "y = list(my_tuple1)\n",
    "print(type(y))\n",
    "print(y)\n",
    "\n",
    "y[1] = \"Papaya\"\n",
    "print(y)\n",
    "\n",
    "my_tuple1 = tuple(y)\n",
    "print(my_tuple1)"
   ]
  },
  {
   "cell_type": "code",
   "execution_count": 64,
   "id": "bafa8c69",
   "metadata": {},
   "outputs": [
    {
     "name": "stdout",
     "output_type": "stream",
     "text": [
      "<class 'tuple'>\n"
     ]
    }
   ],
   "source": [
    "x = (\"apple\",\"mango\",\"cherry\",\"watermelon\",\"blackcurrent\")\n",
    "print(type(x))"
   ]
  },
  {
   "cell_type": "code",
   "execution_count": 66,
   "id": "ed32282a",
   "metadata": {},
   "outputs": [
    {
     "name": "stdout",
     "output_type": "stream",
     "text": [
      "<class 'list'>\n"
     ]
    }
   ],
   "source": [
    "y = list(x)\n",
    "print(type(y))"
   ]
  },
  {
   "cell_type": "code",
   "execution_count": 67,
   "id": "492df802",
   "metadata": {},
   "outputs": [],
   "source": [
    "y[0] = \"orange\""
   ]
  },
  {
   "cell_type": "code",
   "execution_count": 69,
   "id": "904e1edd",
   "metadata": {},
   "outputs": [
    {
     "name": "stdout",
     "output_type": "stream",
     "text": [
      "['orange', 'mango', 'cherry', 'watermelon', 'blackcurrent']\n",
      "('apple', 'mango', 'cherry', 'watermelon', 'blackcurrent')\n"
     ]
    }
   ],
   "source": [
    "print(y)\n",
    "print(x)"
   ]
  },
  {
   "cell_type": "code",
   "execution_count": 70,
   "id": "41b13fb9",
   "metadata": {},
   "outputs": [],
   "source": [
    "x = tuple(y)"
   ]
  },
  {
   "cell_type": "code",
   "execution_count": 71,
   "id": "fbbce296",
   "metadata": {},
   "outputs": [
    {
     "name": "stdout",
     "output_type": "stream",
     "text": [
      "('orange', 'mango', 'cherry', 'watermelon', 'blackcurrent')\n"
     ]
    }
   ],
   "source": [
    "print(x)"
   ]
  },
  {
   "cell_type": "code",
   "execution_count": 72,
   "id": "e3cabaa3",
   "metadata": {},
   "outputs": [
    {
     "name": "stdout",
     "output_type": "stream",
     "text": [
      "<class 'tuple'>\n"
     ]
    }
   ],
   "source": [
    "print(type(x))"
   ]
  },
  {
   "cell_type": "code",
   "execution_count": null,
   "id": "e5b2fd1d",
   "metadata": {},
   "outputs": [],
   "source": []
  }
 ],
 "metadata": {
  "kernelspec": {
   "display_name": "Python 3",
   "language": "python",
   "name": "python3"
  },
  "language_info": {
   "codemirror_mode": {
    "name": "ipython",
    "version": 3
   },
   "file_extension": ".py",
   "mimetype": "text/x-python",
   "name": "python",
   "nbconvert_exporter": "python",
   "pygments_lexer": "ipython3",
   "version": "3.8.8"
  }
 },
 "nbformat": 4,
 "nbformat_minor": 5
}
