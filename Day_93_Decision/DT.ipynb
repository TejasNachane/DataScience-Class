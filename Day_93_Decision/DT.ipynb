{
 "cells": [
  {
   "cell_type": "markdown",
   "metadata": {},
   "source": [
    "# Decision Tree"
   ]
  },
  {
   "cell_type": "markdown",
   "metadata": {},
   "source": [
    "## 1. Why?\n",
    "1. Decision Tree is considered to a one of most useful algorithm in Machine Learning\n",
    "2. Decision Tree can solved variety of Problems:\n",
    "3. It is considered as most understandble algorithm\n",
    "4. It is easily interpreted\n",
    "5. It can be used both Classification and Regression Problems\n",
    "6. Unlike most Machine Learning algorithm it efficiently work on non-linear data\n",
    "7. Constructing a Decision Tree is very quick process\n",
    "8. It uses only the one feature per node to split of the data"
   ]
  },
  {
   "cell_type": "markdown",
   "metadata": {},
   "source": [
    "## 2. What is Decision Tree?\n",
    "1. Decision Tree family of Supervised Machine Learning algorihtm\n",
    "2. It can be used for both classification and Regression\n",
    "3. Goal of Decision Tree is to create mdoel that predict the value of variable\n",
    "4. Decision tree used tree representation to solve problem in which leaf node to class"
   ]
  },
  {
   "cell_type": "markdown",
   "metadata": {},
   "source": [
    "### Defination:\n",
    "A Decision Tree is supervised machine learning algorithm whcih looks like an inverted tree, wherein each node representation a predictor variable(feature), link between the node represents the Decision\n",
    "Each leaf node represent the outcome (response Variable)"
   ]
  },
  {
   "cell_type": "markdown",
   "metadata": {},
   "source": [
    "#### Example"
   ]
  },
  {
   "cell_type": "raw",
   "metadata": {},
   "source": [
    "                    Did the guest person eat (chicken?)\n",
    "    \n",
    "     yes[Non-Veg]               No[Did the guest eat mutton ?]\n",
    "        \n",
    "                             \n",
    "                               yes[Non-Veg]            No[Did the guest eat sea food?]\n",
    "                \n",
    "                \n",
    "                                                          yes[Non-Veg]           No[Veg]"
   ]
  },
  {
   "cell_type": "markdown",
   "metadata": {},
   "source": [
    "### Decision Tree has following Structure:"
   ]
  },
  {
   "cell_type": "markdown",
   "metadata": {},
   "source": [
    "1. Root Node:\n",
    "    1. Starting Point of Tree\n",
    "    2. First split performed on this node\n",
    "2. Internal Node:\n",
    "    1. Each internal node represent the Decision point(predictor variable )\n",
    "3. Leaf /Termianal Nodes:\n",
    "    1. Leaf node represents the final class of outcome Tree\n",
    "    2. Leaf node also called as Termianl node\n",
    "4. Branches:\n",
    "    1. Brances are connection of between nodes, represents using arrow\n",
    "    2. Each branch represents the response such as [0] or No"
   ]
  },
  {
   "cell_type": "markdown",
   "metadata": {},
   "source": [
    "### How Decision Tree will Work?"
   ]
  },
  {
   "cell_type": "markdown",
   "metadata": {},
   "source": [
    "1. Decision treee algorithm used three different steps:\n",
    "    1. Step 1:\n",
    "        1. Select Features(predictor variable) that best classifies data into disired class\n",
    "        2. Assign all features to the Root Node\n",
    "    2. Step 2:\n",
    "        1. Traverse down the Root Node, making relevant decision of each internal node\n",
    "        2. Each internal node best classifies data\n",
    "    3. Step 3:\n",
    "        1. Repeat step 1 \n",
    "        2. untill you Assign all a class to the input data "
   ]
  },
  {
   "cell_type": "markdown",
   "metadata": {},
   "source": [
    "### Assumption that we make while using Decision Tree?\n",
    "1. In the Decision tree , we consider all the dataset as Root\n",
    "2. Feature values are prefered to be categorical, if the value continue then convert it into descrete variable before building model\n",
    "3. Based on attributes values records are distributed recursively\n",
    "4. We use statastical method for ordering attributes as Root Node or Internal Node"
   ]
  },
  {
   "cell_type": "markdown",
   "metadata": {},
   "source": [
    "### On the basis of Multiple algorithms Decision Tree Performs:\n",
    "1. Logistic Regression 75%\n",
    "2. Naive Bayes 70%\n",
    "\n",
    "3. KNN 75%\n",
    "4. Decision 80 %"
   ]
  },
  {
   "cell_type": "markdown",
   "metadata": {},
   "source": [
    "### Build a Decision Tree:"
   ]
  },
  {
   "cell_type": "markdown",
   "metadata": {},
   "source": [
    "1. There are different ways to build a Decision Tree"
   ]
  },
  {
   "cell_type": "markdown",
   "metadata": {},
   "source": [
    "**1. ID3**\n"
   ]
  },
  {
   "cell_type": "markdown",
   "metadata": {},
   "source": [
    "**2. CART**"
   ]
  },
  {
   "cell_type": "markdown",
   "metadata": {},
   "source": [
    "### 1. ID3\n",
    "1. ID3 or Itrative Dichotomiser 3 algorithm is one of the most effective algorithm to build a Decision Tree\n",
    "2. ID3 uses the concept to build Decision Tree are:\n",
    "    3. Entropy\n",
    "    4. Information Gain"
   ]
  },
  {
   "cell_type": "markdown",
   "metadata": {},
   "source": [
    "### 1. ID3 algorithm follows the workflow to build a decision tree:\n",
    "1. Select Best Attributes (A)\n",
    "2. Assign A as a decision variable for the Root Node\n",
    "3. For each value of A, build descendant of the node\n",
    "4. Assign Classification lables to the leaf Node\n",
    "5. If data Classify correctly then [Stop]\n",
    "6. Else - Itrate over the tree"
   ]
  },
  {
   "cell_type": "markdown",
   "metadata": {},
   "source": [
    "![](https://media.geeksforgeeks.org/wp-content/cdn-uploads/Decision_Tree-2.png)"
   ]
  },
  {
   "cell_type": "code",
   "execution_count": null,
   "metadata": {},
   "outputs": [],
   "source": []
  }
 ],
 "metadata": {
  "kernelspec": {
   "display_name": "Python 3",
   "language": "python",
   "name": "python3"
  },
  "language_info": {
   "codemirror_mode": {
    "name": "ipython",
    "version": 3
   },
   "file_extension": ".py",
   "mimetype": "text/x-python",
   "name": "python",
   "nbconvert_exporter": "python",
   "pygments_lexer": "ipython3",
   "version": "3.8.5"
  }
 },
 "nbformat": 4,
 "nbformat_minor": 5
}
