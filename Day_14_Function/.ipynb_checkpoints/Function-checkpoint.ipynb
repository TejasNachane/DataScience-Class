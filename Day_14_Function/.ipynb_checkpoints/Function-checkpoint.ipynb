{
 "cells": [
  {
   "cell_type": "markdown",
   "id": "2ec3b160",
   "metadata": {},
   "source": [
    "# Python Function"
   ]
  },
  {
   "cell_type": "markdown",
   "id": "f480eecd",
   "metadata": {},
   "source": [
    "1. Function is a block of code which only runs when it is called\n",
    "2. You can pass data are called as Parameters into a function\n",
    "3. A function can return data as result\n",
    "4. Function is defined using [def] keyword\n",
    "5. 1. Exmple - def Function_Name()\n",
    "6. To call a function use the function name"
   ]
  },
  {
   "cell_type": "markdown",
   "id": "2eb8cfa4",
   "metadata": {},
   "source": [
    "**1. Create Function**"
   ]
  },
  {
   "cell_type": "code",
   "execution_count": 1,
   "id": "c90ba53f",
   "metadata": {},
   "outputs": [],
   "source": [
    "def myFunct():\n",
    "    print(\"Hello World..!!\")"
   ]
  },
  {
   "cell_type": "markdown",
   "id": "dd6dbfa9",
   "metadata": {},
   "source": [
    "**2. Calling Function**"
   ]
  },
  {
   "cell_type": "code",
   "execution_count": 2,
   "id": "7f820dc0",
   "metadata": {},
   "outputs": [
    {
     "name": "stdout",
     "output_type": "stream",
     "text": [
      "Hello World..!!\n"
     ]
    }
   ],
   "source": [
    "def myFunct():\n",
    "    print(\"Hello World..!!\")\n",
    "    \n",
    "myFunct()"
   ]
  },
  {
   "cell_type": "markdown",
   "id": "6efa29d2",
   "metadata": {},
   "source": [
    "**Arguments as Function**"
   ]
  },
  {
   "cell_type": "code",
   "execution_count": 4,
   "id": "815370c0",
   "metadata": {},
   "outputs": [
    {
     "name": "stdout",
     "output_type": "stream",
     "text": [
      "Shyam Ambilkar, Welcome to Data Science class \n"
     ]
    }
   ],
   "source": [
    "def myFunct(fname):\n",
    "    print(fname +\" \"+ \"Ambilkar, Welcome to Data Science class \")\n",
    "    \n",
    "myFunct(\"Shyam\")"
   ]
  },
  {
   "cell_type": "code",
   "execution_count": 5,
   "id": "6d28f43d",
   "metadata": {},
   "outputs": [
    {
     "name": "stdout",
     "output_type": "stream",
     "text": [
      "Shyam Ambilkar Welcome to Data Science class \n"
     ]
    }
   ],
   "source": [
    "def myFunct(fname, lname):\n",
    "    print(fname, lname +\" \"+ \"Welcome to Data Science class \")\n",
    "    \n",
    "myFunct(\"Shyam\",\"Ambilkar\")"
   ]
  },
  {
   "cell_type": "code",
   "execution_count": 6,
   "id": "bec94077",
   "metadata": {},
   "outputs": [
    {
     "ename": "TypeError",
     "evalue": "myFunct() missing 1 required positional argument: 'lname'",
     "output_type": "error",
     "traceback": [
      "\u001b[1;31m---------------------------------------------------------------------------\u001b[0m",
      "\u001b[1;31mTypeError\u001b[0m                                 Traceback (most recent call last)",
      "\u001b[1;32m<ipython-input-6-72824060b03e>\u001b[0m in \u001b[0;36m<module>\u001b[1;34m\u001b[0m\n\u001b[0;32m      2\u001b[0m     \u001b[0mprint\u001b[0m\u001b[1;33m(\u001b[0m\u001b[0mfname\u001b[0m\u001b[1;33m,\u001b[0m \u001b[0mlname\u001b[0m \u001b[1;33m+\u001b[0m\u001b[1;34m\" \"\u001b[0m\u001b[1;33m+\u001b[0m \u001b[1;34m\"Welcome to Data Science class \"\u001b[0m\u001b[1;33m)\u001b[0m\u001b[1;33m\u001b[0m\u001b[1;33m\u001b[0m\u001b[0m\n\u001b[0;32m      3\u001b[0m \u001b[1;33m\u001b[0m\u001b[0m\n\u001b[1;32m----> 4\u001b[1;33m \u001b[0mmyFunct\u001b[0m\u001b[1;33m(\u001b[0m\u001b[1;34m\"Shyam\"\u001b[0m\u001b[1;33m)\u001b[0m\u001b[1;33m\u001b[0m\u001b[1;33m\u001b[0m\u001b[0m\n\u001b[0m",
      "\u001b[1;31mTypeError\u001b[0m: myFunct() missing 1 required positional argument: 'lname'"
     ]
    }
   ],
   "source": [
    "def myFunct(fname, lname):\n",
    "    print(fname, lname +\" \"+ \"Welcome to Data Science class \")\n",
    "    \n",
    "myFunct(\"Shyam\")"
   ]
  },
  {
   "cell_type": "markdown",
   "id": "53789aaf",
   "metadata": {},
   "source": [
    "## Parameter as Arguments:\n",
    "    1. Number of Arguments \n",
    "    2. *Arguments [*args]\n",
    "    3. Keyword Arguments [**kwargs]"
   ]
  },
  {
   "cell_type": "markdown",
   "id": "d7fe49d5",
   "metadata": {},
   "source": [
    "### 1. Number of Arguments"
   ]
  },
  {
   "cell_type": "code",
   "execution_count": 7,
   "id": "acfd2971",
   "metadata": {},
   "outputs": [
    {
     "name": "stdout",
     "output_type": "stream",
     "text": [
      "Pyhton DataScience\n"
     ]
    }
   ],
   "source": [
    "def my_function(fname,lname):\n",
    "    print(fname + \" \" + lname)\n",
    "    \n",
    "my_function(\"Pyhton\", \"DataScience\")"
   ]
  },
  {
   "cell_type": "code",
   "execution_count": 8,
   "id": "ea29f5a2",
   "metadata": {},
   "outputs": [
    {
     "ename": "TypeError",
     "evalue": "myFunct() missing 1 required positional argument: 'lname'",
     "output_type": "error",
     "traceback": [
      "\u001b[1;31m---------------------------------------------------------------------------\u001b[0m",
      "\u001b[1;31mTypeError\u001b[0m                                 Traceback (most recent call last)",
      "\u001b[1;32m<ipython-input-8-72824060b03e>\u001b[0m in \u001b[0;36m<module>\u001b[1;34m\u001b[0m\n\u001b[0;32m      2\u001b[0m     \u001b[0mprint\u001b[0m\u001b[1;33m(\u001b[0m\u001b[0mfname\u001b[0m\u001b[1;33m,\u001b[0m \u001b[0mlname\u001b[0m \u001b[1;33m+\u001b[0m\u001b[1;34m\" \"\u001b[0m\u001b[1;33m+\u001b[0m \u001b[1;34m\"Welcome to Data Science class \"\u001b[0m\u001b[1;33m)\u001b[0m\u001b[1;33m\u001b[0m\u001b[1;33m\u001b[0m\u001b[0m\n\u001b[0;32m      3\u001b[0m \u001b[1;33m\u001b[0m\u001b[0m\n\u001b[1;32m----> 4\u001b[1;33m \u001b[0mmyFunct\u001b[0m\u001b[1;33m(\u001b[0m\u001b[1;34m\"Shyam\"\u001b[0m\u001b[1;33m)\u001b[0m\u001b[1;33m\u001b[0m\u001b[1;33m\u001b[0m\u001b[0m\n\u001b[0m",
      "\u001b[1;31mTypeError\u001b[0m: myFunct() missing 1 required positional argument: 'lname'"
     ]
    }
   ],
   "source": [
    "def myFunct(fname, lname):\n",
    "    print(fname, lname +\" \"+ \"Welcome to Data Science class \")\n",
    "    \n",
    "myFunct(\"Shyam\")"
   ]
  },
  {
   "cell_type": "markdown",
   "id": "2d670150",
   "metadata": {},
   "source": [
    "### 2. Arbitary Arguments [*args]"
   ]
  },
  {
   "cell_type": "code",
   "execution_count": 9,
   "id": "071af402",
   "metadata": {},
   "outputs": [
    {
     "name": "stdout",
     "output_type": "stream",
     "text": [
      "First Student in class are:  Shyam\n"
     ]
    }
   ],
   "source": [
    "def my_function(stud_name):\n",
    "    print(\"First Student in class are: \", stud_name)\n",
    "    \n",
    "my_function(\"Shyam\")"
   ]
  },
  {
   "cell_type": "code",
   "execution_count": 11,
   "id": "3484d909",
   "metadata": {},
   "outputs": [
    {
     "name": "stdout",
     "output_type": "stream",
     "text": [
      "First Student in class are:  ('Shyam', 'Pooja', 'Rohen')\n"
     ]
    }
   ],
   "source": [
    "def my_function(*stud_name):\n",
    "    print(\"First Student in class are: \", stud_name)\n",
    "    \n",
    "my_function(\"Shyam\",\"Pooja\",\"Rohen\")"
   ]
  },
  {
   "cell_type": "code",
   "execution_count": 13,
   "id": "fc06303e",
   "metadata": {},
   "outputs": [
    {
     "name": "stdout",
     "output_type": "stream",
     "text": [
      "First Student in class are:  Shyam\n",
      "First Student in class are:  Pooja\n",
      "First Student in class are:  Rohen\n"
     ]
    }
   ],
   "source": [
    "def my_function(*stud_name):\n",
    "    print(\"First Student in class are: \", stud_name[0])\n",
    "    print(\"First Student in class are: \", stud_name[1])\n",
    "    print(\"First Student in class are: \", stud_name[2])\n",
    "    \n",
    "my_function(\"Shyam\",\"Pooja\",\"Rohen\")"
   ]
  },
  {
   "cell_type": "markdown",
   "id": "2fd47528",
   "metadata": {},
   "source": [
    "### 3. Keyword Arguments [key = value]"
   ]
  },
  {
   "cell_type": "markdown",
   "id": "dc0af772",
   "metadata": {},
   "source": [
    "#### 1. Keyword Arguments"
   ]
  },
  {
   "cell_type": "code",
   "execution_count": 14,
   "id": "06dc1bbf",
   "metadata": {},
   "outputs": [
    {
     "name": "stdout",
     "output_type": "stream",
     "text": [
      "First Student in class are:Shyam\n"
     ]
    }
   ],
   "source": [
    "def hello_Function(stud_1, stud_2, stud_3):\n",
    "    print(\"First Student in class are:\"+ stud_1)\n",
    "\n",
    "hello_Function(\"Shyam\",\"Sakshi\",\"Mayur\")"
   ]
  },
  {
   "cell_type": "code",
   "execution_count": 16,
   "id": "3c6511d6",
   "metadata": {},
   "outputs": [
    {
     "name": "stdout",
     "output_type": "stream",
     "text": [
      "First Student in class are:Shyam\n"
     ]
    }
   ],
   "source": [
    "def hello_Function(stud_1, stud_2, stud_3):\n",
    "    print(\"First Student in class are:\"+ stud_1)\n",
    "\n",
    "hello_Function(stud_1 = \"Shyam\",stud_2= \"Sakshi\",stud_3=\"Mayur\")"
   ]
  },
  {
   "cell_type": "code",
   "execution_count": 17,
   "id": "d1c3cc2b",
   "metadata": {},
   "outputs": [
    {
     "ename": "SyntaxError",
     "evalue": "keyword argument repeated (<ipython-input-17-a7f6350393d3>, line 4)",
     "output_type": "error",
     "traceback": [
      "\u001b[1;36m  File \u001b[1;32m\"<ipython-input-17-a7f6350393d3>\"\u001b[1;36m, line \u001b[1;32m4\u001b[0m\n\u001b[1;33m    hello_Function(stud_1 = \"Shyam\",stud_2= \"Sakshi\",stud_3=\"Mayur\",stud_1 = \"Rahul\")\u001b[0m\n\u001b[1;37m                                                                    ^\u001b[0m\n\u001b[1;31mSyntaxError\u001b[0m\u001b[1;31m:\u001b[0m keyword argument repeated\n"
     ]
    }
   ],
   "source": [
    "def hello_Function(stud_1, stud_2, stud_3, stud_1):\n",
    "    print(\"First Student in class are:\"+ stud_1)\n",
    "\n",
    "hello_Function(stud_1 = \"Shyam\",stud_2= \"Sakshi\",stud_3=\"Mayur\",stud_1 = \"Rahul\")"
   ]
  },
  {
   "cell_type": "markdown",
   "id": "31708b3e",
   "metadata": {},
   "source": [
    "#### Arbitary Keywords Arguments [**kwargs]"
   ]
  },
  {
   "cell_type": "code",
   "execution_count": 20,
   "id": "0394982b",
   "metadata": {},
   "outputs": [
    {
     "name": "stdout",
     "output_type": "stream",
     "text": [
      "First Student in class are:Shyam\n",
      "Second Student in class are:Rahul\n"
     ]
    }
   ],
   "source": [
    "def my_function(**stud):\n",
    "    print(\"First Student in class are:\"+ stud['stud_1'])\n",
    "    print(\"Second Student in class are:\"+ stud['stud_4'])\n",
    "    \n",
    "my_function(stud_1 = \"Shyam\",stud_2= \"Sakshi\",stud_3=\"Mayur\",stud_4 = \"Rahul\")   "
   ]
  },
  {
   "cell_type": "markdown",
   "id": "fb9ae2d1",
   "metadata": {},
   "source": [
    "# Default Parameters"
   ]
  },
  {
   "cell_type": "code",
   "execution_count": 22,
   "id": "0064aa92",
   "metadata": {},
   "outputs": [
    {
     "name": "stdout",
     "output_type": "stream",
     "text": [
      "I am From Maharashtra\n"
     ]
    },
    {
     "ename": "TypeError",
     "evalue": "my_function() missing 1 required positional argument: 'state'",
     "output_type": "error",
     "traceback": [
      "\u001b[1;31m---------------------------------------------------------------------------\u001b[0m",
      "\u001b[1;31mTypeError\u001b[0m                                 Traceback (most recent call last)",
      "\u001b[1;32m<ipython-input-22-3a36bbc9133c>\u001b[0m in \u001b[0;36m<module>\u001b[1;34m\u001b[0m\n\u001b[0;32m      3\u001b[0m \u001b[1;33m\u001b[0m\u001b[0m\n\u001b[0;32m      4\u001b[0m \u001b[0mmy_function\u001b[0m\u001b[1;33m(\u001b[0m\u001b[1;34m\"Maharashtra\"\u001b[0m\u001b[1;33m)\u001b[0m\u001b[1;33m\u001b[0m\u001b[1;33m\u001b[0m\u001b[0m\n\u001b[1;32m----> 5\u001b[1;33m \u001b[0mmy_function\u001b[0m\u001b[1;33m(\u001b[0m\u001b[1;33m)\u001b[0m\u001b[1;33m\u001b[0m\u001b[1;33m\u001b[0m\u001b[0m\n\u001b[0m",
      "\u001b[1;31mTypeError\u001b[0m: my_function() missing 1 required positional argument: 'state'"
     ]
    }
   ],
   "source": [
    "def my_function(state):\n",
    "    print(\"I am From \"+ state)\n",
    "    \n",
    "my_function(\"Maharashtra\")\n",
    "my_function()"
   ]
  },
  {
   "cell_type": "code",
   "execution_count": 24,
   "id": "d29a29e4",
   "metadata": {},
   "outputs": [
    {
     "name": "stdout",
     "output_type": "stream",
     "text": [
      "I am From Maharashtra\n",
      "I am From India\n",
      "I am From Goa\n"
     ]
    }
   ],
   "source": [
    "def my_function(state = \"India\"):\n",
    "    print(\"I am From \"+ state)\n",
    "    \n",
    "my_function(\"Maharashtra\")\n",
    "my_function()\n",
    "my_function(\"Goa\")"
   ]
  },
  {
   "cell_type": "markdown",
   "id": "52286140",
   "metadata": {},
   "source": [
    "## Passsing a List as Arguments"
   ]
  },
  {
   "cell_type": "code",
   "execution_count": 27,
   "id": "8195b3f6",
   "metadata": {},
   "outputs": [
    {
     "name": "stdout",
     "output_type": "stream",
     "text": [
      "Fruits are: apple\n",
      "Fruits are: mango\n",
      "Fruits are: cherry\n",
      "Fruits are: banana\n",
      "Fruits are: watermelon\n"
     ]
    }
   ],
   "source": [
    "def my_Function(fruit_list):\n",
    "    for a in fruit_list:\n",
    "        print(\"Fruits are: \" + a)\n",
    "       \n",
    " # Driver code\n",
    "my_list = ['apple','mango','cherry','banana','watermelon']  \n",
    "my_Function(my_list)"
   ]
  },
  {
   "cell_type": "markdown",
   "id": "dcbf51c1",
   "metadata": {},
   "source": [
    "# Return Values"
   ]
  },
  {
   "cell_type": "code",
   "execution_count": 31,
   "id": "e31185fe",
   "metadata": {},
   "outputs": [
    {
     "name": "stdout",
     "output_type": "stream",
     "text": [
      "25\n",
      "125\n"
     ]
    }
   ],
   "source": [
    "def my_function(x):\n",
    "    return 5 ** x\n",
    "\n",
    "print(my_function(2))\n",
    "print(my_function(3))"
   ]
  },
  {
   "cell_type": "code",
   "execution_count": 32,
   "id": "d01bb15c",
   "metadata": {},
   "outputs": [
    {
     "name": "stdout",
     "output_type": "stream",
     "text": [
      "7\n",
      "8\n"
     ]
    }
   ],
   "source": [
    "def my_function(x):\n",
    "    return 5 + x\n",
    "\n",
    "print(my_function(2))\n",
    "print(my_function(3))"
   ]
  },
  {
   "cell_type": "code",
   "execution_count": 33,
   "id": "62d6fa69",
   "metadata": {},
   "outputs": [
    {
     "name": "stdout",
     "output_type": "stream",
     "text": [
      "2.5\n",
      "1.6666666666666667\n"
     ]
    }
   ],
   "source": [
    "def my_function(x):\n",
    "    return 5 / x\n",
    "\n",
    "print(my_function(2))\n",
    "print(my_function(3))"
   ]
  },
  {
   "cell_type": "markdown",
   "id": "472369ba",
   "metadata": {},
   "source": [
    "# Pass Statement"
   ]
  },
  {
   "cell_type": "code",
   "execution_count": 34,
   "id": "8daa9007",
   "metadata": {},
   "outputs": [],
   "source": [
    "def shyam():\n",
    "    pass"
   ]
  },
  {
   "cell_type": "code",
   "execution_count": 36,
   "id": "7b2fd9ca",
   "metadata": {},
   "outputs": [],
   "source": [
    "def shyam():\n",
    "    pass"
   ]
  },
  {
   "cell_type": "markdown",
   "id": "58e6c1a5",
   "metadata": {},
   "source": [
    "## Examples"
   ]
  },
  {
   "cell_type": "code",
   "execution_count": 37,
   "id": "b75c62d3",
   "metadata": {},
   "outputs": [
    {
     "name": "stdout",
     "output_type": "stream",
     "text": [
      "Enter number to calculate Factorial: 5\n",
      "120\n"
     ]
    }
   ],
   "source": [
    "num = int(input(\"Enter number to calculate Factorial: \"))\n",
    "\n",
    "fact = 1\n",
    "for i in range(1, num + 1):\n",
    "    fact = fact * i\n",
    "    \n",
    "print(fact)"
   ]
  },
  {
   "cell_type": "code",
   "execution_count": 44,
   "id": "aee6b7d9",
   "metadata": {},
   "outputs": [
    {
     "name": "stdout",
     "output_type": "stream",
     "text": [
      "Enter number to calculate Factorial: 6\n"
     ]
    },
    {
     "data": {
      "text/plain": [
       "720"
      ]
     },
     "execution_count": 44,
     "metadata": {},
     "output_type": "execute_result"
    }
   ],
   "source": [
    "num = int(input(\"Enter number to calculate Factorial: \"))\n",
    "\n",
    "def fact(num1):\n",
    "    if num1 == 1:\n",
    "        return 1\n",
    "    else:\n",
    "        result = num1 * fact(num1 -1)\n",
    "        return result\n",
    "fact(num)"
   ]
  },
  {
   "cell_type": "code",
   "execution_count": 40,
   "id": "1e2f917e",
   "metadata": {},
   "outputs": [
    {
     "data": {
      "text/plain": [
       "120"
      ]
     },
     "execution_count": 40,
     "metadata": {},
     "output_type": "execute_result"
    }
   ],
   "source": [
    "def fact(num1):\n",
    "    if num1 == 1:\n",
    "        return 1\n",
    "    else:\n",
    "        result = num1 * fact(num1 -1)\n",
    "        return result\n",
    "fact(5)"
   ]
  },
  {
   "cell_type": "code",
   "execution_count": null,
   "id": "ad7efd2c",
   "metadata": {},
   "outputs": [],
   "source": []
  }
 ],
 "metadata": {
  "kernelspec": {
   "display_name": "Python 3",
   "language": "python",
   "name": "python3"
  },
  "language_info": {
   "codemirror_mode": {
    "name": "ipython",
    "version": 3
   },
   "file_extension": ".py",
   "mimetype": "text/x-python",
   "name": "python",
   "nbconvert_exporter": "python",
   "pygments_lexer": "ipython3",
   "version": "3.8.8"
  }
 },
 "nbformat": 4,
 "nbformat_minor": 5
}
