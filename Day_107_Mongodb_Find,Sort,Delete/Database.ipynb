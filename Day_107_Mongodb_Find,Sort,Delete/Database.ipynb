{
 "cells": [
  {
   "cell_type": "markdown",
   "metadata": {
    "id": "db6e6917"
   },
   "source": [
    "## Python MongoDB Find"
   ]
  },
  {
   "cell_type": "markdown",
   "metadata": {
    "id": "c0a4255f"
   },
   "source": [
    "1. In MongoDB we use the find and findone method to find data in a collection\n",
    "2. Just like the SELECT statement is used to find data in table in MySQL database"
   ]
  },
  {
   "cell_type": "markdown",
   "metadata": {
    "id": "13746e62"
   },
   "source": [
    "### 1. Find One"
   ]
  },
  {
   "cell_type": "markdown",
   "metadata": {
    "id": "6d49e161"
   },
   "source": [
    "1. To select data from a collection in MongoDB, we can use the find_one() method\n",
    "2. The find_one() method returns the first occurance in the selection"
   ]
  },
  {
   "cell_type": "code",
   "execution_count": null,
   "metadata": {
    "id": "fa20e667",
    "outputId": "77406e01-8265-4eff-f3c6-b69a7328e686"
   },
   "outputs": [
    {
     "name": "stdout",
     "output_type": "stream",
     "text": [
      "{'_id': ObjectId('62887a9b66e402cb206b9167'), 'name': 'Shyam Ambilkar', 'post': 'Data Engineer', 'salary': 90000, 'location': 'Pune', 'mobile': 9923090436, 'email': 'shyam@gmail.com', 'dept': 'Research and Developement'}\n"
     ]
    }
   ],
   "source": [
    "import pymongo\n",
    "\n",
    "myclient = pymongo.MongoClient(\"127.0.0.1:27017\")\n",
    "mydb = myclient['computer_dept']\n",
    "mycol = mydb['BE']\n",
    "\n",
    "x = mycol.find_one()\n",
    "print(x)"
   ]
  },
  {
   "cell_type": "markdown",
   "metadata": {
    "id": "021c6861"
   },
   "source": [
    "### 2. Find All"
   ]
  },
  {
   "cell_type": "markdown",
   "metadata": {
    "id": "df84c21d"
   },
   "source": [
    "1. To select data from a table in MongoDB, we can use the find() method\n",
    "2. The find() method will returns all occurances in the selection\n",
    "3. The first parameter of the find() method in the query object "
   ]
  },
  {
   "cell_type": "markdown",
   "metadata": {
    "id": "5fa0596c"
   },
   "source": [
    "**Note: No parameter in the find() method gives you the same result as Select * in MySQL**"
   ]
  },
  {
   "cell_type": "code",
   "execution_count": null,
   "metadata": {
    "id": "806fad5a",
    "outputId": "ac29c192-17f3-46e8-8386-bb61781ac9e6"
   },
   "outputs": [
    {
     "name": "stdout",
     "output_type": "stream",
     "text": [
      "{'_id': ObjectId('62887a9b66e402cb206b9167'), 'name': 'Shyam Ambilkar', 'post': 'Data Engineer', 'salary': 90000, 'location': 'Pune', 'mobile': 9923090436, 'email': 'shyam@gmail.com', 'dept': 'Research and Developement'}\n",
      "{'_id': ObjectId('62887a9b66e402cb206b9168'), 'name': 'Mayur Kankal', 'post': 'Data Scientiest', 'salary': 90000, 'location': 'Pune', 'mobile': 1234567890, 'email': 'mayur@gmail.com', 'dept': 'Research and Developement'}\n",
      "{'_id': ObjectId('62887b19f1532ba1ec553e9c'), 'name': 'Rashmi Kakode', 'post': 'Data Analyst', 'salary': 70000, 'location': 'Pune', 'mobile': 1234567890, 'email': 'rashmi@gmail.com', 'dept': 'Research and Developement'}\n",
      "{'_id': 1, 'name': 'Sakshi Ambekar', 'post': 'Data Engineer', 'salary': 60000, 'location': 'Pune', 'mobile': 1234567890, 'email': 'sakshi@gmail.com', 'dept': 'Research and Developement'}\n",
      "{'_id': 2, 'name': 'Sachin Bodkhe', 'post': 'ML Engineer', 'salary': 80000, 'location': 'Pune', 'mobile': 1234567890, 'email': 'sachin@gmail.com', 'dept': 'Research and Developement'}\n",
      "{'_id': 3, 'name': 'Garima Chauhan', 'post': 'ML Engineer', 'salary': 50000, 'location': 'Pune', 'mobile': 1234567890, 'email': 'garima@gmail.com', 'dept': 'Research and Developement'}\n"
     ]
    }
   ],
   "source": [
    "for x in mycol.find():\n",
    "    print(x)"
   ]
  },
  {
   "cell_type": "markdown",
   "metadata": {
    "id": "f4789f0d"
   },
   "source": [
    "### Return only Some Fields"
   ]
  },
  {
   "cell_type": "markdown",
   "metadata": {
    "id": "3a1028b8"
   },
   "source": [
    "1. The second parameter of the find() method is an object which fields to include in the result\n",
    "2. This parameter is optional, and if omitted all fields will be included in the result"
   ]
  },
  {
   "cell_type": "code",
   "execution_count": null,
   "metadata": {
    "id": "e1ba0256",
    "outputId": "35206e0d-243d-4724-a7dc-150ac62de002"
   },
   "outputs": [
    {
     "name": "stdout",
     "output_type": "stream",
     "text": [
      "{'name': 'Shyam Ambilkar', 'post': 'Data Engineer', 'location': 'Pune'}\n",
      "{'name': 'Mayur Kankal', 'post': 'Data Scientiest', 'location': 'Pune'}\n",
      "{'name': 'Rashmi Kakode', 'post': 'Data Analyst', 'location': 'Pune'}\n",
      "{'name': 'Sakshi Ambekar', 'post': 'Data Engineer', 'location': 'Pune'}\n",
      "{'name': 'Sachin Bodkhe', 'post': 'ML Engineer', 'location': 'Pune'}\n",
      "{'name': 'Garima Chauhan', 'post': 'ML Engineer', 'location': 'Pune'}\n"
     ]
    }
   ],
   "source": [
    "for x in mycol.find({},{'_id':0, 'name':1, 'location':1,'post':1}):\n",
    "    print(x)"
   ]
  },
  {
   "cell_type": "code",
   "execution_count": null,
   "metadata": {
    "id": "9c383932",
    "outputId": "b158da5b-198d-4f03-ec4f-c32076bd27fe"
   },
   "outputs": [
    {
     "name": "stdout",
     "output_type": "stream",
     "text": [
      "{'_id': ObjectId('62887a9b66e402cb206b9167'), 'name': 'Shyam Ambilkar', 'location': 'Pune'}\n",
      "{'_id': ObjectId('62887a9b66e402cb206b9168'), 'name': 'Mayur Kankal', 'location': 'Pune'}\n",
      "{'_id': ObjectId('62887b19f1532ba1ec553e9c'), 'name': 'Rashmi Kakode', 'location': 'Pune'}\n",
      "{'_id': 1, 'name': 'Sakshi Ambekar', 'location': 'Pune'}\n",
      "{'_id': 2, 'name': 'Sachin Bodkhe', 'location': 'Pune'}\n",
      "{'_id': 3, 'name': 'Garima Chauhan', 'location': 'Pune'}\n"
     ]
    }
   ],
   "source": [
    "for x in mycol.find({},{'_id':1, 'name':1, 'location':1}):\n",
    "    print(x)"
   ]
  },
  {
   "cell_type": "markdown",
   "metadata": {
    "id": "1087932d"
   },
   "source": [
    "**Note : You are not allowed to specify both 0 and 1 values in the same object(except if one of the fields in the _id fields). If you specifya fields with the value of  0, all other fields get the value 1 and vice versa**"
   ]
  },
  {
   "cell_type": "code",
   "execution_count": null,
   "metadata": {
    "id": "84bae7a3",
    "outputId": "116505c4-4bb3-4a80-f4f2-208baa0bc4ac"
   },
   "outputs": [
    {
     "name": "stdout",
     "output_type": "stream",
     "text": [
      "{'_id': ObjectId('62887a9b66e402cb206b9167'), 'name': 'Shyam Ambilkar'}\n",
      "{'_id': ObjectId('62887a9b66e402cb206b9168'), 'name': 'Mayur Kankal'}\n",
      "{'_id': ObjectId('62887b19f1532ba1ec553e9c'), 'name': 'Rashmi Kakode'}\n",
      "{'_id': 1, 'name': 'Sakshi Ambekar'}\n",
      "{'_id': 2, 'name': 'Sachin Bodkhe'}\n",
      "{'_id': 3, 'name': 'Garima Chauhan'}\n"
     ]
    }
   ],
   "source": [
    "for x in mycol.find({},{'name':1}):\n",
    "    print(x)"
   ]
  },
  {
   "cell_type": "code",
   "execution_count": null,
   "metadata": {
    "id": "52884ad0",
    "outputId": "a8babb0f-a0ae-4896-df72-2fd23c5dd284"
   },
   "outputs": [
    {
     "name": "stdout",
     "output_type": "stream",
     "text": [
      "{'name': 'Shyam Ambilkar', 'location': 'Pune', 'email': 'shyam@gmail.com'}\n",
      "{'name': 'Mayur Kankal', 'location': 'Pune', 'email': 'mayur@gmail.com'}\n",
      "{'name': 'Rashmi Kakode', 'location': 'Pune', 'email': 'rashmi@gmail.com'}\n",
      "{'name': 'Sakshi Ambekar', 'location': 'Pune', 'email': 'sakshi@gmail.com'}\n",
      "{'name': 'Sachin Bodkhe', 'location': 'Pune', 'email': 'sachin@gmail.com'}\n",
      "{'name': 'Garima Chauhan', 'location': 'Pune', 'email': 'garima@gmail.com'}\n"
     ]
    }
   ],
   "source": [
    "for x in mycol.find({},{'_id':0,'name':1,'location':1,'email':1}):\n",
    "    print(x)"
   ]
  },
  {
   "cell_type": "code",
   "execution_count": null,
   "metadata": {
    "id": "53c87446",
    "outputId": "3256d163-eec6-4902-90d8-5e60999409c1"
   },
   "outputs": [
    {
     "ename": "OperationFailure",
     "evalue": "Cannot do inclusion on field location in exclusion projection, full error: {'ok': 0.0, 'errmsg': 'Cannot do inclusion on field location in exclusion projection', 'code': 31253, 'codeName': 'Location31253'}",
     "output_type": "error",
     "traceback": [
      "\u001b[1;31m---------------------------------------------------------------------------\u001b[0m",
      "\u001b[1;31mOperationFailure\u001b[0m                          Traceback (most recent call last)",
      "\u001b[1;32m<ipython-input-13-a26fcb8e77bc>\u001b[0m in \u001b[0;36m<module>\u001b[1;34m\u001b[0m\n\u001b[1;32m----> 1\u001b[1;33m \u001b[1;32mfor\u001b[0m \u001b[0mx\u001b[0m \u001b[1;32min\u001b[0m \u001b[0mmycol\u001b[0m\u001b[1;33m.\u001b[0m\u001b[0mfind\u001b[0m\u001b[1;33m(\u001b[0m\u001b[1;33m{\u001b[0m\u001b[1;33m}\u001b[0m\u001b[1;33m,\u001b[0m\u001b[1;33m{\u001b[0m\u001b[1;34m'name'\u001b[0m\u001b[1;33m:\u001b[0m\u001b[1;36m0\u001b[0m\u001b[1;33m,\u001b[0m\u001b[1;34m'location'\u001b[0m\u001b[1;33m:\u001b[0m\u001b[1;36m1\u001b[0m\u001b[1;33m,\u001b[0m\u001b[1;34m'email'\u001b[0m\u001b[1;33m:\u001b[0m\u001b[1;36m1\u001b[0m\u001b[1;33m}\u001b[0m\u001b[1;33m)\u001b[0m\u001b[1;33m:\u001b[0m\u001b[1;33m\u001b[0m\u001b[1;33m\u001b[0m\u001b[0m\n\u001b[0m\u001b[0;32m      2\u001b[0m     \u001b[0mprint\u001b[0m\u001b[1;33m(\u001b[0m\u001b[0mx\u001b[0m\u001b[1;33m)\u001b[0m\u001b[1;33m\u001b[0m\u001b[1;33m\u001b[0m\u001b[0m\n",
      "\u001b[1;32m~\\anaconda3\\lib\\site-packages\\pymongo\\cursor.py\u001b[0m in \u001b[0;36mnext\u001b[1;34m(self)\u001b[0m\n\u001b[0;32m   1236\u001b[0m         \u001b[1;32mif\u001b[0m \u001b[0mself\u001b[0m\u001b[1;33m.\u001b[0m\u001b[0m__empty\u001b[0m\u001b[1;33m:\u001b[0m\u001b[1;33m\u001b[0m\u001b[1;33m\u001b[0m\u001b[0m\n\u001b[0;32m   1237\u001b[0m             \u001b[1;32mraise\u001b[0m \u001b[0mStopIteration\u001b[0m\u001b[1;33m\u001b[0m\u001b[1;33m\u001b[0m\u001b[0m\n\u001b[1;32m-> 1238\u001b[1;33m         \u001b[1;32mif\u001b[0m \u001b[0mlen\u001b[0m\u001b[1;33m(\u001b[0m\u001b[0mself\u001b[0m\u001b[1;33m.\u001b[0m\u001b[0m__data\u001b[0m\u001b[1;33m)\u001b[0m \u001b[1;32mor\u001b[0m \u001b[0mself\u001b[0m\u001b[1;33m.\u001b[0m\u001b[0m_refresh\u001b[0m\u001b[1;33m(\u001b[0m\u001b[1;33m)\u001b[0m\u001b[1;33m:\u001b[0m\u001b[1;33m\u001b[0m\u001b[1;33m\u001b[0m\u001b[0m\n\u001b[0m\u001b[0;32m   1239\u001b[0m             \u001b[1;32mif\u001b[0m \u001b[0mself\u001b[0m\u001b[1;33m.\u001b[0m\u001b[0m__manipulate\u001b[0m\u001b[1;33m:\u001b[0m\u001b[1;33m\u001b[0m\u001b[1;33m\u001b[0m\u001b[0m\n\u001b[0;32m   1240\u001b[0m                 \u001b[0m_db\u001b[0m \u001b[1;33m=\u001b[0m \u001b[0mself\u001b[0m\u001b[1;33m.\u001b[0m\u001b[0m__collection\u001b[0m\u001b[1;33m.\u001b[0m\u001b[0mdatabase\u001b[0m\u001b[1;33m\u001b[0m\u001b[1;33m\u001b[0m\u001b[0m\n",
      "\u001b[1;32m~\\anaconda3\\lib\\site-packages\\pymongo\\cursor.py\u001b[0m in \u001b[0;36m_refresh\u001b[1;34m(self)\u001b[0m\n\u001b[0;32m   1153\u001b[0m                                   \u001b[0mself\u001b[0m\u001b[1;33m.\u001b[0m\u001b[0m__allow_disk_use\u001b[0m\u001b[1;33m,\u001b[0m\u001b[1;33m\u001b[0m\u001b[1;33m\u001b[0m\u001b[0m\n\u001b[0;32m   1154\u001b[0m                                   self.__exhaust)\n\u001b[1;32m-> 1155\u001b[1;33m             \u001b[0mself\u001b[0m\u001b[1;33m.\u001b[0m\u001b[0m__send_message\u001b[0m\u001b[1;33m(\u001b[0m\u001b[0mq\u001b[0m\u001b[1;33m)\u001b[0m\u001b[1;33m\u001b[0m\u001b[1;33m\u001b[0m\u001b[0m\n\u001b[0m\u001b[0;32m   1156\u001b[0m         \u001b[1;32melif\u001b[0m \u001b[0mself\u001b[0m\u001b[1;33m.\u001b[0m\u001b[0m__id\u001b[0m\u001b[1;33m:\u001b[0m  \u001b[1;31m# Get More\u001b[0m\u001b[1;33m\u001b[0m\u001b[1;33m\u001b[0m\u001b[0m\n\u001b[0;32m   1157\u001b[0m             \u001b[1;32mif\u001b[0m \u001b[0mself\u001b[0m\u001b[1;33m.\u001b[0m\u001b[0m__limit\u001b[0m\u001b[1;33m:\u001b[0m\u001b[1;33m\u001b[0m\u001b[1;33m\u001b[0m\u001b[0m\n",
      "\u001b[1;32m~\\anaconda3\\lib\\site-packages\\pymongo\\cursor.py\u001b[0m in \u001b[0;36m__send_message\u001b[1;34m(self, operation)\u001b[0m\n\u001b[0;32m   1042\u001b[0m \u001b[1;33m\u001b[0m\u001b[0m\n\u001b[0;32m   1043\u001b[0m         \u001b[1;32mtry\u001b[0m\u001b[1;33m:\u001b[0m\u001b[1;33m\u001b[0m\u001b[1;33m\u001b[0m\u001b[0m\n\u001b[1;32m-> 1044\u001b[1;33m             response = client._run_operation(\n\u001b[0m\u001b[0;32m   1045\u001b[0m                 operation, self._unpack_response, address=self.__address)\n\u001b[0;32m   1046\u001b[0m         \u001b[1;32mexcept\u001b[0m \u001b[0mOperationFailure\u001b[0m \u001b[1;32mas\u001b[0m \u001b[0mexc\u001b[0m\u001b[1;33m:\u001b[0m\u001b[1;33m\u001b[0m\u001b[1;33m\u001b[0m\u001b[0m\n",
      "\u001b[1;32m~\\anaconda3\\lib\\site-packages\\pymongo\\mongo_client.py\u001b[0m in \u001b[0;36m_run_operation\u001b[1;34m(self, operation, unpack_res, address)\u001b[0m\n\u001b[0;32m   1422\u001b[0m                 unpack_res)\n\u001b[0;32m   1423\u001b[0m \u001b[1;33m\u001b[0m\u001b[0m\n\u001b[1;32m-> 1424\u001b[1;33m         return self._retryable_read(\n\u001b[0m\u001b[0;32m   1425\u001b[0m             \u001b[0m_cmd\u001b[0m\u001b[1;33m,\u001b[0m \u001b[0moperation\u001b[0m\u001b[1;33m.\u001b[0m\u001b[0mread_preference\u001b[0m\u001b[1;33m,\u001b[0m \u001b[0moperation\u001b[0m\u001b[1;33m.\u001b[0m\u001b[0msession\u001b[0m\u001b[1;33m,\u001b[0m\u001b[1;33m\u001b[0m\u001b[1;33m\u001b[0m\u001b[0m\n\u001b[0;32m   1426\u001b[0m             address=address, retryable=isinstance(operation, message._Query))\n",
      "\u001b[1;32m~\\anaconda3\\lib\\site-packages\\pymongo\\mongo_client.py\u001b[0m in \u001b[0;36m_retryable_read\u001b[1;34m(self, func, read_pref, session, address, retryable)\u001b[0m\n\u001b[0;32m   1523\u001b[0m                         \u001b[1;31m# not support retryable reads, raise the last error.\u001b[0m\u001b[1;33m\u001b[0m\u001b[1;33m\u001b[0m\u001b[1;33m\u001b[0m\u001b[0m\n\u001b[0;32m   1524\u001b[0m                         \u001b[1;32mraise\u001b[0m \u001b[0mlast_error\u001b[0m\u001b[1;33m\u001b[0m\u001b[1;33m\u001b[0m\u001b[0m\n\u001b[1;32m-> 1525\u001b[1;33m                     \u001b[1;32mreturn\u001b[0m \u001b[0mfunc\u001b[0m\u001b[1;33m(\u001b[0m\u001b[0msession\u001b[0m\u001b[1;33m,\u001b[0m \u001b[0mserver\u001b[0m\u001b[1;33m,\u001b[0m \u001b[0msock_info\u001b[0m\u001b[1;33m,\u001b[0m \u001b[0msecondary_ok\u001b[0m\u001b[1;33m)\u001b[0m\u001b[1;33m\u001b[0m\u001b[1;33m\u001b[0m\u001b[0m\n\u001b[0m\u001b[0;32m   1526\u001b[0m             \u001b[1;32mexcept\u001b[0m \u001b[0mServerSelectionTimeoutError\u001b[0m\u001b[1;33m:\u001b[0m\u001b[1;33m\u001b[0m\u001b[1;33m\u001b[0m\u001b[0m\n\u001b[0;32m   1527\u001b[0m                 \u001b[1;32mif\u001b[0m \u001b[0mretrying\u001b[0m\u001b[1;33m:\u001b[0m\u001b[1;33m\u001b[0m\u001b[1;33m\u001b[0m\u001b[0m\n",
      "\u001b[1;32m~\\anaconda3\\lib\\site-packages\\pymongo\\mongo_client.py\u001b[0m in \u001b[0;36m_cmd\u001b[1;34m(session, server, sock_info, secondary_ok)\u001b[0m\n\u001b[0;32m   1418\u001b[0m \u001b[1;33m\u001b[0m\u001b[0m\n\u001b[0;32m   1419\u001b[0m         \u001b[1;32mdef\u001b[0m \u001b[0m_cmd\u001b[0m\u001b[1;33m(\u001b[0m\u001b[0msession\u001b[0m\u001b[1;33m,\u001b[0m \u001b[0mserver\u001b[0m\u001b[1;33m,\u001b[0m \u001b[0msock_info\u001b[0m\u001b[1;33m,\u001b[0m \u001b[0msecondary_ok\u001b[0m\u001b[1;33m)\u001b[0m\u001b[1;33m:\u001b[0m\u001b[1;33m\u001b[0m\u001b[1;33m\u001b[0m\u001b[0m\n\u001b[1;32m-> 1420\u001b[1;33m             return server.run_operation(\n\u001b[0m\u001b[0;32m   1421\u001b[0m                 \u001b[0msock_info\u001b[0m\u001b[1;33m,\u001b[0m \u001b[0moperation\u001b[0m\u001b[1;33m,\u001b[0m \u001b[0msecondary_ok\u001b[0m\u001b[1;33m,\u001b[0m \u001b[0mself\u001b[0m\u001b[1;33m.\u001b[0m\u001b[0m_event_listeners\u001b[0m\u001b[1;33m,\u001b[0m\u001b[1;33m\u001b[0m\u001b[1;33m\u001b[0m\u001b[0m\n\u001b[0;32m   1422\u001b[0m                 unpack_res)\n",
      "\u001b[1;32m~\\anaconda3\\lib\\site-packages\\pymongo\\server.py\u001b[0m in \u001b[0;36mrun_operation\u001b[1;34m(self, sock_info, operation, set_secondary_okay, listeners, unpack_res)\u001b[0m\n\u001b[0;32m    128\u001b[0m                 \u001b[0mfirst\u001b[0m \u001b[1;33m=\u001b[0m \u001b[0mdocs\u001b[0m\u001b[1;33m[\u001b[0m\u001b[1;36m0\u001b[0m\u001b[1;33m]\u001b[0m\u001b[1;33m\u001b[0m\u001b[1;33m\u001b[0m\u001b[0m\n\u001b[0;32m    129\u001b[0m                 \u001b[0moperation\u001b[0m\u001b[1;33m.\u001b[0m\u001b[0mclient\u001b[0m\u001b[1;33m.\u001b[0m\u001b[0m_process_response\u001b[0m\u001b[1;33m(\u001b[0m\u001b[0mfirst\u001b[0m\u001b[1;33m,\u001b[0m \u001b[0moperation\u001b[0m\u001b[1;33m.\u001b[0m\u001b[0msession\u001b[0m\u001b[1;33m)\u001b[0m\u001b[1;33m\u001b[0m\u001b[1;33m\u001b[0m\u001b[0m\n\u001b[1;32m--> 130\u001b[1;33m                 \u001b[0m_check_command_response\u001b[0m\u001b[1;33m(\u001b[0m\u001b[0mfirst\u001b[0m\u001b[1;33m,\u001b[0m \u001b[0msock_info\u001b[0m\u001b[1;33m.\u001b[0m\u001b[0mmax_wire_version\u001b[0m\u001b[1;33m)\u001b[0m\u001b[1;33m\u001b[0m\u001b[1;33m\u001b[0m\u001b[0m\n\u001b[0m\u001b[0;32m    131\u001b[0m         \u001b[1;32mexcept\u001b[0m \u001b[0mException\u001b[0m \u001b[1;32mas\u001b[0m \u001b[0mexc\u001b[0m\u001b[1;33m:\u001b[0m\u001b[1;33m\u001b[0m\u001b[1;33m\u001b[0m\u001b[0m\n\u001b[0;32m    132\u001b[0m             \u001b[1;32mif\u001b[0m \u001b[0mpublish\u001b[0m\u001b[1;33m:\u001b[0m\u001b[1;33m\u001b[0m\u001b[1;33m\u001b[0m\u001b[0m\n",
      "\u001b[1;32m~\\anaconda3\\lib\\site-packages\\pymongo\\helpers.py\u001b[0m in \u001b[0;36m_check_command_response\u001b[1;34m(response, max_wire_version, allowable_errors, parse_write_concern_error)\u001b[0m\n\u001b[0;32m    165\u001b[0m         \u001b[1;32mraise\u001b[0m \u001b[0mCursorNotFound\u001b[0m\u001b[1;33m(\u001b[0m\u001b[0merrmsg\u001b[0m\u001b[1;33m,\u001b[0m \u001b[0mcode\u001b[0m\u001b[1;33m,\u001b[0m \u001b[0mresponse\u001b[0m\u001b[1;33m,\u001b[0m \u001b[0mmax_wire_version\u001b[0m\u001b[1;33m)\u001b[0m\u001b[1;33m\u001b[0m\u001b[1;33m\u001b[0m\u001b[0m\n\u001b[0;32m    166\u001b[0m \u001b[1;33m\u001b[0m\u001b[0m\n\u001b[1;32m--> 167\u001b[1;33m     \u001b[1;32mraise\u001b[0m \u001b[0mOperationFailure\u001b[0m\u001b[1;33m(\u001b[0m\u001b[0merrmsg\u001b[0m\u001b[1;33m,\u001b[0m \u001b[0mcode\u001b[0m\u001b[1;33m,\u001b[0m \u001b[0mresponse\u001b[0m\u001b[1;33m,\u001b[0m \u001b[0mmax_wire_version\u001b[0m\u001b[1;33m)\u001b[0m\u001b[1;33m\u001b[0m\u001b[1;33m\u001b[0m\u001b[0m\n\u001b[0m\u001b[0;32m    168\u001b[0m \u001b[1;33m\u001b[0m\u001b[0m\n\u001b[0;32m    169\u001b[0m \u001b[1;33m\u001b[0m\u001b[0m\n",
      "\u001b[1;31mOperationFailure\u001b[0m: Cannot do inclusion on field location in exclusion projection, full error: {'ok': 0.0, 'errmsg': 'Cannot do inclusion on field location in exclusion projection', 'code': 31253, 'codeName': 'Location31253'}"
     ]
    }
   ],
   "source": [
    "for x in mycol.find({},{'name':0,'location':1,'email':1}):\n",
    "    print(x)"
   ]
  },
  {
   "cell_type": "markdown",
   "metadata": {
    "id": "a86137f5"
   },
   "source": [
    "## MongoDB Query"
   ]
  },
  {
   "cell_type": "markdown",
   "metadata": {
    "id": "b00217db"
   },
   "source": [
    "### 4. Filter Result"
   ]
  },
  {
   "cell_type": "markdown",
   "metadata": {
    "id": "e0667a9c"
   },
   "source": [
    "1. When finding the documents in collection, you can filter the result by using a query object\n",
    "2. The First argument of the find() method is query object and used to limit the search"
   ]
  },
  {
   "cell_type": "code",
   "execution_count": null,
   "metadata": {
    "id": "64ba0c95",
    "outputId": "aaf37380-2f10-4c51-b1c8-fc377bc2f79c"
   },
   "outputs": [
    {
     "name": "stdout",
     "output_type": "stream",
     "text": [
      "{'_id': ObjectId('62887a9b66e402cb206b9167'), 'name': 'Shyam Ambilkar', 'post': 'Data Engineer', 'salary': 90000, 'location': 'Pune', 'mobile': 9923090436, 'email': 'shyam@gmail.com', 'dept': 'Research and Developement'}\n",
      "{'_id': 1, 'name': 'Sakshi Ambekar', 'post': 'Data Engineer', 'salary': 60000, 'location': 'Pune', 'mobile': 1234567890, 'email': 'sakshi@gmail.com', 'dept': 'Research and Developement'}\n"
     ]
    }
   ],
   "source": [
    "my_query = {'post': 'Data Engineer'}\n",
    "\n",
    "my_doc = mycol.find(my_query)\n",
    "\n",
    "for x in my_doc:\n",
    "    print(x)"
   ]
  },
  {
   "cell_type": "code",
   "execution_count": null,
   "metadata": {
    "id": "ed9d30ea",
    "outputId": "9b06e3bd-f105-434c-a87d-30a7b08c32ce"
   },
   "outputs": [
    {
     "name": "stdout",
     "output_type": "stream",
     "text": [
      "{'_id': ObjectId('62887b19f1532ba1ec553e9c'), 'name': 'Rashmi Kakode', 'post': 'Data Analyst', 'salary': 70000, 'location': 'Pune', 'mobile': 1234567890, 'email': 'rashmi@gmail.com', 'dept': 'Research and Developement'}\n"
     ]
    }
   ],
   "source": [
    "my_query = {'post': 'Data Analyst'}\n",
    "\n",
    "my_doc = mycol.find(my_query)\n",
    "\n",
    "for x in my_doc:\n",
    "    print(x)"
   ]
  },
  {
   "cell_type": "code",
   "execution_count": null,
   "metadata": {
    "id": "484afd52",
    "outputId": "e0d60da6-f027-4e64-ed45-120e2ce0110f"
   },
   "outputs": [
    {
     "name": "stdout",
     "output_type": "stream",
     "text": [
      "{'_id': 2, 'name': 'Sachin Bodkhe', 'post': 'ML Engineer', 'salary': 80000, 'location': 'Pune', 'mobile': 1234567890, 'email': 'sachin@gmail.com', 'dept': 'Research and Developement'}\n",
      "{'_id': 3, 'name': 'Garima Chauhan', 'post': 'ML Engineer', 'salary': 50000, 'location': 'Pune', 'mobile': 1234567890, 'email': 'garima@gmail.com', 'dept': 'Research and Developement'}\n"
     ]
    }
   ],
   "source": [
    "my_query = {'post': 'ML Engineer'}\n",
    "\n",
    "my_doc = mycol.find(my_query)\n",
    "\n",
    "for x in my_doc:\n",
    "    print(x)"
   ]
  },
  {
   "cell_type": "markdown",
   "metadata": {
    "id": "b4b842e8"
   },
   "source": [
    "### Advance Query"
   ]
  },
  {
   "cell_type": "code",
   "execution_count": null,
   "metadata": {
    "id": "2e1cf3af",
    "outputId": "7fbe82da-c78b-4eff-c810-94a2c7514d4f"
   },
   "outputs": [
    {
     "name": "stdout",
     "output_type": "stream",
     "text": [
      "{'_id': ObjectId('62887a9b66e402cb206b9167'), 'name': 'Shyam Ambilkar', 'post': 'Data Engineer', 'salary': 90000, 'location': 'Pune', 'mobile': 9923090436, 'email': 'shyam@gmail.com', 'dept': 'Research and Developement'}\n",
      "{'_id': ObjectId('62887a9b66e402cb206b9168'), 'name': 'Mayur Kankal', 'post': 'Data Scientiest', 'salary': 90000, 'location': 'Pune', 'mobile': 1234567890, 'email': 'mayur@gmail.com', 'dept': 'Research and Developement'}\n",
      "{'_id': ObjectId('62887b19f1532ba1ec553e9c'), 'name': 'Rashmi Kakode', 'post': 'Data Analyst', 'salary': 70000, 'location': 'Pune', 'mobile': 1234567890, 'email': 'rashmi@gmail.com', 'dept': 'Research and Developement'}\n",
      "{'_id': 2, 'name': 'Sachin Bodkhe', 'post': 'ML Engineer', 'salary': 80000, 'location': 'Pune', 'mobile': 1234567890, 'email': 'sachin@gmail.com', 'dept': 'Research and Developement'}\n"
     ]
    }
   ],
   "source": [
    "my_query = {'salary': {'$gt':60000}}\n",
    "\n",
    "my_doc = mycol.find(my_query)\n",
    "\n",
    "for x in my_doc:\n",
    "    print(x)"
   ]
  },
  {
   "cell_type": "code",
   "execution_count": null,
   "metadata": {
    "id": "78d52cc2",
    "outputId": "c7a3b00d-d900-46da-eb81-0092a2d8c4f2"
   },
   "outputs": [
    {
     "name": "stdout",
     "output_type": "stream",
     "text": [
      "{'_id': 3, 'name': 'Garima Chauhan', 'post': 'ML Engineer', 'salary': 50000, 'location': 'Pune', 'mobile': 1234567890, 'email': 'garima@gmail.com', 'dept': 'Research and Developement'}\n"
     ]
    }
   ],
   "source": [
    "my_query = {'salary': {'$lt':60000}}\n",
    "\n",
    "my_doc = mycol.find(my_query)\n",
    "\n",
    "for x in my_doc:\n",
    "    print(x)"
   ]
  },
  {
   "cell_type": "markdown",
   "metadata": {
    "id": "b25710b7"
   },
   "source": [
    "### Regular Expression"
   ]
  },
  {
   "cell_type": "code",
   "execution_count": null,
   "metadata": {
    "id": "7c37e6c2",
    "outputId": "be81789f-58b3-4499-caa7-df13e6281f4a"
   },
   "outputs": [
    {
     "name": "stdout",
     "output_type": "stream",
     "text": [
      "{'_id': ObjectId('62887a9b66e402cb206b9167'), 'name': 'Shyam Ambilkar', 'post': 'Data Engineer', 'salary': 90000, 'location': 'Pune', 'mobile': 9923090436, 'email': 'shyam@gmail.com', 'dept': 'Research and Developement'}\n",
      "{'_id': 1, 'name': 'Sakshi Ambekar', 'post': 'Data Engineer', 'salary': 60000, 'location': 'Pune', 'mobile': 1234567890, 'email': 'sakshi@gmail.com', 'dept': 'Research and Developement'}\n",
      "{'_id': 2, 'name': 'Sachin Bodkhe', 'post': 'ML Engineer', 'salary': 80000, 'location': 'Pune', 'mobile': 1234567890, 'email': 'sachin@gmail.com', 'dept': 'Research and Developement'}\n"
     ]
    }
   ],
   "source": [
    "my_query = {'name':{'$regex':'^S'}}\n",
    "\n",
    "my_doc = mycol.find(my_query)\n",
    "\n",
    "for x in my_doc:\n",
    "    print(x)"
   ]
  },
  {
   "cell_type": "code",
   "execution_count": null,
   "metadata": {
    "id": "eaad6061",
    "outputId": "66f6feeb-7509-4956-a76b-3419ea085e3e"
   },
   "outputs": [
    {
     "name": "stdout",
     "output_type": "stream",
     "text": [
      "{'_id': ObjectId('62887a9b66e402cb206b9168'), 'name': 'Mayur Kankal', 'post': 'Data Scientiest', 'salary': 90000, 'location': 'Pune', 'mobile': 1234567890, 'email': 'mayur@gmail.com', 'dept': 'Research and Developement'}\n"
     ]
    }
   ],
   "source": [
    "my_query = {'name':{'$regex':'^M'}}\n",
    "\n",
    "my_doc = mycol.find(my_query)\n",
    "\n",
    "for x in my_doc:\n",
    "    print(x)"
   ]
  },
  {
   "cell_type": "code",
   "execution_count": null,
   "metadata": {
    "id": "cf3c91fe"
   },
   "outputs": [],
   "source": [
    "my_query = {'name':{'$regex':'^m'}}\n",
    "\n",
    "my_doc = mycol.find(my_query)\n",
    "\n",
    "for x in my_doc:\n",
    "    print(x)"
   ]
  },
  {
   "cell_type": "markdown",
   "metadata": {
    "id": "7e71fe21"
   },
   "source": [
    "### Sort the Result"
   ]
  },
  {
   "cell_type": "markdown",
   "metadata": {
    "id": "b99151a9"
   },
   "source": [
    "1. Use the sort() method to sort the result in ascending or descending order\n",
    "2. The sort() method takes one parameter for 'fieldname' and one parameter for 'direction' (ascending is the default direction)"
   ]
  },
  {
   "cell_type": "markdown",
   "metadata": {
    "id": "66725de8"
   },
   "source": [
    "### 1. Ascending Order"
   ]
  },
  {
   "cell_type": "code",
   "execution_count": null,
   "metadata": {
    "id": "3a35e95a",
    "outputId": "8354750a-f04f-4706-841d-971186a1f4b7"
   },
   "outputs": [
    {
     "name": "stdout",
     "output_type": "stream",
     "text": [
      "{'_id': 3, 'name': 'Garima Chauhan', 'post': 'ML Engineer', 'salary': 50000, 'location': 'Pune', 'mobile': 1234567890, 'email': 'garima@gmail.com', 'dept': 'Research and Developement'}\n",
      "{'_id': ObjectId('62887a9b66e402cb206b9168'), 'name': 'Mayur Kankal', 'post': 'Data Scientiest', 'salary': 90000, 'location': 'Pune', 'mobile': 1234567890, 'email': 'mayur@gmail.com', 'dept': 'Research and Developement'}\n",
      "{'_id': ObjectId('62887b19f1532ba1ec553e9c'), 'name': 'Rashmi Kakode', 'post': 'Data Analyst', 'salary': 70000, 'location': 'Pune', 'mobile': 1234567890, 'email': 'rashmi@gmail.com', 'dept': 'Research and Developement'}\n",
      "{'_id': 2, 'name': 'Sachin Bodkhe', 'post': 'ML Engineer', 'salary': 80000, 'location': 'Pune', 'mobile': 1234567890, 'email': 'sachin@gmail.com', 'dept': 'Research and Developement'}\n",
      "{'_id': 1, 'name': 'Sakshi Ambekar', 'post': 'Data Engineer', 'salary': 60000, 'location': 'Pune', 'mobile': 1234567890, 'email': 'sakshi@gmail.com', 'dept': 'Research and Developement'}\n",
      "{'_id': ObjectId('62887a9b66e402cb206b9167'), 'name': 'Shyam Ambilkar', 'post': 'Data Engineer', 'salary': 90000, 'location': 'Pune', 'mobile': 9923090436, 'email': 'shyam@gmail.com', 'dept': 'Research and Developement'}\n"
     ]
    }
   ],
   "source": [
    "my_doc = mycol.find().sort('name')\n",
    "\n",
    "for x in my_doc:\n",
    "    print(x)"
   ]
  },
  {
   "cell_type": "markdown",
   "metadata": {
    "id": "67885718"
   },
   "source": [
    "### 2. Descending Order"
   ]
  },
  {
   "cell_type": "markdown",
   "metadata": {
    "id": "f5d47530"
   },
   "source": [
    "1. Use the value -1 as second parameter to sort descending\n",
    "2. Use the value 1 as second parameter  to sort Ascending"
   ]
  },
  {
   "cell_type": "code",
   "execution_count": null,
   "metadata": {
    "id": "a3d9067b",
    "outputId": "1d708c08-c9e6-4629-f913-3e6f2b6128ed"
   },
   "outputs": [
    {
     "name": "stdout",
     "output_type": "stream",
     "text": [
      "{'_id': ObjectId('62887a9b66e402cb206b9167'), 'name': 'Shyam Ambilkar', 'post': 'Data Engineer', 'salary': 90000, 'location': 'Pune', 'mobile': 9923090436, 'email': 'shyam@gmail.com', 'dept': 'Research and Developement'}\n",
      "{'_id': 1, 'name': 'Sakshi Ambekar', 'post': 'Data Engineer', 'salary': 60000, 'location': 'Pune', 'mobile': 1234567890, 'email': 'sakshi@gmail.com', 'dept': 'Research and Developement'}\n",
      "{'_id': 2, 'name': 'Sachin Bodkhe', 'post': 'ML Engineer', 'salary': 80000, 'location': 'Pune', 'mobile': 1234567890, 'email': 'sachin@gmail.com', 'dept': 'Research and Developement'}\n",
      "{'_id': ObjectId('62887b19f1532ba1ec553e9c'), 'name': 'Rashmi Kakode', 'post': 'Data Analyst', 'salary': 70000, 'location': 'Pune', 'mobile': 1234567890, 'email': 'rashmi@gmail.com', 'dept': 'Research and Developement'}\n",
      "{'_id': ObjectId('62887a9b66e402cb206b9168'), 'name': 'Mayur Kankal', 'post': 'Data Scientiest', 'salary': 90000, 'location': 'Pune', 'mobile': 1234567890, 'email': 'mayur@gmail.com', 'dept': 'Research and Developement'}\n",
      "{'_id': 3, 'name': 'Garima Chauhan', 'post': 'ML Engineer', 'salary': 50000, 'location': 'Pune', 'mobile': 1234567890, 'email': 'garima@gmail.com', 'dept': 'Research and Developement'}\n"
     ]
    }
   ],
   "source": [
    "my_doc = mycol.find().sort('name',-1)\n",
    "\n",
    "for x in my_doc:\n",
    "    print(x)"
   ]
  },
  {
   "cell_type": "code",
   "execution_count": null,
   "metadata": {
    "id": "7db07fa8",
    "outputId": "c7488876-0a51-4ae0-a04b-0925216c33fc"
   },
   "outputs": [
    {
     "name": "stdout",
     "output_type": "stream",
     "text": [
      "{'_id': 3, 'name': 'Garima Chauhan', 'post': 'ML Engineer', 'salary': 50000, 'location': 'Pune', 'mobile': 1234567890, 'email': 'garima@gmail.com', 'dept': 'Research and Developement'}\n",
      "{'_id': ObjectId('62887a9b66e402cb206b9168'), 'name': 'Mayur Kankal', 'post': 'Data Scientiest', 'salary': 90000, 'location': 'Pune', 'mobile': 1234567890, 'email': 'mayur@gmail.com', 'dept': 'Research and Developement'}\n",
      "{'_id': ObjectId('62887b19f1532ba1ec553e9c'), 'name': 'Rashmi Kakode', 'post': 'Data Analyst', 'salary': 70000, 'location': 'Pune', 'mobile': 1234567890, 'email': 'rashmi@gmail.com', 'dept': 'Research and Developement'}\n",
      "{'_id': 2, 'name': 'Sachin Bodkhe', 'post': 'ML Engineer', 'salary': 80000, 'location': 'Pune', 'mobile': 1234567890, 'email': 'sachin@gmail.com', 'dept': 'Research and Developement'}\n",
      "{'_id': 1, 'name': 'Sakshi Ambekar', 'post': 'Data Engineer', 'salary': 60000, 'location': 'Pune', 'mobile': 1234567890, 'email': 'sakshi@gmail.com', 'dept': 'Research and Developement'}\n",
      "{'_id': ObjectId('62887a9b66e402cb206b9167'), 'name': 'Shyam Ambilkar', 'post': 'Data Engineer', 'salary': 90000, 'location': 'Pune', 'mobile': 9923090436, 'email': 'shyam@gmail.com', 'dept': 'Research and Developement'}\n"
     ]
    }
   ],
   "source": [
    "my_doc = mycol.find().sort('name',1)\n",
    "\n",
    "for x in my_doc:\n",
    "    print(x)"
   ]
  },
  {
   "cell_type": "markdown",
   "metadata": {
    "id": "c8c27ccd"
   },
   "source": [
    "## Delete Documents"
   ]
  },
  {
   "cell_type": "markdown",
   "metadata": {
    "id": "bfb88f1e"
   },
   "source": [
    "1. There are two ways to delete documents in MongoDB:\n",
    "    1. Delete One\n",
    "    2. Delete All"
   ]
  },
  {
   "cell_type": "markdown",
   "metadata": {
    "id": "4eeac76c"
   },
   "source": [
    "1. To delete one document, in the MongoDB we use delete_one() method\n",
    "2. The first parameter of the delete_one() method is a query object defining which documents wants to delete "
   ]
  },
  {
   "cell_type": "markdown",
   "metadata": {
    "id": "c2c74aed"
   },
   "source": [
    "**Note: If the query finds more than one documents, only the first occurances is deleted**"
   ]
  },
  {
   "cell_type": "markdown",
   "metadata": {
    "id": "56c856bd"
   },
   "source": [
    "### 1. Delete One Documents"
   ]
  },
  {
   "cell_type": "code",
   "execution_count": null,
   "metadata": {
    "id": "5309cf9e",
    "outputId": "44fa6d90-79f0-4ad2-8091-47a1030752ba"
   },
   "outputs": [
    {
     "data": {
      "text/plain": [
       "<pymongo.results.DeleteResult at 0x23cefbc9f00>"
      ]
     },
     "execution_count": 26,
     "metadata": {},
     "output_type": "execute_result"
    }
   ],
   "source": [
    "my_query = {'post':'Data Analyst'}\n",
    "\n",
    "mycol.delete_one(my_query)"
   ]
  },
  {
   "cell_type": "code",
   "execution_count": null,
   "metadata": {
    "id": "27a94d36",
    "outputId": "c347671a-b9ef-4c51-ff0f-9d077a20aad2"
   },
   "outputs": [
    {
     "name": "stdout",
     "output_type": "stream",
     "text": [
      "{'_id': 3, 'name': 'Garima Chauhan', 'post': 'ML Engineer', 'salary': 50000, 'location': 'Pune', 'mobile': 1234567890, 'email': 'garima@gmail.com', 'dept': 'Research and Developement'}\n",
      "{'_id': ObjectId('62887a9b66e402cb206b9168'), 'name': 'Mayur Kankal', 'post': 'Data Scientiest', 'salary': 90000, 'location': 'Pune', 'mobile': 1234567890, 'email': 'mayur@gmail.com', 'dept': 'Research and Developement'}\n",
      "{'_id': 2, 'name': 'Sachin Bodkhe', 'post': 'ML Engineer', 'salary': 80000, 'location': 'Pune', 'mobile': 1234567890, 'email': 'sachin@gmail.com', 'dept': 'Research and Developement'}\n",
      "{'_id': 1, 'name': 'Sakshi Ambekar', 'post': 'Data Engineer', 'salary': 60000, 'location': 'Pune', 'mobile': 1234567890, 'email': 'sakshi@gmail.com', 'dept': 'Research and Developement'}\n",
      "{'_id': ObjectId('62887a9b66e402cb206b9167'), 'name': 'Shyam Ambilkar', 'post': 'Data Engineer', 'salary': 90000, 'location': 'Pune', 'mobile': 9923090436, 'email': 'shyam@gmail.com', 'dept': 'Research and Developement'}\n"
     ]
    }
   ],
   "source": [
    "my_doc = mycol.find().sort('name',1)\n",
    "\n",
    "for x in my_doc:\n",
    "    print(x)"
   ]
  },
  {
   "cell_type": "markdown",
   "metadata": {
    "id": "5cd2554d"
   },
   "source": [
    "### 2. Delete All Documents"
   ]
  },
  {
   "cell_type": "code",
   "execution_count": null,
   "metadata": {
    "id": "e2a37f0f",
    "outputId": "d2ae3b92-fe72-43e8-e98b-65ae53608b5f"
   },
   "outputs": [
    {
     "name": "stdout",
     "output_type": "stream",
     "text": [
      "<pymongo.results.DeleteResult object at 0x0000023CEFD4C400>\n",
      "3 Document deleted\n"
     ]
    }
   ],
   "source": [
    "my_query = {'name':{'$regex':'^S'}}\n",
    "\n",
    "x = mycol.delete_many(my_query)\n",
    "print(x)\n",
    "print(x.deleted_count, \"Document deleted\")"
   ]
  },
  {
   "cell_type": "markdown",
   "metadata": {
    "id": "ef32c285"
   },
   "source": [
    "### 3. Delete All Documents in a Collection"
   ]
  },
  {
   "cell_type": "code",
   "execution_count": null,
   "metadata": {
    "id": "86eb2284",
    "outputId": "9bd05a49-b9e6-4232-ecd9-6007c834d991"
   },
   "outputs": [
    {
     "name": "stdout",
     "output_type": "stream",
     "text": [
      "2 Document Deleted\n"
     ]
    }
   ],
   "source": [
    "x = mycol.delete_many({})\n",
    "\n",
    "print(x.deleted_count,\"Document Deleted\")"
   ]
  },
  {
   "cell_type": "markdown",
   "metadata": {
    "id": "3cd56f8c"
   },
   "source": [
    "### Delete Collection"
   ]
  },
  {
   "cell_type": "code",
   "execution_count": null,
   "metadata": {
    "id": "073ee38f"
   },
   "outputs": [],
   "source": [
    "mycol.drop()"
   ]
  },
  {
   "cell_type": "code",
   "execution_count": null,
   "metadata": {
    "id": "b18f9796"
   },
   "outputs": [],
   "source": []
  }
 ],
 "metadata": {
  "colab": {
   "name": "Database.ipynb",
   "provenance": []
  },
  "kernelspec": {
   "display_name": "Python 3",
   "language": "python",
   "name": "python3"
  },
  "language_info": {
   "codemirror_mode": {
    "name": "ipython",
    "version": 3
   },
   "file_extension": ".py",
   "mimetype": "text/x-python",
   "name": "python",
   "nbconvert_exporter": "python",
   "pygments_lexer": "ipython3",
   "version": "3.8.5"
  }
 },
 "nbformat": 4,
 "nbformat_minor": 5
}
