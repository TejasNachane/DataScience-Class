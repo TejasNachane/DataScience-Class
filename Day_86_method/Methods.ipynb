{
 "cells": [
  {
   "cell_type": "markdown",
   "id": "cb9df054",
   "metadata": {
    "id": "cb9df054"
   },
   "source": [
    "### Why do we need to Perform Feature Scalling?"
   ]
  },
  {
   "cell_type": "markdown",
   "id": "0870d950",
   "metadata": {
    "id": "0870d950"
   },
   "source": [
    "**If a features variance is order of magnitude more than the variance of others features, that perticular features might dominate others features in the dataset, which is not something we want happening in our model.**\n"
   ]
  },
  {
   "cell_type": "raw",
   "id": "383f2a5a",
   "metadata": {
    "id": "383f2a5a"
   },
   "source": [
    "Area of Sqft - Range 500 to 1000\n",
    "Location\n",
    "BHK -Range 1 to 10\n",
    "Bath"
   ]
  },
  {
   "cell_type": "markdown",
   "id": "ef12267f",
   "metadata": {
    "id": "ef12267f"
   },
   "source": [
    "**Example - House Price Prediction**"
   ]
  },
  {
   "cell_type": "markdown",
   "id": "5147a668",
   "metadata": {
    "id": "5147a668"
   },
   "source": [
    "1. It will have many features like no of Bedrooms, Squarefeet area, of House etc.\n",
    "2. As you can guess the no of Bedrooms will vary between 1 and 5, but the square feet area will range from 500 - 2000\n",
    "3. Huge difference in the range of both features"
   ]
  },
  {
   "cell_type": "markdown",
   "id": "jhkkWb7phVWC",
   "metadata": {
    "id": "jhkkWb7phVWC"
   },
   "source": [
    ""
   ]
  },
  {
   "cell_type": "markdown",
   "id": "0f17c408",
   "metadata": {
    "id": "0f17c408"
   },
   "source": [
    "#### There are several ways to do features scalling. There are some important 5 most common features scalling Techniques:\n",
    "    1. Absoluate Maximum Scalling\n",
    "    2. Min Max Scalling\n",
    "    3. Normalization\n",
    "    4. Standardization\n",
    "    5. Robust Scalling"
   ]
  },
  {
   "cell_type": "markdown",
   "id": "1fa6a299",
   "metadata": {
    "id": "1fa6a299"
   },
   "source": [
    "### 1. Absolute Maximum Scalling"
   ]
  },
  {
   "cell_type": "markdown",
   "id": "fb664f74",
   "metadata": {
    "id": "fb664f74"
   },
   "source": [
    "1. Find the Absolute value of the features in dataset\n",
    "2. Devide all the values in the columns[features] by that maximum value\n",
    "3. If we do this all for the Numerical varianace [columns] \n",
    "4. all values between -1 to 1"
   ]
  },
  {
   "cell_type": "code",
   "execution_count": null,
   "id": "cf831496",
   "metadata": {
    "id": "cf831496"
   },
   "outputs": [],
   "source": [
    "import numpy as np"
   ]
  },
  {
   "cell_type": "code",
   "execution_count": null,
   "id": "c66d942a",
   "metadata": {
    "id": "c66d942a"
   },
   "outputs": [],
   "source": [
    "x = np.arange(0,20,0.4)\n",
    "y1 = np.sin(x)"
   ]
  },
  {
   "cell_type": "code",
   "execution_count": null,
   "id": "78229767",
   "metadata": {
    "id": "78229767",
    "outputId": "73aad2f1-de81-4958-ccc0-1f40b4f9e0bc"
   },
   "outputs": [
    {
     "name": "stdout",
     "output_type": "stream",
     "text": [
      "[ 0.          0.38941834  0.71735609  0.93203909  0.9995736   0.90929743\n",
      "  0.67546318  0.33498815 -0.05837414 -0.44252044 -0.7568025  -0.95160207\n",
      " -0.99616461 -0.88345466 -0.63126664 -0.2794155   0.1165492   0.49411335\n",
      "  0.79366786  0.96791967  0.98935825  0.85459891  0.58491719  0.22288991\n",
      " -0.17432678 -0.54402111 -0.82782647 -0.98093623 -0.97917773 -0.82282859\n",
      " -0.53657292 -0.16560418  0.23150983  0.59207351  0.85916181  0.99060736\n",
      "  0.96565778  0.78825207  0.48639869  0.10775365 -0.28790332 -0.63810668\n",
      " -0.88756703 -0.99690007 -0.9488445  -0.75098725 -0.43456562 -0.04953564\n",
      "  0.34331493  0.68196362]\n"
     ]
    }
   ],
   "source": [
    "print(y1)"
   ]
  },
  {
   "cell_type": "code",
   "execution_count": null,
   "id": "0135b4fa",
   "metadata": {
    "id": "0135b4fa"
   },
   "outputs": [],
   "source": [
    "y2 = np.cos(x) * 50"
   ]
  },
  {
   "cell_type": "code",
   "execution_count": null,
   "id": "5bd00dbf",
   "metadata": {
    "id": "5bd00dbf",
    "outputId": "99f3dc6b-5c07-43c6-9c18-95ed205ab2e4"
   },
   "outputs": [
    {
     "name": "stdout",
     "output_type": "stream",
     "text": [
      "[ 50.          46.0530497   34.83533547  18.11788772  -1.45997612\n",
      " -20.80734183 -36.86968578 -47.11111703 -49.91473879 -44.83792082\n",
      " -32.68218104 -15.3666435    4.37494917  23.42583357  38.77829393\n",
      "  48.00851433  49.65924594  43.46987452  30.41756573  12.56299213\n",
      "  -7.27500169 -25.96443271 -40.5546507  -48.74218107 -49.23439279\n",
      " -41.95357645 -28.04921287  -9.71649532  10.15024319  28.41448149\n",
      "  42.19269794  49.30961511  48.64162828  40.29419788  25.58519962\n",
      "   6.83686091 -12.99086781 -30.76762415 -43.68684915 -49.70888126\n",
      " -47.88297402 -38.49739803 -23.03392937  -3.93390974  15.78718775\n",
      "  33.01583541  45.03200862  49.93861783  46.96101733  36.56930478]\n"
     ]
    }
   ],
   "source": [
    "print(y2)"
   ]
  },
  {
   "cell_type": "code",
   "execution_count": null,
   "id": "f52f6a94",
   "metadata": {
    "id": "f52f6a94"
   },
   "outputs": [],
   "source": [
    "y1_new= y1 / max(y1)"
   ]
  },
  {
   "cell_type": "code",
   "execution_count": null,
   "id": "7b1e0554",
   "metadata": {
    "id": "7b1e0554",
    "outputId": "0abdc52f-78c4-49e3-8efe-64b5fa5db863"
   },
   "outputs": [
    {
     "name": "stdout",
     "output_type": "stream",
     "text": [
      "[ 0.          0.38958446  0.7176621   0.93243667  1.          0.90968531\n",
      "  0.67575132  0.33513105 -0.05839904 -0.44270921 -0.75712533 -0.95200801\n",
      " -0.99658955 -0.88383152 -0.63153592 -0.27953469  0.11659892  0.49432413\n",
      "  0.79400643  0.96833257  0.98978029  0.85496346  0.58516671  0.22298499\n",
      " -0.17440115 -0.54425318 -0.8281796  -0.98135468 -0.97959543 -0.8231796\n",
      " -0.53680181 -0.16567482  0.23160858  0.59232608  0.85952832  0.99102993\n",
      "  0.96606971  0.78858832  0.48660618  0.10779962 -0.28802613 -0.63837889\n",
      " -0.88794565 -0.99732532 -0.94924925 -0.7513076  -0.434751   -0.04955677\n",
      "  0.34346138  0.68225453]\n"
     ]
    }
   ],
   "source": [
    "print(y1_new)"
   ]
  },
  {
   "cell_type": "code",
   "execution_count": null,
   "id": "d6d1ad5b",
   "metadata": {
    "id": "d6d1ad5b"
   },
   "outputs": [],
   "source": [
    "y2_new= y2 / max(y2)"
   ]
  },
  {
   "cell_type": "code",
   "execution_count": null,
   "id": "d957c189",
   "metadata": {
    "id": "d957c189",
    "outputId": "3429a749-1863-4df4-8c9b-c59a1cfd3115"
   },
   "outputs": [
    {
     "name": "stdout",
     "output_type": "stream",
     "text": [
      "[ 1.          0.92106099  0.69670671  0.36235775 -0.02919952 -0.41614684\n",
      " -0.73739372 -0.94222234 -0.99829478 -0.89675842 -0.65364362 -0.30733287\n",
      "  0.08749898  0.46851667  0.77556588  0.96017029  0.99318492  0.86939749\n",
      "  0.60835131  0.25125984 -0.14550003 -0.51928865 -0.81109301 -0.97484362\n",
      " -0.98468786 -0.83907153 -0.56098426 -0.19432991  0.20300486  0.56828963\n",
      "  0.84385396  0.9861923   0.97283257  0.80588396  0.51170399  0.13673722\n",
      " -0.25981736 -0.61535248 -0.87373698 -0.99417763 -0.95765948 -0.76994796\n",
      " -0.46067859 -0.07867819  0.31574375  0.66031671  0.90064017  0.99877236\n",
      "  0.93922035  0.7313861 ]\n"
     ]
    }
   ],
   "source": [
    "print(y2_new)"
   ]
  },
  {
   "cell_type": "code",
   "execution_count": null,
   "id": "23f0eebc",
   "metadata": {
    "id": "23f0eebc",
    "outputId": "6e2d1e85-b607-45a7-a4b9-0201bc0930de"
   },
   "outputs": [
    {
     "data": {
      "text/plain": [
       "0.9995736030415051"
      ]
     },
     "execution_count": 12,
     "metadata": {},
     "output_type": "execute_result"
    }
   ],
   "source": [
    "max(y1)"
   ]
  },
  {
   "cell_type": "code",
   "execution_count": null,
   "id": "022c31dc",
   "metadata": {
    "id": "022c31dc",
    "outputId": "9ece9c81-5a70-4e33-9afc-9affa4dbd8d2"
   },
   "outputs": [
    {
     "data": {
      "text/plain": [
       "50.0"
      ]
     },
     "execution_count": 13,
     "metadata": {},
     "output_type": "execute_result"
    }
   ],
   "source": [
    "max(y2)"
   ]
  },
  {
   "cell_type": "code",
   "execution_count": null,
   "id": "8f6e4caf",
   "metadata": {
    "id": "8f6e4caf",
    "outputId": "c73e5c6c-979d-42c5-e82b-4f668d39050e"
   },
   "outputs": [
    {
     "name": "stdout",
     "output_type": "stream",
     "text": [
      "[ 0.          0.38941834  0.71735609  0.93203909  0.9995736   0.90929743\n",
      "  0.67546318  0.33498815 -0.05837414 -0.44252044 -0.7568025  -0.95160207\n",
      " -0.99616461 -0.88345466 -0.63126664 -0.2794155   0.1165492   0.49411335\n",
      "  0.79366786  0.96791967  0.98935825  0.85459891  0.58491719  0.22288991\n",
      " -0.17432678 -0.54402111 -0.82782647 -0.98093623 -0.97917773 -0.82282859\n",
      " -0.53657292 -0.16560418  0.23150983  0.59207351  0.85916181  0.99060736\n",
      "  0.96565778  0.78825207  0.48639869  0.10775365 -0.28790332 -0.63810668\n",
      " -0.88756703 -0.99690007 -0.9488445  -0.75098725 -0.43456562 -0.04953564\n",
      "  0.34331493  0.68196362]\n",
      "[ 0.          0.38958446  0.7176621   0.93243667  1.          0.90968531\n",
      "  0.67575132  0.33513105 -0.05839904 -0.44270921 -0.75712533 -0.95200801\n",
      " -0.99658955 -0.88383152 -0.63153592 -0.27953469  0.11659892  0.49432413\n",
      "  0.79400643  0.96833257  0.98978029  0.85496346  0.58516671  0.22298499\n",
      " -0.17440115 -0.54425318 -0.8281796  -0.98135468 -0.97959543 -0.8231796\n",
      " -0.53680181 -0.16567482  0.23160858  0.59232608  0.85952832  0.99102993\n",
      "  0.96606971  0.78858832  0.48660618  0.10779962 -0.28802613 -0.63837889\n",
      " -0.88794565 -0.99732532 -0.94924925 -0.7513076  -0.434751   -0.04955677\n",
      "  0.34346138  0.68225453]\n"
     ]
    }
   ],
   "source": [
    "print(y1)\n",
    "print(y1_new)"
   ]
  },
  {
   "cell_type": "code",
   "execution_count": null,
   "id": "34b30bc8",
   "metadata": {
    "id": "34b30bc8",
    "outputId": "5edc8ac2-d0a2-4ec2-e134-7f162cda4f85"
   },
   "outputs": [
    {
     "name": "stdout",
     "output_type": "stream",
     "text": [
      "[ 50.          46.0530497   34.83533547  18.11788772  -1.45997612\n",
      " -20.80734183 -36.86968578 -47.11111703 -49.91473879 -44.83792082\n",
      " -32.68218104 -15.3666435    4.37494917  23.42583357  38.77829393\n",
      "  48.00851433  49.65924594  43.46987452  30.41756573  12.56299213\n",
      "  -7.27500169 -25.96443271 -40.5546507  -48.74218107 -49.23439279\n",
      " -41.95357645 -28.04921287  -9.71649532  10.15024319  28.41448149\n",
      "  42.19269794  49.30961511  48.64162828  40.29419788  25.58519962\n",
      "   6.83686091 -12.99086781 -30.76762415 -43.68684915 -49.70888126\n",
      " -47.88297402 -38.49739803 -23.03392937  -3.93390974  15.78718775\n",
      "  33.01583541  45.03200862  49.93861783  46.96101733  36.56930478]\n",
      "[ 1.          0.92106099  0.69670671  0.36235775 -0.02919952 -0.41614684\n",
      " -0.73739372 -0.94222234 -0.99829478 -0.89675842 -0.65364362 -0.30733287\n",
      "  0.08749898  0.46851667  0.77556588  0.96017029  0.99318492  0.86939749\n",
      "  0.60835131  0.25125984 -0.14550003 -0.51928865 -0.81109301 -0.97484362\n",
      " -0.98468786 -0.83907153 -0.56098426 -0.19432991  0.20300486  0.56828963\n",
      "  0.84385396  0.9861923   0.97283257  0.80588396  0.51170399  0.13673722\n",
      " -0.25981736 -0.61535248 -0.87373698 -0.99417763 -0.95765948 -0.76994796\n",
      " -0.46067859 -0.07867819  0.31574375  0.66031671  0.90064017  0.99877236\n",
      "  0.93922035  0.7313861 ]\n"
     ]
    }
   ],
   "source": [
    "print(y2)\n",
    "print(y2_new)"
   ]
  },
  {
   "cell_type": "markdown",
   "id": "e4da0adb",
   "metadata": {
    "id": "e4da0adb"
   },
   "source": [
    "### Disadvantages "
   ]
  },
  {
   "cell_type": "markdown",
   "id": "a50b597a",
   "metadata": {
    "id": "a50b597a"
   },
   "source": [
    "1. Absolute feature scalling techniues is to sensitive to outliers.\n",
    "2. "
   ]
  },
  {
   "cell_type": "markdown",
   "id": "776c58d4",
   "metadata": {
    "id": "776c58d4"
   },
   "source": [
    "### 2. Min- Max Scalling"
   ]
  },
  {
   "cell_type": "code",
   "execution_count": null,
   "id": "b3c98fdb",
   "metadata": {
    "id": "b3c98fdb"
   },
   "outputs": [],
   "source": [
    "# X_new = X - X_min / X_max - X_min"
   ]
  },
  {
   "cell_type": "markdown",
   "id": "cf4a167d",
   "metadata": {
    "id": "cf4a167d"
   },
   "source": [
    "1. Also known as min-max scaling or min-max normalization, \n",
    "2. rescaling is the simplest method and consists in rescaling the range of features to scale the range in [0, 1] or [−1, 1]. \n",
    "3. Selecting the target range depends on the nature of the data."
   ]
  },
  {
   "cell_type": "markdown",
   "id": "733e57cf",
   "metadata": {
    "id": "733e57cf"
   },
   "source": [
    "![](data:image/png;base64,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)"
   ]
  },
  {
   "cell_type": "code",
   "execution_count": null,
   "id": "4d044a22",
   "metadata": {
    "id": "4d044a22"
   },
   "outputs": [],
   "source": [
    "import numpy as np"
   ]
  },
  {
   "cell_type": "code",
   "execution_count": null,
   "id": "d8b7f551",
   "metadata": {
    "id": "d8b7f551"
   },
   "outputs": [],
   "source": [
    "x = np.arange(0,20,0.4)"
   ]
  },
  {
   "cell_type": "code",
   "execution_count": null,
   "id": "81cd5182",
   "metadata": {
    "id": "81cd5182",
    "outputId": "1f373ea7-1045-4ba1-904a-ab2d487a3d93"
   },
   "outputs": [
    {
     "name": "stdout",
     "output_type": "stream",
     "text": [
      "[ 0.   0.4  0.8  1.2  1.6  2.   2.4  2.8  3.2  3.6  4.   4.4  4.8  5.2\n",
      "  5.6  6.   6.4  6.8  7.2  7.6  8.   8.4  8.8  9.2  9.6 10.  10.4 10.8\n",
      " 11.2 11.6 12.  12.4 12.8 13.2 13.6 14.  14.4 14.8 15.2 15.6 16.  16.4\n",
      " 16.8 17.2 17.6 18.  18.4 18.8 19.2 19.6]\n"
     ]
    }
   ],
   "source": [
    "print(x)"
   ]
  },
  {
   "cell_type": "code",
   "execution_count": null,
   "id": "cfedd61f",
   "metadata": {
    "id": "cfedd61f"
   },
   "outputs": [],
   "source": [
    "X_new = (x - min(x)) / (max(x) - min(x))"
   ]
  },
  {
   "cell_type": "code",
   "execution_count": null,
   "id": "0f49e1ca",
   "metadata": {
    "id": "0f49e1ca",
    "outputId": "7a811329-a0c8-48c8-955d-c90250b43b54"
   },
   "outputs": [
    {
     "name": "stdout",
     "output_type": "stream",
     "text": [
      "[0.         0.02040816 0.04081633 0.06122449 0.08163265 0.10204082\n",
      " 0.12244898 0.14285714 0.16326531 0.18367347 0.20408163 0.2244898\n",
      " 0.24489796 0.26530612 0.28571429 0.30612245 0.32653061 0.34693878\n",
      " 0.36734694 0.3877551  0.40816327 0.42857143 0.44897959 0.46938776\n",
      " 0.48979592 0.51020408 0.53061224 0.55102041 0.57142857 0.59183673\n",
      " 0.6122449  0.63265306 0.65306122 0.67346939 0.69387755 0.71428571\n",
      " 0.73469388 0.75510204 0.7755102  0.79591837 0.81632653 0.83673469\n",
      " 0.85714286 0.87755102 0.89795918 0.91836735 0.93877551 0.95918367\n",
      " 0.97959184 1.        ]\n"
     ]
    }
   ],
   "source": [
    "print(X_new)"
   ]
  },
  {
   "cell_type": "markdown",
   "id": "693f8cad",
   "metadata": {
    "id": "693f8cad"
   },
   "source": [
    "### 3. Normalization"
   ]
  },
  {
   "cell_type": "markdown",
   "id": "6b142c7f",
   "metadata": {
    "id": "6b142c7f"
   },
   "source": [
    "![](data:image/png;base64,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)"
   ]
  },
  {
   "cell_type": "code",
   "execution_count": null,
   "id": "10458d3c",
   "metadata": {
    "id": "10458d3c"
   },
   "outputs": [],
   "source": [
    "import numpy as np"
   ]
  },
  {
   "cell_type": "code",
   "execution_count": null,
   "id": "d9aad5e6",
   "metadata": {
    "id": "d9aad5e6",
    "outputId": "3b5268fe-7d27-4c70-cd97-06cb0a7aaea3"
   },
   "outputs": [
    {
     "name": "stdout",
     "output_type": "stream",
     "text": [
      "[ 0.   0.4  0.8  1.2  1.6  2.   2.4  2.8  3.2  3.6  4.   4.4  4.8  5.2\n",
      "  5.6  6.   6.4  6.8  7.2  7.6  8.   8.4  8.8  9.2  9.6 10.  10.4 10.8\n",
      " 11.2 11.6 12.  12.4 12.8 13.2 13.6 14.  14.4 14.8 15.2 15.6 16.  16.4\n",
      " 16.8 17.2 17.6 18.  18.4 18.8 19.2 19.6]\n"
     ]
    }
   ],
   "source": [
    "x = np.arange(0,20,0.4)\n",
    "print(x)"
   ]
  },
  {
   "cell_type": "code",
   "execution_count": null,
   "id": "72ac4158",
   "metadata": {
    "id": "72ac4158"
   },
   "outputs": [],
   "source": [
    "X_new = (x - np.mean(x)) / (max(x) - min(x))"
   ]
  },
  {
   "cell_type": "code",
   "execution_count": null,
   "id": "03bc734b",
   "metadata": {
    "id": "03bc734b",
    "outputId": "88eaaaa5-17e8-4276-8c18-b5d335397e5d"
   },
   "outputs": [
    {
     "name": "stdout",
     "output_type": "stream",
     "text": [
      "[-0.5        -0.47959184 -0.45918367 -0.43877551 -0.41836735 -0.39795918\n",
      " -0.37755102 -0.35714286 -0.33673469 -0.31632653 -0.29591837 -0.2755102\n",
      " -0.25510204 -0.23469388 -0.21428571 -0.19387755 -0.17346939 -0.15306122\n",
      " -0.13265306 -0.1122449  -0.09183673 -0.07142857 -0.05102041 -0.03061224\n",
      " -0.01020408  0.01020408  0.03061224  0.05102041  0.07142857  0.09183673\n",
      "  0.1122449   0.13265306  0.15306122  0.17346939  0.19387755  0.21428571\n",
      "  0.23469388  0.25510204  0.2755102   0.29591837  0.31632653  0.33673469\n",
      "  0.35714286  0.37755102  0.39795918  0.41836735  0.43877551  0.45918367\n",
      "  0.47959184  0.5       ]\n"
     ]
    }
   ],
   "source": [
    "print(X_new)"
   ]
  },
  {
   "cell_type": "markdown",
   "id": "8a1cc497",
   "metadata": {
    "id": "8a1cc497"
   },
   "source": [
    "### 4. Standardization"
   ]
  },
  {
   "cell_type": "markdown",
   "id": "e4824a66",
   "metadata": {
    "id": "e4824a66"
   },
   "source": [
    "1. We calculate Z - value for each of the data point and replace those value with, "
   ]
  },
  {
   "cell_type": "markdown",
   "id": "1b86051b",
   "metadata": {
    "id": "1b86051b"
   },
   "source": [
    "![](data:image/png;base64,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)"
   ]
  },
  {
   "cell_type": "markdown",
   "id": "4600ed01",
   "metadata": {
    "id": "4600ed01"
   },
   "source": [
    "2. Make sure that all the features are centered around the mean value with standard deviation value of 1"
   ]
  },
  {
   "cell_type": "code",
   "execution_count": null,
   "id": "9f078bb1",
   "metadata": {
    "id": "9f078bb1"
   },
   "outputs": [],
   "source": [
    "import numpy as np"
   ]
  },
  {
   "cell_type": "code",
   "execution_count": null,
   "id": "4e6cae61",
   "metadata": {
    "id": "4e6cae61",
    "outputId": "9af50aa6-481a-4751-b2d5-698b6e3258dd"
   },
   "outputs": [
    {
     "name": "stdout",
     "output_type": "stream",
     "text": [
      "[ 0.   0.4  0.8  1.2  1.6  2.   2.4  2.8  3.2  3.6  4.   4.4  4.8  5.2\n",
      "  5.6  6.   6.4  6.8  7.2  7.6  8.   8.4  8.8  9.2  9.6 10.  10.4 10.8\n",
      " 11.2 11.6 12.  12.4 12.8 13.2 13.6 14.  14.4 14.8 15.2 15.6 16.  16.4\n",
      " 16.8 17.2 17.6 18.  18.4 18.8 19.2 19.6]\n"
     ]
    }
   ],
   "source": [
    "x = np.arange(0,20,0.4)\n",
    "print(x)"
   ]
  },
  {
   "cell_type": "code",
   "execution_count": null,
   "id": "beb18eaf",
   "metadata": {
    "id": "beb18eaf"
   },
   "outputs": [],
   "source": [
    "X_new = (x - np.mean(x)) / np.std(x) "
   ]
  },
  {
   "cell_type": "code",
   "execution_count": null,
   "id": "f7ced87e",
   "metadata": {
    "id": "f7ced87e",
    "outputId": "5c391b05-3f0e-4881-83cf-c8c37c52e04b"
   },
   "outputs": [
    {
     "data": {
      "text/plain": [
       "array([-1.69774938, -1.62845348, -1.55915759, -1.4898617 , -1.4205658 ,\n",
       "       -1.35126991, -1.28197402, -1.21267813, -1.14338223, -1.07408634,\n",
       "       -1.00479045, -0.93549455, -0.86619866, -0.79690277, -0.72760688,\n",
       "       -0.65831098, -0.58901509, -0.5197192 , -0.4504233 , -0.38112741,\n",
       "       -0.31183152, -0.24253563, -0.17323973, -0.10394384, -0.03464795,\n",
       "        0.03464795,  0.10394384,  0.17323973,  0.24253563,  0.31183152,\n",
       "        0.38112741,  0.4504233 ,  0.5197192 ,  0.58901509,  0.65831098,\n",
       "        0.72760688,  0.79690277,  0.86619866,  0.93549455,  1.00479045,\n",
       "        1.07408634,  1.14338223,  1.21267813,  1.28197402,  1.35126991,\n",
       "        1.4205658 ,  1.4898617 ,  1.55915759,  1.62845348,  1.69774938])"
      ]
     },
     "execution_count": 29,
     "metadata": {},
     "output_type": "execute_result"
    }
   ],
   "source": [
    "X_new"
   ]
  },
  {
   "cell_type": "markdown",
   "id": "cfea1518",
   "metadata": {
    "id": "cfea1518"
   },
   "source": [
    "### 5. Robust Scalling"
   ]
  },
  {
   "cell_type": "markdown",
   "id": "88ea4ae7",
   "metadata": {
    "id": "88ea4ae7"
   },
   "source": [
    "**X_new = X - X_median / IQR**"
   ]
  },
  {
   "cell_type": "markdown",
   "id": "54cc0826",
   "metadata": {
    "id": "54cc0826"
   },
   "source": [
    "![](https://miro.medium.com/max/1008/1*N0cPiRvreurI_rKU55g1Eg.png)"
   ]
  },
  {
   "cell_type": "markdown",
   "id": "3fc8b21c",
   "metadata": {
    "id": "3fc8b21c"
   },
   "source": [
    "1. IQR is distance between the 25 percentile point and 50th points"
   ]
  },
  {
   "cell_type": "code",
   "execution_count": null,
   "id": "e4ebfac7",
   "metadata": {
    "id": "e4ebfac7"
   },
   "outputs": [],
   "source": [
    "from sklearn.preprocessing import RobustScaler"
   ]
  },
  {
   "cell_type": "code",
   "execution_count": null,
   "id": "e36d5587",
   "metadata": {
    "id": "e36d5587",
    "outputId": "4c9c1c5a-c87e-4932-fa8d-896b376024d7"
   },
   "outputs": [
    {
     "name": "stdout",
     "output_type": "stream",
     "text": [
      "[[1.0, -2, 2.0], [-2.0, 1, 3.0], [4.0, 1.0, -2]]\n"
     ]
    }
   ],
   "source": [
    "x = [[1., -2, 2.],\n",
    "     [-2., 1, 3.],\n",
    "    [4., 1., -2]]\n",
    "print(x)"
   ]
  },
  {
   "cell_type": "code",
   "execution_count": null,
   "id": "3fb0e5c9",
   "metadata": {
    "id": "3fb0e5c9"
   },
   "outputs": [],
   "source": [
    "transform_scaller = RobustScaler().fit(x)"
   ]
  },
  {
   "cell_type": "code",
   "execution_count": null,
   "id": "7580d363",
   "metadata": {
    "id": "7580d363",
    "outputId": "6e3f5687-5d93-4740-8680-af2888465e10"
   },
   "outputs": [
    {
     "data": {
      "text/plain": [
       "RobustScaler()"
      ]
     },
     "execution_count": 35,
     "metadata": {},
     "output_type": "execute_result"
    }
   ],
   "source": [
    "transform_scaller"
   ]
  },
  {
   "cell_type": "code",
   "execution_count": null,
   "id": "c4183146",
   "metadata": {
    "id": "c4183146",
    "outputId": "dd17a933-752f-4877-9a1a-c7cfc3327fd2"
   },
   "outputs": [
    {
     "data": {
      "text/plain": [
       "array([[ 0. , -2. ,  0. ],\n",
       "       [-1. ,  0. ,  0.4],\n",
       "       [ 1. ,  0. , -1.6]])"
      ]
     },
     "execution_count": 37,
     "metadata": {},
     "output_type": "execute_result"
    }
   ],
   "source": [
    "transform_scaller.transform(x)"
   ]
  },
  {
   "cell_type": "markdown",
   "id": "9d54ad75",
   "metadata": {
    "id": "9d54ad75"
   },
   "source": [
    "1. fit():\n",
    "    1. calculate the median and quantile to be used for scalling\n",
    "2. transform:\n",
    "    1. Center and scale the data"
   ]
  },
  {
   "cell_type": "code",
   "execution_count": null,
   "id": "7c7b1914",
   "metadata": {
    "id": "7c7b1914"
   },
   "outputs": [],
   "source": [
    "# help(RobustScaler)"
   ]
  },
  {
   "cell_type": "code",
   "execution_count": null,
   "id": "8a3b98fa",
   "metadata": {
    "id": "8a3b98fa"
   },
   "outputs": [],
   "source": [
    "from sklearn.preprocessing import RobustScaler, MinMaxScaler"
   ]
  },
  {
   "cell_type": "code",
   "execution_count": null,
   "id": "7b005721",
   "metadata": {
    "id": "7b005721"
   },
   "outputs": [],
   "source": [
    "# help(MinMaxScaler)"
   ]
  },
  {
   "cell_type": "code",
   "execution_count": null,
   "id": "a251cc7f",
   "metadata": {
    "id": "a251cc7f"
   },
   "outputs": [],
   "source": [
    ""
   ]
  }
 ],
 "metadata": {
  "colab": {
   "name": "Methods.ipynb",
   "provenance": []
  },
  "kernelspec": {
   "display_name": "Python 3",
   "language": "python",
   "name": "python3"
  },
  "language_info": {
   "codemirror_mode": {
    "name": "ipython",
    "version": 3
   },
   "file_extension": ".py",
   "mimetype": "text/x-python",
   "name": "python",
   "nbconvert_exporter": "python",
   "pygments_lexer": "ipython3",
   "version": "3.8.8"
  }
 },
 "nbformat": 4,
 "nbformat_minor": 5
}
