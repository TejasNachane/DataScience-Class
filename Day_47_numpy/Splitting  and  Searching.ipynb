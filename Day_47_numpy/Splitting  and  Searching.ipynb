{
 "cells": [
  {
   "cell_type": "markdown",
   "metadata": {},
   "source": [
    "# Splitting Numpy Arrays"
   ]
  },
  {
   "cell_type": "code",
   "execution_count": 1,
   "metadata": {},
   "outputs": [],
   "source": [
    "import numpy as np"
   ]
  },
  {
   "cell_type": "code",
   "execution_count": 2,
   "metadata": {},
   "outputs": [
    {
     "name": "stdout",
     "output_type": "stream",
     "text": [
      "[array([10, 20, 30]), array([40, 50, 60]), array([70, 80, 90])]\n"
     ]
    }
   ],
   "source": [
    "my_array = np.array([10,20,30,40,50,60,70,80,90])\n",
    "\n",
    "new_array = np.array_split(my_array, 3)\n",
    "print(new_array)"
   ]
  },
  {
   "cell_type": "code",
   "execution_count": 3,
   "metadata": {},
   "outputs": [
    {
     "name": "stdout",
     "output_type": "stream",
     "text": [
      "[array([10, 20, 30]), array([40, 50]), array([60, 70]), array([80, 90])]\n"
     ]
    }
   ],
   "source": [
    "my_array = np.array([10,20,30,40,50,60,70,80,90])\n",
    "\n",
    "new_array = np.array_split(my_array, 4)\n",
    "print(new_array)"
   ]
  },
  {
   "cell_type": "code",
   "execution_count": 4,
   "metadata": {},
   "outputs": [
    {
     "name": "stdout",
     "output_type": "stream",
     "text": [
      "[40 50]\n"
     ]
    }
   ],
   "source": [
    "print(new_array[1])"
   ]
  },
  {
   "cell_type": "code",
   "execution_count": 5,
   "metadata": {},
   "outputs": [
    {
     "name": "stdout",
     "output_type": "stream",
     "text": [
      "[80 90]\n"
     ]
    }
   ],
   "source": [
    "print(new_array[3])"
   ]
  },
  {
   "cell_type": "code",
   "execution_count": 7,
   "metadata": {},
   "outputs": [
    {
     "name": "stdout",
     "output_type": "stream",
     "text": [
      "90\n"
     ]
    }
   ],
   "source": [
    "print(new_array[3][-1])"
   ]
  },
  {
   "cell_type": "code",
   "execution_count": 8,
   "metadata": {},
   "outputs": [
    {
     "name": "stdout",
     "output_type": "stream",
     "text": [
      "70\n"
     ]
    }
   ],
   "source": [
    "print(new_array[2][-1])"
   ]
  },
  {
   "cell_type": "code",
   "execution_count": 9,
   "metadata": {},
   "outputs": [
    {
     "name": "stdout",
     "output_type": "stream",
     "text": [
      "[10 20]\n"
     ]
    }
   ],
   "source": [
    "print(new_array[0][0:2])"
   ]
  },
  {
   "cell_type": "markdown",
   "metadata": {},
   "source": [
    "## Splitting 2-D Arrays"
   ]
  },
  {
   "cell_type": "code",
   "execution_count": 14,
   "metadata": {},
   "outputs": [
    {
     "name": "stdout",
     "output_type": "stream",
     "text": [
      "[array([[10, 20, 30, 40],\n",
      "       [50, 60, 70, 80]]), array([[100, 110, 120, 130]]), array([[140, 150, 160, 170]])]\n"
     ]
    }
   ],
   "source": [
    "my_array = np.array([[10,20,30,40],[50,60,70,80],[100,110,120,130],[140,150,160,170]])\n",
    "\n",
    "new_array = np.array_split(my_array, 3)\n",
    "print(new_array)"
   ]
  },
  {
   "cell_type": "code",
   "execution_count": 16,
   "metadata": {},
   "outputs": [
    {
     "name": "stdout",
     "output_type": "stream",
     "text": [
      "[array([[10, 20, 30, 40]]), array([[50, 60, 70, 80]]), array([[100, 110, 120, 130]]), array([[140, 150, 160, 170]])]\n"
     ]
    }
   ],
   "source": [
    "my_array = np.array([[10,20,30,40],[50,60,70,80],[100,110,120,130],[140,150,160,170]])\n",
    "\n",
    "new_array = np.array_split(my_array, 4)\n",
    "print(new_array)"
   ]
  },
  {
   "cell_type": "code",
   "execution_count": 21,
   "metadata": {},
   "outputs": [
    {
     "name": "stdout",
     "output_type": "stream",
     "text": [
      "20\n"
     ]
    }
   ],
   "source": [
    "print(new_array[0][0][1])"
   ]
  },
  {
   "cell_type": "code",
   "execution_count": 24,
   "metadata": {},
   "outputs": [
    {
     "name": "stdout",
     "output_type": "stream",
     "text": [
      "120\n"
     ]
    }
   ],
   "source": [
    "print(new_array[2][0][2])"
   ]
  },
  {
   "cell_type": "code",
   "execution_count": 26,
   "metadata": {},
   "outputs": [
    {
     "name": "stdout",
     "output_type": "stream",
     "text": [
      "[array([[ 10,  20],\n",
      "       [ 50,  60],\n",
      "       [100, 110],\n",
      "       [140, 150]]), array([[ 30,  40],\n",
      "       [ 70,  80],\n",
      "       [120, 130],\n",
      "       [160, 170]])]\n"
     ]
    }
   ],
   "source": [
    "my_array = np.array([[10,20,30,40],[50,60,70,80],[100,110,120,130],[140,150,160,170]])\n",
    "\n",
    "new_array = np.array_split(my_array, 2, axis=1)\n",
    "print(new_array)"
   ]
  },
  {
   "cell_type": "code",
   "execution_count": 30,
   "metadata": {},
   "outputs": [
    {
     "name": "stdout",
     "output_type": "stream",
     "text": [
      "[array([[ 10,  20],\n",
      "       [ 50,  60],\n",
      "       [100, 110],\n",
      "       [140, 150]]), array([[ 30,  40],\n",
      "       [ 70,  80],\n",
      "       [120, 130],\n",
      "       [160, 170]])]\n"
     ]
    }
   ],
   "source": [
    "my_array = np.array([[10,20,30,40],[50,60,70,80],[100,110,120,130],[140,150,160,170]])\n",
    "\n",
    "new_array = np.hsplit(my_array, 2)\n",
    "print(new_array)"
   ]
  },
  {
   "cell_type": "code",
   "execution_count": 31,
   "metadata": {},
   "outputs": [
    {
     "name": "stdout",
     "output_type": "stream",
     "text": [
      "[array([[ 10,  20],\n",
      "       [ 50,  60],\n",
      "       [100, 110],\n",
      "       [140, 150]]), array([[ 30,  40],\n",
      "       [ 70,  80],\n",
      "       [120, 130],\n",
      "       [160, 170]]), array([[23, 45],\n",
      "       [34, 56],\n",
      "       [35, 67],\n",
      "       [78, 79]])]\n"
     ]
    }
   ],
   "source": [
    "my_array = np.array([[10,20,30,40,23,45],[50,60,70,80,34,56],[100,110,120,130,35,67],[140,150,160,170,78,79]])\n",
    "\n",
    "new_array = np.hsplit(my_array, 3)\n",
    "print(new_array)"
   ]
  },
  {
   "cell_type": "code",
   "execution_count": null,
   "metadata": {},
   "outputs": [],
   "source": [
    "my_array = np.array([[10,20,30,40,23,45],[50,60,70,80,34,56],[100,110,120,130,35,67],[140,150,160,170,78,79]])\n",
    "\n",
    "new_array = np.hsplit(my_array, 4)\n",
    "print(new_array)"
   ]
  },
  {
   "cell_type": "code",
   "execution_count": 33,
   "metadata": {},
   "outputs": [
    {
     "name": "stdout",
     "output_type": "stream",
     "text": [
      "[array([[ 10],\n",
      "       [ 50],\n",
      "       [100],\n",
      "       [140]]), array([[ 20],\n",
      "       [ 60],\n",
      "       [110],\n",
      "       [150]]), array([[ 30],\n",
      "       [ 70],\n",
      "       [120],\n",
      "       [160]]), array([[ 40],\n",
      "       [ 80],\n",
      "       [130],\n",
      "       [170]]), array([[23],\n",
      "       [34],\n",
      "       [35],\n",
      "       [78]]), array([[45],\n",
      "       [56],\n",
      "       [67],\n",
      "       [79]])]\n"
     ]
    }
   ],
   "source": [
    "my_array = np.array([[10,20,30,40,23,45],[50,60,70,80,34,56],[100,110,120,130,35,67],[140,150,160,170,78,79]])\n",
    "\n",
    "new_array = np.hsplit(my_array, 6)\n",
    "print(new_array)"
   ]
  },
  {
   "cell_type": "markdown",
   "metadata": {},
   "source": [
    "# Searching Arrays"
   ]
  },
  {
   "cell_type": "markdown",
   "metadata": {},
   "source": [
    "1. Search array for certain value and return the indexes that get match\n",
    "2. To search an array use, where() method"
   ]
  },
  {
   "cell_type": "code",
   "execution_count": 34,
   "metadata": {},
   "outputs": [
    {
     "name": "stdout",
     "output_type": "stream",
     "text": [
      "(array([4], dtype=int64),)\n"
     ]
    }
   ],
   "source": [
    "import numpy as np\n",
    "\n",
    "my_array = np.array([10,20,30,40,50,60,70])\n",
    "\n",
    "x  = np.where(my_array == 50)\n",
    "print(x)"
   ]
  },
  {
   "cell_type": "code",
   "execution_count": 35,
   "metadata": {},
   "outputs": [
    {
     "name": "stdout",
     "output_type": "stream",
     "text": [
      "(array([3, 7, 9], dtype=int64),)\n"
     ]
    }
   ],
   "source": [
    "import numpy as np\n",
    "\n",
    "my_array = np.array([10,20,30,40,50,60,70,40,60,40])\n",
    "\n",
    "x  = np.where(my_array == 40)\n",
    "print(x)"
   ]
  },
  {
   "cell_type": "code",
   "execution_count": 37,
   "metadata": {},
   "outputs": [
    {
     "name": "stdout",
     "output_type": "stream",
     "text": [
      "(array([1, 3, 5], dtype=int64),)\n"
     ]
    }
   ],
   "source": [
    "import numpy as np\n",
    "\n",
    "my_array = np.array([1,2,3,4,5,6,7])\n",
    "\n",
    "x  = np.where(my_array%2 == 0)\n",
    "print(x)"
   ]
  },
  {
   "cell_type": "code",
   "execution_count": 38,
   "metadata": {},
   "outputs": [
    {
     "name": "stdout",
     "output_type": "stream",
     "text": [
      "(array([0, 2, 4, 6], dtype=int64),)\n"
     ]
    }
   ],
   "source": [
    "import numpy as np\n",
    "\n",
    "my_array = np.array([1,2,3,4,5,6,7])\n",
    "\n",
    "x  = np.where(my_array%2 == 1)\n",
    "print(x)"
   ]
  },
  {
   "cell_type": "markdown",
   "metadata": {},
   "source": [
    "# Binary Search "
   ]
  },
  {
   "cell_type": "markdown",
   "metadata": {},
   "source": [
    "![](https://www.geeksforgeeks.org/wp-content/uploads/Binary-Search.png)"
   ]
  },
  {
   "cell_type": "raw",
   "metadata": {},
   "source": [
    "my_array = np.array([2,5,8,12,16,23,38,56,72,91])\n",
    "search  = 23\n",
    "\n",
    "index [[L=0] [M=5 = 16] [H=9]]\n",
    "\n",
    "23 > 16 True\n",
    "[23, 38, 56, 72, 91]\n",
    "index [[L=23=5], [M = 56 = 7],[H = 91 = 9]]\n",
    "\n",
    "23 > 56 False\n",
    "[23, 38]\n",
    "index [[L= 23 = 5], [M = 23 = 5],[H= 38 = 6]]\n",
    "\n",
    "23 > 23:\n",
    "    23 < 23:\n",
    "        23 == 23:\n",
    "            True\n",
    "            print(\"Index Position: \", 5)"
   ]
  },
  {
   "cell_type": "code",
   "execution_count": 39,
   "metadata": {},
   "outputs": [
    {
     "name": "stdout",
     "output_type": "stream",
     "text": [
      "6\n"
     ]
    }
   ],
   "source": [
    "import numpy as np\n",
    "\n",
    "my_array = np.array([1,2,3,4,5,6,7])\n",
    "\n",
    "x = np.searchsorted(my_array,7)\n",
    "print(x)"
   ]
  },
  {
   "cell_type": "code",
   "execution_count": 45,
   "metadata": {},
   "outputs": [
    {
     "name": "stdout",
     "output_type": "stream",
     "text": [
      "3\n"
     ]
    }
   ],
   "source": [
    "import numpy as np\n",
    "\n",
    "# my_array = np.array([2,5,8,12,16,23,38,56,72,91])\n",
    "my_array= np.array([91,72,2,16,56,12,8,38,23,8])\n",
    "\n",
    "x = np.searchsorted(my_array,8)\n",
    "print(x)"
   ]
  },
  {
   "cell_type": "code",
   "execution_count": null,
   "metadata": {},
   "outputs": [],
   "source": []
  }
 ],
 "metadata": {
  "kernelspec": {
   "display_name": "Python 3",
   "language": "python",
   "name": "python3"
  },
  "language_info": {
   "codemirror_mode": {
    "name": "ipython",
    "version": 3
   },
   "file_extension": ".py",
   "mimetype": "text/x-python",
   "name": "python",
   "nbconvert_exporter": "python",
   "pygments_lexer": "ipython3",
   "version": "3.8.5"
  }
 },
 "nbformat": 4,
 "nbformat_minor": 5
}
