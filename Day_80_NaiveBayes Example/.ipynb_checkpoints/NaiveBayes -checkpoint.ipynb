{
 "cells": [
  {
   "cell_type": "markdown",
   "metadata": {},
   "source": [
    "## Game Prediction using Bayes Theorem"
   ]
  },
  {
   "cell_type": "code",
   "execution_count": 1,
   "metadata": {},
   "outputs": [],
   "source": [
    "import pandas as pd"
   ]
  },
  {
   "cell_type": "code",
   "execution_count": 2,
   "metadata": {},
   "outputs": [],
   "source": [
    "df = pd.read_csv('game.csv')"
   ]
  },
  {
   "cell_type": "code",
   "execution_count": 3,
   "metadata": {},
   "outputs": [
    {
     "data": {
      "text/html": [
       "<div>\n",
       "<style scoped>\n",
       "    .dataframe tbody tr th:only-of-type {\n",
       "        vertical-align: middle;\n",
       "    }\n",
       "\n",
       "    .dataframe tbody tr th {\n",
       "        vertical-align: top;\n",
       "    }\n",
       "\n",
       "    .dataframe thead th {\n",
       "        text-align: right;\n",
       "    }\n",
       "</style>\n",
       "<table border=\"1\" class=\"dataframe\">\n",
       "  <thead>\n",
       "    <tr style=\"text-align: right;\">\n",
       "      <th></th>\n",
       "      <th>Day</th>\n",
       "      <th>Outlook</th>\n",
       "      <th>Humadity</th>\n",
       "      <th>Wind</th>\n",
       "      <th>Play</th>\n",
       "    </tr>\n",
       "  </thead>\n",
       "  <tbody>\n",
       "    <tr>\n",
       "      <th>0</th>\n",
       "      <td>1</td>\n",
       "      <td>Sunny</td>\n",
       "      <td>High</td>\n",
       "      <td>weak</td>\n",
       "      <td>No</td>\n",
       "    </tr>\n",
       "    <tr>\n",
       "      <th>1</th>\n",
       "      <td>2</td>\n",
       "      <td>Sunny</td>\n",
       "      <td>High</td>\n",
       "      <td>strong</td>\n",
       "      <td>No</td>\n",
       "    </tr>\n",
       "    <tr>\n",
       "      <th>2</th>\n",
       "      <td>3</td>\n",
       "      <td>Overcast</td>\n",
       "      <td>High</td>\n",
       "      <td>weak</td>\n",
       "      <td>Yes</td>\n",
       "    </tr>\n",
       "    <tr>\n",
       "      <th>3</th>\n",
       "      <td>4</td>\n",
       "      <td>Rain</td>\n",
       "      <td>High</td>\n",
       "      <td>weak</td>\n",
       "      <td>Yes</td>\n",
       "    </tr>\n",
       "    <tr>\n",
       "      <th>4</th>\n",
       "      <td>5</td>\n",
       "      <td>Rain</td>\n",
       "      <td>Normal</td>\n",
       "      <td>weak</td>\n",
       "      <td>Yes</td>\n",
       "    </tr>\n",
       "    <tr>\n",
       "      <th>5</th>\n",
       "      <td>6</td>\n",
       "      <td>Rain</td>\n",
       "      <td>Normal</td>\n",
       "      <td>strong</td>\n",
       "      <td>No</td>\n",
       "    </tr>\n",
       "    <tr>\n",
       "      <th>6</th>\n",
       "      <td>7</td>\n",
       "      <td>Overcast</td>\n",
       "      <td>Normal</td>\n",
       "      <td>strong</td>\n",
       "      <td>Yes</td>\n",
       "    </tr>\n",
       "    <tr>\n",
       "      <th>7</th>\n",
       "      <td>8</td>\n",
       "      <td>Sunny</td>\n",
       "      <td>High</td>\n",
       "      <td>weak</td>\n",
       "      <td>Yes</td>\n",
       "    </tr>\n",
       "    <tr>\n",
       "      <th>8</th>\n",
       "      <td>9</td>\n",
       "      <td>Sunny</td>\n",
       "      <td>Normal</td>\n",
       "      <td>weak</td>\n",
       "      <td>Yes</td>\n",
       "    </tr>\n",
       "    <tr>\n",
       "      <th>9</th>\n",
       "      <td>10</td>\n",
       "      <td>Rain</td>\n",
       "      <td>Normal</td>\n",
       "      <td>weak</td>\n",
       "      <td>Yes</td>\n",
       "    </tr>\n",
       "    <tr>\n",
       "      <th>10</th>\n",
       "      <td>11</td>\n",
       "      <td>Sunny</td>\n",
       "      <td>Normal</td>\n",
       "      <td>strong</td>\n",
       "      <td>Yes</td>\n",
       "    </tr>\n",
       "    <tr>\n",
       "      <th>11</th>\n",
       "      <td>12</td>\n",
       "      <td>Overcast</td>\n",
       "      <td>High</td>\n",
       "      <td>strong</td>\n",
       "      <td>Yes</td>\n",
       "    </tr>\n",
       "    <tr>\n",
       "      <th>12</th>\n",
       "      <td>13</td>\n",
       "      <td>Overcast</td>\n",
       "      <td>Normal</td>\n",
       "      <td>weak</td>\n",
       "      <td>Yes</td>\n",
       "    </tr>\n",
       "    <tr>\n",
       "      <th>13</th>\n",
       "      <td>14</td>\n",
       "      <td>Rain</td>\n",
       "      <td>High</td>\n",
       "      <td>strong</td>\n",
       "      <td>No</td>\n",
       "    </tr>\n",
       "  </tbody>\n",
       "</table>\n",
       "</div>"
      ],
      "text/plain": [
       "    Day   Outlook Humadity    Wind Play\n",
       "0     1     Sunny     High    weak   No\n",
       "1     2     Sunny     High  strong   No\n",
       "2     3  Overcast     High    weak  Yes\n",
       "3     4      Rain     High    weak  Yes\n",
       "4     5      Rain   Normal    weak  Yes\n",
       "5     6      Rain   Normal  strong   No\n",
       "6     7  Overcast   Normal  strong  Yes\n",
       "7     8     Sunny     High    weak  Yes\n",
       "8     9     Sunny   Normal    weak  Yes\n",
       "9    10      Rain   Normal    weak  Yes\n",
       "10   11     Sunny   Normal  strong  Yes\n",
       "11   12  Overcast     High  strong  Yes\n",
       "12   13  Overcast   Normal    weak  Yes\n",
       "13   14      Rain     High  strong   No"
      ]
     },
     "execution_count": 3,
     "metadata": {},
     "output_type": "execute_result"
    }
   ],
   "source": [
    "df"
   ]
  },
  {
   "cell_type": "markdown",
   "metadata": {},
   "source": [
    "#### Step 1 First we will create Frequency table using each attribute of the dataset"
   ]
  },
  {
   "cell_type": "raw",
   "metadata": {},
   "source": [
    "Frequency Table            Play\n",
    "                         Yes    No\n",
    "Outlook     Sunny         3      2\n",
    "            Overcast      4      0\n",
    "            Rainy         3      2"
   ]
  },
  {
   "cell_type": "raw",
   "metadata": {},
   "source": [
    "Frequency Table           Play\n",
    "                        Yes   No\n",
    "Humadity         High    4    3\n",
    "                 Normal  6    1\n"
   ]
  },
  {
   "cell_type": "raw",
   "metadata": {},
   "source": [
    "Frequency Table          Play\n",
    "                        Yes  No\n",
    "Wind        Strong       3    3\n",
    "            Weak         7    1"
   ]
  },
  {
   "cell_type": "markdown",
   "metadata": {},
   "source": [
    "### Step 2 For each Frequency table we will generate a likelihood"
   ]
  },
  {
   "cell_type": "raw",
   "metadata": {},
   "source": [
    "Frequency Table            Play\n",
    "                            Yes    No\n",
    "Outlook     Sunny         3[10]    2[4]  5/14\n",
    "            Overcast      4[10]    0[4]  4/14\n",
    "            Rainy         3[10]    2[4]  5/14\n",
    "            \n",
    "                        10/14        4/14"
   ]
  },
  {
   "cell_type": "raw",
   "metadata": {},
   "source": [
    "Frequency Table           Play\n",
    "                        Yes   No\n",
    "Humadity         High    4    3   7/14\n",
    "                 Normal  6    1   7/14\n",
    "                     10/14   4/14"
   ]
  },
  {
   "cell_type": "raw",
   "metadata": {},
   "source": [
    "Frequency Table          Play\n",
    "                        Yes  No\n",
    "Wind        Strong       3    3   6/14\n",
    "            Weak         7    1   8/14\n",
    "                      10/14   4/14"
   ]
  },
  {
   "cell_type": "markdown",
   "metadata": {},
   "source": [
    "### 1. Problem Statement:\n",
    "    1. Outlook - Sunny\n",
    "    2. Humadity- High\n",
    "    3. Wind - Weak\n",
    "    **Play - ?**"
   ]
  },
  {
   "cell_type": "markdown",
   "metadata": {},
   "source": [
    "### Step 3 Calculate Likelihood for [Yes given Sunny] and [No given Sunny]"
   ]
  },
  {
   "cell_type": "markdown",
   "metadata": {},
   "source": [
    "**FORMULA - P(YES | SUNNY) = P(YES | SUNNY) * P(YES) / P(SUNNY)**"
   ]
  },
  {
   "cell_type": "markdown",
   "metadata": {},
   "source": [
    "1. P(YES | SUNNY) = P(3 / 10) = 0.3\n",
    "2. P(YES) = P(10 / 14) = 0.71\n",
    "3. P(SUNNY) = P(5 / 14) = 0.36"
   ]
  },
  {
   "cell_type": "markdown",
   "metadata": {},
   "source": [
    "1. P(0.3) * P(0.71) / P(0.36)\n",
    "2. P(0.213) / P(0.36)\n",
    "\n",
    "**P(0.591)**"
   ]
  },
  {
   "cell_type": "markdown",
   "metadata": {},
   "source": [
    "**FORMULA - P(NO | SUNNY) = P(NO | SUNNY) * P(NO) / P(SUNNY)**"
   ]
  },
  {
   "cell_type": "markdown",
   "metadata": {},
   "source": [
    "1. P(NO | SUNNY) = P(2 / 4) = 0.5\n",
    "2. P(NO) = P(4 / 14) = 0.286\n",
    "3. P(SUNNY) = P(5 / 14) = 0.36"
   ]
  },
  {
   "cell_type": "markdown",
   "metadata": {},
   "source": [
    "1. P(0.5) * (0.286) /  P(0.36)\n",
    "2. P(0.143) / P(0.36)\n",
    "\n",
    "**P(0.395)**"
   ]
  },
  {
   "cell_type": "markdown",
   "metadata": {},
   "source": [
    "### Step 4 Calculate Likelihood for [Yes given Humadity] and [No given Humadity]"
   ]
  },
  {
   "cell_type": "raw",
   "metadata": {},
   "source": [
    "Frequency Table           Play\n",
    "                        Yes        No\n",
    "Humadity         High    4[10]    3[4]   7/14\n",
    "                 Normal  6[10]    1[4]   7/14\n",
    "    \n",
    "                        10/14      4/14"
   ]
  },
  {
   "cell_type": "markdown",
   "metadata": {},
   "source": [
    "**FORMULA - P(YES | HIGH) = P(YES | HIGH) * P(YES) / P(HIGH)**"
   ]
  },
  {
   "cell_type": "markdown",
   "metadata": {},
   "source": [
    "1. P(YES | HIGH) = P(4 / 10) = 0.4\n",
    "2. P(YES) = P(10 / 14)  = 0.71\n",
    "4. P(HIGH) = P(7 / 14) = 0.5"
   ]
  },
  {
   "cell_type": "markdown",
   "metadata": {},
   "source": [
    "1. P(0.4) * P(0.71) / P(0.5)"
   ]
  },
  {
   "cell_type": "markdown",
   "metadata": {},
   "source": [
    "## P(0.58)"
   ]
  },
  {
   "cell_type": "markdown",
   "metadata": {},
   "source": [
    "**FORMULA - P(NO | HIGH) = P(NO | HIGH) * P(NO) / P(HIGH)**"
   ]
  },
  {
   "cell_type": "markdown",
   "metadata": {},
   "source": [
    "1. P(NO | HIGH) = P(3 / 4) = 0.75\n",
    "2. P(NO) = P(4 / 14) = 0.28\n",
    "3. P(HIGH) = P(7 / 14) = 0.5"
   ]
  },
  {
   "cell_type": "markdown",
   "metadata": {},
   "source": [
    "### P(0.42)"
   ]
  },
  {
   "cell_type": "markdown",
   "metadata": {},
   "source": [
    "### Step 5 Calculate Likelihood for [Yes given Wind] and [No given Wind]¶"
   ]
  },
  {
   "cell_type": "markdown",
   "metadata": {},
   "source": [
    "**FORMULA - P(YES | WEAK) = P(YES | WEAK) * P(YES) / P(WEAK)**"
   ]
  },
  {
   "cell_type": "markdown",
   "metadata": {},
   "source": [
    "1. P(YES | WEAK) = P(7 / 10) = 0.7\n",
    "2. P(YES) = P(10 / 14) = 0.714\n",
    "3. P(WEAK) = P(8 / 14) = 0.58"
   ]
  },
  {
   "cell_type": "markdown",
   "metadata": {},
   "source": [
    "### P(0.88)"
   ]
  },
  {
   "cell_type": "markdown",
   "metadata": {},
   "source": [
    "**FORMULA - P(NO | WEAK) = P(NO | WEAK) * P(NO) / P(WEAK)**"
   ]
  },
  {
   "cell_type": "markdown",
   "metadata": {},
   "source": [
    "1. P(NO | WEAK) = P(1 / 4) = 0.25\n",
    "2. P(NO) = P(4 / 14) = 0.285\n",
    "3. P(WEAK) = P(8/ 14) = 0.58"
   ]
  },
  {
   "cell_type": "markdown",
   "metadata": {},
   "source": [
    "### P(0.122)"
   ]
  },
  {
   "cell_type": "markdown",
   "metadata": {},
   "source": [
    "## Step 6 "
   ]
  },
  {
   "cell_type": "markdown",
   "metadata": {},
   "source": [
    "### So, with the data, we have to predicti whether \"we can play on that day or not?\""
   ]
  },
  {
   "cell_type": "markdown",
   "metadata": {},
   "source": [
    "1. Likelihood of 'YES' on that day\n",
    "2.  Likelihood of 'NO' on that day"
   ]
  },
  {
   "cell_type": "markdown",
   "metadata": {},
   "source": [
    "### Likelihood of 'YES' on that day"
   ]
  },
  {
   "cell_type": "markdown",
   "metadata": {},
   "source": [
    "#### Problem Statement:\n",
    "1. Outlook - Sunny\n",
    "2. Humadity- High\n",
    "3. Wind - Weak\n",
    "**Play - ?**"
   ]
  },
  {
   "cell_type": "markdown",
   "metadata": {},
   "source": [
    "**P(OUTLOOK = SUNNY | YES) * P(HUMADITY = HIGH | YES) * P(WIND = WEAK | YES) * P(YES)**"
   ]
  },
  {
   "cell_type": "markdown",
   "metadata": {},
   "source": [
    "1. P(OUTLOOK = SUNNY | YES) = P(0.60) \n",
    "2. P(HUMADITY = HIGH | YES) = P(0.58)\n",
    "3. P(WIND = WEAK | YES) = P(0.88)\n",
    "4. P(YES) = 2.06"
   ]
  },
  {
   "cell_type": "code",
   "execution_count": 4,
   "metadata": {},
   "outputs": [
    {
     "data": {
      "text/plain": [
       "0.6308543999999999"
      ]
     },
     "execution_count": 4,
     "metadata": {},
     "output_type": "execute_result"
    }
   ],
   "source": [
    "0.60 * 0.58 * 0.88 * 2.06"
   ]
  },
  {
   "cell_type": "markdown",
   "metadata": {},
   "source": [
    "**P(OUTLOOK = SUNNY | NO) * P(HUMADITY = HIGH | NO) * P(WIND = WEAK | NO) * P(NO)**"
   ]
  },
  {
   "cell_type": "markdown",
   "metadata": {},
   "source": [
    "1. P(OUTLOOK = SUNNY | NO) = P(0.395)\n",
    "2. P(HUMADITY = HIGH | NO) = P(0.42)\n",
    "3. P(WIND = WEAK | NO) = P(0.122)\n",
    "4. P(NO) = P(0.937)"
   ]
  },
  {
   "cell_type": "code",
   "execution_count": 5,
   "metadata": {},
   "outputs": [
    {
     "data": {
      "text/plain": [
       "0.0189646926"
      ]
     },
     "execution_count": 5,
     "metadata": {},
     "output_type": "execute_result"
    }
   ],
   "source": [
    "0.395 * 0.42 * 0.122 * 0.937"
   ]
  },
  {
   "cell_type": "markdown",
   "metadata": {},
   "source": [
    "### Step 7 Normalize the value"
   ]
  },
  {
   "cell_type": "markdown",
   "metadata": {},
   "source": [
    "**FORMULA - P(YES) / (P[YES] + P[NO])**"
   ]
  },
  {
   "cell_type": "markdown",
   "metadata": {},
   "source": [
    "**P(YES) = 0.6308 / (0.6308 + 0.0189)**"
   ]
  },
  {
   "cell_type": "code",
   "execution_count": 6,
   "metadata": {},
   "outputs": [
    {
     "data": {
      "text/plain": [
       "0.6497"
      ]
     },
     "execution_count": 6,
     "metadata": {},
     "output_type": "execute_result"
    }
   ],
   "source": [
    "0.6308 + 0.0189"
   ]
  },
  {
   "cell_type": "code",
   "execution_count": 7,
   "metadata": {},
   "outputs": [
    {
     "data": {
      "text/plain": [
       "0.9709096506079729"
      ]
     },
     "execution_count": 7,
     "metadata": {},
     "output_type": "execute_result"
    }
   ],
   "source": [
    "0.6308 / 0.6497"
   ]
  },
  {
   "cell_type": "markdown",
   "metadata": {},
   "source": [
    "**FORMULA - P(NO) / (P[NO] + P[YES])**"
   ]
  },
  {
   "cell_type": "markdown",
   "metadata": {},
   "source": [
    "**P(NO) = 0.0189 / (0.6308 + 0.0189)**"
   ]
  },
  {
   "cell_type": "code",
   "execution_count": 8,
   "metadata": {},
   "outputs": [
    {
     "data": {
      "text/plain": [
       "0.6497"
      ]
     },
     "execution_count": 8,
     "metadata": {},
     "output_type": "execute_result"
    }
   ],
   "source": [
    "0.6308 + 0.0189"
   ]
  },
  {
   "cell_type": "code",
   "execution_count": 9,
   "metadata": {},
   "outputs": [
    {
     "data": {
      "text/plain": [
       "0.029090349392027086"
      ]
     },
     "execution_count": 9,
     "metadata": {},
     "output_type": "execute_result"
    }
   ],
   "source": [
    "0.0189 / 0.6497 "
   ]
  },
  {
   "cell_type": "markdown",
   "metadata": {},
   "source": [
    "## Accuracy"
   ]
  },
  {
   "cell_type": "code",
   "execution_count": 10,
   "metadata": {},
   "outputs": [
    {
     "data": {
      "text/plain": [
       "0.02909034939202715"
      ]
     },
     "execution_count": 10,
     "metadata": {},
     "output_type": "execute_result"
    }
   ],
   "source": [
    "1 - 0.9709096506079729"
   ]
  },
  {
   "cell_type": "code",
   "execution_count": 11,
   "metadata": {},
   "outputs": [
    {
     "data": {
      "text/plain": [
       "0.9999999999999999"
      ]
     },
     "execution_count": 11,
     "metadata": {},
     "output_type": "execute_result"
    }
   ],
   "source": [
    "0.9709096506079729 + 0.029090349392027086 "
   ]
  },
  {
   "cell_type": "code",
   "execution_count": 12,
   "metadata": {},
   "outputs": [
    {
     "data": {
      "text/plain": [
       "99.99999999999999"
      ]
     },
     "execution_count": 12,
     "metadata": {},
     "output_type": "execute_result"
    }
   ],
   "source": [
    "0.9999999999999999 * 100"
   ]
  },
  {
   "cell_type": "code",
   "execution_count": null,
   "metadata": {},
   "outputs": [],
   "source": []
  },
  {
   "cell_type": "markdown",
   "metadata": {},
   "source": [
    "#### Problem Statement:\n",
    "1. Outlook - Rainy\n",
    "2. Humadity- High\n",
    "3. Wind - Weak\n",
    "**Play - ?**"
   ]
  },
  {
   "cell_type": "raw",
   "metadata": {},
   "source": [
    "Frequency Table            Play\n",
    "                         Yes    No\n",
    "Outlook     Sunny         3      2\n",
    "            Overcast      4      0\n",
    "            Rainy         3      2\n"
   ]
  },
  {
   "cell_type": "markdown",
   "metadata": {},
   "source": [
    "**FORMULA - P(YES | Rainy) = P(YES | rainy) * P(YES) / P(Rainy)**"
   ]
  },
  {
   "cell_type": "code",
   "execution_count": 13,
   "metadata": {},
   "outputs": [
    {
     "data": {
      "text/plain": [
       "0.6"
      ]
     },
     "execution_count": 13,
     "metadata": {},
     "output_type": "execute_result"
    }
   ],
   "source": [
    "((3/10) * (10/14)) /(5/14)"
   ]
  },
  {
   "cell_type": "markdown",
   "metadata": {},
   "source": [
    "**FORMULA - P(NO | Rainy) = P(NO | RAINY) * P(NO) / P(Rainy)**"
   ]
  },
  {
   "cell_type": "code",
   "execution_count": 14,
   "metadata": {},
   "outputs": [
    {
     "data": {
      "text/plain": [
       "0.39999999999999997"
      ]
     },
     "execution_count": 14,
     "metadata": {},
     "output_type": "execute_result"
    }
   ],
   "source": [
    "((2/4)*(4/14)) / (5/14)"
   ]
  },
  {
   "cell_type": "raw",
   "metadata": {},
   "source": [
    "Frequency Table           Play\n",
    "                        Yes   No\n",
    "Humadity         High    4    3\n",
    "                 Normal  6    1\n"
   ]
  },
  {
   "cell_type": "markdown",
   "metadata": {},
   "source": [
    "**FORMULA - P(YES | High) = P(YES | High) * P(YES) / P(High)**"
   ]
  },
  {
   "cell_type": "code",
   "execution_count": 15,
   "metadata": {},
   "outputs": [
    {
     "data": {
      "text/plain": [
       "0.5714285714285715"
      ]
     },
     "execution_count": 15,
     "metadata": {},
     "output_type": "execute_result"
    }
   ],
   "source": [
    "((4/10)*(10/14)) / (7/14)"
   ]
  },
  {
   "cell_type": "markdown",
   "metadata": {},
   "source": [
    "**FORMULA - P(NO | High) = P(NO | High) * P(NO) / P(High)**"
   ]
  },
  {
   "cell_type": "code",
   "execution_count": 17,
   "metadata": {},
   "outputs": [
    {
     "data": {
      "text/plain": [
       "0.42857142857142855"
      ]
     },
     "execution_count": 17,
     "metadata": {},
     "output_type": "execute_result"
    }
   ],
   "source": [
    "((3/4) * (4/14)) / (7/14)"
   ]
  },
  {
   "cell_type": "raw",
   "metadata": {},
   "source": [
    "Frequency Table          Play\n",
    "                        Yes  No\n",
    "Wind        Strong       3    3\n",
    "            Weak         7    1"
   ]
  },
  {
   "cell_type": "markdown",
   "metadata": {},
   "source": [
    "**FORMULA - P(YES | High) = P(YES | High) * P(YES) / P(High)**"
   ]
  },
  {
   "cell_type": "code",
   "execution_count": null,
   "metadata": {},
   "outputs": [],
   "source": []
  },
  {
   "cell_type": "markdown",
   "metadata": {},
   "source": [
    "**FORMULA - P(NO | High) = P(NO | High) * P(NO) / P(High)**"
   ]
  }
 ],
 "metadata": {
  "kernelspec": {
   "display_name": "Python 3",
   "language": "python",
   "name": "python3"
  },
  "language_info": {
   "codemirror_mode": {
    "name": "ipython",
    "version": 3
   },
   "file_extension": ".py",
   "mimetype": "text/x-python",
   "name": "python",
   "nbconvert_exporter": "python",
   "pygments_lexer": "ipython3",
   "version": "3.8.5"
  }
 },
 "nbformat": 4,
 "nbformat_minor": 5
}
