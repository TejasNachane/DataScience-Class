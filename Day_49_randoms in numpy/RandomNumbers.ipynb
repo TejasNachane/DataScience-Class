{
 "cells": [
  {
   "cell_type": "markdown",
   "metadata": {},
   "source": [
    "# Random Modules"
   ]
  },
  {
   "cell_type": "markdown",
   "metadata": {},
   "source": [
    "1. Random number does not mean a different number everytime\n",
    "2. Random means something that can not be logically predicted"
   ]
  },
  {
   "cell_type": "markdown",
   "metadata": {},
   "source": [
    "### Pseudo Random and True Random"
   ]
  },
  {
   "cell_type": "markdown",
   "metadata": {},
   "source": [
    "1. Computers works on Programs, and Programs are definative set of instruction.\n",
    "2. So that means there must be some algorithm to generate random number as well.\n",
    "3. If there is a program to generate random number it can be predicted, so it is called as True Random.\n",
    "4. Random Numbers generated through algorithm are called as Pseudo Random\n",
    "5. we do not need truly random numbers, unless its related to security [Example. Encryption Kyes] or\n",
    "6. Basis of application is the randomness [Example. Digital roulette wheels]"
   ]
  },
  {
   "cell_type": "code",
   "execution_count": 20,
   "metadata": {},
   "outputs": [],
   "source": [
    "from numpy import random"
   ]
  },
  {
   "cell_type": "markdown",
   "metadata": {},
   "source": [
    "### Generate random integer number"
   ]
  },
  {
   "cell_type": "code",
   "execution_count": 47,
   "metadata": {},
   "outputs": [
    {
     "name": "stdout",
     "output_type": "stream",
     "text": [
      "18\n"
     ]
    }
   ],
   "source": [
    "x =  random.randint(10,20)\n",
    "print(x)"
   ]
  },
  {
   "cell_type": "markdown",
   "metadata": {},
   "source": [
    "### Generate random Float number"
   ]
  },
  {
   "cell_type": "code",
   "execution_count": 45,
   "metadata": {},
   "outputs": [
    {
     "name": "stdout",
     "output_type": "stream",
     "text": [
      "0.7669093653260308\n"
     ]
    }
   ],
   "source": [
    "# return random numbers betweeen 0 and 1\n",
    "x =  random.rand()\n",
    "print(x)"
   ]
  },
  {
   "cell_type": "code",
   "execution_count": 46,
   "metadata": {},
   "outputs": [
    {
     "name": "stdout",
     "output_type": "stream",
     "text": [
      "[0.73598253 0.65846831 0.11746977 0.99260747 0.48166294]\n"
     ]
    }
   ],
   "source": [
    "x =  random.rand(5)\n",
    "print(x)"
   ]
  },
  {
   "cell_type": "markdown",
   "metadata": {},
   "source": [
    "## Generate Random Array:\n",
    "    1. 1-D Array\n",
    "    2. 2-D Array\n",
    "    3. 3-D Array\n",
    " "
   ]
  },
  {
   "cell_type": "markdown",
   "metadata": {},
   "source": [
    "### 1. Integer:\n",
    "    1. randint method takes size parameter where you can specify the shape of Array"
   ]
  },
  {
   "cell_type": "code",
   "execution_count": 24,
   "metadata": {},
   "outputs": [
    {
     "name": "stdout",
     "output_type": "stream",
     "text": [
      "[11 33 24 70 94 40 69 23  7 12]\n"
     ]
    }
   ],
   "source": [
    "x = random.randint(100, size =(10))\n",
    "print(x)"
   ]
  },
  {
   "cell_type": "code",
   "execution_count": 25,
   "metadata": {},
   "outputs": [
    {
     "name": "stdout",
     "output_type": "stream",
     "text": [
      "[3 5 0 8 3 3 6]\n"
     ]
    }
   ],
   "source": [
    "x = random.randint(10, size =(7))\n",
    "print(x)"
   ]
  },
  {
   "cell_type": "code",
   "execution_count": 26,
   "metadata": {},
   "outputs": [
    {
     "name": "stdout",
     "output_type": "stream",
     "text": [
      "[[58 49 13 38 86]\n",
      " [65 96 91 73 54]\n",
      " [79 88 78 27 40]]\n"
     ]
    }
   ],
   "source": [
    "x = random.randint(100, size =(3,5))\n",
    "print(x)"
   ]
  },
  {
   "cell_type": "code",
   "execution_count": 27,
   "metadata": {},
   "outputs": [
    {
     "name": "stdout",
     "output_type": "stream",
     "text": [
      "[[[42 32 14 23 85]\n",
      "  [87  1 78 47 52]]\n",
      "\n",
      " [[13 66 37 55 51]\n",
      "  [41 22 46 70 26]]\n",
      "\n",
      " [[80 96 87  0 85]\n",
      "  [92 63 98 86 36]]]\n"
     ]
    }
   ],
   "source": [
    "x = random.randint(100, size =(3,2,5))\n",
    "print(x)"
   ]
  },
  {
   "cell_type": "code",
   "execution_count": 28,
   "metadata": {},
   "outputs": [
    {
     "ename": "TypeError",
     "evalue": "rand() got an unexpected keyword argument 'size'",
     "output_type": "error",
     "traceback": [
      "\u001b[1;31m---------------------------------------------------------------------------\u001b[0m",
      "\u001b[1;31mTypeError\u001b[0m                                 Traceback (most recent call last)",
      "\u001b[1;32m<ipython-input-28-e6cefd12948a>\u001b[0m in \u001b[0;36m<module>\u001b[1;34m\u001b[0m\n\u001b[1;32m----> 1\u001b[1;33m \u001b[0mx\u001b[0m \u001b[1;33m=\u001b[0m \u001b[0mrandom\u001b[0m\u001b[1;33m.\u001b[0m\u001b[0mrand\u001b[0m\u001b[1;33m(\u001b[0m\u001b[1;36m100\u001b[0m\u001b[1;33m,\u001b[0m \u001b[0msize\u001b[0m \u001b[1;33m=\u001b[0m\u001b[1;33m(\u001b[0m\u001b[1;36m3\u001b[0m\u001b[1;33m,\u001b[0m\u001b[1;36m2\u001b[0m\u001b[1;33m,\u001b[0m\u001b[1;36m5\u001b[0m\u001b[1;33m)\u001b[0m\u001b[1;33m)\u001b[0m\u001b[1;33m\u001b[0m\u001b[1;33m\u001b[0m\u001b[0m\n\u001b[0m\u001b[0;32m      2\u001b[0m \u001b[0mprint\u001b[0m\u001b[1;33m(\u001b[0m\u001b[0mx\u001b[0m\u001b[1;33m)\u001b[0m\u001b[1;33m\u001b[0m\u001b[1;33m\u001b[0m\u001b[0m\n",
      "\u001b[1;31mTypeError\u001b[0m: rand() got an unexpected keyword argument 'size'"
     ]
    }
   ],
   "source": [
    "x = random.rand(100, size =(3,2,5))\n",
    "print(x)"
   ]
  },
  {
   "cell_type": "markdown",
   "metadata": {},
   "source": [
    "### 2. Float:\n",
    "    1. The Rand() method also allows to specify the shape of array"
   ]
  },
  {
   "cell_type": "code",
   "execution_count": 32,
   "metadata": {},
   "outputs": [
    {
     "name": "stdout",
     "output_type": "stream",
     "text": [
      "[0.49227108 0.50272104 0.53060342 0.5105183  0.81878174]\n"
     ]
    }
   ],
   "source": [
    "x =  random.rand(5)\n",
    "print(x)"
   ]
  },
  {
   "cell_type": "code",
   "execution_count": 33,
   "metadata": {},
   "outputs": [
    {
     "name": "stdout",
     "output_type": "stream",
     "text": [
      "[[0.50690597 0.7416963  0.12991227 0.44749118 0.32685178]\n",
      " [0.76173089 0.83264515 0.93295781 0.4444281  0.55505648]\n",
      " [0.94706081 0.24855957 0.7817458  0.89691178 0.2547335 ]]\n"
     ]
    }
   ],
   "source": [
    "x =  random.rand(3,5)\n",
    "print(x)"
   ]
  },
  {
   "cell_type": "code",
   "execution_count": 34,
   "metadata": {},
   "outputs": [
    {
     "name": "stdout",
     "output_type": "stream",
     "text": [
      "[[[0.94924041 0.54158627 0.20957085 0.30280676 0.60643197]\n",
      "  [0.37276036 0.46552061 0.02506762 0.1253871  0.82757042]]\n",
      "\n",
      " [[0.7653483  0.41946642 0.73120199 0.67880788 0.2618757 ]\n",
      "  [0.94669174 0.03420021 0.6834183  0.23650665 0.85248192]]\n",
      "\n",
      " [[0.78650899 0.99006189 0.67690871 0.64775979 0.91551666]\n",
      "  [0.83665027 0.85628082 0.42576557 0.83199938 0.15036674]]]\n"
     ]
    }
   ],
   "source": [
    "x =  random.rand(3,2,5)\n",
    "print(x)"
   ]
  },
  {
   "cell_type": "markdown",
   "metadata": {},
   "source": [
    "## Generate Random Numbers from Array"
   ]
  },
  {
   "cell_type": "markdown",
   "metadata": {},
   "source": [
    "1. choice() method allows you to generate random numbers based on array of Value\n",
    "2. choice() method takes an array as parameter and randomly returns one of the Values\n",
    "3. Choice() method allows you to reutrn array of values\n",
    "4. choice() method takes size as parameter to specify the shape of array"
   ]
  },
  {
   "cell_type": "code",
   "execution_count": 35,
   "metadata": {},
   "outputs": [
    {
     "name": "stdout",
     "output_type": "stream",
     "text": [
      "43\n"
     ]
    }
   ],
   "source": [
    "x = random.choice([20,43,39,88,7,84,49,47,42])\n",
    "print(x)"
   ]
  },
  {
   "cell_type": "code",
   "execution_count": 36,
   "metadata": {},
   "outputs": [
    {
     "name": "stdout",
     "output_type": "stream",
     "text": [
      "[[47  7 42]\n",
      " [42 84 20]]\n"
     ]
    }
   ],
   "source": [
    "x = random.choice([20,43,39,88,7,84,49,47,42], size = (2,3))\n",
    "print(x)"
   ]
  },
  {
   "cell_type": "code",
   "execution_count": 37,
   "metadata": {},
   "outputs": [
    {
     "name": "stdout",
     "output_type": "stream",
     "text": [
      "[[88 43 49 43 39]\n",
      " [20  7 20  7 43]\n",
      " [20 49 39 42 42]]\n"
     ]
    }
   ],
   "source": [
    "x = random.choice([20,43,39,88,7,84,49,47,42], size = (3,5))\n",
    "print(x)"
   ]
  },
  {
   "cell_type": "code",
   "execution_count": 38,
   "metadata": {},
   "outputs": [
    {
     "name": "stdout",
     "output_type": "stream",
     "text": [
      "[[[42 43 39 43 20]\n",
      "  [42 42 43 42 42]]\n",
      "\n",
      " [[20 88 88 20 39]\n",
      "  [47 47 39 84  7]]\n",
      "\n",
      " [[ 7 43 43 84 84]\n",
      "  [20 49 88 84 39]]]\n"
     ]
    }
   ],
   "source": [
    "x = random.choice([20,43,39,88,7,84,49,47,42], size = (3,2,5))\n",
    "print(x)"
   ]
  },
  {
   "cell_type": "markdown",
   "metadata": {},
   "source": [
    "# Data Distribution"
   ]
  },
  {
   "cell_type": "markdown",
   "metadata": {},
   "source": [
    "### 1. What is Data Distribution?"
   ]
  },
  {
   "cell_type": "markdown",
   "metadata": {},
   "source": [
    "1. Data distribution is list of all possible values, and how often each value occurs\n",
    "2. List are important when working with statistics and Data Science\n",
    "3. Random module allows you to return randomly generated data distribution"
   ]
  },
  {
   "cell_type": "markdown",
   "metadata": {},
   "source": [
    "### Random Distribution"
   ]
  },
  {
   "cell_type": "markdown",
   "metadata": {},
   "source": [
    "1. Random distribution is set of random number that follows certain probability density function\n",
    "2. **probability density function** A function that describes contineous Probability i.e. Probability of all values in an array\n",
    "3. We can generate random numbers based on defined probabiliy choice() method of the random module\n",
    "4. choice() method allows us to specify the probability for each value\n",
    "5. Probability is set of by a number between 0 and 1, \n",
    "6. where 0 means that the will never occors and 1 means that the value will always occurs"
   ]
  },
  {
   "cell_type": "markdown",
   "metadata": {},
   "source": [
    "### Example"
   ]
  },
  {
   "cell_type": "markdown",
   "metadata": {},
   "source": [
    "1. Generate 1-D array containing 100 values, where each value has to be 3,5,7,9:\n",
    "    1. The Probability for value [3] is set to be [0.1]\n",
    "    2. The Probability for value [5] is set to be [0.3]\n",
    "    3. The Probability for value [7] is set to be [0.6]\n",
    "    4. The Probability for value [9] is set to be [0.0]"
   ]
  },
  {
   "cell_type": "code",
   "execution_count": 39,
   "metadata": {},
   "outputs": [
    {
     "name": "stdout",
     "output_type": "stream",
     "text": [
      "[[7 7 7]\n",
      " [7 7 3]]\n"
     ]
    }
   ],
   "source": [
    "from numpy import random\n",
    "\n",
    "x = random.choice([3,5,7,9], p =[0.1,0.3,0.6,0.0], size = (2,3))\n",
    "print(x)"
   ]
  },
  {
   "cell_type": "markdown",
   "metadata": {},
   "source": [
    "**Note : The sum of all Probability should be 1** "
   ]
  },
  {
   "cell_type": "markdown",
   "metadata": {},
   "source": [
    "### There are Different Data Distrubution types:\n",
    "    1. Random Permutation\n",
    "    2. Seaborn Module\n",
    "    3. Normal Distribution (imp)\n",
    "    4. Binomial Distribution (imp)\n",
    "    5. Poission Distribution (imp)\n",
    "    6. Uniform Distribution\n",
    "    7. Logistic Distribution (imp)\n",
    "    8. Multinomial Distribution (imp)\n",
    "    9. Exmponential Distribution\n",
    "    10. Chi Square Distribution (imp)\n",
    "    11. Rayleigh Distribution\n",
    "    12. Pareto Distribution\n",
    "    13. Zipf Distribution "
   ]
  },
  {
   "cell_type": "code",
   "execution_count": 40,
   "metadata": {},
   "outputs": [
    {
     "name": "stdout",
     "output_type": "stream",
     "text": [
      "[[ 5.44642279  1.11655734  0.04675091  1.57830111]\n",
      " [-4.11728335  4.0959244   0.10136466  1.03967162]\n",
      " [ 4.04894937  0.81437971  0.72980987  4.29925275]]\n"
     ]
    }
   ],
   "source": [
    "from numpy import random\n",
    "\n",
    "height = random.normal(2,3, size=(3,4))\n",
    "\n",
    "print(height)"
   ]
  },
  {
   "cell_type": "code",
   "execution_count": 41,
   "metadata": {},
   "outputs": [],
   "source": [
    "# help(random.normal)"
   ]
  }
 ],
 "metadata": {
  "kernelspec": {
   "display_name": "Python 3",
   "language": "python",
   "name": "python3"
  },
  "language_info": {
   "codemirror_mode": {
    "name": "ipython",
    "version": 3
   },
   "file_extension": ".py",
   "mimetype": "text/x-python",
   "name": "python",
   "nbconvert_exporter": "python",
   "pygments_lexer": "ipython3",
   "version": "3.8.5"
  }
 },
 "nbformat": 4,
 "nbformat_minor": 5
}
