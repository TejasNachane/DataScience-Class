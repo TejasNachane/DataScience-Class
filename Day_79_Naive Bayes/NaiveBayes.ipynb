{
 "cells": [
  {
   "cell_type": "markdown",
   "metadata": {},
   "source": [
    "# Naive Bayes Algorithm"
   ]
  },
  {
   "cell_type": "markdown",
   "metadata": {},
   "source": [
    "1. It is supervised Machine Learning algorithm \n",
    "2. It is simple but powerful algorithm to predictive analysis\n",
    "3. It is classification technique based on **Bayes Therom**, with an assumption at independence of prediction\n",
    "4. Naive Bayes clasifier assumes that the presense of feature class is unrelated to any other feature.\n",
    "5. Even if these features depends on each other or upon the existance of the other features\n",
    "6. In Naive Bayes algorithm comprimised with two terms called:\n",
    "    1. Naive\n",
    "    2. Bayes"
   ]
  },
  {
   "cell_type": "markdown",
   "metadata": {},
   "source": [
    "### 1. Naive "
   ]
  },
  {
   "cell_type": "markdown",
   "metadata": {},
   "source": [
    "1. Naive Bayes algorithm assumes the that the occurances of certain features is independent of the occurance of other feature\n",
    "2. Such as Fruit id identified on the basis of color, shape, and taste"
   ]
  },
  {
   "cell_type": "markdown",
   "metadata": {},
   "source": [
    "### Bayes"
   ]
  },
  {
   "cell_type": "markdown",
   "metadata": {},
   "source": [
    "1. It is called as Bayes because it depends on the Principle of Bayes Theorem"
   ]
  },
  {
   "cell_type": "markdown",
   "metadata": {},
   "source": [
    "## Bayes Theorem"
   ]
  },
  {
   "cell_type": "markdown",
   "metadata": {},
   "source": [
    "1. Bayes Theorem also called as Bayes Rule or Bayes Law, which is used to determine the probability of hypothesis with Prior Knowledge\n",
    "2. It depends on Conditional Probability"
   ]
  },
  {
   "cell_type": "markdown",
   "metadata": {},
   "source": [
    "### Formula"
   ]
  },
  {
   "cell_type": "markdown",
   "metadata": {},
   "source": [
    "![](https://miro.medium.com/max/600/1*aFhOj7TdBIZir4keHMgHOw.png)"
   ]
  },
  {
   "cell_type": "markdown",
   "metadata": {},
   "source": [
    "1. Posterior Probability:\n",
    "    1. Posterior Probability [P(H | E) probability of hypothesis A on the observed event B]\n",
    "2. Likelihood:\n",
    "    1. Probability of evidence given that the probability of hypothesis is true [P(E | H)]\n",
    "3. Prior Probability:\n",
    "    1. Prior Probability  of hypothesis before observing the evidance\n",
    "4. Marginal Probability:\n",
    "    1. Probability of Evidance"
   ]
  },
  {
   "cell_type": "markdown",
   "metadata": {},
   "source": [
    "1. Here we Have Probability of, P(A | B) = P(A ∩ B) / P(B)\n",
    "                           P(B|A) = P (B ∩ A) / P(A)"
   ]
  },
  {
   "cell_type": "markdown",
   "metadata": {},
   "source": [
    "2. Join Probability distribution set A and B the probability of,\n",
    "    1. P(A ∩ B) = P(A | B) . P(B)\n",
    "    2. P(B ∩ A) = p(B | A). P(A)\n",
    "    \n",
    "    3. Now on combine the:\n",
    "        P(A | B).P(B) = P(B | A).P(A)\n",
    "        \n",
    "        P(A | B) = P(B | A).P(A) / P(B)"
   ]
  },
  {
   "cell_type": "markdown",
   "metadata": {},
   "source": [
    "3. Final P(H | E) = P(E | H).P(H) / P(E)"
   ]
  },
  {
   "cell_type": "markdown",
   "metadata": {},
   "source": [
    "### 4. Example of Naive Bayes"
   ]
  },
  {
   "cell_type": "markdown",
   "metadata": {},
   "source": [
    "**Find out the Probability of the card we picked at random to be a king given that is Face Card**"
   ]
  },
  {
   "cell_type": "markdown",
   "metadata": {},
   "source": [
    "1. total_card = 52\n",
    "2. face_card = 12:\n",
    "    1. King = 4\n",
    "    2. Queen = 4\n",
    "    3. Jack = 4\n",
    "3. P(H | E) = P(E | H).P(H) / P(E)"
   ]
  },
  {
   "cell_type": "markdown",
   "metadata": {},
   "source": [
    "**P(KING | FACE) = P(FACE | KING). P(KING) / P(FACE)**"
   ]
  },
  {
   "cell_type": "markdown",
   "metadata": {},
   "source": [
    "1. P(KING) which is 4 / 52 as there are 4 kings in Deck of Cards\n",
    "                    = 4 / 52 = 1 / 13 = 0.076"
   ]
  },
  {
   "cell_type": "markdown",
   "metadata": {},
   "source": [
    "2. P(FACE | KING) = P(12 | 4) is equal to 1 as the Kings are face Card\n",
    "                    P(12 | 4) = 1 / 3 = 0.33\n",
    "    Explain:\n",
    "        we have 4 king card and they also is a face card ,then if we pick randomly pick 1 card out of the 4 king face card the posibility of getting face card id 1.\n",
    "                   "
   ]
  },
  {
   "cell_type": "markdown",
   "metadata": {},
   "source": [
    "3. P(FACE) = 12 / 52 = 3 / 13 = 0.23"
   ]
  },
  {
   "cell_type": "markdown",
   "metadata": {},
   "source": [
    "1. P(KING) = 4/52 = 1/13\n",
    "2. P(FACE | KING) = 1\n",
    "3. P(FACE) = 12 /52 = 3/13"
   ]
  },
  {
   "cell_type": "code",
   "execution_count": 3,
   "metadata": {},
   "outputs": [
    {
     "data": {
      "text/plain": [
       "0.3333333333333333"
      ]
     },
     "execution_count": 3,
     "metadata": {},
     "output_type": "execute_result"
    }
   ],
   "source": [
    "1 * (1/13) / (3 / 13)"
   ]
  },
  {
   "cell_type": "code",
   "execution_count": 4,
   "metadata": {},
   "outputs": [
    {
     "data": {
      "text/plain": [
       "0.33043478260869563"
      ]
     },
     "execution_count": 4,
     "metadata": {},
     "output_type": "execute_result"
    }
   ],
   "source": [
    "1 * (0.076) / (0.23)"
   ]
  },
  {
   "cell_type": "markdown",
   "metadata": {},
   "source": [
    "### 1. There are three different types of Naive Bayes Algorithm:\n",
    "    1. Gaussion Naive Bayes\n",
    "    2. Multinomial Naive Bayes\n",
    "    3. Burnoulli Navie Bayes "
   ]
  },
  {
   "cell_type": "code",
   "execution_count": null,
   "metadata": {},
   "outputs": [],
   "source": []
  }
 ],
 "metadata": {
  "kernelspec": {
   "display_name": "Python 3",
   "language": "python",
   "name": "python3"
  },
  "language_info": {
   "codemirror_mode": {
    "name": "ipython",
    "version": 3
   },
   "file_extension": ".py",
   "mimetype": "text/x-python",
   "name": "python",
   "nbconvert_exporter": "python",
   "pygments_lexer": "ipython3",
   "version": "3.8.5"
  }
 },
 "nbformat": 4,
 "nbformat_minor": 5
}
