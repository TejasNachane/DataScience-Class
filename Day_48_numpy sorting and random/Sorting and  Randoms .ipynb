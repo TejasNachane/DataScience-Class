{
 "cells": [
  {
   "cell_type": "markdown",
   "metadata": {},
   "source": [
    "# Numpy"
   ]
  },
  {
   "cell_type": "code",
   "execution_count": 1,
   "metadata": {},
   "outputs": [],
   "source": [
    "import numpy as np"
   ]
  },
  {
   "cell_type": "code",
   "execution_count": 5,
   "metadata": {},
   "outputs": [
    {
     "name": "stdout",
     "output_type": "stream",
     "text": [
      "2\n"
     ]
    }
   ],
   "source": [
    "my_array = np.array([10,20,30,40,50,60,70])\n",
    "\n",
    "x = np.searchsorted(my_array, 30, side='left')\n",
    "print(x)"
   ]
  },
  {
   "cell_type": "code",
   "execution_count": 6,
   "metadata": {},
   "outputs": [
    {
     "name": "stdout",
     "output_type": "stream",
     "text": [
      "[3 4 5]\n"
     ]
    }
   ],
   "source": [
    "my_array = np.array([10,20,30,40,50,60,70])\n",
    "\n",
    "x = np.searchsorted(my_array, [40,50,60])\n",
    "print(x)"
   ]
  },
  {
   "cell_type": "markdown",
   "metadata": {},
   "source": [
    "# Sorting Arrays"
   ]
  },
  {
   "cell_type": "markdown",
   "metadata": {},
   "source": [
    "1. Sorting means putting elements in ordered sequence\n",
    "2. Ordered sequence is any sequence that has order corresponding elements\n",
    "3. Like numeric or alphabetical,ascending or descending\n",
    "4. Numpy having function called [sort()] that will sort in specified array"
   ]
  },
  {
   "cell_type": "code",
   "execution_count": 7,
   "metadata": {},
   "outputs": [
    {
     "name": "stdout",
     "output_type": "stream",
     "text": [
      "[  2   5   8  20  23  34  41  42  46  50  87 100]\n"
     ]
    }
   ],
   "source": [
    "import numpy as np\n",
    "\n",
    "my_array = np.array([2,87,42,5,8,23,46,41,100,50,20,34])\n",
    "\n",
    "x = np.sort(my_array)\n",
    "print(x)"
   ]
  },
  {
   "cell_type": "code",
   "execution_count": 9,
   "metadata": {},
   "outputs": [
    {
     "name": "stdout",
     "output_type": "stream",
     "text": [
      "[  2   5   8  20  23  34  41  42  46  50  87 100]\n",
      "[  2  87  42   5   8  23  46  41 100  50  20  34]\n"
     ]
    }
   ],
   "source": [
    "import numpy as np\n",
    "\n",
    "my_array = np.array([2,87,42,5,8,23,46,41,100,50,20,34])\n",
    "\n",
    "print(np.sort(my_array))\n",
    "print(my_array)"
   ]
  },
  {
   "cell_type": "code",
   "execution_count": 10,
   "metadata": {},
   "outputs": [
    {
     "name": "stdout",
     "output_type": "stream",
     "text": [
      "['apple' 'banana' 'blackcurrent' 'cherry' 'papaya' 'pineapple'\n",
      " 'watermelon']\n"
     ]
    }
   ],
   "source": [
    "my_fruits = np.array(['banana','apple','cherry','watermelon','pineapple', 'blackcurrent','papaya'])\n",
    "\n",
    "sorted_fruits_list = np.sort(my_fruits)\n",
    "print(sorted_fruits_list)"
   ]
  },
  {
   "cell_type": "code",
   "execution_count": 13,
   "metadata": {},
   "outputs": [],
   "source": [
    "# help(np.sort(my_array))"
   ]
  },
  {
   "cell_type": "code",
   "execution_count": 15,
   "metadata": {},
   "outputs": [
    {
     "name": "stdout",
     "output_type": "stream",
     "text": [
      "[False False  True  True  True  True]\n"
     ]
    }
   ],
   "source": [
    "my_array = np.array([True, False, True, True, True, False])\n",
    "\n",
    "x = np.sort(my_array)\n",
    "print(x)"
   ]
  },
  {
   "cell_type": "markdown",
   "metadata": {},
   "source": [
    "## Sorting a 2-D Array"
   ]
  },
  {
   "cell_type": "code",
   "execution_count": 17,
   "metadata": {},
   "outputs": [
    {
     "name": "stdout",
     "output_type": "stream",
     "text": [
      "[[ 4  6 42 80]\n",
      " [12 24 46 81]]\n"
     ]
    }
   ],
   "source": [
    "my_array = np.array([[80,4,6,42],[12,81,24,46]])\n",
    "\n",
    "x = np.sort(my_array)\n",
    "print(x)"
   ]
  },
  {
   "cell_type": "markdown",
   "metadata": {},
   "source": [
    "# Filter Array"
   ]
  },
  {
   "cell_type": "markdown",
   "metadata": {},
   "source": [
    "1. Getting some elements out of an existing array and Creating new array out of them is called Filtering\n",
    "2. Filter array using boolean index list\n",
    "3. Boolean index list is list of Boolean corrsponding to indexes in the array"
   ]
  },
  {
   "cell_type": "code",
   "execution_count": 2,
   "metadata": {},
   "outputs": [],
   "source": [
    "import numpy as np"
   ]
  },
  {
   "cell_type": "code",
   "execution_count": 4,
   "metadata": {},
   "outputs": [
    {
     "name": "stdout",
     "output_type": "stream",
     "text": [
      "[41 43]\n"
     ]
    }
   ],
   "source": [
    "my_array = np.array([41,42,43,44])\n",
    "\n",
    "x = [True, False, True, False]\n",
    "\n",
    "new_array = my_array[x]\n",
    "print(new_array)"
   ]
  },
  {
   "cell_type": "code",
   "execution_count": 21,
   "metadata": {},
   "outputs": [
    {
     "name": "stdout",
     "output_type": "stream",
     "text": [
      "[41 43 78 45]\n"
     ]
    }
   ],
   "source": [
    "my_array = np.array([41,42,43,44,78,45])\n",
    "\n",
    "x = [True, False, True, False, True, True]\n",
    "\n",
    "new_array = my_array[x]\n",
    "print(new_array)"
   ]
  },
  {
   "cell_type": "markdown",
   "metadata": {},
   "source": [
    "**Problem Statement: Create a Filter that will return only values higher than 34**"
   ]
  },
  {
   "cell_type": "code",
   "execution_count": 28,
   "metadata": {},
   "outputs": [
    {
     "name": "stdout",
     "output_type": "stream",
     "text": [
      "[ 87  42  46  41 100  50  34  45  77  60]\n"
     ]
    }
   ],
   "source": [
    "my_array = np.array([2,87,42,5,8,23,46,41,100,50,20,34,45,77,60])\n",
    "\n",
    "# Create Empty list\n",
    "filter_array = []\n",
    "\n",
    "# go throgh each elements in array\n",
    "for elements in my_array:\n",
    "    # if the elements is higher than 34, set the values to True, otherwise False\n",
    "    if elements >= 34:\n",
    "        filter_array.append(True)\n",
    "    else:\n",
    "        filter_array.append(False)\n",
    "        \n",
    "new_array = my_array[filter_array]\n",
    "\n",
    "# print(filter_array)\n",
    "print(new_array)"
   ]
  },
  {
   "cell_type": "code",
   "execution_count": 30,
   "metadata": {},
   "outputs": [
    {
     "name": "stdout",
     "output_type": "stream",
     "text": [
      "[  2   8  20  34  42  46  50  60 100]\n"
     ]
    }
   ],
   "source": [
    "my_array = np.array([2,87,42,5,8,23,46,41,100,50,20,34,45,77,60])\n",
    "\n",
    "# Create Empty list\n",
    "filter_array = []\n",
    "\n",
    "# go throgh each elements in array\n",
    "for elements in my_array:\n",
    "    # if the elements is higher than 34, set the values to True, otherwise False\n",
    "    if elements % 2 == 0:\n",
    "        filter_array.append(True)\n",
    "    else:\n",
    "        filter_array.append(False)\n",
    "        \n",
    "new_array = my_array[filter_array]\n",
    "\n",
    "# print(filter_array)\n",
    "x = np.sort(new_array)\n",
    "print(x)"
   ]
  },
  {
   "cell_type": "code",
   "execution_count": 33,
   "metadata": {},
   "outputs": [
    {
     "name": "stdout",
     "output_type": "stream",
     "text": [
      "[87  5 23 41 45 77]\n"
     ]
    }
   ],
   "source": [
    "import numpy as np\n",
    "my_array = np.array([2,87,42,5,8,23,46,41,100,50,20,34,45,77,60])\n",
    "\n",
    "# Create Empty list\n",
    "filter_array = []\n",
    "\n",
    "# go throgh each elements in array\n",
    "for elements in my_array:\n",
    "    # if the elements is higher than 34, set the values to True, otherwise False\n",
    "    if elements % 2 == 1:\n",
    "        filter_array.append(True)\n",
    "    else:\n",
    "        filter_array.append(False)\n",
    "        \n",
    "new_array = my_array[filter_array]\n",
    "\n",
    "# print(filter_array)\n",
    "print(new_array)\n",
    "# x = np.sort(new_array)\n",
    "# print(x)"
   ]
  },
  {
   "cell_type": "markdown",
   "metadata": {},
   "source": [
    "# Random Numbers in Numpy"
   ]
  },
  {
   "cell_type": "code",
   "execution_count": 6,
   "metadata": {},
   "outputs": [],
   "source": [
    "from numpy import random"
   ]
  },
  {
   "cell_type": "markdown",
   "metadata": {},
   "source": [
    "## Integer Numbers"
   ]
  },
  {
   "cell_type": "code",
   "execution_count": 38,
   "metadata": {},
   "outputs": [
    {
     "name": "stdout",
     "output_type": "stream",
     "text": [
      "54\n"
     ]
    }
   ],
   "source": [
    "x = random.randint(100)\n",
    "print(x)"
   ]
  },
  {
   "cell_type": "markdown",
   "metadata": {},
   "source": [
    "## Float Numbers"
   ]
  },
  {
   "cell_type": "code",
   "execution_count": 41,
   "metadata": {},
   "outputs": [
    {
     "name": "stdout",
     "output_type": "stream",
     "text": [
      "0.6472672117569812\n"
     ]
    }
   ],
   "source": [
    "x = random.rand()\n",
    "print(x)"
   ]
  },
  {
   "cell_type": "markdown",
   "metadata": {},
   "source": [
    "## Generate Random Array"
   ]
  },
  {
   "cell_type": "code",
   "execution_count": 9,
   "metadata": {},
   "outputs": [
    {
     "data": {
      "text/plain": [
       "array([48, 66, 77, 14, 96, 18, 40, 41, 67, 44])"
      ]
     },
     "execution_count": 9,
     "metadata": {},
     "output_type": "execute_result"
    }
   ],
   "source": [
    "x = random.randint(100, size =(10))\n",
    "x"
   ]
  },
  {
   "cell_type": "markdown",
   "metadata": {},
   "source": [
    "## Generate 2-D Arrays"
   ]
  },
  {
   "cell_type": "code",
   "execution_count": 48,
   "metadata": {},
   "outputs": [
    {
     "name": "stdout",
     "output_type": "stream",
     "text": [
      "[[39 81 81  3 89]\n",
      " [48 42 25 86 54]\n",
      " [77 56 11 45 49]\n",
      " [69 41 26 97 81]]\n"
     ]
    }
   ],
   "source": [
    "x = random.randint(100, size =(4,5))\n",
    "print(x)"
   ]
  },
  {
   "cell_type": "markdown",
   "metadata": {},
   "source": [
    "## Generate 3-D Arrays"
   ]
  },
  {
   "cell_type": "code",
   "execution_count": 51,
   "metadata": {},
   "outputs": [
    {
     "name": "stdout",
     "output_type": "stream",
     "text": [
      "[[[ 2 14 43 98]\n",
      "  [16 30 35 56]]\n",
      "\n",
      " [[ 7 10 22 26]\n",
      "  [21 47 60 67]]]\n"
     ]
    }
   ],
   "source": [
    "x = random.randint(100, size =(2,2,4))\n",
    "y = np.sort(x)\n",
    "print(y)"
   ]
  },
  {
   "cell_type": "markdown",
   "metadata": {},
   "source": [
    "# Generate Floating Arrays:\n",
    "    1. 1-D \n",
    "    2. 2-D\n",
    "    3. 3-D"
   ]
  },
  {
   "cell_type": "markdown",
   "metadata": {},
   "source": [
    "## 1-D arrays"
   ]
  },
  {
   "cell_type": "code",
   "execution_count": 11,
   "metadata": {},
   "outputs": [
    {
     "name": "stdout",
     "output_type": "stream",
     "text": [
      "[0.57074336 0.22896762 0.95422612 0.37084031 0.37169642]\n"
     ]
    }
   ],
   "source": [
    "x = random.rand(5)\n",
    "print(x)"
   ]
  },
  {
   "cell_type": "markdown",
   "metadata": {},
   "source": [
    "## 2-D Arrrays"
   ]
  },
  {
   "cell_type": "code",
   "execution_count": 12,
   "metadata": {},
   "outputs": [
    {
     "name": "stdout",
     "output_type": "stream",
     "text": [
      "[[0.63691444 0.85334199 0.98396473 0.25716045 0.68666363]\n",
      " [0.15242616 0.61202598 0.25631921 0.718675   0.05605713]\n",
      " [0.51627498 0.0385318  0.37953233 0.60316431 0.19418629]]\n"
     ]
    }
   ],
   "source": [
    "x = random.rand(3,5)\n",
    "print(x)"
   ]
  },
  {
   "cell_type": "markdown",
   "metadata": {},
   "source": [
    "## 3-D Arrays"
   ]
  },
  {
   "cell_type": "code",
   "execution_count": 16,
   "metadata": {},
   "outputs": [
    {
     "name": "stdout",
     "output_type": "stream",
     "text": [
      "[[[0.13416455 0.29883206 0.46649222]\n",
      "  [0.1419037  0.12892218 0.80523295]]\n",
      "\n",
      " [[0.81185899 0.95988936 0.57311968]\n",
      "  [0.24797972 0.92435206 0.39729458]]]\n"
     ]
    }
   ],
   "source": [
    "x = random.rand(2,2,3)\n",
    "print(x)"
   ]
  },
  {
   "cell_type": "code",
   "execution_count": null,
   "metadata": {},
   "outputs": [],
   "source": []
  }
 ],
 "metadata": {
  "kernelspec": {
   "display_name": "Python 3",
   "language": "python",
   "name": "python3"
  },
  "language_info": {
   "codemirror_mode": {
    "name": "ipython",
    "version": 3
   },
   "file_extension": ".py",
   "mimetype": "text/x-python",
   "name": "python",
   "nbconvert_exporter": "python",
   "pygments_lexer": "ipython3",
   "version": "3.8.5"
  }
 },
 "nbformat": 4,
 "nbformat_minor": 5
}
