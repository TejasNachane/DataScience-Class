{
 "cells": [
  {
   "cell_type": "markdown",
   "id": "8a53b2c9",
   "metadata": {
    "id": "8a53b2c9"
   },
   "source": [
    "# Multiple Linear Regression"
   ]
  },
  {
   "cell_type": "code",
   "execution_count": null,
   "id": "85bac34d",
   "metadata": {
    "id": "85bac34d"
   },
   "outputs": [],
   "source": [
    ""
   ]
  },
  {
   "cell_type": "code",
   "execution_count": null,
   "id": "15b7deca",
   "metadata": {
    "id": "15b7deca"
   },
   "outputs": [],
   "source": [
    ""
   ]
  },
  {
   "cell_type": "code",
   "execution_count": null,
   "id": "c26167ce",
   "metadata": {
    "id": "c26167ce"
   },
   "outputs": [],
   "source": [
    ""
   ]
  },
  {
   "cell_type": "markdown",
   "id": "e8d79da8",
   "metadata": {
    "id": "e8d79da8"
   },
   "source": [
    "# 1. Suppose you have independent on the x_axis and depedendent variable on y_axis\n",
    "2. There are different types of relationship:\n",
    "    1. Positive Relationship \n",
    "    2. Negative Relationship\n",
    "    3. No Coreleationship"
   ]
  },
  {
   "cell_type": "markdown",
   "id": "f696f34e",
   "metadata": {
    "id": "f696f34e"
   },
   "source": [
    "1. Indepndent variable on the x_axis (increasing) and does the Dependent variable on the y_axis (incresing) then called as Positive Linear Regression\n",
    "2. Indepndent variable on the x_axis (increasing) and other hand Dependent variable on the y_axis (decresing) then called as Negative Linear Regression\n",
    "3. x - 0 and y - 0 = NO relationship"
   ]
  },
  {
   "cell_type": "markdown",
   "id": "1474f4b2",
   "metadata": {
    "id": "1474f4b2"
   },
   "source": [
    "![](https://www.investopedia.com/thmb/4Tm-CR5YxoZTWecD-Wax26V7Vj8=/1333x1000/smart/filters:no_upscale()/TC_3126228-how-to-calculate-the-correlation-coefficient-5aabeb313de423003610ee40.png)"
   ]
  },
  {
   "cell_type": "markdown",
   "id": "15e6c40f",
   "metadata": {
    "id": "15e6c40f"
   },
   "source": [
    "**Formula y = mx + c**"
   ]
  },
  {
   "cell_type": "markdown",
   "id": "df759507",
   "metadata": {
    "id": "df759507"
   },
   "source": [
    "## Mathematical Implementation"
   ]
  },
  {
   "cell_type": "code",
   "execution_count": null,
   "id": "70f04001",
   "metadata": {
    "id": "70f04001"
   },
   "outputs": [],
   "source": [
    "# Consider the Datapoints,\n",
    "x_axis = [1,2,3,4,5]\n",
    "y_axis = [3,4,2,4,5]"
   ]
  },
  {
   "cell_type": "markdown",
   "id": "a4b8a1b8",
   "metadata": {
    "id": "a4b8a1b8"
   },
   "source": [
    "Now calculate mean of x and mean of y and plot the graph"
   ]
  },
  {
   "cell_type": "code",
   "execution_count": null,
   "id": "1aefdf6f",
   "metadata": {
    "id": "1aefdf6f"
   },
   "outputs": [],
   "source": [
    "mean_x = 1 + 2 + 3 + 4 + 5 / 5"
   ]
  },
  {
   "cell_type": "code",
   "execution_count": null,
   "id": "02d5ddde",
   "metadata": {
    "id": "02d5ddde",
    "outputId": "59c115d7-373f-4a72-85ab-d255cd60c790"
   },
   "outputs": [
    {
     "name": "stdout",
     "output_type": "stream",
     "text": [
      "3.0\n"
     ]
    }
   ],
   "source": [
    "mean_x = 15 / 5\n",
    "print(mean_x)"
   ]
  },
  {
   "cell_type": "markdown",
   "id": "7a4ca1c4",
   "metadata": {
    "id": "7a4ca1c4"
   },
   "source": [
    "**similarly mean of y**"
   ]
  },
  {
   "cell_type": "code",
   "execution_count": null,
   "id": "11068740",
   "metadata": {
    "id": "11068740"
   },
   "outputs": [],
   "source": [
    "mean_y = 3 + 4 + 2 + 4 + 5 / 5"
   ]
  },
  {
   "cell_type": "code",
   "execution_count": null,
   "id": "10b618a9",
   "metadata": {
    "id": "10b618a9",
    "outputId": "e687d86d-aafe-4f0a-f2be-8d652f89d999"
   },
   "outputs": [
    {
     "name": "stdout",
     "output_type": "stream",
     "text": [
      "3.6\n"
     ]
    }
   ],
   "source": [
    "mean_y = 18 / 5\n",
    "print(mean_y)"
   ]
  },
  {
   "cell_type": "markdown",
   "id": "95d28cb5",
   "metadata": {
    "id": "95d28cb5"
   },
   "source": [
    "1. Now our main goal is to predict Best Fit Line using **Least Square Method**\n",
    "2. Now, we need to find equation of line, so lets findout equation of regression line:\n",
    "    1. y = mx + c\n",
    "3. Now, we eqation of line:\n",
    "    1. m = summation(x - mean_x) (y - mean_y)/ summation (x - mean_x) ** 2\n",
    "    2. value of m"
   ]
  },
  {
   "cell_type": "code",
   "execution_count": null,
   "id": "b6b58152",
   "metadata": {
    "id": "b6b58152",
    "outputId": "f9e77bc8-e8cc-4977-9481-89ffcba171cb"
   },
   "outputs": [
    {
     "name": "stdout",
     "output_type": "stream",
     "text": [
      "Calculate x - mean_x\n",
      "1 - 3 =  -2\n",
      "2 - 3 =  -1\n",
      "3 - 3 =  0\n",
      "4 - 3 =  1\n",
      "5 - 3 =  2\n"
     ]
    }
   ],
   "source": [
    "print(\"Calculate x - mean_x\")\n",
    "print(\"1 - 3 = \", 1 - 3)\n",
    "print(\"2 - 3 = \", 2 - 3)\n",
    "print(\"3 - 3 = \", 3 - 3)\n",
    "print(\"4 - 3 = \", 4 - 3)\n",
    "print(\"5 - 3 = \", 5 - 3)"
   ]
  },
  {
   "cell_type": "code",
   "execution_count": null,
   "id": "ede9a1a6",
   "metadata": {
    "id": "ede9a1a6",
    "outputId": "92f600e1-3688-44fa-f57a-63155d555556"
   },
   "outputs": [
    {
     "name": "stdout",
     "output_type": "stream",
     "text": [
      "Calculate y - mean_y \n",
      "3 - 3.6 =  -0.6000000000000001\n",
      "4 - 3.6 =  0.3999999999999999\n",
      "2 - 3.6 =  -1.6\n",
      "4- 3.6 =  0.3999999999999999\n",
      "5 - 3.6 =  1.4\n"
     ]
    }
   ],
   "source": [
    "print(\"Calculate y - mean_y \")\n",
    "print(\"3 - 3.6 = \", 3 - 3.6)\n",
    "print(\"4 - 3.6 = \", 4 - 3.6)\n",
    "print(\"2 - 3.6 = \", 2 - 3.6)\n",
    "print(\"4- 3.6 = \", 4 - 3.6)\n",
    "print(\"5 - 3.6 = \", 5 - 3.6)"
   ]
  },
  {
   "cell_type": "markdown",
   "id": "18aa98da",
   "metadata": {
    "id": "18aa98da"
   },
   "source": [
    "**Now we need to calculate product of (x - mean_x) * (y - mean_y)**"
   ]
  },
  {
   "cell_type": "code",
   "execution_count": null,
   "id": "b915fe6f",
   "metadata": {
    "id": "b915fe6f",
    "outputId": "b00a21d2-38f6-4f25-b0cc-f43e945d73d9"
   },
   "outputs": [
    {
     "name": "stdout",
     "output_type": "stream",
     "text": [
      "Now we need to calculate product of (x - mean_x) * (y - mean_y): \n",
      "(-2) * (-0.6) = 1.2\n",
      "(-1) * (0.4) =  -0.4\n",
      "(0) * (-1.6) = -0.0\n",
      "(1) * (0.4) =  0.4\n",
      "(2) * (1.4) =  2.8\n"
     ]
    }
   ],
   "source": [
    "print(\"Now we need to calculate product of (x - mean_x) * (y - mean_y): \")\n",
    "\n",
    "print(\"(-2) * (-0.6) =\",(-2) * (-0.6))\n",
    "print(\"(-1) * (0.4) = \",(-1) * (0.4))\n",
    "print(\"(0) * (-1.6) =\",(0) * (-1.6))\n",
    "print(\"(1) * (0.4) = \",(1) * (0.4) )\n",
    "print(\"(2) * (1.4) = \", (2) * (1.4))"
   ]
  },
  {
   "cell_type": "markdown",
   "id": "04c94db8",
   "metadata": {
    "id": "04c94db8"
   },
   "source": [
    "**Now we need to calculate (x - mean_x) ** 2**"
   ]
  },
  {
   "cell_type": "code",
   "execution_count": null,
   "id": "16cc6a62",
   "metadata": {
    "id": "16cc6a62",
    "outputId": "0766cd96-c927-45ff-811b-0fea42820c80"
   },
   "outputs": [
    {
     "name": "stdout",
     "output_type": "stream",
     "text": [
      "Now we need to calculate (x - mean_x) ** 2: \n",
      "(-2) ** 2 =  4\n",
      "(-1) ** 2 = 1\n",
      "(0) ** 2 = 0\n",
      "(1) ** 2 =  1\n",
      "(2) ** 2 =  4\n"
     ]
    }
   ],
   "source": [
    "print(\"Now we need to calculate (x - mean_x) ** 2: \")\n",
    "print(\"(-2) ** 2 = \",(-2) ** 2 )\n",
    "print(\"(-1) ** 2 =\",(-1) ** 2)\n",
    "print(\"(0) ** 2 =\",(0) ** 2)\n",
    "print(\"(1) ** 2 = \",(1) ** 2)\n",
    "print(\"(2) ** 2 = \",(2) ** 2)"
   ]
  },
  {
   "cell_type": "markdown",
   "id": "5325d363",
   "metadata": {
    "id": "5325d363"
   },
   "source": [
    "**Now calculate summation of summation(x - mean_x) (y - mean_y)**"
   ]
  },
  {
   "cell_type": "markdown",
   "id": "397b0d60",
   "metadata": {
    "id": "397b0d60"
   },
   "source": [
    "**Now caluclate summation of summation (x - mean_x) ** 2**"
   ]
  },
  {
   "cell_type": "markdown",
   "id": "e767f1c9",
   "metadata": {
    "id": "e767f1c9"
   },
   "source": [
    "Now calculation summation last two columns **m = summation(x - mean_x) (y - mean_y) / summation (x - mean_x) ** 2**"
   ]
  },
  {
   "cell_type": "markdown",
   "id": "df168a9b",
   "metadata": {
    "id": "df168a9b"
   },
   "source": [
    "#### 1. summation(x - mean_x) (y - mean_y) = 4\n",
    "#### 2. summation (x - mean_x) ** 2 = 10"
   ]
  },
  {
   "cell_type": "markdown",
   "id": "26a678be",
   "metadata": {
    "id": "26a678be"
   },
   "source": [
    "Now we have,\n",
    "1. mean_x = 3\n",
    "2. mean_y = 3.6\n",
    "3. m = 0.4\n"
   ]
  },
  {
   "cell_type": "markdown",
   "id": "91bba12c",
   "metadata": {
    "id": "91bba12c"
   },
   "source": [
    "## y = mx + c"
   ]
  },
  {
   "cell_type": "raw",
   "id": "11c37fec",
   "metadata": {
    "id": "11c37fec"
   },
   "source": [
    "3.6 = 0.4 * 3 + c\n",
    "3.6 = 1.2 + c\n",
    "3.6 - 1.2 = c\n",
    "c = 2.4"
   ]
  },
  {
   "cell_type": "markdown",
   "id": "49654a33",
   "metadata": {
    "id": "49654a33"
   },
   "source": [
    "**Now we get the Regression Line c = 2.4**"
   ]
  },
  {
   "cell_type": "raw",
   "id": "e1eb78a6",
   "metadata": {
    "id": "e1eb78a6"
   },
   "source": [
    "Now,\n",
    "x = {1,2,3,4,5}\n",
    "m = 0.4\n",
    "c = 2.4"
   ]
  },
  {
   "cell_type": "markdown",
   "id": "9f99d226",
   "metadata": {
    "id": "9f99d226"
   },
   "source": [
    "Now calculate predicted value of Y,  **y = mx + c**"
   ]
  },
  {
   "cell_type": "code",
   "execution_count": null,
   "id": "dda1481e",
   "metadata": {
    "id": "dda1481e",
    "outputId": "ea988d0c-d577-427e-fc50-9f85d4851290"
   },
   "outputs": [
    {
     "name": "stdout",
     "output_type": "stream",
     "text": [
      "0.4 * 1 + 2.4  y =  2.8\n",
      "0.4 * 2 + 2.4  y =  3.2\n",
      "0.4 * 3 + 2.4  y =  3.6\n",
      "0.4 * 4 + 2.4  y =  4.0\n",
      "0.4 * 5 + 2.4  y =  4.4\n"
     ]
    }
   ],
   "source": [
    "print(\"0.4 * 1 + 2.4  y = \", 0.4 * 1 + 2.4)\n",
    "print(\"0.4 * 2 + 2.4  y = \", 0.4 * 2 + 2.4)\n",
    "print(\"0.4 * 3 + 2.4  y = \", 0.4 * 3 + 2.4)\n",
    "print(\"0.4 * 4 + 2.4  y = \", 0.4 * 4 + 2.4)\n",
    "print(\"0.4 * 5 + 2.4  y = \", 0.4 * 5 + 2.4)"
   ]
  },
  {
   "cell_type": "markdown",
   "id": "a8b07526",
   "metadata": {
    "id": "a8b07526"
   },
   "source": [
    "**Actual Value - Predicted Value**"
   ]
  },
  {
   "cell_type": "code",
   "execution_count": null,
   "id": "d9c1685a",
   "metadata": {
    "id": "d9c1685a",
    "outputId": "a104a94d-6af7-468e-a0b2-04b7f2d7b664"
   },
   "outputs": [
    {
     "name": "stdout",
     "output_type": "stream",
     "text": [
      "Actual Value (y) - Predicted Value: \n",
      "3 - 2.8 = 0.20000000000000018\n",
      "4 - 3.2 = 0.7999999999999998\n",
      "2 - 3.6 = -1.6\n",
      "4 - 4 = 0\n",
      "5 - 4.4 = 0.5999999999999996\n"
     ]
    }
   ],
   "source": [
    "print(\"Actual Value (y) - Predicted Value: \")\n",
    "print(\"3 - 2.8 =\",3 - 2.8)\n",
    "print(\"4 - 3.2 =\",4 - 3.2 )\n",
    "print(\"2 - 3.6 =\",2 - 3.6)\n",
    "print(\"4 - 4 =\",4 - 4)\n",
    "print(\"5 - 4.4 =\",5 - 4.4 )"
   ]
  },
  {
   "cell_type": "code",
   "execution_count": null,
   "id": "91a07ec8",
   "metadata": {
    "id": "91a07ec8"
   },
   "outputs": [],
   "source": [
    ""
   ]
  }
 ],
 "metadata": {
  "colab": {
   "name": "MultipleLinearRegression.ipynb",
   "provenance": []
  },
  "kernelspec": {
   "display_name": "Python 3 (ipykernel)",
   "language": "python",
   "name": "python3"
  },
  "language_info": {
   "codemirror_mode": {
    "name": "ipython",
    "version": 3
   },
   "file_extension": ".py",
   "mimetype": "text/x-python",
   "name": "python",
   "nbconvert_exporter": "python",
   "pygments_lexer": "ipython3",
   "version": "3.9.7"
  }
 },
 "nbformat": 4,
 "nbformat_minor": 5
}
