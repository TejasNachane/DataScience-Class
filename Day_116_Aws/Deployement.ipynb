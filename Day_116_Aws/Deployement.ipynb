{
 "cells": [
  {
   "cell_type": "markdown",
   "metadata": {},
   "source": [
    "### AWS Deployement"
   ]
  },
  {
   "cell_type": "markdown",
   "metadata": {},
   "source": [
    "**There are different steps requried to Deployed Python Code on AWS EC2 Instance**"
   ]
  },
  {
   "cell_type": "markdown",
   "metadata": {},
   "source": [
    "1. Creating a Machine Learning Model\n",
    "2. Pickling the Model Object(Create a Pickle File)\n",
    "3. Creating a Website Template\n",
    "4. Creating an AJAX Request\n",
    "5. Create a Flask Backend API"
   ]
  },
  {
   "cell_type": "markdown",
   "metadata": {},
   "source": [
    "## 6. Getting Started with AWS"
   ]
  },
  {
   "cell_type": "markdown",
   "metadata": {},
   "source": [
    "**Now it’s all set, the remaining thing to reach our goal is to deploy flask application to AWS Cloud**"
   ]
  },
  {
   "cell_type": "markdown",
   "metadata": {},
   "source": [
    "![](https://miro.medium.com/max/1400/1*blt2hfo21P99HkVdwU2_wg.png)"
   ]
  },
  {
   "cell_type": "markdown",
   "metadata": {},
   "source": [
    "## 7. Creating an AWS EC2 Instance"
   ]
  },
  {
   "cell_type": "markdown",
   "metadata": {},
   "source": [
    "1. Now we need to go to the search bar in the AWS Management Console and search for EC2 and need to click on running instances. \n",
    "2. Click on Launch Instance to create the new EC2 instance. \n",
    "3. Now we need to follow 4 steps to create an instance"
   ]
  },
  {
   "cell_type": "markdown",
   "metadata": {},
   "source": [
    "### 1. Choose an Amazon Machine Image (AMI)"
   ]
  },
  {
   "cell_type": "markdown",
   "metadata": {},
   "source": [
    "1. ubuntu\n",
    "2. Linux\n",
    "3. Mac\n",
    "4. Windows etc."
   ]
  },
  {
   "cell_type": "markdown",
   "metadata": {},
   "source": [
    "![](https://miro.medium.com/max/1400/1*R-AVC0Zp2V7qknf6pqVJ8g.png)"
   ]
  },
  {
   "cell_type": "markdown",
   "metadata": {},
   "source": [
    "### 2. Choose Instance Type"
   ]
  },
  {
   "cell_type": "markdown",
   "metadata": {},
   "source": [
    "1. Now we need to choose instance type for our server. \n",
    "2. In this case, we can go with a free tier instance. "
   ]
  },
  {
   "cell_type": "markdown",
   "metadata": {},
   "source": [
    "**Note : If yours is a company you can choose the paid ones. Here is the snapshot of the choose instance type.**"
   ]
  },
  {
   "cell_type": "markdown",
   "metadata": {},
   "source": [
    "![](https://miro.medium.com/max/1400/1*nxgPD9xZMB7PPdYN7CmBGw.png)"
   ]
  },
  {
   "cell_type": "markdown",
   "metadata": {},
   "source": [
    "3. Once you selected the instance we need to click on “Review and Launch"
   ]
  },
  {
   "cell_type": "markdown",
   "metadata": {},
   "source": [
    "### 3. Edit Security Groups"
   ]
  },
  {
   "cell_type": "markdown",
   "metadata": {},
   "source": [
    "1. you need to click on the “Edit Security Groups” in the “Review and Launch” page. \n",
    "2. Once if you go “Edit Security Groups” Page you need to create a security group."
   ]
  },
  {
   "cell_type": "markdown",
   "metadata": {},
   "source": [
    "#### What is the reason behind creating Security Groups?"
   ]
  },
  {
   "cell_type": "markdown",
   "metadata": {},
   "source": [
    "**It helps us to edit which kind of traffic that should be allowed while accessing the instance and it helps us to decide which IPs can access our application which allows us to restrict the usage**"
   ]
  },
  {
   "cell_type": "markdown",
   "metadata": {},
   "source": [
    "![](https://miro.medium.com/max/1400/1*UF20fR29P5MY7nQ-9E7wRg.png)"
   ]
  },
  {
   "cell_type": "markdown",
   "metadata": {},
   "source": [
    "### 4. Creating a Private Key Pair"
   ]
  },
  {
   "cell_type": "markdown",
   "metadata": {},
   "source": [
    "1. Once you followed with the above steps you will be able to click on the launch button in “Review Instance Launch”. \n",
    "2. You will be getting a pop-up for choosing a private key pair. \n",
    "3. Let’s click on create a new private key pair and choose a keypair name.\n",
    "4. Now store this file in your project folder and click on launch instances."
   ]
  },
  {
   "cell_type": "markdown",
   "metadata": {},
   "source": [
    "![](https://miro.medium.com/max/1400/1*lLiccZnhIpCGjhGaFqx2zg.png)"
   ]
  },
  {
   "cell_type": "markdown",
   "metadata": {},
   "source": [
    "## 8. Downloading Required Softwares"
   ]
  },
  {
   "cell_type": "markdown",
   "metadata": {},
   "source": [
    "1. The Required Softwares to be downloaded which helps in connecting the local machine with the AWS EC2 instance:\n",
    "    1. WinSCP\n",
    "    2. Putty\n",
    "    3. Puttygen (If be default not installed then we go for download )"
   ]
  },
  {
   "cell_type": "markdown",
   "metadata": {},
   "source": [
    "### 1. WinSCP"
   ]
  },
  {
   "cell_type": "markdown",
   "metadata": {},
   "source": [
    "1. It is a free and open-source SFTP, FTP, WebDAV, Amazon S3, and SCP client for Microsoft Windows. \n",
    "2. Its main function is secure file transfer between a local and a remote computer."
   ]
  },
  {
   "cell_type": "markdown",
   "metadata": {},
   "source": [
    "### 2. Putty"
   ]
  },
  {
   "cell_type": "markdown",
   "metadata": {},
   "source": [
    "1. It is a free and open-source terminal emulator, serial console, and network file transfer application. \n",
    "2. It supports several network protocols, including SCP, SSH, Telnet, rlogin, and raw socket connection. \n",
    "3. It can also connect to a serial port."
   ]
  },
  {
   "cell_type": "markdown",
   "metadata": {},
   "source": [
    "### 3. Puttygen"
   ]
  },
  {
   "cell_type": "markdown",
   "metadata": {},
   "source": [
    "1. You need to convert a private key from PPK format which you have downloaded previously to PEM format using PuttyGen.\n",
    "2. It will be very much useful in the future for getting access to transfer files from local machine to Ubuntu Server. \n",
    "3. To convert firstly you need to open PuttyGen Software which is already installed default when you installed Putty. "
   ]
  },
  {
   "cell_type": "markdown",
   "metadata": {},
   "source": [
    "![](https://miro.medium.com/max/1274/1*flw6A8v7Q0mpSxYDIzbJHA.png)"
   ]
  },
  {
   "cell_type": "markdown",
   "metadata": {},
   "source": [
    "4. Now you need to click on load and add the PPM file you recently downloaded. \n",
    "5. Then you need to click on “Save private key” and store it. \n",
    "6. Now close the PuttyGen window and continue to follow the next step"
   ]
  },
  {
   "cell_type": "markdown",
   "metadata": {},
   "source": [
    "## 11. Transferring Project files using WinSCP"
   ]
  },
  {
   "cell_type": "markdown",
   "metadata": {},
   "source": [
    "1. Now you need to transfer project files from local machine to ubuntu server using WinSCP Software. \n",
    "2. Firstly you need to go to the AWS Management Console and right-click on the instance where you will find many options."
   ]
  },
  {
   "cell_type": "markdown",
   "metadata": {},
   "source": [
    "![](https://miro.medium.com/max/1400/1*flzVcFYK0wBkhBb96LK5OA.png)"
   ]
  },
  {
   "cell_type": "markdown",
   "metadata": {},
   "source": [
    "3. Now you need to copy the Public DNS which is shown in point no \n",
    "4. Then you need to open WinSCP and need to paste this DNS address in the host input value. \n",
    "5. The window looks similar to below shown one"
   ]
  },
  {
   "cell_type": "markdown",
   "metadata": {},
   "source": [
    "![](https://miro.medium.com/max/1400/1*IK8kw84wapeTNhka4OdPxQ.png)"
   ]
  },
  {
   "cell_type": "markdown",
   "metadata": {},
   "source": [
    "6. Now click on advanced options and go to “Authentication” and insert the created private key in PPK format. \n",
    "7. The window looks similar to below shown one."
   ]
  },
  {
   "cell_type": "markdown",
   "metadata": {},
   "source": [
    "![](https://miro.medium.com/max/1380/1*2zznxdk0o4mHGLFJqprYHA.png)"
   ]
  },
  {
   "cell_type": "markdown",
   "metadata": {},
   "source": [
    "8. Now click on OK and go to log in. Now you can be able to connect with the ubuntu server. \n",
    "9. Now select the project files you wanted to add to the server and drag and drop to the right side section in the window. \n",
    "10. The file transfer starts and after a while files will be transferred. "
   ]
  },
  {
   "cell_type": "markdown",
   "metadata": {},
   "source": [
    "![](https://miro.medium.com/max/1400/1*MC23rffOtEcVBJUz6AjiFA.png)"
   ]
  },
  {
   "cell_type": "markdown",
   "metadata": {},
   "source": [
    "## 12. Connect to the Instance using Git Bash"
   ]
  },
  {
   "cell_type": "markdown",
   "metadata": {},
   "source": [
    "1. we need to get an access terminal to compute the files. \n",
    "2. For that open (using Putty configuration) and navigate to the project source"
   ]
  },
  {
   "cell_type": "markdown",
   "metadata": {},
   "source": [
    "![](https://miro.medium.com/max/1400/1*DxsfZvlXq7JD-rJEA26whg.png)"
   ]
  },
  {
   "cell_type": "markdown",
   "metadata": {},
   "source": [
    "## 13. To Login use your username at that time of WinSCP you have passed"
   ]
  },
  {
   "cell_type": "markdown",
   "metadata": {},
   "source": [
    "**For Example- ubuntu**"
   ]
  },
  {
   "cell_type": "markdown",
   "metadata": {},
   "source": [
    "## 14.Install the Required Libraries and run the Flask Application"
   ]
  },
  {
   "cell_type": "markdown",
   "metadata": {},
   "source": [
    "1. Now once the terminal is ready now we need to run some commands before running the flask app. \n",
    "2. Firstly we need to update the OS and update pip to install libraries in the future."
   ]
  },
  {
   "cell_type": "markdown",
   "metadata": {},
   "source": [
    "**sudo apt-get update && sudo apt-get install python3-pip**"
   ]
  },
  {
   "cell_type": "markdown",
   "metadata": {},
   "source": [
    "1. Now you need to install all required libraries to run the flask application. "
   ]
  },
  {
   "cell_type": "markdown",
   "metadata": {},
   "source": [
    "**The required commands for this application are as follows:-**"
   ]
  },
  {
   "cell_type": "markdown",
   "metadata": {},
   "source": [
    "1. pip3 install numpy\n",
    "2. pip3 install flask\n",
    "3. pip3 install sklearn"
   ]
  },
  {
   "cell_type": "markdown",
   "metadata": {},
   "source": [
    "### OR"
   ]
  },
  {
   "cell_type": "markdown",
   "metadata": {},
   "source": [
    "**pip3 install -r requirements.txt**"
   ]
  },
  {
   "cell_type": "markdown",
   "metadata": {},
   "source": [
    "### Now all the libraries are installed now we need to run the application by entering following command"
   ]
  },
  {
   "cell_type": "markdown",
   "metadata": {},
   "source": [
    "**python3 app.py**"
   ]
  },
  {
   "cell_type": "markdown",
   "metadata": {},
   "source": [
    "1.Now the application started running. You can view the application at the URL as <your DNS>::<your port no>."
   ]
  },
  {
   "cell_type": "markdown",
   "metadata": {},
   "source": [
    "**In my case it is http://ec2-3-20-236-91.us-east-2.compute.amazonaws.com:8080/**"
   ]
  },
  {
   "cell_type": "markdown",
   "metadata": {},
   "source": [
    "![](https://miro.medium.com/max/1400/1*EiMwlOQmSlozoI5kA9Ccdw.png)"
   ]
  },
  {
   "cell_type": "markdown",
   "metadata": {},
   "source": [
    "# Important Note:-"
   ]
  },
  {
   "cell_type": "markdown",
   "metadata": {},
   "source": [
    "**Now your application is hosted but there is a problem you will face once you close your git bash. The problem is once if you close git bash and you reload the URL your screen looks similar to below.**"
   ]
  },
  {
   "cell_type": "markdown",
   "metadata": {},
   "source": [
    "![](https://miro.medium.com/max/1400/1*-Rbt5amxAJxrVaOWTvlB1g.png)"
   ]
  },
  {
   "cell_type": "code",
   "execution_count": null,
   "metadata": {},
   "outputs": [],
   "source": []
  }
 ],
 "metadata": {
  "kernelspec": {
   "display_name": "Python 3",
   "language": "python",
   "name": "python3"
  },
  "language_info": {
   "codemirror_mode": {
    "name": "ipython",
    "version": 3
   },
   "file_extension": ".py",
   "mimetype": "text/x-python",
   "name": "python",
   "nbconvert_exporter": "python",
   "pygments_lexer": "ipython3",
   "version": "3.8.5"
  }
 },
 "nbformat": 4,
 "nbformat_minor": 5
}
