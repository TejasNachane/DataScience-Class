{
 "cells": [
  {
   "cell_type": "markdown",
   "metadata": {},
   "source": [
    "# Shape of Array"
   ]
  },
  {
   "cell_type": "markdown",
   "metadata": {},
   "source": [
    "1. Shape of array is the number of elements in each dimension\n",
    "2. Numpy array having one attributes called as [shape] \n",
    "3. shape returns a tuple with each index having number of corresponding elements"
   ]
  },
  {
   "cell_type": "code",
   "execution_count": 2,
   "metadata": {},
   "outputs": [],
   "source": [
    "import numpy as np"
   ]
  },
  {
   "cell_type": "code",
   "execution_count": 4,
   "metadata": {},
   "outputs": [
    {
     "name": "stdout",
     "output_type": "stream",
     "text": [
      "(2, 5)\n"
     ]
    }
   ],
   "source": [
    "my_array = np.array([[10,20,30,40,50],[60,70,80,90,100]])\n",
    "print(my_array.shape)"
   ]
  },
  {
   "cell_type": "code",
   "execution_count": 3,
   "metadata": {},
   "outputs": [
    {
     "name": "stdout",
     "output_type": "stream",
     "text": [
      "[[[[[10 20 30 40 50 60 70 80]]]]]\n",
      "Shape of Array :  (1, 1, 1, 1, 8)\n"
     ]
    }
   ],
   "source": [
    "my_array = np.array([10,20,30,40,50,60,70,80], ndmin = 5)\n",
    "print(my_array)\n",
    "print(\"Shape of Array : \", my_array.shape)"
   ]
  },
  {
   "cell_type": "code",
   "execution_count": 7,
   "metadata": {},
   "outputs": [
    {
     "name": "stdout",
     "output_type": "stream",
     "text": [
      "[[[[10 20 30 40]\n",
      "   [50 60 70 80]]]]\n",
      "Shape of Array :  (1, 1, 2, 4)\n"
     ]
    }
   ],
   "source": [
    "my_array = np.array([[10,20,30,40],[50,60,70,80]], ndmin = 4)\n",
    "print(my_array)\n",
    "print(\"Shape of Array : \", my_array.shape)"
   ]
  },
  {
   "cell_type": "markdown",
   "metadata": {},
   "source": [
    "## Reshaping Arrays"
   ]
  },
  {
   "cell_type": "markdown",
   "metadata": {},
   "source": [
    "1. Reshaping means changing the shape of array\n",
    "2. Shape of array is the number of elements in each dimension\n",
    "3. By reshaping we can add or remove dimensions or change number of elemnents in each dimension\n",
    "4. There are different ways to Reshaping array:\n",
    "    1. 1-D to 2-D\n",
    "    2. 1-D to 3-D"
   ]
  },
  {
   "cell_type": "markdown",
   "metadata": {},
   "source": [
    "### 1. Reshape array from 1-D to 2-D"
   ]
  },
  {
   "cell_type": "code",
   "execution_count": 4,
   "metadata": {},
   "outputs": [
    {
     "name": "stdout",
     "output_type": "stream",
     "text": [
      "[[ 10  20  30]\n",
      " [ 40  50  60]\n",
      " [ 70  80  90]\n",
      " [100 110 120]]\n"
     ]
    }
   ],
   "source": [
    "import numpy as np\n",
    "\n",
    "my_array = np.array([10,20,30,40,50,60,70,80,90,100,110,120])\n",
    "\n",
    "new_array = my_array.reshape(4,3)\n",
    "print(new_array)"
   ]
  },
  {
   "cell_type": "code",
   "execution_count": 5,
   "metadata": {},
   "outputs": [
    {
     "name": "stdout",
     "output_type": "stream",
     "text": [
      "[[ 10  20]\n",
      " [ 30  40]\n",
      " [ 50  60]\n",
      " [ 70  80]\n",
      " [ 90 100]\n",
      " [110 120]]\n"
     ]
    }
   ],
   "source": [
    "import numpy as np\n",
    "\n",
    "my_array = np.array([10,20,30,40,50,60,70,80,90,100,110,120])\n",
    "\n",
    "new_array = my_array.reshape(6,2)\n",
    "print(new_array)"
   ]
  },
  {
   "cell_type": "code",
   "execution_count": 7,
   "metadata": {},
   "outputs": [
    {
     "name": "stdout",
     "output_type": "stream",
     "text": [
      "[[ 10  20  30  40]\n",
      " [ 50  60  70  80]\n",
      " [ 90 100 110 120]]\n"
     ]
    }
   ],
   "source": [
    "import numpy as np\n",
    "\n",
    "my_array = np.array([10,20,30,40,50,60,70,80,90,100,110,120])\n",
    "\n",
    "new_array = my_array.reshape(3,4)\n",
    "print(new_array)"
   ]
  },
  {
   "cell_type": "code",
   "execution_count": 8,
   "metadata": {},
   "outputs": [
    {
     "name": "stdout",
     "output_type": "stream",
     "text": [
      "[[ 10  20  30  40  50  60]\n",
      " [ 70  80  90 100 110 120]]\n"
     ]
    }
   ],
   "source": [
    "import numpy as np\n",
    "\n",
    "my_array = np.array([10,20,30,40,50,60,70,80,90,100,110,120])\n",
    "\n",
    "new_array = my_array.reshape(2,6)\n",
    "print(new_array)"
   ]
  },
  {
   "cell_type": "markdown",
   "metadata": {},
   "source": [
    "### 2. Reshape array from 1-D to 3-D"
   ]
  },
  {
   "cell_type": "code",
   "execution_count": 9,
   "metadata": {},
   "outputs": [
    {
     "name": "stdout",
     "output_type": "stream",
     "text": [
      "[[[ 10  20]\n",
      "  [ 30  40]\n",
      "  [ 50  60]]\n",
      "\n",
      " [[ 70  80]\n",
      "  [ 90 100]\n",
      "  [110 120]]]\n"
     ]
    }
   ],
   "source": [
    "import numpy as np\n",
    "\n",
    "my_array = np.array([10,20,30,40,50,60,70,80,90,100,110,120])\n",
    "\n",
    "new_array = my_array.reshape(2,3,2)\n",
    "print(new_array)"
   ]
  },
  {
   "cell_type": "code",
   "execution_count": 10,
   "metadata": {},
   "outputs": [
    {
     "name": "stdout",
     "output_type": "stream",
     "text": [
      "[[[ 10  20]\n",
      "  [ 30  40]]\n",
      "\n",
      " [[ 50  60]\n",
      "  [ 70  80]]\n",
      "\n",
      " [[ 90 100]\n",
      "  [110 120]]]\n"
     ]
    }
   ],
   "source": [
    "import numpy as np\n",
    "\n",
    "my_array = np.array([10,20,30,40,50,60,70,80,90,100,110,120])\n",
    "\n",
    "new_array = my_array.reshape(3,2,2)\n",
    "print(new_array)"
   ]
  },
  {
   "cell_type": "code",
   "execution_count": 12,
   "metadata": {},
   "outputs": [
    {
     "name": "stdout",
     "output_type": "stream",
     "text": [
      "[[[ 10  20  30]\n",
      "  [ 40  50  60]]\n",
      "\n",
      " [[ 70  80  90]\n",
      "  [100 110 120]]]\n"
     ]
    }
   ],
   "source": [
    "import numpy as np\n",
    "\n",
    "my_array = np.array([10,20,30,40,50,60,70,80,90,100,110,120])\n",
    "\n",
    "new_array = my_array.reshape(2,2,3)\n",
    "print(new_array)"
   ]
  },
  {
   "cell_type": "code",
   "execution_count": 13,
   "metadata": {},
   "outputs": [
    {
     "name": "stdout",
     "output_type": "stream",
     "text": [
      "[[[ 10  20]\n",
      "  [ 30  40]\n",
      "  [ 50  60]\n",
      "  [ 70  80]\n",
      "  [ 90 100]\n",
      "  [110 120]]]\n"
     ]
    }
   ],
   "source": [
    "import numpy as np\n",
    "\n",
    "my_array = np.array([10,20,30,40,50,60,70,80,90,100,110,120])\n",
    "\n",
    "new_array = my_array.reshape(1,6,2)\n",
    "print(new_array)"
   ]
  },
  {
   "cell_type": "code",
   "execution_count": 14,
   "metadata": {},
   "outputs": [
    {
     "ename": "ValueError",
     "evalue": "cannot reshape array of size 12 into shape (2,3)",
     "output_type": "error",
     "traceback": [
      "\u001b[1;31m---------------------------------------------------------------------------\u001b[0m",
      "\u001b[1;31mValueError\u001b[0m                                Traceback (most recent call last)",
      "\u001b[1;32m<ipython-input-14-22c59085c9ce>\u001b[0m in \u001b[0;36m<module>\u001b[1;34m\u001b[0m\n\u001b[0;32m      3\u001b[0m \u001b[0mmy_array\u001b[0m \u001b[1;33m=\u001b[0m \u001b[0mnp\u001b[0m\u001b[1;33m.\u001b[0m\u001b[0marray\u001b[0m\u001b[1;33m(\u001b[0m\u001b[1;33m[\u001b[0m\u001b[1;36m10\u001b[0m\u001b[1;33m,\u001b[0m\u001b[1;36m20\u001b[0m\u001b[1;33m,\u001b[0m\u001b[1;36m30\u001b[0m\u001b[1;33m,\u001b[0m\u001b[1;36m40\u001b[0m\u001b[1;33m,\u001b[0m\u001b[1;36m50\u001b[0m\u001b[1;33m,\u001b[0m\u001b[1;36m60\u001b[0m\u001b[1;33m,\u001b[0m\u001b[1;36m70\u001b[0m\u001b[1;33m,\u001b[0m\u001b[1;36m80\u001b[0m\u001b[1;33m,\u001b[0m\u001b[1;36m90\u001b[0m\u001b[1;33m,\u001b[0m\u001b[1;36m100\u001b[0m\u001b[1;33m,\u001b[0m\u001b[1;36m110\u001b[0m\u001b[1;33m,\u001b[0m\u001b[1;36m120\u001b[0m\u001b[1;33m]\u001b[0m\u001b[1;33m)\u001b[0m\u001b[1;33m\u001b[0m\u001b[1;33m\u001b[0m\u001b[0m\n\u001b[0;32m      4\u001b[0m \u001b[1;33m\u001b[0m\u001b[0m\n\u001b[1;32m----> 5\u001b[1;33m \u001b[0mnew_array\u001b[0m \u001b[1;33m=\u001b[0m \u001b[0mmy_array\u001b[0m\u001b[1;33m.\u001b[0m\u001b[0mreshape\u001b[0m\u001b[1;33m(\u001b[0m\u001b[1;36m2\u001b[0m\u001b[1;33m,\u001b[0m\u001b[1;36m3\u001b[0m\u001b[1;33m)\u001b[0m\u001b[1;33m\u001b[0m\u001b[1;33m\u001b[0m\u001b[0m\n\u001b[0m\u001b[0;32m      6\u001b[0m \u001b[0mprint\u001b[0m\u001b[1;33m(\u001b[0m\u001b[0mnew_array\u001b[0m\u001b[1;33m)\u001b[0m\u001b[1;33m\u001b[0m\u001b[1;33m\u001b[0m\u001b[0m\n",
      "\u001b[1;31mValueError\u001b[0m: cannot reshape array of size 12 into shape (2,3)"
     ]
    }
   ],
   "source": [
    "import numpy as np\n",
    "\n",
    "my_array = np.array([10,20,30,40,50,60,70,80,90,100,110,120])\n",
    "\n",
    "new_array = my_array.reshape(2,3)\n",
    "print(new_array)"
   ]
  },
  {
   "cell_type": "code",
   "execution_count": 15,
   "metadata": {},
   "outputs": [
    {
     "name": "stdout",
     "output_type": "stream",
     "text": [
      "[ 10  20  30  40  50  60  70  80  90 100 110 120]\n"
     ]
    }
   ],
   "source": [
    "import numpy as np\n",
    "\n",
    "my_array = np.array([10,20,30,40,50,60,70,80,90,100,110,120])\n",
    "\n",
    "print(my_array.reshape(6,2).base)"
   ]
  },
  {
   "cell_type": "markdown",
   "metadata": {},
   "source": [
    "### Unknown Dimesion:\n",
    "    1. allowed to Unknown Dimensions\n",
    "    2. that means you do not habe to spefify an exact number of dimension in the reshape method\n",
    "    3. Pass -1 as the value, and calculates number of dimesions"
   ]
  },
  {
   "cell_type": "code",
   "execution_count": 24,
   "metadata": {},
   "outputs": [
    {
     "name": "stdout",
     "output_type": "stream",
     "text": [
      "[[[ 10  20  30  40]\n",
      "  [ 50  60  70  80]\n",
      "  [ 90 100 110 120]]]\n"
     ]
    }
   ],
   "source": [
    "import numpy as np\n",
    "\n",
    "my_array = np.array([10,20,30,40,50,60,70,80,90,100,110,120])\n",
    "\n",
    "new_array = my_array.reshape(1,3,-1)\n",
    "print(new_array)"
   ]
  },
  {
   "cell_type": "code",
   "execution_count": 15,
   "metadata": {},
   "outputs": [
    {
     "name": "stdout",
     "output_type": "stream",
     "text": [
      "[[[10 20]\n",
      "  [30 40]]\n",
      "\n",
      " [[50 60]\n",
      "  [70 80]]]\n"
     ]
    }
   ],
   "source": [
    "my_array = np.array([10,20,30,40,50,60,70,80])\n",
    "\n",
    "new_array = my_array.reshape(2,2,-1)\n",
    "print(new_array)"
   ]
  },
  {
   "cell_type": "markdown",
   "metadata": {},
   "source": [
    "### Flattring the arrray:\n",
    "    1. Flattering the array means converting any multidimensional array into a 1-D Array\n",
    "    2. we can use reshape(-1) "
   ]
  },
  {
   "cell_type": "code",
   "execution_count": 19,
   "metadata": {},
   "outputs": [
    {
     "name": "stdout",
     "output_type": "stream",
     "text": [
      "[ 10  20  30  40  50  60  70  80  90 100 110 120]\n"
     ]
    }
   ],
   "source": [
    "import numpy as np\n",
    "\n",
    "my_array = np.array([[10,20,30,40,50,60,70,80,90,100,110,120]])\n",
    "\n",
    "new_array = my_array.reshape(-1)\n",
    "print(new_array)"
   ]
  },
  {
   "cell_type": "code",
   "execution_count": 13,
   "metadata": {},
   "outputs": [
    {
     "name": "stdout",
     "output_type": "stream",
     "text": [
      "[ 10  20  30  40  50  60  70  80  90 100 110 120]\n"
     ]
    }
   ],
   "source": [
    "my_array = np.array([[[ 10,20],[ 30, 40]],[[ 50, 60],[ 70, 80]],[[ 90, 100],[110, 120]]])\n",
    "\n",
    "new_array = my_array.reshape(-1)\n",
    "print(new_array)"
   ]
  },
  {
   "cell_type": "markdown",
   "metadata": {},
   "source": [
    "# Itrating Array:\n",
    "    1. 1-D Array\n",
    "    2. 2-D Array\n",
    "    3. 3-D Array"
   ]
  },
  {
   "cell_type": "markdown",
   "metadata": {},
   "source": [
    "## 1. 1-D Array"
   ]
  },
  {
   "cell_type": "code",
   "execution_count": 25,
   "metadata": {},
   "outputs": [
    {
     "name": "stdout",
     "output_type": "stream",
     "text": [
      "[10 20 30 40 50 60 70 80]\n"
     ]
    }
   ],
   "source": [
    "my_array = np.array([10,20,30,40,50,60,70,80])\n",
    "print(my_array)"
   ]
  },
  {
   "cell_type": "code",
   "execution_count": 26,
   "metadata": {},
   "outputs": [
    {
     "data": {
      "text/plain": [
       "10"
      ]
     },
     "execution_count": 26,
     "metadata": {},
     "output_type": "execute_result"
    }
   ],
   "source": [
    "my_array = np.array([10,20,30,40,50,60,70,80])\n",
    "my_array[0]"
   ]
  },
  {
   "cell_type": "code",
   "execution_count": 27,
   "metadata": {},
   "outputs": [
    {
     "name": "stdout",
     "output_type": "stream",
     "text": [
      "10\n",
      "20\n",
      "30\n",
      "40\n",
      "50\n",
      "60\n",
      "70\n",
      "80\n"
     ]
    }
   ],
   "source": [
    "my_array = np.array([10,20,30,40,50,60,70,80])\n",
    "\n",
    "for x in my_array:\n",
    "    print(x)"
   ]
  },
  {
   "cell_type": "markdown",
   "metadata": {},
   "source": [
    "## 2. 2-D Array"
   ]
  },
  {
   "cell_type": "code",
   "execution_count": 28,
   "metadata": {},
   "outputs": [
    {
     "name": "stdout",
     "output_type": "stream",
     "text": [
      "[10 20 30 40]\n",
      "[50 60 70 80]\n",
      "[ 90 100 110 120]\n"
     ]
    }
   ],
   "source": [
    "my_array = np.array([[ 10, 20, 30, 40],\n",
    " [ 50, 60, 70, 80],\n",
    " [ 90, 100, 110, 120]])\n",
    "\n",
    "for x in my_array:\n",
    "    print(x)"
   ]
  },
  {
   "cell_type": "code",
   "execution_count": 29,
   "metadata": {},
   "outputs": [
    {
     "name": "stdout",
     "output_type": "stream",
     "text": [
      "10\n",
      "20\n",
      "30\n",
      "40\n",
      "50\n",
      "60\n",
      "70\n",
      "80\n",
      "90\n",
      "100\n",
      "110\n",
      "120\n"
     ]
    }
   ],
   "source": [
    "my_array = np.array([[ 10, 20, 30, 40],\n",
    " [ 50, 60, 70, 80],\n",
    " [ 90, 100, 110, 120]])\n",
    "\n",
    "for x in my_array:\n",
    "    for y in x:\n",
    "        print(y)"
   ]
  },
  {
   "cell_type": "markdown",
   "metadata": {},
   "source": [
    "## 3. Itrating 3-D Array"
   ]
  },
  {
   "cell_type": "code",
   "execution_count": 31,
   "metadata": {},
   "outputs": [
    {
     "name": "stdout",
     "output_type": "stream",
     "text": [
      "[[10 20 30 40]\n",
      " [50 60 70 80]]\n",
      "[[ 90 100 110 120]\n",
      " [130 140 150 160]]\n"
     ]
    }
   ],
   "source": [
    "my_array = np.array([[[10,20,30,40],[50,60,70,80]],[[90,100,110,120],[130,140,150,160]]])\n",
    "\n",
    "for x in my_array:\n",
    "    print(x)"
   ]
  },
  {
   "cell_type": "code",
   "execution_count": 32,
   "metadata": {},
   "outputs": [
    {
     "name": "stdout",
     "output_type": "stream",
     "text": [
      "[10 20 30 40]\n",
      "[50 60 70 80]\n",
      "[ 90 100 110 120]\n",
      "[130 140 150 160]\n"
     ]
    }
   ],
   "source": [
    "my_array = np.array([[[10,20,30,40],[50,60,70,80]],[[90,100,110,120],[130,140,150,160]]])\n",
    "\n",
    "for x in my_array:\n",
    "    for y in x:\n",
    "        print(y)"
   ]
  },
  {
   "cell_type": "code",
   "execution_count": 33,
   "metadata": {},
   "outputs": [
    {
     "name": "stdout",
     "output_type": "stream",
     "text": [
      "10\n",
      "20\n",
      "30\n",
      "40\n",
      "50\n",
      "60\n",
      "70\n",
      "80\n",
      "90\n",
      "100\n",
      "110\n",
      "120\n",
      "130\n",
      "140\n",
      "150\n",
      "160\n"
     ]
    }
   ],
   "source": [
    "my_array = np.array([[[10,20,30,40],[50,60,70,80]],[[90,100,110,120],[130,140,150,160]]])\n",
    "\n",
    "for x in my_array:\n",
    "    for y in x:\n",
    "        for z in y:\n",
    "            print(z)"
   ]
  },
  {
   "cell_type": "markdown",
   "metadata": {},
   "source": [
    "# Itrating array using nditer()"
   ]
  },
  {
   "cell_type": "markdown",
   "metadata": {},
   "source": [
    "1. Function [nditer()] is a helping function that can be used from very basic to advanced itration\n",
    "2. Function [nditer()] solves some basic issues which we face in itration"
   ]
  },
  {
   "cell_type": "code",
   "execution_count": 34,
   "metadata": {},
   "outputs": [
    {
     "name": "stdout",
     "output_type": "stream",
     "text": [
      "10\n",
      "20\n",
      "30\n",
      "40\n",
      "50\n",
      "60\n",
      "70\n",
      "80\n",
      "90\n",
      "100\n",
      "110\n",
      "120\n",
      "130\n",
      "140\n",
      "150\n",
      "160\n"
     ]
    }
   ],
   "source": [
    "my_array = np.array([[[10,20,30,40],[50,60,70,80]],[[90,100,110,120],[130,140,150,160]]])\n",
    "\n",
    "for x in np.nditer(my_array):\n",
    "    print(x)"
   ]
  },
  {
   "cell_type": "code",
   "execution_count": 50,
   "metadata": {},
   "outputs": [
    {
     "name": "stdout",
     "output_type": "stream",
     "text": [
      "10\n",
      "20\n",
      "30\n",
      "40\n",
      "50\n",
      "60\n",
      "70\n",
      "80\n",
      "90\n",
      "100\n",
      "110\n",
      "120\n",
      "130\n",
      "140\n",
      "150\n",
      "160\n"
     ]
    }
   ],
   "source": [
    "my_array = np.array([[[10,20,30,40],[50,60,70,80]],[[90,100,110,120],[130,140,150,160]]])\n",
    "\n",
    "for x in np.nditer(my_array[:,0:2:1]):\n",
    "    print(x)"
   ]
  },
  {
   "cell_type": "markdown",
   "metadata": {},
   "source": [
    "# Itrating array using ndenumerate()"
   ]
  },
  {
   "cell_type": "code",
   "execution_count": 26,
   "metadata": {},
   "outputs": [
    {
     "name": "stdout",
     "output_type": "stream",
     "text": [
      "(0, 0, 0) 10\n",
      "(0, 0, 1) 20\n",
      "(0, 1, 0) 30\n",
      "(0, 1, 1) 40\n",
      "(1, 0, 0) 50\n",
      "(1, 0, 1) 60\n",
      "(1, 1, 0) 70\n",
      "(1, 1, 1) 80\n"
     ]
    }
   ],
   "source": [
    "import numpy as np\n",
    "\n",
    "a = np.array([[[10,20],[30,40]],[[50,60],[70,80]]])\n",
    "\n",
    "for index,num in np.ndenumerate(a):\n",
    "    print(index,num)"
   ]
  },
  {
   "cell_type": "code",
   "execution_count": 52,
   "metadata": {},
   "outputs": [
    {
     "name": "stdout",
     "output_type": "stream",
     "text": [
      "(0, 0, 0) 10\n",
      "(0, 0, 1) 20\n",
      "(0, 0, 2) 30\n",
      "(0, 0, 3) 40\n",
      "(0, 1, 0) 50\n",
      "(0, 1, 1) 60\n",
      "(0, 1, 2) 70\n",
      "(0, 1, 3) 80\n",
      "(1, 0, 0) 90\n",
      "(1, 0, 1) 100\n",
      "(1, 0, 2) 110\n",
      "(1, 0, 3) 120\n",
      "(1, 1, 0) 130\n",
      "(1, 1, 1) 140\n",
      "(1, 1, 2) 150\n",
      "(1, 1, 3) 160\n"
     ]
    }
   ],
   "source": [
    "my_array = np.array([[[10,20,30,40],[50,60,70,80]],[[90,100,110,120],[130,140,150,160]]])\n",
    "\n",
    "for shyam, x in np.ndenumerate(my_array):\n",
    "    print(shyam, x)"
   ]
  },
  {
   "cell_type": "code",
   "execution_count": 53,
   "metadata": {},
   "outputs": [
    {
     "name": "stdout",
     "output_type": "stream",
     "text": [
      "(0, 0) 10\n",
      "(0, 1) 20\n",
      "(0, 2) 30\n",
      "(0, 3) 40\n",
      "(1, 0) 50\n",
      "(1, 1) 60\n",
      "(1, 2) 70\n",
      "(1, 3) 80\n",
      "(2, 0) 90\n",
      "(2, 1) 100\n",
      "(2, 2) 110\n",
      "(2, 3) 120\n"
     ]
    }
   ],
   "source": [
    "my_array = np.array([[ 10, 20, 30, 40],\n",
    " [ 50, 60, 70, 80],\n",
    " [ 90, 100, 110, 120]])\n",
    "\n",
    "for idx, x in np.ndenumerate(my_array):\n",
    "    print(idx, x)"
   ]
  },
  {
   "cell_type": "code",
   "execution_count": 54,
   "metadata": {},
   "outputs": [
    {
     "name": "stdout",
     "output_type": "stream",
     "text": [
      "((0, 0), 10)\n",
      "((0, 1), 20)\n",
      "((0, 2), 30)\n",
      "((0, 3), 40)\n",
      "((1, 0), 50)\n",
      "((1, 1), 60)\n",
      "((1, 2), 70)\n",
      "((1, 3), 80)\n",
      "((2, 0), 90)\n",
      "((2, 1), 100)\n",
      "((2, 2), 110)\n",
      "((2, 3), 120)\n"
     ]
    }
   ],
   "source": [
    "my_array = np.array([[ 10, 20, 30, 40],\n",
    " [ 50, 60, 70, 80],\n",
    " [ 90, 100, 110, 120]])\n",
    "\n",
    "for x in np.ndenumerate(my_array):\n",
    "    print(x)"
   ]
  },
  {
   "cell_type": "code",
   "execution_count": null,
   "metadata": {},
   "outputs": [],
   "source": []
  }
 ],
 "metadata": {
  "kernelspec": {
   "display_name": "Python 3",
   "language": "python",
   "name": "python3"
  },
  "language_info": {
   "codemirror_mode": {
    "name": "ipython",
    "version": 3
   },
   "file_extension": ".py",
   "mimetype": "text/x-python",
   "name": "python",
   "nbconvert_exporter": "python",
   "pygments_lexer": "ipython3",
   "version": "3.8.5"
  }
 },
 "nbformat": 4,
 "nbformat_minor": 5
}
