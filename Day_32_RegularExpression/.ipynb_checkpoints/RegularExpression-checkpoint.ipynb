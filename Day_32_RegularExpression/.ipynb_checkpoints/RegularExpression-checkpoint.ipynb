{
 "cells": [
  {
   "cell_type": "markdown",
   "id": "a7d8a2f8",
   "metadata": {},
   "source": [
    "### 4. [^] -Starts with"
   ]
  },
  {
   "cell_type": "code",
   "execution_count": 1,
   "id": "576c33a0",
   "metadata": {},
   "outputs": [],
   "source": [
    "import re"
   ]
  },
  {
   "cell_type": "code",
   "execution_count": 2,
   "id": "e874d771",
   "metadata": {},
   "outputs": [],
   "source": [
    "my_text = \"My name is Shyam and my email id is shyam@gmail.com and phone no are 9923090436\""
   ]
  },
  {
   "cell_type": "code",
   "execution_count": 5,
   "id": "870c3bf2",
   "metadata": {},
   "outputs": [
    {
     "name": "stdout",
     "output_type": "stream",
     "text": [
      "Yes, the string start with, 'MY' is available\n"
     ]
    }
   ],
   "source": [
    "x = re.findall(\"^My\", my_text)\n",
    "\n",
    "if x:\n",
    "    print(\"Yes, the string start with, 'MY' is available\")\n",
    "else:\n",
    "    print(\"No Match\")"
   ]
  },
  {
   "cell_type": "code",
   "execution_count": 4,
   "id": "96ef5c47",
   "metadata": {},
   "outputs": [
    {
     "name": "stdout",
     "output_type": "stream",
     "text": [
      "No Match\n"
     ]
    }
   ],
   "source": [
    "x = re.findall(\"^MY\", my_text)\n",
    "\n",
    "if x:\n",
    "    print(\"Yes, the string start with, 'MY' is available\")\n",
    "else:\n",
    "    print(\"No Match\")"
   ]
  },
  {
   "cell_type": "markdown",
   "id": "b1c9ebc2",
   "metadata": {},
   "source": [
    "## 5. $.- Ends with"
   ]
  },
  {
   "cell_type": "code",
   "execution_count": 6,
   "id": "f242a2b3",
   "metadata": {},
   "outputs": [],
   "source": [
    "my_text = \"My name is Shyam and my email id is shyam@gmail.com and phone no are 9923090436\""
   ]
  },
  {
   "cell_type": "code",
   "execution_count": 7,
   "id": "1f3a56a0",
   "metadata": {},
   "outputs": [
    {
     "name": "stdout",
     "output_type": "stream",
     "text": [
      "Yes, the string start with, '9923090436' is available\n"
     ]
    }
   ],
   "source": [
    "x = re.findall(\"9923090436$\", my_text)\n",
    "\n",
    "if x:\n",
    "    print(\"Yes, the string start with, '9923090436' is available\")\n",
    "else:\n",
    "    print(\"No Match\")"
   ]
  },
  {
   "cell_type": "code",
   "execution_count": 8,
   "id": "95ebdf97",
   "metadata": {},
   "outputs": [
    {
     "name": "stdout",
     "output_type": "stream",
     "text": [
      "Yes, the string start with, '9923090436' is available\n"
     ]
    }
   ],
   "source": [
    "x = re.findall(\"6$\", my_text)\n",
    "\n",
    "if x:\n",
    "    print(\"Yes, the string start with, '9923090436' is available\")\n",
    "else:\n",
    "    print(\"No Match\")"
   ]
  },
  {
   "cell_type": "markdown",
   "id": "50769b2f",
   "metadata": {},
   "source": [
    "### 6. * :\n",
    "    1. Zero or More occurances\n",
    "    2. Exmaple"
   ]
  },
  {
   "cell_type": "code",
   "execution_count": 9,
   "id": "b4c7d30e",
   "metadata": {},
   "outputs": [],
   "source": [
    "my_text = \"My name is Shyam and my email id is shyam@gmail.com and phone no are 9923090436\""
   ]
  },
  {
   "cell_type": "code",
   "execution_count": 12,
   "id": "3624185a",
   "metadata": {},
   "outputs": [
    {
     "name": "stdout",
     "output_type": "stream",
     "text": [
      "['name is Shyam and my']\n"
     ]
    }
   ],
   "source": [
    "x = re.findall(\"n.*my\", my_text)\n",
    "print(x)"
   ]
  },
  {
   "cell_type": "code",
   "execution_count": 14,
   "id": "b2eec516",
   "metadata": {},
   "outputs": [
    {
     "name": "stdout",
     "output_type": "stream",
     "text": [
      "['Hello Data']\n"
     ]
    }
   ],
   "source": [
    "my_text = \"Hello Data Science\"\n",
    "\n",
    "x = re.findall(\"He.*a\", my_text)\n",
    "print(x)"
   ]
  },
  {
   "cell_type": "markdown",
   "id": "e2b874ff",
   "metadata": {},
   "source": [
    "## 7. + :\n",
    "    1. one or More occurances\n",
    "    2. Example"
   ]
  },
  {
   "cell_type": "code",
   "execution_count": 20,
   "id": "3f7e324f",
   "metadata": {},
   "outputs": [
    {
     "name": "stdout",
     "output_type": "stream",
     "text": [
      "['Hello']\n"
     ]
    }
   ],
   "source": [
    "my_text = \"Hello Data Science\"\n",
    "\n",
    "x = re.findall(\"He.+o\", my_text)\n",
    "print(x)"
   ]
  },
  {
   "cell_type": "markdown",
   "id": "da3e13ee",
   "metadata": {},
   "source": [
    "### 8. ? :\n",
    "    1. zero or one occurances\n",
    "    2. Example"
   ]
  },
  {
   "cell_type": "code",
   "execution_count": 24,
   "id": "d649118a",
   "metadata": {},
   "outputs": [
    {
     "name": "stdout",
     "output_type": "stream",
     "text": [
      "[]\n"
     ]
    }
   ],
   "source": [
    "my_text = \"Hello Data Science\"\n",
    "\n",
    "x = re.findall(\"He.?o\", my_text)\n",
    "print(x)"
   ]
  },
  {
   "cell_type": "code",
   "execution_count": 25,
   "id": "f8dc6ff5",
   "metadata": {},
   "outputs": [
    {
     "name": "stdout",
     "output_type": "stream",
     "text": [
      "['Helo']\n"
     ]
    }
   ],
   "source": [
    "# one occurances\n",
    "my_text = \"Helo Data Science\"\n",
    "\n",
    "x = re.findall(\"He.?o\", my_text)\n",
    "print(x)"
   ]
  },
  {
   "cell_type": "code",
   "execution_count": 26,
   "id": "3318b00e",
   "metadata": {},
   "outputs": [
    {
     "name": "stdout",
     "output_type": "stream",
     "text": [
      "['Heo']\n"
     ]
    }
   ],
   "source": [
    "# zero occurances\n",
    "my_text = \"Heo Data Science\"\n",
    "\n",
    "x = re.findall(\"He.?o\", my_text)\n",
    "print(x)"
   ]
  },
  {
   "cell_type": "markdown",
   "id": "e48f5d9d",
   "metadata": {},
   "source": [
    "### 9. {} :\n",
    "    1. Exact match in the string\n",
    "    2. Example"
   ]
  },
  {
   "cell_type": "code",
   "execution_count": 27,
   "id": "327e351d",
   "metadata": {},
   "outputs": [
    {
     "name": "stdout",
     "output_type": "stream",
     "text": [
      "['Hello Data']\n"
     ]
    }
   ],
   "source": [
    "# zero occurances\n",
    "my_text = \"Hello Data Science\"\n",
    "\n",
    "x = re.findall(\"He.{7}a\", my_text)\n",
    "print(x)"
   ]
  },
  {
   "cell_type": "code",
   "execution_count": 28,
   "id": "b3f759e6",
   "metadata": {},
   "outputs": [
    {
     "name": "stdout",
     "output_type": "stream",
     "text": [
      "['Hello Da']\n"
     ]
    }
   ],
   "source": [
    "# zero occurances\n",
    "my_text = \"Hello Data Science\"\n",
    "\n",
    "x = re.findall(\"He.{5}a\", my_text)\n",
    "print(x)"
   ]
  },
  {
   "cell_type": "code",
   "execution_count": 30,
   "id": "f902edf7",
   "metadata": {},
   "outputs": [
    {
     "name": "stdout",
     "output_type": "stream",
     "text": [
      "['Hello ']\n"
     ]
    }
   ],
   "source": [
    "# zero occurances\n",
    "my_text = \"Hello Data Science\"\n",
    "\n",
    "x = re.findall(\"He.{4}\", my_text)\n",
    "print(x)"
   ]
  },
  {
   "cell_type": "code",
   "execution_count": 38,
   "id": "1fc415c1",
   "metadata": {},
   "outputs": [
    {
     "name": "stdout",
     "output_type": "stream",
     "text": [
      "['9923090436']\n"
     ]
    }
   ],
   "source": [
    "my_text = \"My name is Shyam and my email id is shyam@gmail.com and phone no are 9923090436\"\n",
    "\n",
    "# zero occurances\n",
    "# my_text = \"Hello Data Science\"\n",
    "\n",
    "x = re.findall(\"\\d{10}\", my_text)\n",
    "print(x)"
   ]
  },
  {
   "cell_type": "markdown",
   "id": "4d2c58f5",
   "metadata": {},
   "source": [
    "### 10. | :\n",
    "    1. Either or\n",
    "    2. Example"
   ]
  },
  {
   "cell_type": "code",
   "execution_count": 40,
   "id": "230ee4e4",
   "metadata": {},
   "outputs": [
    {
     "name": "stdout",
     "output_type": "stream",
     "text": [
      "['falls']\n",
      "Yes, atleast onc match available in the string\n"
     ]
    }
   ],
   "source": [
    "my_text = \"The rain in spain falls mainly in the plain..!\"\n",
    "\n",
    "x = re.findall(\"falls|stays\", my_text)\n",
    "print(x)\n",
    "\n",
    "if x:\n",
    "    print(\"Yes, atleast onc match available in the string\")\n",
    "else:\n",
    "    print(\"No match\")"
   ]
  },
  {
   "cell_type": "markdown",
   "id": "ace91f90",
   "metadata": {},
   "source": [
    "# Special Sequences"
   ]
  },
  {
   "cell_type": "markdown",
   "id": "7b995bb5",
   "metadata": {},
   "source": [
    "### 1. \\A :\n",
    "    1. Return match if specified characters are the beginning of string\n",
    "    2. Example"
   ]
  },
  {
   "cell_type": "code",
   "execution_count": 41,
   "id": "ed9ec693",
   "metadata": {},
   "outputs": [
    {
     "name": "stdout",
     "output_type": "stream",
     "text": [
      "['My']\n"
     ]
    }
   ],
   "source": [
    "my_text = \"My name is Shyam and my email id is shyam@gmail.com and phone no are 9923090436\"\n",
    "\n",
    "x = re.findall(\"\\AMy\", my_text)\n",
    "print(x)"
   ]
  },
  {
   "cell_type": "code",
   "execution_count": 44,
   "id": "54c726d2",
   "metadata": {},
   "outputs": [
    {
     "name": "stdout",
     "output_type": "stream",
     "text": [
      "[]\n"
     ]
    }
   ],
   "source": [
    "my_text = \"My name is Shyam and my email id is shyam@gmail.com and phone no are 9923090436\"\n",
    "\n",
    "x = re.findall(\"\\Aname\", my_text)\n",
    "print(x)"
   ]
  },
  {
   "cell_type": "markdown",
   "id": "0d71e6a7",
   "metadata": {},
   "source": [
    "### 2. \\b :\n",
    "    1. Return a match where the speidified characters ata the beginning of string or at the end of word\n",
    "    2. \"r\" the beginnig is make sure that the string is being as \"raw string\"\n",
    "    3. Example"
   ]
  },
  {
   "cell_type": "code",
   "execution_count": 6,
   "id": "2d8daa9c",
   "metadata": {},
   "outputs": [
    {
     "ename": "NameError",
     "evalue": "name 're' is not defined",
     "output_type": "error",
     "traceback": [
      "\u001b[0;31m---------------------------------------------------------------------------\u001b[0m",
      "\u001b[0;31mNameError\u001b[0m                                 Traceback (most recent call last)",
      "\u001b[0;32m/var/folders/w2/f8k7hh6j5h5bp3g777v7wd_00000gp/T/ipykernel_1316/2485291766.py\u001b[0m in \u001b[0;36m<module>\u001b[0;34m\u001b[0m\n\u001b[1;32m      1\u001b[0m \u001b[0mmy_text\u001b[0m \u001b[0;34m=\u001b[0m \u001b[0;34m\"My name is Shyam and My email id is shyam@gmail.com and phone no are 9923090436\"\u001b[0m\u001b[0;34m\u001b[0m\u001b[0;34m\u001b[0m\u001b[0m\n\u001b[1;32m      2\u001b[0m \u001b[0;34m\u001b[0m\u001b[0m\n\u001b[0;32m----> 3\u001b[0;31m \u001b[0mx\u001b[0m \u001b[0;34m=\u001b[0m \u001b[0mre\u001b[0m\u001b[0;34m.\u001b[0m\u001b[0mfindall\u001b[0m\u001b[0;34m(\u001b[0m\u001b[0;34mr\"\\bM\"\u001b[0m\u001b[0;34m,\u001b[0m\u001b[0mmy_text\u001b[0m\u001b[0;34m)\u001b[0m\u001b[0;34m\u001b[0m\u001b[0;34m\u001b[0m\u001b[0m\n\u001b[0m\u001b[1;32m      4\u001b[0m \u001b[0mprint\u001b[0m\u001b[0;34m(\u001b[0m\u001b[0mx\u001b[0m\u001b[0;34m)\u001b[0m\u001b[0;34m\u001b[0m\u001b[0;34m\u001b[0m\u001b[0m\n",
      "\u001b[0;31mNameError\u001b[0m: name 're' is not defined"
     ]
    }
   ],
   "source": [
    "my_text = \"My name is Shyam and My email id is shyam@gmail.com and phone no are 9923090436\"\n",
    "\n",
    "x = re.findall(r\"\\bM\",my_text)\n",
    "print(x)"
   ]
  },
  {
   "cell_type": "code",
   "execution_count": 52,
   "id": "588564ed",
   "metadata": {},
   "outputs": [
    {
     "name": "stdout",
     "output_type": "stream",
     "text": [
      "['my', 'my']\n"
     ]
    }
   ],
   "source": [
    "my_text = \"my name is Shyam and my email id is shyam@gmail.com and phone no are 9923090436\"\n",
    "\n",
    "x = re.findall(r\"my\\b\", my_text)\n",
    "print(x)"
   ]
  },
  {
   "cell_type": "markdown",
   "id": "213ad855",
   "metadata": {},
   "source": [
    "### 3. \\B:"
   ]
  },
  {
   "cell_type": "code",
   "execution_count": 58,
   "id": "62399df4",
   "metadata": {},
   "outputs": [
    {
     "name": "stdout",
     "output_type": "stream",
     "text": [
      "['a', 'a', 'a', 'a', 'a']\n"
     ]
    }
   ],
   "source": [
    "my_text = \"a My name is Shyam and My email id is shyam@gmail.com and phone no are 9923090436\"\n",
    "\n",
    "x = re.findall(r\"\\Ba\", my_text)\n",
    "print(x)"
   ]
  },
  {
   "cell_type": "code",
   "execution_count": 59,
   "id": "99e545cf",
   "metadata": {},
   "outputs": [
    {
     "name": "stdout",
     "output_type": "stream",
     "text": [
      "[]\n"
     ]
    }
   ],
   "source": [
    "my_text = \"are My name is Shyam and My email id is shyam@gmail.com and phone no are 9923090436\"\n",
    "\n",
    "x = re.findall(r\"\\Bare\", my_text)\n",
    "print(x)"
   ]
  },
  {
   "cell_type": "code",
   "execution_count": 64,
   "id": "1f53b2de",
   "metadata": {},
   "outputs": [
    {
     "name": "stdout",
     "output_type": "stream",
     "text": [
      "['am', 'am']\n"
     ]
    }
   ],
   "source": [
    "my_text = \"are My name is Shyam and My email id is shyam@gmail.com  amd and phone no are 9923090436\"\n",
    "\n",
    "x = re.findall(r\"am\\B\", my_text)\n",
    "print(x) "
   ]
  },
  {
   "cell_type": "code",
   "execution_count": 78,
   "id": "edd7bf63",
   "metadata": {},
   "outputs": [
    {
     "name": "stdout",
     "output_type": "stream",
     "text": [
      "['y', 'y', 'y', 'y']\n"
     ]
    }
   ],
   "source": [
    "my_text = \"My name is Shyam Aand My email id is 9923090436 shyam@gmail.com Aand phone no are 9923090436\"\n",
    "\n",
    "x = re.findall(r\"\\By\", my_text)\n",
    "print(x) "
   ]
  },
  {
   "cell_type": "code",
   "execution_count": 73,
   "id": "612b49a9",
   "metadata": {},
   "outputs": [],
   "source": [
    "# help(re.findall(r\"a\\B\", my_text))"
   ]
  },
  {
   "cell_type": "markdown",
   "id": "35592ebe",
   "metadata": {},
   "source": [
    "### 4. \\d"
   ]
  },
  {
   "cell_type": "code",
   "execution_count": 80,
   "id": "2964baf8",
   "metadata": {},
   "outputs": [
    {
     "name": "stdout",
     "output_type": "stream",
     "text": [
      "['9923090436']\n"
     ]
    }
   ],
   "source": [
    "my_text = \"are My name is Shyam and My email id is shyam@gmail.com  amd and phone no are 9923090436\"\n",
    "\n",
    "x = re.findall(\"\\d{10}\", my_text)\n",
    "print(x) "
   ]
  },
  {
   "cell_type": "code",
   "execution_count": 83,
   "id": "8c6d0bed",
   "metadata": {},
   "outputs": [
    {
     "name": "stdout",
     "output_type": "stream",
     "text": [
      "['9923090436', '9923090436']\n"
     ]
    }
   ],
   "source": [
    "my_text = \"My name is Shyam Aand My 90212 61221 email id is 9923090436 shyam@gmail.com Aand phone no are 9923090436\"\n",
    "\n",
    "x = re.findall(\"\\d{10}\", my_text)\n",
    "print(x) "
   ]
  },
  {
   "cell_type": "markdown",
   "id": "6ff10f41",
   "metadata": {},
   "source": [
    "### 5. \\D"
   ]
  },
  {
   "cell_type": "code",
   "execution_count": 92,
   "id": "0fa34d57",
   "metadata": {},
   "outputs": [
    {
     "name": "stdout",
     "output_type": "stream",
     "text": [
      "['are M', 'y nam', 'e is ', 'Shyam', ' and ', 'My em', 'ail i', 'd is ', 'shyam', '@gmai', 'l.com', '  amd', ' and ', 'phone', ' no a']\n"
     ]
    }
   ],
   "source": [
    "my_text = \"are My name is Shyam and My email id is shyam@gmail.com  amd and phone no are 9923090436\"\n",
    "\n",
    "x = re.findall(\"\\D{5}\", my_text)\n",
    "print(x) "
   ]
  },
  {
   "cell_type": "markdown",
   "id": "5caa6d7a",
   "metadata": {},
   "source": [
    "### 6. \\s"
   ]
  },
  {
   "cell_type": "code",
   "execution_count": 93,
   "id": "caba60ec",
   "metadata": {},
   "outputs": [
    {
     "name": "stdout",
     "output_type": "stream",
     "text": [
      "[' ', ' ', ' ', ' ', ' ', ' ', ' ', ' ', ' ', ' ', ' ', ' ', ' ', ' ', ' ', ' ', ' ']\n"
     ]
    }
   ],
   "source": [
    "my_text = \"are My name is Shyam and My email id is shyam@gmail.com  amd and phone no are 9923090436\"\n",
    "\n",
    "x = re.findall(\"\\s\", my_text)\n",
    "print(x) "
   ]
  },
  {
   "cell_type": "markdown",
   "id": "87eb1428",
   "metadata": {},
   "source": [
    "### 7. \\S"
   ]
  },
  {
   "cell_type": "code",
   "execution_count": 94,
   "id": "71ea14f3",
   "metadata": {},
   "outputs": [
    {
     "name": "stdout",
     "output_type": "stream",
     "text": [
      "['a', 'r', 'e', 'M', 'y', 'n', 'a', 'm', 'e', 'i', 's', 'S', 'h', 'y', 'a', 'm', 'a', 'n', 'd', 'M', 'y', 'e', 'm', 'a', 'i', 'l', 'i', 'd', 'i', 's', 's', 'h', 'y', 'a', 'm', '@', 'g', 'm', 'a', 'i', 'l', '.', 'c', 'o', 'm', 'a', 'm', 'd', 'a', 'n', 'd', 'p', 'h', 'o', 'n', 'e', 'n', 'o', 'a', 'r', 'e', '9', '9', '2', '3', '0', '9', '0', '4', '3', '6']\n"
     ]
    }
   ],
   "source": [
    "my_text = \"are My name is Shyam and My email id is shyam@gmail.com  amd and phone no are 9923090436\"\n",
    "\n",
    "x = re.findall(\"\\S\", my_text)\n",
    "print(x) "
   ]
  },
  {
   "cell_type": "markdown",
   "id": "64124c52",
   "metadata": {},
   "source": [
    "### 8. \\w [A-Z a-z, 0-9, _ ]"
   ]
  },
  {
   "cell_type": "code",
   "execution_count": 97,
   "id": "37813c03",
   "metadata": {},
   "outputs": [
    {
     "name": "stdout",
     "output_type": "stream",
     "text": [
      "['a', 'r', 'e', 'M', 'y', 'n', 'a', 'm', 'e', 'i', 's', 'S', 'h', 'y', 'a', 'm', 'a', 'n', 'd', '_', 'M', 'y', 'e', 'm', 'a', 'i', 'l', 'i', 'd', 'i', 's', 's', 'h', 'y', 'a', 'm', 'g', 'm', 'a', 'i', 'l', 'c', 'o', 'm', 'a', 'm', 'd', 'a', 'n', 'd', 'p', 'h', 'o', 'n', 'e', 'n', 'o', 'a', 'r', 'e', '9', '9', '2', '3', '0', '9', '0', '4', '3', '6']\n"
     ]
    }
   ],
   "source": [
    "my_text = \"are My name is Shyam and _My-email id is shyam@gmail.com  amd and phone no are 9923090436\"\n",
    "\n",
    "x = re.findall(\"\\w\", my_text)\n",
    "print(x) "
   ]
  },
  {
   "cell_type": "code",
   "execution_count": 98,
   "id": "ce7e65ea",
   "metadata": {},
   "outputs": [
    {
     "name": "stdout",
     "output_type": "stream",
     "text": [
      "['a', 'r', 'e', 'M', 'y', 'n', 'a', 'm', 'e', 'i', 's', 'S', 'h', 'y', 'a', 'm', 'a', 'n', 'd', '_', 'M', 'y', 'e', 'm', 'a', 'i', 'l', 'i', 'd', 'i', 's', 's', 'h', 'y', 'a', 'm', 'g', 'm', 'a', 'i', 'l', 'c', 'o', 'm', 'a', 'm', 'd', 'a', 'n', 'd', 'p', 'h', 'o', 'n', 'e', 'n', 'o', 'a', 'r', 'e', '9', '9', '2', '3', '0', '9', '0', '4', '3', '6']\n"
     ]
    }
   ],
   "source": [
    "my_text = \"are My name is Shyam and _My-email id is shyam@gmail.com  amd and phone no are 9923090436\"\n",
    "\n",
    "x = re.findall(\"\\w\", my_text)\n",
    "print(x) "
   ]
  },
  {
   "cell_type": "markdown",
   "id": "3a83a039",
   "metadata": {},
   "source": [
    "### 9. \\W"
   ]
  },
  {
   "cell_type": "code",
   "execution_count": 100,
   "id": "c2629aa6",
   "metadata": {},
   "outputs": [
    {
     "name": "stdout",
     "output_type": "stream",
     "text": [
      "[' ', ' ', ' ', ' ', ' ', ' ', '-', ' ', ' ', ' ', '@', '.', ' ', ' ', ' ', ' ', ' ', '#', '#', ' ', ' ', ' ']\n"
     ]
    }
   ],
   "source": [
    "my_text = \"are My name is Shyam and _My-email id is shyam@gmail.com  amd and phone ## no are 9923090436\"\n",
    "\n",
    "x = re.findall(\"\\W\", my_text)\n",
    "print(x) "
   ]
  },
  {
   "cell_type": "markdown",
   "id": "c62a5bb2",
   "metadata": {},
   "source": [
    "### 10. \\Z"
   ]
  },
  {
   "cell_type": "code",
   "execution_count": 108,
   "id": "c6a009f0",
   "metadata": {},
   "outputs": [
    {
     "name": "stdout",
     "output_type": "stream",
     "text": [
      "['com']\n"
     ]
    }
   ],
   "source": [
    "my_text = \"are My name is Shyam and _My-email id is shyam@gmail.com\"\n",
    "\n",
    "x = re.findall(\"com\\Z\", my_text)\n",
    "print(x) "
   ]
  },
  {
   "cell_type": "code",
   "execution_count": 112,
   "id": "1e6d3eac",
   "metadata": {},
   "outputs": [
    {
     "name": "stdout",
     "output_type": "stream",
     "text": [
      "['9923090436']\n"
     ]
    }
   ],
   "source": [
    "my_text = \"are My name is Shyam and _My-email id is shyam@gmail.com  amd and phone ## no are 9923090436\"\n",
    "\n",
    "x = re.findall(\"9923090436\\Z\", my_text)\n",
    "print(x) "
   ]
  },
  {
   "cell_type": "code",
   "execution_count": null,
   "id": "ede7bc38",
   "metadata": {},
   "outputs": [],
   "source": []
  }
 ],
 "metadata": {
  "kernelspec": {
   "display_name": "Python 3 (ipykernel)",
   "language": "python",
   "name": "python3"
  },
  "language_info": {
   "codemirror_mode": {
    "name": "ipython",
    "version": 3
   },
   "file_extension": ".py",
   "mimetype": "text/x-python",
   "name": "python",
   "nbconvert_exporter": "python",
   "pygments_lexer": "ipython3",
   "version": "3.9.7"
  }
 },
 "nbformat": 4,
 "nbformat_minor": 5
}
