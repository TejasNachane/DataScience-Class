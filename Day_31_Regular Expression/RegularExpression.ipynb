{
 "cells": [
  {
   "cell_type": "markdown",
   "metadata": {},
   "source": [
    "# Regular Expression"
   ]
  },
  {
   "cell_type": "code",
   "execution_count": 4,
   "metadata": {},
   "outputs": [],
   "source": [
    "import re\n",
    "\n",
    "# help(re)"
   ]
  },
  {
   "cell_type": "markdown",
   "metadata": {},
   "source": [
    "1. A regular expression is powerfull tool for matching text, based on predefined pattern\n",
    "2. Regular expression can detect the presence of text by using with a particular pattern, also split into one or more sub patterns.\n",
    "3. Regular expression are widely used in UNIX world\n",
    "4. Regular expression are widly powerfull language for text matching\n",
    "5. Regular expression, is a sequence of character form a search pattern\n",
    "6. Regex can be used to check if a string contains the specific pattern\n",
    "7. In Python re is the built in package used for regular expression"
   ]
  },
  {
   "cell_type": "markdown",
   "metadata": {},
   "source": [
    "Character\tDescription\tExample\tTry it\n",
    "[]\tA set of characters\t\"[a-m]\"\t\n",
    "\\\tSignals a special sequence (can also be used to escape special characters)\t\"\\d\"\t\n",
    ".\tAny character (except newline character)\t\"he..o\"\t\n",
    "^\tStarts with\t\"^hello\"\t\n",
    "$\tEnds with\t\"planet$\"\t\n",
    "*\tZero or more occurrences\t\"he.*o\"\t\n",
    "+\tOne or more occurrences\t\"he.+o\"\t\n",
    "?\tZero or one occurrences\t\"he.?o\"\t\n",
    "{}\tExactly the specified number of occurrences\t\"he{2}o\"\t\n",
    "|\tEither or\t\"falls|stays\"\t\n",
    "()\tCapture and group"
   ]
  },
  {
   "cell_type": "markdown",
   "metadata": {},
   "source": [
    "## 1. RE modules offers a set of functions that allow us to serching a pattern for a match\n",
    "1. match:\n",
    "    1. Match a regular expression pattern to the beginning of a string.\n",
    "2. fullmatch:\n",
    "    1. Match a regular expression pattern to all of a string.\n",
    "3. search:\n",
    "    1. Search a string for the presence of a pattern.\n",
    "4. sub:\n",
    "    1. Substitute occurrences of a pattern found in a string.\n",
    "5. subn:\n",
    "    1. Same as sub, but also return the number of substitutions made.\n",
    "6. split:\n",
    "    1. Split a string by the occurrences of a pattern.\n",
    "7. findall:\n",
    "    1. Find all occurrences of a pattern in a string.\n",
    "8. finditer:\n",
    "    1. Return an iterator yielding a Match object for each match.\n",
    "9. compile:\n",
    "    1. Compile a pattern into a Pattern object.\n",
    "10. purge:\n",
    "    1. Clear the regular expression cache.\n",
    "11. escape:\n",
    "    1. Backslash all non-alphanumerics in a string."
   ]
  },
  {
   "cell_type": "markdown",
   "metadata": {},
   "source": [
    "# MetaCharacters"
   ]
  },
  {
   "cell_type": "markdown",
   "metadata": {},
   "source": [
    "### 1. [ ]:\n",
    "    1. Return a set of characters\n",
    "    2. Example"
   ]
  },
  {
   "cell_type": "code",
   "execution_count": 23,
   "metadata": {},
   "outputs": [
    {
     "name": "stdout",
     "output_type": "stream",
     "text": [
      "['e', 'l', 'c', 'o', 'm', 'e', 't', 'o', 'a', 't', 'a', 'c', 'i', 'e', 'n', 'c', 'e', 'e', 'g', 'u', 'l', 'a', 'r', 'x', 'p', 'r', 'e', 's', 's', 'i', 'o', 'n', 't', 'o', 'p', 'i', 'c']\n"
     ]
    }
   ],
   "source": [
    "my_text = \"Welcome to (9923090436) Data Science Regular Expression topic\"\n",
    "\n",
    "x = re.findall(\"[a-z]\",my_text)\n",
    "print(x)"
   ]
  },
  {
   "cell_type": "code",
   "execution_count": 24,
   "metadata": {},
   "outputs": [
    {
     "name": "stdout",
     "output_type": "stream",
     "text": [
      "['W', 'D', 'S', 'R', 'E']\n"
     ]
    }
   ],
   "source": [
    "my_text = \"Welcome to (9923090436) Data Science Regular Expression topic\"\n",
    "\n",
    "x = re.findall(\"[A-Z]\",my_text)\n",
    "print(x)"
   ]
  },
  {
   "cell_type": "markdown",
   "metadata": {},
   "source": [
    "### 2. [ \\ ]:\n",
    "    1. Signal special Sequence\n",
    "    2. Example"
   ]
  },
  {
   "cell_type": "code",
   "execution_count": 28,
   "metadata": {},
   "outputs": [
    {
     "name": "stdout",
     "output_type": "stream",
     "text": [
      "['9', '9', '2', '3', '0', '9', '0', '4', '3', '6', '1', '4', '5']\n"
     ]
    }
   ],
   "source": [
    "my_text = \"Welcome to (9923090436) Data Science Regular Expression topic no 145\"\n",
    "\n",
    "x = re.findall(\"\\d\",my_text) # here \\d is use to only dispaly digit\n",
    "print(x)"
   ]
  },
  {
   "cell_type": "markdown",
   "metadata": {},
   "source": [
    "### 3. [ . ]:\n",
    "    1. Any character [except the new line character]\n",
    "    2. Example"
   ]
  },
  {
   "cell_type": "code",
   "execution_count": 32,
   "metadata": {},
   "outputs": [
    {
     "name": "stdout",
     "output_type": "stream",
     "text": [
      "['Welcome']\n"
     ]
    }
   ],
   "source": [
    "my_text = \"Welcome to (9923090436) Data Science Regular Expression topic no 145\"\n",
    "\n",
    "x  = re.findall(\"W.....e\",my_text)\n",
    "print(x)"
   ]
  },
  {
   "cell_type": "code",
   "execution_count": 35,
   "metadata": {},
   "outputs": [
    {
     "name": "stdout",
     "output_type": "stream",
     "text": [
      "['to', 'ta', 'to']\n"
     ]
    }
   ],
   "source": [
    "my_text = \"Welcome to (9923090436) Data Science Regular Expression topic no 145\"\n",
    "\n",
    "x  = re.findall(\"t.\",my_text)\n",
    "print(x)"
   ]
  },
  {
   "cell_type": "code",
   "execution_count": 37,
   "metadata": {},
   "outputs": [
    {
     "name": "stdout",
     "output_type": "stream",
     "text": [
      "['Data', 'Daba']\n"
     ]
    }
   ],
   "source": [
    "my_text = \"Welcome to (9923090436) Data Science Regular Expression topic no 145 Daba\"\n",
    "\n",
    "x  = re.findall(\"D...\",my_text)\n",
    "print(x)"
   ]
  },
  {
   "cell_type": "code",
   "execution_count": 44,
   "metadata": {},
   "outputs": [
    {
     "name": "stdout",
     "output_type": "stream",
     "text": [
      "['Ambilkar, my email is shyam@gmail.com, and no is 9923090436']\n"
     ]
    }
   ],
   "source": [
    "my_text = \"My name is Shyam Ambilkar, my email is shyam@gmail.com, and no is 9923090436\"\n",
    "x  = re.findall(\"A.*\",my_text)\n",
    "print(x)"
   ]
  },
  {
   "cell_type": "code",
   "execution_count": null,
   "metadata": {},
   "outputs": [],
   "source": []
  }
 ],
 "metadata": {
  "kernelspec": {
   "display_name": "Python 3",
   "language": "python",
   "name": "python3"
  },
  "language_info": {
   "codemirror_mode": {
    "name": "ipython",
    "version": 3
   },
   "file_extension": ".py",
   "mimetype": "text/x-python",
   "name": "python",
   "nbconvert_exporter": "python",
   "pygments_lexer": "ipython3",
   "version": "3.8.5"
  }
 },
 "nbformat": 4,
 "nbformat_minor": 5
}
