{
 "cells": [
  {
   "cell_type": "markdown",
   "metadata": {
    "id": "cd51e88a"
   },
   "source": [
    "# MongoDB Database"
   ]
  },
  {
   "cell_type": "markdown",
   "metadata": {
    "id": "425ca42c"
   },
   "source": [
    "## 1. Creating a Database"
   ]
  },
  {
   "cell_type": "markdown",
   "metadata": {
    "id": "0ffeb9a1"
   },
   "source": [
    "1. To create a database in MongoDB start by creating a MongoClient object, \n",
    "2. then specify connection URL with correct ip address and name of database\n",
    "3. MongoDB will create the database if id does not exists and make connection to it"
   ]
  },
  {
   "cell_type": "markdown",
   "metadata": {
    "id": "b311c527"
   },
   "source": [
    "**Note : In MongoDB a database is not created untill it gets content**"
   ]
  },
  {
   "cell_type": "markdown",
   "metadata": {
    "id": "c420e1e5"
   },
   "source": [
    "4. In MongoDB waits untill you have created a collection(table),with atleast one documents(record)"
   ]
  },
  {
   "cell_type": "code",
   "execution_count": null,
   "metadata": {
    "id": "9e199ae3"
   },
   "outputs": [],
   "source": [
    "import pymongo\n",
    "\n",
    "myclient = pymongo.MongoClient(\"mongodb://localhost:27017/\")\n",
    "mydb = myclient['ICOER']"
   ]
  },
  {
   "cell_type": "code",
   "execution_count": 2,
   "metadata": {
    "id": "8abfe4c9",
    "outputId": "ea3171ad-b2e0-44e5-976d-2770b054c164"
   },
   "outputs": [
    {
     "name": "stdout",
     "output_type": "stream",
     "text": [
      "['admin', 'college', 'config', 'local']\n"
     ]
    }
   ],
   "source": [
    "print(myclient.list_database_names())"
   ]
  },
  {
   "cell_type": "markdown",
   "metadata": {
    "id": "94b211ab"
   },
   "source": [
    "**Note: In MongoDB a database is not created untill it gets contents. so if this is your first time creating a database you should complete the next two chapter(create collection and create documents)**"
   ]
  },
  {
   "cell_type": "code",
   "execution_count": 3,
   "metadata": {
    "id": "ab525217",
    "outputId": "e3fb72db-0f92-4969-8535-046acbf42433"
   },
   "outputs": [
    {
     "name": "stdout",
     "output_type": "stream",
     "text": [
      "Databse Not Exists...!!\n"
     ]
    }
   ],
   "source": [
    "dblist = myclient.list_database_names()\n",
    "if 'ICOER' in dblist:\n",
    "    print(\"Database Exists...!!\")\n",
    "else:\n",
    "    print(\"Databse Not Exists...!!\")"
   ]
  },
  {
   "cell_type": "markdown",
   "metadata": {
    "id": "59b01b1f"
   },
   "source": [
    "## 2. Create Collection"
   ]
  },
  {
   "cell_type": "markdown",
   "metadata": {
    "id": "8015bd0b"
   },
   "source": [
    "1. A collection in MongoDb is the same as table in SQL database\n",
    "2. To create a collection in MOngoDB use database object and specify the name of collection\n",
    "3. MongoDB will create the collection if it does not exists\n",
    "4. MongoDB will waits untill you have inserted one documents before it create the actual collection"
   ]
  },
  {
   "cell_type": "code",
   "execution_count": 4,
   "metadata": {
    "id": "e2fb1a5e"
   },
   "outputs": [],
   "source": [
    "mycol = mydb['computer_dept']"
   ]
  },
  {
   "cell_type": "markdown",
   "metadata": {
    "id": "6347db80"
   },
   "source": [
    "**Note : In MongoDB a collection is not created untill it gets contents**"
   ]
  },
  {
   "cell_type": "code",
   "execution_count": 5,
   "metadata": {
    "id": "e10c68eb",
    "outputId": "44e3cc68-2fee-4981-dcfe-9ab629c1708d"
   },
   "outputs": [
    {
     "name": "stdout",
     "output_type": "stream",
     "text": [
      "[]\n"
     ]
    }
   ],
   "source": [
    "print(mydb.list_collection_names())"
   ]
  },
  {
   "cell_type": "code",
   "execution_count": 6,
   "metadata": {
    "id": "f025cfe0",
    "outputId": "16c60582-48f8-4608-ad4c-972efaedb89e"
   },
   "outputs": [
    {
     "name": "stdout",
     "output_type": "stream",
     "text": [
      "Collection Not Exists...!!\n"
     ]
    }
   ],
   "source": [
    "collist = mydb.list_collection_names()\n",
    "if 'computer_dept' in collist:\n",
    "    print(\"Collection Exists...!!\")\n",
    "else:\n",
    "    print(\"Collection Not Exists...!!\")"
   ]
  },
  {
   "cell_type": "markdown",
   "metadata": {
    "id": "62b9092b"
   },
   "source": [
    "**Note: In MongoDB a database is not created untill it gets contents. so if this is your first time creating a database you should complete the next two chapter(create collection and create documents)**"
   ]
  },
  {
   "cell_type": "markdown",
   "metadata": {
    "id": "d7195882"
   },
   "source": [
    "## 3. Insert documents into a Collection"
   ]
  },
  {
   "cell_type": "markdown",
   "metadata": {
    "id": "89d3958c"
   },
   "source": [
    "**Note: A document in MongoDB is the same as Record in SQL database**"
   ]
  },
  {
   "cell_type": "markdown",
   "metadata": {
    "id": "c88d05ba"
   },
   "source": [
    "1. To insert a record or documents as it is called in MongoDB, into a collection we use the **insert_one()** method.\n",
    "2. The first parameter of the **insert_one()** method is a dictionary contaning the name(s) and value(s) of each fields in the document you want to insert "
   ]
  },
  {
   "cell_type": "code",
   "execution_count": 7,
   "metadata": {
    "id": "2ff50090"
   },
   "outputs": [],
   "source": [
    "my_dict = {\n",
    "    'name': 'Shyam Ambilkar',\n",
    "    'post': 'Data Engineer',\n",
    "    'salary': 90000,\n",
    "    'location':'Pune',\n",
    "    'mobile': 9923090436,\n",
    "    'email': 'shyam@gmail.com',\n",
    "    'dept': 'Research and Developement'\n",
    "}\n",
    "\n",
    "x = mycol.insert_one(my_dict)"
   ]
  },
  {
   "cell_type": "code",
   "execution_count": 8,
   "metadata": {
    "id": "a5f588db",
    "outputId": "f505ecb4-00f4-4f39-ce48-46894802d71b"
   },
   "outputs": [
    {
     "name": "stdout",
     "output_type": "stream",
     "text": [
      "<pymongo.results.InsertOneResult object at 0x0000020AFC998D60>\n"
     ]
    }
   ],
   "source": [
    "print(x)"
   ]
  },
  {
   "cell_type": "markdown",
   "metadata": {
    "id": "285dca3f"
   },
   "source": [
    "### 4. Display Database, Collection and Documents"
   ]
  },
  {
   "cell_type": "code",
   "execution_count": 9,
   "metadata": {
    "id": "7d0c5fa5",
    "outputId": "5c9b97d4-15c3-4cd2-8ea6-dffbbc17ee01"
   },
   "outputs": [
    {
     "name": "stdout",
     "output_type": "stream",
     "text": [
      "['ICOER', 'admin', 'college', 'config', 'local']\n"
     ]
    }
   ],
   "source": [
    "print(myclient.list_database_names())"
   ]
  },
  {
   "cell_type": "code",
   "execution_count": 10,
   "metadata": {
    "id": "c07d5b83",
    "outputId": "df32a60e-e96b-4fe8-fa36-06e5a8c7738f"
   },
   "outputs": [
    {
     "name": "stdout",
     "output_type": "stream",
     "text": [
      "Database Exists...!!\n"
     ]
    }
   ],
   "source": [
    "dblist = myclient.list_database_names()\n",
    "if 'ICOER' in dblist:\n",
    "    print(\"Database Exists...!!\")\n",
    "else:\n",
    "    print(\"Databse Not Exists...!!\")"
   ]
  },
  {
   "cell_type": "code",
   "execution_count": 11,
   "metadata": {
    "id": "5e221a95",
    "outputId": "fdeec575-8f4c-40e2-f534-4a78702ec8be"
   },
   "outputs": [
    {
     "name": "stdout",
     "output_type": "stream",
     "text": [
      "['computer_dept']\n"
     ]
    }
   ],
   "source": [
    "print(mydb.list_collection_names())"
   ]
  },
  {
   "cell_type": "code",
   "execution_count": 12,
   "metadata": {
    "id": "3f08ac1a",
    "outputId": "2f2ff77a-6d37-4782-d67c-115dd87691a2"
   },
   "outputs": [
    {
     "name": "stdout",
     "output_type": "stream",
     "text": [
      "Collection Exists...!!\n"
     ]
    }
   ],
   "source": [
    "collist = mydb.list_collection_names()\n",
    "if 'computer_dept' in collist:\n",
    "    print(\"Collection Exists...!!\")\n",
    "else:\n",
    "    print(\"Collection Not Exists...!!\")"
   ]
  },
  {
   "cell_type": "markdown",
   "metadata": {
    "id": "04216d49"
   },
   "source": [
    "### Return _id Field"
   ]
  },
  {
   "cell_type": "code",
   "execution_count": 13,
   "metadata": {
    "id": "03f2cbee",
    "outputId": "a20cd6c4-044e-4108-9350-ca5d0378dd3c"
   },
   "outputs": [
    {
     "name": "stdout",
     "output_type": "stream",
     "text": [
      "6289e94b68cdb12f9709363c\n"
     ]
    }
   ],
   "source": [
    "print(x.inserted_id)"
   ]
  },
  {
   "cell_type": "markdown",
   "metadata": {
    "id": "f41b29b6"
   },
   "source": [
    "1. To insert_one() method return a insert one result object, which has a property, inserted_id that holds the id to inserted documents\n",
    "2. If you do not specify an [_id ] fields then MongoDB will add the one for you and assign a unique id to each documents"
   ]
  },
  {
   "cell_type": "markdown",
   "metadata": {
    "id": "5d6cb641"
   },
   "source": [
    "### Insert Multiple Documents"
   ]
  },
  {
   "cell_type": "code",
   "execution_count": 14,
   "metadata": {
    "id": "ea93a569"
   },
   "outputs": [],
   "source": [
    "import pymongo\n",
    "\n",
    "myclient = pymongo.MongoClient(\"127.0.0.1:27017\")\n",
    "mydb = myclient['computer_dept']\n",
    "mycol = mydb['BE']"
   ]
  },
  {
   "cell_type": "code",
   "execution_count": 15,
   "metadata": {
    "id": "51e43f4e",
    "outputId": "eb04c45f-d771-40a1-f122-6b89af73db93"
   },
   "outputs": [
    {
     "name": "stdout",
     "output_type": "stream",
     "text": [
      "[ObjectId('6289e94c68cdb12f9709363e'), ObjectId('6289e94c68cdb12f9709363f')]\n"
     ]
    }
   ],
   "source": [
    "\n",
    "my_list = [\n",
    "    {'name': 'Shyam Ambilkar',\n",
    "    'post': 'Data Engineer',\n",
    "    'salary': 90000,\n",
    "    'location':'Pune',\n",
    "    'mobile': 9923090436,\n",
    "    'email': 'shyam@gmail.com',\n",
    "    'dept': 'Research and Developement'\n",
    "},\n",
    "    {\n",
    "    'name': 'Mayur Kankal',\n",
    "    'post': 'Data Scientiest',\n",
    "    'salary': 90000,\n",
    "    'location':'Pune',\n",
    "    'mobile': 1234567890,\n",
    "    'email': 'mayur@gmail.com',\n",
    "    'dept': 'Research and Developement'\n",
    "    }\n",
    "]\n",
    "\n",
    "x = mycol.insert_many(my_list)\n",
    "print(x.inserted_ids)"
   ]
  },
  {
   "cell_type": "markdown",
   "metadata": {
    "id": "ff7cce9f"
   },
   "source": [
    "### Insert Multiple Documents with Specified ID's"
   ]
  },
  {
   "cell_type": "code",
   "execution_count": 16,
   "metadata": {
    "id": "fa92b296",
    "outputId": "ba3f9e75-2912-46d3-a2dd-a5f9960c4a3f"
   },
   "outputs": [
    {
     "name": "stdout",
     "output_type": "stream",
     "text": [
      "[1, 2, 3]\n"
     ]
    }
   ],
   "source": [
    "\n",
    "my_list = [\n",
    "    {\n",
    "    '_id': 1,\n",
    "    'name': 'Sakshi Ambekar',\n",
    "    'post': 'Data Engineer',\n",
    "    'salary': 60000,\n",
    "    'location':'Pune',\n",
    "    'mobile': 1234567890,\n",
    "    'email': 'sakshi@gmail.com',\n",
    "    'dept': 'Research and Developement'\n",
    "    },\n",
    "    {\n",
    "    '_id': 2,\n",
    "    'name': 'Sachin Bodkhe',\n",
    "    'post': 'ML Engineer',\n",
    "    'salary': 80000,\n",
    "    'location':'Pune',\n",
    "    'mobile': 1234567890,\n",
    "    'email': 'sachin@gmail.com',\n",
    "    'dept': 'Research and Developement'\n",
    "    },\n",
    "     {\n",
    "    '_id': 3,\n",
    "    'name': 'Garima Chauhan',\n",
    "    'post': 'ML Engineer',\n",
    "    'salary': 50000,\n",
    "    'location':'Pune',\n",
    "    'mobile': 1234567890,\n",
    "    'email': 'garima@gmail.com',\n",
    "    'dept': 'Research and Developement'\n",
    "    }\n",
    "]\n",
    "\n",
    "x = mycol.insert_many(my_list)\n",
    "print(x.inserted_ids)"
   ]
  },
  {
   "cell_type": "code",
   "execution_count": null,
   "metadata": {
    "id": "2135c072"
   },
   "outputs": [],
   "source": []
  }
 ],
 "metadata": {
  "colab": {
   "name": "MongoDB.ipynb",
   "provenance": []
  },
  "interpreter": {
   "hash": "48ce01cc5963c03f5d44337a3ab2a7482f56839de868b216f68cb8764955df40"
  },
  "kernelspec": {
   "display_name": "Python 3",
   "language": "python",
   "name": "python3"
  },
  "language_info": {
   "codemirror_mode": {
    "name": "ipython",
    "version": 3
   },
   "file_extension": ".py",
   "mimetype": "text/x-python",
   "name": "python",
   "nbconvert_exporter": "python",
   "pygments_lexer": "ipython3",
   "version": "3.8.5"
  }
 },
 "nbformat": 4,
 "nbformat_minor": 5
}
