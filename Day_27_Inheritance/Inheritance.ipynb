{
 "cells": [
  {
   "cell_type": "markdown",
   "metadata": {},
   "source": [
    "# Inheritance"
   ]
  },
  {
   "cell_type": "markdown",
   "metadata": {},
   "source": [
    "1. Inheritance is the capability of one class to derive or inherit the properties from another class\n",
    "2. The new class called as (derived or Child) class and one from inherit the class called as (Base or Parent) class.\n",
    "3. There are different two classes in Inheritance:\n",
    "    1. Parent Class:\n",
    "        1.Parent class is the class being inherited from also called as Parent or Base\n",
    "    2. Child Class:\n",
    "        2. child clss is the class that inherited from another class, also called as child class or dervied class\n",
    "        \n",
    "4. Some Points:\n",
    "    1. It Provides reusability of code\n",
    "    2. It allow us to add more features without modifying it\n",
    "    3. Transitive in Nature which means that:\n",
    "        if class B inherits from another class A, then all subclasses as B would automatically inherits class A\n",
    "5. There are differnt types of Inheritance:\n",
    "    1. Single Inheritance\n",
    "    2. Multiple Inheritance\n",
    "    3. Multilevel Inheritance\n",
    "    4. Hirarchical Inheritance\n",
    "    5. Hybrid Inheritance"
   ]
  },
  {
   "cell_type": "markdown",
   "metadata": {},
   "source": [
    "**Inheritance:**![](https://miro.medium.com/max/904/1*rddNpQyOeBl_jQ3Rmet5dg.png)"
   ]
  },
  {
   "cell_type": "markdown",
   "metadata": {},
   "source": [
    "**Different types of Inheritance:**![](https://simplesnippets.tech/wp-content/uploads/2018/04/java-types-of-inheritance.jpg)"
   ]
  },
  {
   "cell_type": "code",
   "execution_count": 1,
   "metadata": {},
   "outputs": [
    {
     "name": "stdout",
     "output_type": "stream",
     "text": [
      "Shyam Ambilkar\n"
     ]
    }
   ],
   "source": [
    "class Person:\n",
    "    def __init__(self, fname, lname):\n",
    "        self.firstname = fname\n",
    "        self.lastname = lname\n",
    "        \n",
    "        \n",
    "    def printname(self):\n",
    "        print(self.firstname, self.lastname)\n",
    "        \n",
    "        \n",
    "x = Person(\"Shyam\",\"Ambilkar\")\n",
    "x.printname()"
   ]
  },
  {
   "cell_type": "code",
   "execution_count": 3,
   "metadata": {},
   "outputs": [
    {
     "name": "stdout",
     "output_type": "stream",
     "text": [
      "Shyam Ambilkar\n",
      "Mayur Kankal\n"
     ]
    }
   ],
   "source": [
    "class Person:\n",
    "    def __init__(self, fname, lname):\n",
    "        self.firstname = fname\n",
    "        self.lastname = lname\n",
    "        \n",
    "        \n",
    "    def printname(self):\n",
    "        print(self.firstname, self.lastname)\n",
    "        \n",
    "class Student(Person):\n",
    "    pass\n",
    "        \n",
    "x = Student(\"Mayur\",\"Kankal\")\n",
    "x.printname()"
   ]
  },
  {
   "cell_type": "markdown",
   "metadata": {},
   "source": [
    "## 1. Single Inheritance"
   ]
  },
  {
   "cell_type": "markdown",
   "metadata": {},
   "source": [
    "1. When a child iherits from only one class called as parent class is called as single Inheritance\n",
    "2. Syntax"
   ]
  },
  {
   "cell_type": "raw",
   "metadata": {},
   "source": [
    "class Parent_class_Name:\n",
    "    # Block of code \n",
    "class Child_class_Name(Parent_class_Name):\n",
    "    # child class block of code"
   ]
  },
  {
   "cell_type": "code",
   "execution_count": 18,
   "metadata": {},
   "outputs": [
    {
     "name": "stdout",
     "output_type": "stream",
     "text": [
      "Mayur Kankal\n"
     ]
    }
   ],
   "source": [
    "class Father:\n",
    "    def __init__(self, fname, lname):\n",
    "        self.firstname = fname\n",
    "        self.lastname = lname\n",
    "        \n",
    "        \n",
    "    def printname(self):\n",
    "        print(self.firstname, self.lastname)\n",
    "        \n",
    "class Child(Father):\n",
    "        \n",
    "    def child(self):\n",
    "        pass\n",
    "        \n",
    "x = Child(\"Mayur\",\"Kankal\")\n",
    "y = Child(\"xyz\",\"abc\")\n",
    "\n",
    "x.printname()\n",
    "y.child()"
   ]
  },
  {
   "cell_type": "code",
   "execution_count": 25,
   "metadata": {},
   "outputs": [
    {
     "name": "stdout",
     "output_type": "stream",
     "text": [
      "Garima Chauhan\n",
      "Garima xyz\n"
     ]
    }
   ],
   "source": [
    "class Father:\n",
    "    def __init__(self, fname, lname):\n",
    "        self.fname = fname\n",
    "        self.lname = lname\n",
    "        \n",
    "    def my_function(self):\n",
    "        return self.fname\n",
    "    \n",
    "    def check(self):\n",
    "        return self.lname\n",
    "    \n",
    "class Child(Father):\n",
    "    \n",
    "    def my_child(self):\n",
    "        return self.lname\n",
    "    \n",
    "x = Father(\"Garima\",\"Chauhan\")\n",
    "print(x.my_function(), x.check())\n",
    "\n",
    "y = Child(\"Garima\",\"xyz\")\n",
    "print(x.my_function(), y.my_child())"
   ]
  },
  {
   "cell_type": "code",
   "execution_count": null,
   "metadata": {},
   "outputs": [],
   "source": []
  },
  {
   "cell_type": "code",
   "execution_count": 30,
   "metadata": {},
   "outputs": [],
   "source": [
    "class student():\n",
    "    def StudentInfo(self):\n",
    "        self.__name = input(\"Enter name \")\n",
    "        self.__RollNo = int(input(\"Enter RollNo \"))\n",
    "        \n",
    "    def PrintStudentInfo(self):\n",
    "        print(\"Student name \",self.__name)\n",
    "        print(\"Roll No \",self.__RollNo)\n",
    "        \n",
    "class BE(student):\n",
    "    def BEmarks(self):\n",
    "        self.__marathi = int(input(\"Marathi marks: \"))\n",
    "        self.__hindi = int(input(\"Hindi marks: \"))\n",
    "        self.__english = int(input(\"English marks: \"))\n",
    "        \n",
    "    def total(self):\n",
    "        print(self.__marathi + self.__hindi + self.__english, \" Marks out of 300\")\n",
    "        \n",
    "class show(BE):\n",
    "    def showall(self):\n",
    "        student()\n",
    "        BE()\n",
    "              \n",
    "        \n",
    "s1 = show()\n",
    "s1.showall()"
   ]
  },
  {
   "cell_type": "code",
   "execution_count": 27,
   "metadata": {},
   "outputs": [
    {
     "name": "stdout",
     "output_type": "stream",
     "text": [
      "dog barking\n",
      "tehhsd\n",
      "Animal Speaking\n",
      "Eating bread...\n"
     ]
    }
   ],
   "source": [
    "class Animal:  \n",
    "    def speak(self):  \n",
    "        input()\n",
    "        print(\"Animal Speaking\")  \n",
    "        \n",
    "#The child class Dog inherits the base class Animal  \n",
    "class Dog(Animal):  \n",
    "    def bark(self):  \n",
    "        print(\"dog barking\")  \n",
    "        \n",
    "#The child class Dogchild inherits another child class Dog  \n",
    "class DogChild(Dog):  \n",
    "    def eat(self):  \n",
    "        print(\"Eating bread...\")  \n",
    "        \n",
    "d = DogChild()  \n",
    "d.bark()  \n",
    "d.speak()  \n",
    "d.eat()"
   ]
  }
 ],
 "metadata": {
  "kernelspec": {
   "display_name": "Python 3",
   "language": "python",
   "name": "python3"
  },
  "language_info": {
   "codemirror_mode": {
    "name": "ipython",
    "version": 3
   },
   "file_extension": ".py",
   "mimetype": "text/x-python",
   "name": "python",
   "nbconvert_exporter": "python",
   "pygments_lexer": "ipython3",
   "version": "3.8.5"
  }
 },
 "nbformat": 4,
 "nbformat_minor": 5
}
