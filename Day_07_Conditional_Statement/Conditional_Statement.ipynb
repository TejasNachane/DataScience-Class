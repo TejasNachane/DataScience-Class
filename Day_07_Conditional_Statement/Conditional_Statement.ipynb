{
 "cells": [
  {
   "cell_type": "markdown",
   "metadata": {},
   "source": [
    "# Python Condition and If Statement"
   ]
  },
  {
   "cell_type": "markdown",
   "metadata": {},
   "source": [
    "1. Equals a == b\n",
    "2. Not Equals a != b\n",
    "3. Less than a < b\n",
    "4. Greater than a > b\n",
    "6. Greater than or Equals a >= b\n",
    "7. Less than or Equals a <= b"
   ]
  },
  {
   "cell_type": "markdown",
   "metadata": {},
   "source": [
    "1. There are different types of conditional statement:\n",
    "    1. IF [if]\n",
    "    2. IF - ELSE [if - else]\n",
    "    3. Nested IF ELSE [if -elif - else]"
   ]
  },
  {
   "cell_type": "markdown",
   "metadata": {},
   "source": [
    "## 1. IF [if]"
   ]
  },
  {
   "cell_type": "code",
   "execution_count": 1,
   "metadata": {},
   "outputs": [
    {
     "name": "stdout",
     "output_type": "stream",
     "text": [
      "B is Greater than A\n"
     ]
    }
   ],
   "source": [
    "a = 100\n",
    "b = 200\n",
    "\n",
    "if b > a:\n",
    "    print(\"B is Greater than A\")"
   ]
  },
  {
   "cell_type": "code",
   "execution_count": 5,
   "metadata": {},
   "outputs": [
    {
     "ename": "IndentationError",
     "evalue": "expected an indented block (<ipython-input-5-ab97b6403554>, line 5)",
     "output_type": "error",
     "traceback": [
      "\u001b[1;36m  File \u001b[1;32m\"<ipython-input-5-ab97b6403554>\"\u001b[1;36m, line \u001b[1;32m5\u001b[0m\n\u001b[1;33m    print(\"B is Greater than A\")\u001b[0m\n\u001b[1;37m    ^\u001b[0m\n\u001b[1;31mIndentationError\u001b[0m\u001b[1;31m:\u001b[0m expected an indented block\n"
     ]
    }
   ],
   "source": [
    "a = 100\n",
    "b = 200\n",
    "\n",
    "if b > a:\n",
    "print(\"B is Greater than A\")"
   ]
  },
  {
   "cell_type": "markdown",
   "metadata": {},
   "source": [
    "## 1. IF - ELSE [if-else]:"
   ]
  },
  {
   "cell_type": "raw",
   "metadata": {},
   "source": [
    "    1. if (condition):\n",
    "           statement\n",
    "       else:\n",
    "           statement"
   ]
  },
  {
   "cell_type": "code",
   "execution_count": 6,
   "metadata": {},
   "outputs": [
    {
     "name": "stdout",
     "output_type": "stream",
     "text": [
      "A is Less than B\n"
     ]
    }
   ],
   "source": [
    "a = 100\n",
    "b = 200\n",
    "\n",
    "if a > b:\n",
    "    print(\"A is Greater than B\")\n",
    "else:\n",
    "    print(\"A is Less than B\")"
   ]
  },
  {
   "cell_type": "code",
   "execution_count": 12,
   "metadata": {},
   "outputs": [
    {
     "name": "stdout",
     "output_type": "stream",
     "text": [
      "Enter a Number: 14\n",
      "14 number is Even\n"
     ]
    }
   ],
   "source": [
    "my_num = int(input(\"Enter a Number: \"))\n",
    "\n",
    "if my_num % 2 == 0:\n",
    "    print(\"{} number is Even\".format(my_num))\n",
    "else:\n",
    "    print(\"Number is Odd\")"
   ]
  },
  {
   "cell_type": "code",
   "execution_count": 15,
   "metadata": {},
   "outputs": [
    {
     "name": "stdout",
     "output_type": "stream",
     "text": [
      "Enter a Number: 78\n",
      "78 number is Even\n"
     ]
    }
   ],
   "source": [
    "my_num = int(input(\"Enter a Number: \"))\n",
    "\n",
    "if my_num % 2 == 0:\n",
    "    print(\"{} number is Even\".format(my_num))\n",
    "else:\n",
    "    print(\"Number is Odd\")"
   ]
  },
  {
   "cell_type": "markdown",
   "metadata": {},
   "source": [
    "## 2. IF - ELIF - ELSE [if -elif -else]"
   ]
  },
  {
   "cell_type": "code",
   "execution_count": 19,
   "metadata": {},
   "outputs": [
    {
     "name": "stdout",
     "output_type": "stream",
     "text": [
      "Enter First Number: 100\n",
      "Enter Second Number: 150\n",
      "Invalid Operations\n"
     ]
    }
   ],
   "source": [
    "a = int(input(\"Enter First Number: \"))\n",
    "b = int(input(\"Enter Second Number: \"))\n",
    "\n",
    "if a == b:\n",
    "    print(\"A is equals to B\")\n",
    "elif a > b:\n",
    "    print(\"A is Greater than B\")\n",
    "elif a == b:\n",
    "    print(\"A is not equals to B\")\n",
    "else:\n",
    "    print(\"Invalid Operations\")"
   ]
  },
  {
   "cell_type": "code",
   "execution_count": 20,
   "metadata": {},
   "outputs": [],
   "source": [
    "# 5! Factorial\n",
    "# 5*4*3*2*1\n",
    "# 20*3*2*1\n",
    "# 60*2*1\n",
    "# 120*1\n",
    "# 120"
   ]
  },
  {
   "cell_type": "markdown",
   "metadata": {},
   "source": [
    "# Looping"
   ]
  },
  {
   "cell_type": "markdown",
   "metadata": {},
   "source": [
    "1. For loop\n",
    "2. While"
   ]
  },
  {
   "cell_type": "markdown",
   "metadata": {},
   "source": [
    "1. for loop is used for itarating over sequence [list, tuple, dictinary, set]\n",
    "2. for keyword is used for execute"
   ]
  },
  {
   "cell_type": "code",
   "execution_count": 21,
   "metadata": {},
   "outputs": [
    {
     "name": "stdout",
     "output_type": "stream",
     "text": [
      "apple\n",
      "mango\n",
      "banana\n",
      "cherry\n",
      "watermelon\n"
     ]
    }
   ],
   "source": [
    "my_fruits = ['apple','mango', 'banana','cherry','watermelon']\n",
    "\n",
    "for x in my_fruits:\n",
    "    print(x)\n",
    "    "
   ]
  },
  {
   "cell_type": "code",
   "execution_count": 24,
   "metadata": {},
   "outputs": [
    {
     "name": "stdout",
     "output_type": "stream",
     "text": [
      "apple\n",
      "mango\n",
      "banana\n",
      "cherry\n",
      "watermelon\n"
     ]
    }
   ],
   "source": [
    "my_fruits = ['apple','mango', 'banana','cherry','watermelon']\n",
    "\n",
    "for x in my_fruits:\n",
    "    print(x)\n",
    "    "
   ]
  },
  {
   "cell_type": "code",
   "execution_count": 23,
   "metadata": {},
   "outputs": [
    {
     "name": "stdout",
     "output_type": "stream",
     "text": [
      "['apple', 'mango', 'banana', 'cherry', 'watermelon']\n"
     ]
    }
   ],
   "source": [
    "print(my_fruits)"
   ]
  },
  {
   "cell_type": "code",
   "execution_count": 26,
   "metadata": {},
   "outputs": [
    {
     "name": "stdout",
     "output_type": "stream",
     "text": [
      "Enter a Number for Multiplication table: 4\n",
      "4\n",
      "8\n",
      "12\n",
      "16\n",
      "20\n",
      "24\n",
      "28\n",
      "32\n",
      "36\n",
      "40\n"
     ]
    }
   ],
   "source": [
    "my_num = int(input(\"Enter a Number for Multiplication table: \"))\n",
    "\n",
    "for x in range(1,11):\n",
    "    print(my_num * x)"
   ]
  },
  {
   "cell_type": "code",
   "execution_count": 32,
   "metadata": {},
   "outputs": [
    {
     "name": "stdout",
     "output_type": "stream",
     "text": [
      "Enter a Number for Multiplication table: 6\n",
      "6 X 1 = 6\n",
      "6 X 2 = 12\n",
      "6 X 3 = 18\n",
      "6 X 4 = 24\n",
      "6 X 5 = 30\n",
      "6 X 6 = 36\n",
      "6 X 7 = 42\n",
      "6 X 8 = 48\n",
      "6 X 9 = 54\n",
      "6 X 10 = 60\n"
     ]
    }
   ],
   "source": [
    "my_num = int(input(\"Enter a Number for Multiplication table: \"))\n",
    "\n",
    "for x in range(1,11):\n",
    "    print(my_num, 'X', x, '=',my_num * x)"
   ]
  },
  {
   "cell_type": "code",
   "execution_count": 33,
   "metadata": {},
   "outputs": [],
   "source": [
    "# 5! Factorial\n",
    "# 5*4*3*2*1\n",
    "# 20*3*2*1\n",
    "# 60*2*1\n",
    "# 120*1\n",
    "# 120"
   ]
  },
  {
   "cell_type": "code",
   "execution_count": 39,
   "metadata": {},
   "outputs": [
    {
     "name": "stdout",
     "output_type": "stream",
     "text": [
      "Enter a Number: 5\n",
      "Factorial of 5 is 120\n"
     ]
    }
   ],
   "source": [
    "fact = 1\n",
    "\n",
    "my_num = int(input(\"Enter a Number: \"))\n",
    "\n",
    "for x in range(1, my_num + 1):\n",
    "    fact = fact * x \n",
    "print(\"Factorial of\",my_num, \"is\",fact)"
   ]
  },
  {
   "cell_type": "code",
   "execution_count": null,
   "metadata": {},
   "outputs": [],
   "source": []
  }
 ],
 "metadata": {
  "kernelspec": {
   "display_name": "Python 3",
   "language": "python",
   "name": "python3"
  },
  "language_info": {
   "codemirror_mode": {
    "name": "ipython",
    "version": 3
   },
   "file_extension": ".py",
   "mimetype": "text/x-python",
   "name": "python",
   "nbconvert_exporter": "python",
   "pygments_lexer": "ipython3",
   "version": "3.8.5"
  }
 },
 "nbformat": 4,
 "nbformat_minor": 5
}
