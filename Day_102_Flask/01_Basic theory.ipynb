{
 "cells": [
  {
   "cell_type": "markdown",
   "id": "4986bb52",
   "metadata": {
    "id": "4986bb52"
   },
   "source": [
    "# Flask Framework"
   ]
  },
  {
   "cell_type": "markdown",
   "id": "f78fc3b4",
   "metadata": {
    "id": "f78fc3b4"
   },
   "source": [
    "1. Flask is light-weight web Framework(application)\n",
    "2. Flask framework is based on Werkzeug, Jinja2, WSGI\n",
    "3. Flask Also called as Micro-Framework because does not requires to implement to much libraries\n",
    "4. Flask is an API python that allows build up Web Application\n",
    "5. Flask Framework based on:\n",
    "    1. Werkzeug:\n",
    "        1. It is toolkit, which implements requests, response object, and utility function ,that build up top of application\n",
    "        2. Provide structure and pattern which powerfull Application\n",
    "    2. Jinja2:\n",
    "        1. Jinja is popular templating for Python\n",
    "        2. Web templating system combine with certain code\n",
    "    3. WSGI:\n",
    "        1. Web Server Gateway Interface\n",
    "        2. Established a communication between Web Server and Web Application\n",
    "        3. HTTP Server"
   ]
  },
  {
   "cell_type": "markdown",
   "id": "7e3ef6b0",
   "metadata": {
    "id": "7e3ef6b0"
   },
   "source": [
    "### Terminologies"
   ]
  },
  {
   "cell_type": "markdown",
   "id": "61149259",
   "metadata": {
    "id": "61149259"
   },
   "source": [
    "1. host:\n",
    "    1. Default host name are 127.0.0.1 (localhost)\n",
    "    2. set to have '0.0.0.0' to have server available\n",
    "2. port:\n",
    "    1. Default port no are 5000\n",
    "    2. you can pass any port number\n",
    "3. Debug:\n",
    "    1.Default to False, to pass a debug information\n",
    "4. Option:\n",
    "    1. forworded to Werkzeug Server\n",
    "    2. Example:\n",
    "        1. Running on - http://127.0.0.1:5000/"
   ]
  },
  {
   "cell_type": "markdown",
   "id": "f8d2ed0a",
   "metadata": {
    "id": "f8d2ed0a"
   },
   "source": [
    "### Flask Framework Terminologies"
   ]
  },
  {
   "cell_type": "markdown",
   "id": "6b78985c",
   "metadata": {
    "id": "6b78985c"
   },
   "source": [
    "### 1. HTTP Protocol"
   ]
  },
  {
   "cell_type": "markdown",
   "id": "d431c5e7",
   "metadata": {
    "id": "d431c5e7"
   },
   "source": [
    "1. HTTP Protocol is the foundation of data communication in world wide web (www)\n",
    "2. Differnt method of data retrivl from specific URL are defined in this protocol\n",
    "3. There are differnt types of HTTP methods:\n",
    "    1. GET\n",
    "    2. POST\n",
    "    3. PUT\n",
    "    4. HEAD\n",
    "    5. DELETE"
   ]
  },
  {
   "cell_type": "markdown",
   "id": "740c473e",
   "metadata": {
    "id": "740c473e"
   },
   "source": [
    "### 1. GET"
   ]
  },
  {
   "cell_type": "markdown",
   "id": "f704411d",
   "metadata": {
    "id": "f704411d"
   },
   "source": [
    "1. Get method, data sent as URL parameter that are usually string as name and value pair\n",
    "2. GET unencrypted method from server, \n",
    "3. Most Common Method\n",
    "\n",
    "1. Advantages:\n",
    "    1. Data sent by the GET method are displayedin the URL\n",
    "    2. It is poosbile to bookmark the page with spefic query string values\n",
    "    3. GET request can be cached and GET request to remains in the browser History\n",
    "    4. GEt request can be bookmarked \n",
    "    \n",
    "2. Disadvantages:\n",
    "    1. GET method is not useful for passing sensible information such as username and password\n",
    "    2. This method are fully visible in the URL \n",
    "    3. Length of URL are limited"
   ]
  },
  {
   "cell_type": "markdown",
   "id": "ed7ef453",
   "metadata": {
    "id": "ed7ef453"
   },
   "source": [
    "### 2. POST"
   ]
  },
  {
   "cell_type": "markdown",
   "id": "b83b81cf",
   "metadata": {
    "id": "b83b81cf"
   },
   "source": [
    "1. It is secure than the GET method because it is not visible in the URL\n",
    "2. so it is not possible to bookmarked the page of specific string\n",
    "3. Large limit"
   ]
  },
  {
   "cell_type": "markdown",
   "id": "74a16a79",
   "metadata": {
    "id": "74a16a79"
   },
   "source": [
    "### Error Code"
   ]
  },
  {
   "cell_type": "markdown",
   "id": "db41aefc",
   "metadata": {
    "id": "db41aefc"
   },
   "source": [
    " 1. 400 - for Bad Request\n",
    "2. 401 - for Anthorised \n",
    "3. 403 - For forbidden\n",
    "4. 404 - page not Found\n",
    "5. 406 - for Not Acceptable\n",
    "6. 415 - for Unsupported Media Type\n",
    "7. 416 - to many request"
   ]
  },
  {
   "cell_type": "code",
   "execution_count": null,
   "id": "997ab3ac",
   "metadata": {
    "id": "997ab3ac"
   },
   "outputs": [],
   "source": [
    ""
   ]
  }
 ],
 "metadata": {
  "colab": {
   "name": "FlaskFramework.ipynb",
   "provenance": []
  },
  "kernelspec": {
   "display_name": "Python 3",
   "language": "python",
   "name": "python3"
  },
  "language_info": {
   "codemirror_mode": {
    "name": "ipython",
    "version": 3
   },
   "file_extension": ".py",
   "mimetype": "text/x-python",
   "name": "python",
   "nbconvert_exporter": "python",
   "pygments_lexer": "ipython3",
   "version": "3.8.8"
  }
 },
 "nbformat": 4,
 "nbformat_minor": 5
}
