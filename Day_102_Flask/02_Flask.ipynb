{
 "cells": [
  {
   "cell_type": "markdown",
   "id": "05300cfc",
   "metadata": {},
   "source": [
    "# Flask Framework"
   ]
  },
  {
   "cell_type": "markdown",
   "id": "ba61debe",
   "metadata": {},
   "source": [
    "1. Importing flask module \n",
    "2. An object of Flask class is our WSGI application\n",
    "3. Flask constructor take the name of current module (__name__) as argument\n",
    "4. @app.route('/'):\n",
    "    1. syntax [app.route(rule, option)]:\n",
    "        1. Rule - Rule parameter represent URL, binding with funtion\n",
    "        2. option - Option is list of parameter to be forworded to the underlying of Rule \n",
    "    2. route() function of the Flask of Decorator, which tell us the application which URL should call with Associte function\n",
    "5. app.run(host, port, debug, option):\n",
    "    1. Host:\n",
    "        1. Hostname to listen on Default to 127.0.0.1 localhost\n",
    "        2. set to '0.0.0.0' to have server available externally\n",
    "    2. port:\n",
    "        1. Default - 5000\n",
    "    3. debug:\n",
    "        1. Default to False\n",
    "        2. If set to True, provides debug information\n",
    "        \n",
    "    4. option:\n",
    "        1. To be forworded to underlying Werkzeug server\n"
   ]
  },
  {
   "cell_type": "markdown",
   "id": "0fd74297",
   "metadata": {},
   "source": [
    " **6. open above URL http://127.0.0.1:5000 Localhost:5000 in the browser**"
   ]
  },
  {
   "cell_type": "markdown",
   "id": "9ca8ef6f",
   "metadata": {},
   "source": [
    "## TemplateNotFound"
   ]
  },
  {
   "cell_type": "markdown",
   "id": "5a4df245",
   "metadata": {},
   "source": [
    "TemplateNotFound\n",
    "jinja2.exceptions.TemplateNotFound: main.html\n",
    "\n",
    "Traceback (most recent call last)\n",
    "File \"C:\\Users\\shyam.DESKTOP-3EM50G2\\PycharmProjects\\BATCH_VI\\venv\\lib\\site-packages\\flask\\app.py\", line 2095, in __call__\n",
    "return self.wsgi_app(environ, start_response)\n",
    "File \"C:\\Users\\shyam.DESKTOP-3EM50G2\\PycharmProjects\\BATCH_VI\\venv\\lib\\site-packages\\flask\\app.py\", line 2080, in wsgi_app"
   ]
  },
  {
   "cell_type": "code",
   "execution_count": null,
   "id": "e96b6b79",
   "metadata": {},
   "outputs": [],
   "source": []
  }
 ],
 "metadata": {
  "kernelspec": {
   "display_name": "Python 3",
   "language": "python",
   "name": "python3"
  },
  "language_info": {
   "codemirror_mode": {
    "name": "ipython",
    "version": 3
   },
   "file_extension": ".py",
   "mimetype": "text/x-python",
   "name": "python",
   "nbconvert_exporter": "python",
   "pygments_lexer": "ipython3",
   "version": "3.8.8"
  }
 },
 "nbformat": 4,
 "nbformat_minor": 5
}
