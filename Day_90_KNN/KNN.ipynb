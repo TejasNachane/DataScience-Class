{
 "cells": [
  {
   "cell_type": "markdown",
   "metadata": {
    "id": "9cf42c36"
   },
   "source": [
    "# KNN [K- Nearest Neighbour Algorithm]"
   ]
  },
  {
   "cell_type": "markdown",
   "metadata": {
    "id": "bcc83b7f"
   },
   "source": [
    "1. KNN Algorithm is supervised Machine Learning algorithm\n",
    "2. K- Nearest Neighbour is one of the simplest Machine Learning algorithm based on Supervised ML algorithm\n",
    "3. K-NN algorithm assumes the similarity between the new data \n",
    "4. Devide a new data into a different categories\n",
    "5. K-NN algorithm stores all the available data and classifies a new data points on similarity\n",
    "6. This means when new data appears then it can be easily classified into a well suite category by using KNN-Algorithm\n",
    "7. K- NN algorithm can be used for both **Regression as well as Classification but mostly it is used for the classfication Problems**\n",
    "8. K-NN is a **non-parametric algorithm**, which means it does not make any assumption on underlying data\n",
    "9. KNN algorithm also called as **Lazy Learner algorithm** \n",
    "10. because it does not learn from the training set immediately insted it store stores the dataset \n",
    "11. Time of classification it performs the action on the dataset"
   ]
  },
  {
   "cell_type": "markdown",
   "metadata": {
    "id": "f86bdfdf"
   },
   "source": [
    "### Why do we need KNN algorithm?"
   ]
  },
  {
   "cell_type": "markdown",
   "metadata": {
    "id": "f357de09"
   },
   "source": [
    " ![](https://static.javatpoint.com/tutorial/machine-learning/images/k-nearest-neighbor-algorithm-for-machine-learning2.png)"
   ]
  },
  {
   "cell_type": "markdown",
   "metadata": {
    "id": "d8fe2db2"
   },
   "source": [
    "1. Suppose there are two categories, i.e. Category A and Category B,\n",
    "2. We have a new data points x1, so this data points will lie in which these categories\n",
    "3. This type of problem solve using KNN algorithm \n",
    "4. Using KNN we can easily identified category or class"
   ]
  },
  {
   "cell_type": "markdown",
   "metadata": {
    "id": "dca0147f"
   },
   "source": [
    "### How Does K-NN works?"
   ]
  },
  {
   "cell_type": "markdown",
   "metadata": {
    "id": "3a59e09b"
   },
   "source": [
    "#### using Following steps to perform KNN algorithm\n",
    "#### Step 1\n",
    "- Select the number of K of the Neighbors\n",
    "#### Step 2\n",
    "- Calculate the Ecludian distance of K number of Neighbors\n",
    "#### Step 3\n",
    "- Take the K-Nearest Neighbor as per the calculated Euclidian distance\n",
    "#### Step 4\n",
    "- Among these K nighbors, count the number of the data points in each category\n",
    "#### Step 5\n",
    "- Assign the new data points to that category for which the number of the neighbor is maximum\n",
    "#### Step 6\n",
    "- Our model is ready"
   ]
  },
  {
   "cell_type": "markdown",
   "metadata": {
    "id": "14556f7b"
   },
   "source": [
    " #### There are two ways to findout distance from datapoints:\n",
    "    1. Ecludian Distance\n",
    "    2. Manhatten Distance"
   ]
  },
  {
   "cell_type": "markdown",
   "metadata": {
    "id": "8fd6eefc"
   },
   "source": [
    "### 1. Ecludian Distance"
   ]
  },
  {
   "cell_type": "markdown",
   "metadata": {
    "id": "c612e320"
   },
   "source": [
    "1. Take the square root of sum of the squares of the difference of the coordinates\n",
    "2. Example:\n",
    "    1. IF (x = (a, b), y = (c, d)"
   ]
  },
  {
   "cell_type": "markdown",
   "metadata": {
    "id": "10ab6b65"
   },
   "source": [
    "![](https://www.gstatic.com/education/formulas2/397133473/en/euclidean_distance.svg)"
   ]
  },
  {
   "cell_type": "markdown",
   "metadata": {
    "id": "a55b454b"
   },
   "source": [
    "1. p,q\t=\ttwo points in Euclidean n-space\n",
    "2. q_i, p_i\t=\tEuclidean vectors, starting from the origin of the space (initial point)\n",
    "3. n\t=\tn-space"
   ]
  },
  {
   "cell_type": "raw",
   "metadata": {
    "id": "e8893ec9"
   },
   "source": [
    "AB2 = AC2 + BC2\n",
    "\n",
    "d2 = (x2 – x1)2 + (y2 – y1) ** 2\n",
    "\n",
    "Taking the square root on both sides,\n",
    "\n",
    "d = √[ (x2 – x1)2 + (y2 – y1)2]\n",
    "\n",
    "Hence the Euclidean distance formula is derived."
   ]
  },
  {
   "cell_type": "markdown",
   "metadata": {
    "id": "5648bb40"
   },
   "source": [
    "## 2. Manhatten Distance"
   ]
  },
  {
   "cell_type": "markdown",
   "metadata": {
    "id": "e5801d5d"
   },
   "source": [
    "1. Take the sum of absolute value of the difference of the coordinates \n",
    "2. Example:\n",
    "    1. If x = (a, b) and y = (c, d)\n",
    "3. Manhatten distance between X and Y is:\n",
    "    1. | A -C | + | B - D |"
   ]
  },
  {
   "cell_type": "markdown",
   "metadata": {
    "id": "24741188"
   },
   "source": [
    "### How to select the value of K in the KNN- Algorithm?"
   ]
  },
  {
   "cell_type": "markdown",
   "metadata": {
    "id": "841d77b7"
   },
   "source": [
    "1. Ther is no perticular way to determine the best value of K, \n",
    "2. The most preferred value for K is 5\n",
    "3. Very low value for K such as K = 1 \n",
    "4. K = 2 can be noisy and lead to the effect of outliers in the model\n",
    "5. Lage values for K are good, but if may find some difficulties"
   ]
  },
  {
   "cell_type": "markdown",
   "metadata": {
    "id": "463fddc7"
   },
   "source": [
    "### Advatages of KNN"
   ]
  },
  {
   "cell_type": "markdown",
   "metadata": {
    "id": "091ce45a"
   },
   "source": [
    "1. It is simple to implement\n",
    "2. It is robust to the noisy training data\n",
    "3. It can be more effective if the training data is to large"
   ]
  },
  {
   "cell_type": "markdown",
   "metadata": {
    "id": "de529f87"
   },
   "source": [
    "### Disadvantages of KNN"
   ]
  },
  {
   "cell_type": "markdown",
   "metadata": {
    "id": "b2447f6d"
   },
   "source": [
    "1. Always needs to determine the value of K which may be complex some time\n",
    "2. Computation cost is high because of calculating the distance between the data points for all training samples"
   ]
  },
  {
   "cell_type": "markdown",
   "metadata": {
    "id": "13d93021"
   },
   "source": [
    "### https://www.edureka.co/blog/k-nearest-neighbors-algorithm/"
   ]
  },
  {
   "cell_type": "markdown",
   "metadata": {
    "id": "87c5d2a1"
   },
   "source": [
    "### Implementation of KNN- Algorithm"
   ]
  },
  {
   "cell_type": "code",
   "execution_count": null,
   "metadata": {
    "id": "829ce2e6"
   },
   "outputs": [],
   "source": []
  }
 ],
 "metadata": {
  "colab": {
   "name": "KNN.ipynb",
   "provenance": []
  },
  "kernelspec": {
   "display_name": "Python 3",
   "language": "python",
   "name": "python3"
  },
  "language_info": {
   "codemirror_mode": {
    "name": "ipython",
    "version": 3
   },
   "file_extension": ".py",
   "mimetype": "text/x-python",
   "name": "python",
   "nbconvert_exporter": "python",
   "pygments_lexer": "ipython3",
   "version": "3.8.5"
  }
 },
 "nbformat": 4,
 "nbformat_minor": 5
}
