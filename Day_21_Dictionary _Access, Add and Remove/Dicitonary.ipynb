{
 "cells": [
  {
   "cell_type": "markdown",
   "metadata": {},
   "source": [
    "# accessing Elements in Dictionary"
   ]
  },
  {
   "cell_type": "code",
   "execution_count": 1,
   "metadata": {},
   "outputs": [],
   "source": [
    "my_dict = {'name':'Shyam',\n",
    "          'post':'Data Scientist',\n",
    "          'salary':45000,\n",
    "          'location':'Pune',\n",
    "          'company_name':'Amdocs'}"
   ]
  },
  {
   "cell_type": "code",
   "execution_count": 2,
   "metadata": {},
   "outputs": [
    {
     "name": "stdout",
     "output_type": "stream",
     "text": [
      "{'name': 'Shyam', 'post': 'Data Scientist', 'salary': 45000, 'location': 'Pune', 'company_name': 'Amdocs'}\n"
     ]
    }
   ],
   "source": [
    "print(my_dict)"
   ]
  },
  {
   "cell_type": "code",
   "execution_count": 3,
   "metadata": {},
   "outputs": [
    {
     "data": {
      "text/plain": [
       "{'name': 'Shyam',\n",
       " 'post': 'Data Scientist',\n",
       " 'salary': 45000,\n",
       " 'location': 'Pune',\n",
       " 'company_name': 'Amdocs'}"
      ]
     },
     "execution_count": 3,
     "metadata": {},
     "output_type": "execute_result"
    }
   ],
   "source": [
    "my_dict"
   ]
  },
  {
   "cell_type": "code",
   "execution_count": 4,
   "metadata": {},
   "outputs": [
    {
     "name": "stdout",
     "output_type": "stream",
     "text": [
      "45000\n"
     ]
    }
   ],
   "source": [
    "x  = my_dict['salary']\n",
    "print(x)"
   ]
  },
  {
   "cell_type": "code",
   "execution_count": 5,
   "metadata": {},
   "outputs": [
    {
     "name": "stdout",
     "output_type": "stream",
     "text": [
      "Pune\n"
     ]
    }
   ],
   "source": [
    "x = my_dict.get('location')\n",
    "print(x)"
   ]
  },
  {
   "cell_type": "markdown",
   "metadata": {},
   "source": [
    "# Access only keys"
   ]
  },
  {
   "cell_type": "code",
   "execution_count": 6,
   "metadata": {},
   "outputs": [
    {
     "name": "stdout",
     "output_type": "stream",
     "text": [
      "dict_keys(['name', 'post', 'salary', 'location', 'company_name'])\n"
     ]
    }
   ],
   "source": [
    "x = my_dict.keys()\n",
    "print(x)"
   ]
  },
  {
   "cell_type": "code",
   "execution_count": 7,
   "metadata": {},
   "outputs": [
    {
     "name": "stdout",
     "output_type": "stream",
     "text": [
      "dict_keys(['name', 'post', 'salary', 'location', 'company_name'])\n",
      "dict_keys(['name', 'post', 'salary', 'location', 'company_name', 'HO'])\n"
     ]
    }
   ],
   "source": [
    "my_dict = {'name':'Shyam',\n",
    "          'post':'Data Scientist',\n",
    "          'salary':45000,\n",
    "          'location':'Pune',\n",
    "          'company_name':'Amdocs'}\n",
    "\n",
    "\n",
    "x = my_dict.keys()\n",
    "print(x)\n",
    "\n",
    "my_dict['HO'] = 'Nagpur'\n",
    "\n",
    "print(x)"
   ]
  },
  {
   "cell_type": "markdown",
   "metadata": {},
   "source": [
    "# Return only values of Keys"
   ]
  },
  {
   "cell_type": "code",
   "execution_count": 8,
   "metadata": {},
   "outputs": [],
   "source": [
    "my_dict = {'name':'Shyam',\n",
    "          'post':'Data Scientist',\n",
    "          'salary':45000,\n",
    "          'location':'Pune',\n",
    "          'company_name':'Amdocs'}"
   ]
  },
  {
   "cell_type": "code",
   "execution_count": 9,
   "metadata": {},
   "outputs": [
    {
     "name": "stdout",
     "output_type": "stream",
     "text": [
      "dict_values(['Shyam', 'Data Scientist', 45000, 'Pune', 'Amdocs'])\n"
     ]
    }
   ],
   "source": [
    "x = my_dict.values()\n",
    "print(x)"
   ]
  },
  {
   "cell_type": "code",
   "execution_count": 10,
   "metadata": {},
   "outputs": [
    {
     "name": "stdout",
     "output_type": "stream",
     "text": [
      "dict_values(['Shyam', 'Data Scientist', 45000, 'Pune', 'Amdocs'])\n",
      "dict_values(['Shyam', 'Data Scientist', 45000, 'Pune', 'Amdocs', 2022])\n"
     ]
    }
   ],
   "source": [
    "my_dict = {'name':'Shyam',\n",
    "          'post':'Data Scientist',\n",
    "          'salary':45000,\n",
    "          'location':'Pune',\n",
    "          'company_name':'Amdocs'}\n",
    "\n",
    "x = my_dict.values()\n",
    "print(x)\n",
    "\n",
    "my_dict['year'] = 2022\n",
    "print(x)"
   ]
  },
  {
   "cell_type": "markdown",
   "metadata": {},
   "source": [
    "## Get Values in Dictionary using - items() method"
   ]
  },
  {
   "cell_type": "code",
   "execution_count": 11,
   "metadata": {},
   "outputs": [
    {
     "name": "stdout",
     "output_type": "stream",
     "text": [
      "dict_items([('name', 'Shyam'), ('post', 'Data Scientist'), ('salary', 45000), ('location', 'Pune'), ('company_name', 'Amdocs'), ('year', 2022)])\n"
     ]
    }
   ],
   "source": [
    "x = my_dict.items()\n",
    "print(x)"
   ]
  },
  {
   "cell_type": "code",
   "execution_count": 12,
   "metadata": {},
   "outputs": [
    {
     "name": "stdout",
     "output_type": "stream",
     "text": [
      "dict_items([('name', 'Shyam'), ('post', 'Data Scientist'), ('salary', 45000), ('location', 'Pune'), ('company_name', 'Amdocs')])\n",
      "dict_items([('name', 'Shyam'), ('post', 'Data Scientist'), ('salary', 45000), ('location', 'Pune'), ('company_name', 'Amdocs'), ('year', 2022)])\n"
     ]
    }
   ],
   "source": [
    "my_dict = {'name':'Shyam',\n",
    "          'post':'Data Scientist',\n",
    "          'salary':45000,\n",
    "          'location':'Pune',\n",
    "          'company_name':'Amdocs'}\n",
    "\n",
    "x = my_dict.items()\n",
    "print(x)\n",
    "\n",
    "my_dict['year'] = 2022\n",
    "print(x)"
   ]
  },
  {
   "cell_type": "code",
   "execution_count": 15,
   "metadata": {},
   "outputs": [
    {
     "name": "stdout",
     "output_type": "stream",
     "text": [
      "Not Present\n"
     ]
    }
   ],
   "source": [
    "my_dict = {'name':'Shyam',\n",
    "          'post':'Data Scientist',\n",
    "          'salary':45000,\n",
    "          'location':'Pune',\n",
    "          'company_name':'Amdocs'}\n",
    "\n",
    "if 'HO' in my_dict:\n",
    "    print(\"Yes Keys are Present\")\n",
    "else:\n",
    "    print(\"Not Present\")"
   ]
  },
  {
   "cell_type": "markdown",
   "metadata": {},
   "source": [
    "# Change Dictionary Elements"
   ]
  },
  {
   "cell_type": "code",
   "execution_count": 16,
   "metadata": {},
   "outputs": [],
   "source": [
    "my_dict = {'name':'Shyam',\n",
    "          'post':'Data Scientist',\n",
    "          'salary':45000,\n",
    "          'location':'Pune',\n",
    "          'company_name':'Amdocs'}\n",
    "\n",
    "my_dict['company_name'] = 'Cognizant'"
   ]
  },
  {
   "cell_type": "code",
   "execution_count": 17,
   "metadata": {},
   "outputs": [
    {
     "name": "stdout",
     "output_type": "stream",
     "text": [
      "{'name': 'Shyam', 'post': 'Data Scientist', 'salary': 45000, 'location': 'Pune', 'company_name': 'Cognizant'}\n"
     ]
    }
   ],
   "source": [
    "print(my_dict)"
   ]
  },
  {
   "cell_type": "code",
   "execution_count": 18,
   "metadata": {},
   "outputs": [
    {
     "name": "stdout",
     "output_type": "stream",
     "text": [
      "{'name': 'Shyam', 'post': 'Data Scientist', 'salary': 45000, 'location': 'Benglore', 'company_name': 'Amdocs'}\n"
     ]
    }
   ],
   "source": [
    "my_dict = {'name':'Shyam',\n",
    "          'post':'Data Scientist',\n",
    "          'salary':45000,\n",
    "          'location':'Pune',\n",
    "          'company_name':'Amdocs'}\n",
    "\n",
    "my_dict.update({'location':'Benglore'})\n",
    "print(my_dict)"
   ]
  },
  {
   "cell_type": "markdown",
   "metadata": {},
   "source": [
    "# Add elements in Dictionary"
   ]
  },
  {
   "cell_type": "code",
   "execution_count": 19,
   "metadata": {},
   "outputs": [
    {
     "name": "stdout",
     "output_type": "stream",
     "text": [
      "{'name': 'Rahul', 'post': 'Data Scientist', 'salary': 45000, 'location': 'Pune', 'company_name': 'Amdocs'}\n"
     ]
    }
   ],
   "source": [
    "my_dict = {'name':'Shyam',\n",
    "          'post':'Data Scientist',\n",
    "          'salary':45000,\n",
    "          'location':'Pune',\n",
    "          'company_name':'Amdocs',\n",
    "          'name':'Rahul'}\n",
    "\n",
    "print(my_dict)"
   ]
  },
  {
   "cell_type": "code",
   "execution_count": 20,
   "metadata": {},
   "outputs": [
    {
     "name": "stdout",
     "output_type": "stream",
     "text": [
      "{'name': 'Shyam', 'post': 'Data Scientist', 'salary': 45000, 'location': 'Pune', 'company_name': 'Amdocs', 'HO': 'Mumbai'}\n"
     ]
    }
   ],
   "source": [
    "my_dict = {'name':'Shyam',\n",
    "          'post':'Data Scientist',\n",
    "          'salary':45000,\n",
    "          'location':'Pune',\n",
    "          'company_name':'Amdocs'}\n",
    "\n",
    "my_dict['HO'] = 'Mumbai'\n",
    "print(my_dict)"
   ]
  },
  {
   "cell_type": "code",
   "execution_count": 21,
   "metadata": {},
   "outputs": [
    {
     "ename": "SyntaxError",
     "evalue": "invalid syntax (<ipython-input-21-afa15e3b9890>, line 7)",
     "output_type": "error",
     "traceback": [
      "\u001b[1;36m  File \u001b[1;32m\"<ipython-input-21-afa15e3b9890>\"\u001b[1;36m, line \u001b[1;32m7\u001b[0m\n\u001b[1;33m    my_dict.update('Head_Office':'Nagpur')\u001b[0m\n\u001b[1;37m                                ^\u001b[0m\n\u001b[1;31mSyntaxError\u001b[0m\u001b[1;31m:\u001b[0m invalid syntax\n"
     ]
    }
   ],
   "source": [
    "my_dict = {'name':'Shyam',\n",
    "          'post':'Data Scientist',\n",
    "          'salary':45000,\n",
    "          'location':'Pune',\n",
    "          'company_name':'Amdocs'}\n",
    "\n",
    "my_dict.update('Head_Office':'Nagpur')"
   ]
  },
  {
   "cell_type": "code",
   "execution_count": 22,
   "metadata": {},
   "outputs": [],
   "source": [
    "my_dict = {'name':'Shyam',\n",
    "          'post':'Data Scientist',\n",
    "          'salary':45000,\n",
    "          'location':'Pune',\n",
    "          'company_name':'Amdocs'}\n",
    "\n",
    "my_dict.update({'Head_Office':'Nagpur'})"
   ]
  },
  {
   "cell_type": "code",
   "execution_count": 23,
   "metadata": {},
   "outputs": [
    {
     "name": "stdout",
     "output_type": "stream",
     "text": [
      "{'name': 'Shyam', 'post': 'Data Scientist', 'salary': 45000, 'location': 'Pune', 'company_name': 'Amdocs', 'Head_Office': 'Nagpur'}\n"
     ]
    }
   ],
   "source": [
    "print(my_dict)"
   ]
  },
  {
   "cell_type": "markdown",
   "metadata": {},
   "source": [
    "# Remove elements in Dictionary"
   ]
  },
  {
   "cell_type": "code",
   "execution_count": 24,
   "metadata": {},
   "outputs": [
    {
     "data": {
      "text/plain": [
       "{'name': 'Shyam',\n",
       " 'post': 'Data Scientist',\n",
       " 'salary': 45000,\n",
       " 'location': 'Pune',\n",
       " 'company_name': 'Amdocs',\n",
       " 'Head_Office': 'Nagpur'}"
      ]
     },
     "execution_count": 24,
     "metadata": {},
     "output_type": "execute_result"
    }
   ],
   "source": [
    "my_dict"
   ]
  },
  {
   "cell_type": "code",
   "execution_count": 26,
   "metadata": {},
   "outputs": [
    {
     "name": "stdout",
     "output_type": "stream",
     "text": [
      "{'name': 'Shyam', 'post': 'Data Scientist', 'salary': 45000, 'location': 'Pune', 'company_name': 'Amdocs'}\n"
     ]
    }
   ],
   "source": [
    "my_dict = {'name': 'Shyam',\n",
    "     'post': 'Data Scientist',\n",
    "     'salary': 45000,\n",
    "     'location': 'Pune',\n",
    "     'company_name': 'Amdocs',\n",
    "     'Head_Office': 'Nagpur'}\n",
    "\n",
    "\n",
    "my_dict.pop('Head_Office')\n",
    "print(my_dict)"
   ]
  },
  {
   "cell_type": "code",
   "execution_count": 30,
   "metadata": {},
   "outputs": [
    {
     "ename": "KeyError",
     "evalue": "'Amdocs'",
     "output_type": "error",
     "traceback": [
      "\u001b[1;31m---------------------------------------------------------------------------\u001b[0m",
      "\u001b[1;31mKeyError\u001b[0m                                  Traceback (most recent call last)",
      "\u001b[1;32m<ipython-input-30-e313c2c5cfe1>\u001b[0m in \u001b[0;36m<module>\u001b[1;34m\u001b[0m\n\u001b[0;32m      6\u001b[0m      'Head_Office': 'Nagpur'}\n\u001b[0;32m      7\u001b[0m \u001b[1;33m\u001b[0m\u001b[0m\n\u001b[1;32m----> 8\u001b[1;33m \u001b[0mmy_dict\u001b[0m\u001b[1;33m.\u001b[0m\u001b[0mpop\u001b[0m\u001b[1;33m(\u001b[0m\u001b[1;34m'Amdocs'\u001b[0m\u001b[1;33m)\u001b[0m\u001b[1;33m\u001b[0m\u001b[1;33m\u001b[0m\u001b[0m\n\u001b[0m\u001b[0;32m      9\u001b[0m \u001b[0mprint\u001b[0m\u001b[1;33m(\u001b[0m\u001b[0mmy_dict\u001b[0m\u001b[1;33m)\u001b[0m\u001b[1;33m\u001b[0m\u001b[1;33m\u001b[0m\u001b[0m\n",
      "\u001b[1;31mKeyError\u001b[0m: 'Amdocs'"
     ]
    }
   ],
   "source": [
    "my_dict = {'name': 'Shyam',\n",
    "     'post': 'Data Scientist',\n",
    "     'salary': 45000,\n",
    "     'location': 'Pune',\n",
    "     'company_name': 'Amdocs',\n",
    "     'Head_Office': 'Nagpur'}\n",
    "\n",
    "my_dict.pop('Amdocs')\n",
    "print(my_dict)"
   ]
  },
  {
   "cell_type": "code",
   "execution_count": 31,
   "metadata": {},
   "outputs": [
    {
     "name": "stdout",
     "output_type": "stream",
     "text": [
      "{'name': 'Shyam', 'post': 'Data Scientist', 'salary': 45000, 'location': 'Pune', 'company_name': 'Amdocs'}\n"
     ]
    }
   ],
   "source": [
    "my_dict = {'name': 'Shyam',\n",
    "     'post': 'Data Scientist',\n",
    "     'salary': 45000,\n",
    "     'location': 'Pune',\n",
    "     'company_name': 'Amdocs',\n",
    "     'Head_Office': 'Nagpur'}\n",
    "\n",
    "my_dict.popitem()\n",
    "print(my_dict)"
   ]
  },
  {
   "cell_type": "code",
   "execution_count": 33,
   "metadata": {},
   "outputs": [
    {
     "name": "stdout",
     "output_type": "stream",
     "text": [
      "{'name': 'Shyam', 'post': 'Data Scientist', 'salary': 45000, 'location': 'Pune', 'company_name': 'Amdocs', 'Head_Office': 'Nagpur'}\n",
      "{'name': 'Shyam', 'post': 'Data Scientist', 'salary': 45000, 'location': 'Pune', 'company_name': 'Amdocs'}\n"
     ]
    }
   ],
   "source": [
    "my_dict = {'name': 'Shyam',\n",
    "     'post': 'Data Scientist',\n",
    "     'salary': 45000,\n",
    "     'location': 'Pune',\n",
    "     'company_name': 'Amdocs',\n",
    "     'Head_Office': 'Nagpur'}\n",
    "\n",
    "print(my_dict)\n",
    "\n",
    "# after the deleting\n",
    "del my_dict['Head_Office']\n",
    "print(my_dict)"
   ]
  },
  {
   "cell_type": "code",
   "execution_count": 34,
   "metadata": {},
   "outputs": [
    {
     "name": "stdout",
     "output_type": "stream",
     "text": [
      "{}\n"
     ]
    }
   ],
   "source": [
    "my_dict = {'name': 'Shyam',\n",
    "     'post': 'Data Scientist',\n",
    "     'salary': 45000,\n",
    "     'location': 'Pune',\n",
    "     'company_name': 'Amdocs',\n",
    "     'Head_Office': 'Nagpur'}\n",
    "\n",
    "my_dict.clear()\n",
    "print(my_dict)"
   ]
  },
  {
   "cell_type": "code",
   "execution_count": 36,
   "metadata": {},
   "outputs": [
    {
     "name": "stdout",
     "output_type": "stream",
     "text": [
      "<class 'dict'>\n"
     ]
    }
   ],
   "source": [
    "print(type(my_dict))"
   ]
  },
  {
   "cell_type": "code",
   "execution_count": 37,
   "metadata": {},
   "outputs": [
    {
     "ename": "NameError",
     "evalue": "name 'my_dict' is not defined",
     "output_type": "error",
     "traceback": [
      "\u001b[1;31m---------------------------------------------------------------------------\u001b[0m",
      "\u001b[1;31mNameError\u001b[0m                                 Traceback (most recent call last)",
      "\u001b[1;32m<ipython-input-37-b4665c7c9513>\u001b[0m in \u001b[0;36m<module>\u001b[1;34m\u001b[0m\n\u001b[0;32m      7\u001b[0m \u001b[1;33m\u001b[0m\u001b[0m\n\u001b[0;32m      8\u001b[0m \u001b[1;32mdel\u001b[0m \u001b[0mmy_dict\u001b[0m\u001b[1;33m\u001b[0m\u001b[1;33m\u001b[0m\u001b[0m\n\u001b[1;32m----> 9\u001b[1;33m \u001b[0mprint\u001b[0m\u001b[1;33m(\u001b[0m\u001b[0mmy_dict\u001b[0m\u001b[1;33m)\u001b[0m\u001b[1;33m\u001b[0m\u001b[1;33m\u001b[0m\u001b[0m\n\u001b[0m",
      "\u001b[1;31mNameError\u001b[0m: name 'my_dict' is not defined"
     ]
    }
   ],
   "source": [
    "my_dict = {'name': 'Shyam',\n",
    "     'post': 'Data Scientist',\n",
    "     'salary': 45000,\n",
    "     'location': 'Pune',\n",
    "     'company_name': 'Amdocs',\n",
    "     'Head_Office': 'Nagpur'}\n",
    "\n",
    "del my_dict\n",
    "print(my_dict)"
   ]
  },
  {
   "cell_type": "markdown",
   "metadata": {},
   "source": [
    "# Loop through dictionary"
   ]
  },
  {
   "cell_type": "code",
   "execution_count": 38,
   "metadata": {},
   "outputs": [],
   "source": [
    "my_dict = {'name': 'Shyam',\n",
    "     'post': 'Data Scientist',\n",
    "     'salary': 45000,\n",
    "     'location': 'Pune',\n",
    "     'company_name': 'Amdocs',\n",
    "     'Head_Office': 'Nagpur'}"
   ]
  },
  {
   "cell_type": "markdown",
   "metadata": {},
   "source": [
    "**Print all Keys in dictionary one by one**"
   ]
  },
  {
   "cell_type": "code",
   "execution_count": 39,
   "metadata": {},
   "outputs": [
    {
     "name": "stdout",
     "output_type": "stream",
     "text": [
      "name\n",
      "post\n",
      "salary\n",
      "location\n",
      "company_name\n",
      "Head_Office\n"
     ]
    }
   ],
   "source": [
    "for x in my_dict:\n",
    "    print(x)"
   ]
  },
  {
   "cell_type": "code",
   "execution_count": 43,
   "metadata": {},
   "outputs": [
    {
     "name": "stdout",
     "output_type": "stream",
     "text": [
      "name\n",
      "post\n",
      "salary\n",
      "location\n",
      "company_name\n",
      "Head_Office\n"
     ]
    }
   ],
   "source": [
    "for x in my_dict.keys():\n",
    "    print(x)"
   ]
  },
  {
   "cell_type": "markdown",
   "metadata": {},
   "source": [
    "**Print all values in dictionary one by one**"
   ]
  },
  {
   "cell_type": "code",
   "execution_count": 41,
   "metadata": {},
   "outputs": [
    {
     "name": "stdout",
     "output_type": "stream",
     "text": [
      "Shyam\n",
      "Data Scientist\n",
      "45000\n",
      "Pune\n",
      "Amdocs\n",
      "Nagpur\n"
     ]
    }
   ],
   "source": [
    "for x in my_dict:\n",
    "    print(my_dict[x])"
   ]
  },
  {
   "cell_type": "code",
   "execution_count": 42,
   "metadata": {},
   "outputs": [
    {
     "name": "stdout",
     "output_type": "stream",
     "text": [
      "Shyam\n",
      "Data Scientist\n",
      "45000\n",
      "Pune\n",
      "Amdocs\n",
      "Nagpur\n"
     ]
    }
   ],
   "source": [
    "for x in my_dict.values():\n",
    "    print(x)"
   ]
  },
  {
   "cell_type": "markdown",
   "metadata": {},
   "source": [
    "**Print all Keys and values in dictionary one by one using items() method**"
   ]
  },
  {
   "cell_type": "code",
   "execution_count": 44,
   "metadata": {},
   "outputs": [
    {
     "name": "stdout",
     "output_type": "stream",
     "text": [
      "name Shyam\n",
      "post Data Scientist\n",
      "salary 45000\n",
      "location Pune\n",
      "company_name Amdocs\n",
      "Head_Office Nagpur\n"
     ]
    }
   ],
   "source": [
    "for x, y in my_dict.items():\n",
    "    print(x,y)"
   ]
  },
  {
   "cell_type": "code",
   "execution_count": 45,
   "metadata": {},
   "outputs": [
    {
     "ename": "ValueError",
     "evalue": "too many values to unpack (expected 2)",
     "output_type": "error",
     "traceback": [
      "\u001b[1;31m---------------------------------------------------------------------------\u001b[0m",
      "\u001b[1;31mValueError\u001b[0m                                Traceback (most recent call last)",
      "\u001b[1;32m<ipython-input-45-2cb3aa922a2d>\u001b[0m in \u001b[0;36m<module>\u001b[1;34m\u001b[0m\n\u001b[1;32m----> 1\u001b[1;33m \u001b[1;32mfor\u001b[0m \u001b[0mx\u001b[0m\u001b[1;33m,\u001b[0m \u001b[0my\u001b[0m \u001b[1;32min\u001b[0m \u001b[0mmy_dict\u001b[0m\u001b[1;33m:\u001b[0m\u001b[1;33m\u001b[0m\u001b[1;33m\u001b[0m\u001b[0m\n\u001b[0m\u001b[0;32m      2\u001b[0m     \u001b[0mprint\u001b[0m\u001b[1;33m(\u001b[0m\u001b[0mx\u001b[0m\u001b[1;33m,\u001b[0m\u001b[0my\u001b[0m\u001b[1;33m)\u001b[0m\u001b[1;33m\u001b[0m\u001b[1;33m\u001b[0m\u001b[0m\n",
      "\u001b[1;31mValueError\u001b[0m: too many values to unpack (expected 2)"
     ]
    }
   ],
   "source": [
    "for x, y in my_dict:\n",
    "    print(x,y)"
   ]
  },
  {
   "cell_type": "code",
   "execution_count": 24,
   "metadata": {},
   "outputs": [
    {
     "ename": "TypeError",
     "evalue": "clear() takes no arguments (1 given)",
     "output_type": "error",
     "traceback": [
      "\u001b[1;31m---------------------------------------------------------------------------\u001b[0m",
      "\u001b[1;31mTypeError\u001b[0m                                 Traceback (most recent call last)",
      "\u001b[1;32m<ipython-input-24-d62097f13000>\u001b[0m in \u001b[0;36m<module>\u001b[1;34m\u001b[0m\n\u001b[0;32m      3\u001b[0m         'color':{'first':'orange','second':'red'}}\n\u001b[0;32m      4\u001b[0m \u001b[1;33m\u001b[0m\u001b[0m\n\u001b[1;32m----> 5\u001b[1;33m \u001b[0mdict\u001b[0m\u001b[1;33m.\u001b[0m\u001b[0mclear\u001b[0m\u001b[1;33m(\u001b[0m\u001b[1;34m'age'\u001b[0m\u001b[1;33m)\u001b[0m\u001b[1;33m\u001b[0m\u001b[1;33m\u001b[0m\u001b[0m\n\u001b[0m\u001b[0;32m      6\u001b[0m \u001b[0mprint\u001b[0m\u001b[1;33m(\u001b[0m\u001b[0mdict\u001b[0m\u001b[1;33m)\u001b[0m\u001b[1;33m\u001b[0m\u001b[1;33m\u001b[0m\u001b[0m\n",
      "\u001b[1;31mTypeError\u001b[0m: clear() takes no arguments (1 given)"
     ]
    }
   ],
   "source": [
    "dict = {'name':'ramu',\n",
    "        'age':34,\n",
    "        'color':{'first':'orange','second':'red'}}\n",
    "\n",
    "dict.clear('age')\n",
    "print(dict)"
   ]
  },
  {
   "cell_type": "code",
   "execution_count": null,
   "metadata": {},
   "outputs": [],
   "source": []
  }
 ],
 "metadata": {
  "kernelspec": {
   "display_name": "Python 3",
   "language": "python",
   "name": "python3"
  },
  "language_info": {
   "codemirror_mode": {
    "name": "ipython",
    "version": 3
   },
   "file_extension": ".py",
   "mimetype": "text/x-python",
   "name": "python",
   "nbconvert_exporter": "python",
   "pygments_lexer": "ipython3",
   "version": "3.8.5"
  }
 },
 "nbformat": 4,
 "nbformat_minor": 5
}
