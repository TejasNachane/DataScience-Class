{
 "cells": [
  {
   "cell_type": "markdown",
   "id": "6d36ad05",
   "metadata": {},
   "source": [
    "## Log Loss Function"
   ]
  },
  {
   "cell_type": "markdown",
   "id": "20ab35b1",
   "metadata": {},
   "source": [
    "1. Estimate against independent variable are generated which minimized the error / log Function\n",
    "2. log loss Function is employed (opposed to least square method) in Linear Regression\n",
    "3. Log loss -"
   ]
  },
  {
   "cell_type": "markdown",
   "id": "f6001b19",
   "metadata": {},
   "source": [
    "**Log_loss = - 1/ N (Y_i log(P_i)) + (1 - Y_i log(1 - P_i))**"
   ]
  },
  {
   "cell_type": "markdown",
   "id": "843bbe86",
   "metadata": {},
   "source": [
    "for each row i in dataset\n",
    "1. Y is outcome (dependent variable) which can be either o or 1\n",
    "2. P is predicted probability outcome by applying Logistic Regression"
   ]
  },
  {
   "cell_type": "markdown",
   "id": "f4320ab6",
   "metadata": {},
   "source": [
    " **P = e(x) / 1 + e(x) = Z = B0 + B1X1 + B2X2 + ........ +BnXn**"
   ]
  },
  {
   "cell_type": "markdown",
   "id": "f6f39d9d",
   "metadata": {},
   "source": [
    "1. Objective:\n",
    "    1. Adjust the estimate in the Logistic Regression equation such that the total log loss function over whole dataset is minimized\n",
    "    2. If Y is 1 then Function is minimized with high value of P. If Y is then function is minimized with low low value of P"
   ]
  },
  {
   "cell_type": "code",
   "execution_count": null,
   "id": "d29cc327",
   "metadata": {},
   "outputs": [],
   "source": [
    "Since log(1) is 0 \n",
    "If Y = 1 then this become 0\n",
    "\n",
    "Log Loss = - 1 / N summation i =1 to n (Y_i log(P_i) + (1 - Y_i) log(1 - P_i)"
   ]
  }
 ],
 "metadata": {
  "kernelspec": {
   "display_name": "Python 3",
   "language": "python",
   "name": "python3"
  },
  "language_info": {
   "codemirror_mode": {
    "name": "ipython",
    "version": 3
   },
   "file_extension": ".py",
   "mimetype": "text/x-python",
   "name": "python",
   "nbconvert_exporter": "python",
   "pygments_lexer": "ipython3",
   "version": "3.8.8"
  }
 },
 "nbformat": 4,
 "nbformat_minor": 5
}
