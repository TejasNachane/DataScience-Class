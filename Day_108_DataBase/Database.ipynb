{
 "cells": [
  {
   "cell_type": "markdown",
   "id": "fe6a2cdc",
   "metadata": {},
   "source": [
    "# Update Collection"
   ]
  },
  {
   "cell_type": "markdown",
   "id": "240a8869",
   "metadata": {},
   "source": [
    "1. You can upadate a record or documents as it is called in MongoDB, by using update_one()\n",
    "2. The first paramter of the update_one()  method is query object defining which documents update"
   ]
  },
  {
   "cell_type": "markdown",
   "id": "7c3596f2",
   "metadata": {},
   "source": [
    "**Note: If the query finds more than one record, only the first occourance is update**"
   ]
  },
  {
   "cell_type": "code",
   "execution_count": 1,
   "id": "ab301ddf",
   "metadata": {},
   "outputs": [],
   "source": [
    "import pymongo"
   ]
  },
  {
   "cell_type": "code",
   "execution_count": 2,
   "id": "ce6b15b4",
   "metadata": {},
   "outputs": [],
   "source": [
    "myclient = pymongo.MongoClient('mongodb://localhost:27017/')\n",
    "mydb = myclient['computer_dept']\n",
    "mycol = mydb['BE']"
   ]
  },
  {
   "cell_type": "code",
   "execution_count": 3,
   "id": "81a11f96",
   "metadata": {},
   "outputs": [
    {
     "name": "stdout",
     "output_type": "stream",
     "text": [
      "[1, 2, 3]\n"
     ]
    }
   ],
   "source": [
    "\n",
    "my_list = [\n",
    "    {\n",
    "    '_id': 1,\n",
    "    'name': 'Sakshi Ambekar',\n",
    "    'post': 'Data Engineer',\n",
    "    'salary': 60000,\n",
    "    'location':'Pune',\n",
    "    'mobile': 1234567890,\n",
    "    'email': 'sakshi@gmail.com',\n",
    "    'dept': 'Research and Developement'\n",
    "    },\n",
    "    {\n",
    "    '_id': 2,\n",
    "    'name': 'Sachin Bodkhe',\n",
    "    'post': 'ML Engineer',\n",
    "    'salary': 80000,\n",
    "    'location':'Pune',\n",
    "    'mobile': 1234567890,\n",
    "    'email': 'sachin@gmail.com',\n",
    "    'dept': 'Research and Developement'\n",
    "    },\n",
    "     {\n",
    "    '_id': 3,\n",
    "    'name': 'Garima Chauhan',\n",
    "    'post': 'ML Engineer',\n",
    "    'salary': 50000,\n",
    "    'location':'Pune',\n",
    "    'mobile': 1234567890,\n",
    "    'email': 'garima@gmail.com',\n",
    "    'dept': 'Research and Developement'\n",
    "    }\n",
    "]\n",
    "\n",
    "x = mycol.insert_many(my_list)\n",
    "print(x.inserted_ids)"
   ]
  },
  {
   "cell_type": "code",
   "execution_count": 4,
   "id": "3d2098f8",
   "metadata": {},
   "outputs": [
    {
     "name": "stdout",
     "output_type": "stream",
     "text": [
      "{'_id': 1, 'name': 'Sakshi Ambekar', 'post': 'Data Engineer', 'salary': 60000, 'location': 'Pune', 'mobile': 1234567890, 'email': 'sakshi@gmail.com', 'dept': 'Research and Developement'}\n",
      "{'_id': 2, 'name': 'Sachin Bodkhe', 'post': 'Data Scientist', 'salary': 80000, 'location': 'Pune', 'mobile': 1234567890, 'email': 'sachin@gmail.com', 'dept': 'Research and Developement'}\n",
      "{'_id': 3, 'name': 'Garima Chauhan', 'post': 'ML Engineer', 'salary': 50000, 'location': 'Pune', 'mobile': 1234567890, 'email': 'garima@gmail.com', 'dept': 'Research and Developement'}\n"
     ]
    }
   ],
   "source": [
    "my_query = {'post':'ML Engineer'}\n",
    "new_value = {'$set':{'post':'Data Scientist'}}\n",
    "\n",
    "mycol.update_one(my_query, new_value)\n",
    "\n",
    "for x in mycol.find():\n",
    "    print(x)"
   ]
  },
  {
   "cell_type": "code",
   "execution_count": 5,
   "id": "0c033c5f",
   "metadata": {},
   "outputs": [
    {
     "name": "stdout",
     "output_type": "stream",
     "text": [
      "{'_id': 1, 'name': 'Sakshi Ambekar', 'post': 'PYTHON DEVELOPER', 'salary': 60000, 'location': 'Pune', 'mobile': 1234567890, 'email': 'sakshi@gmail.com', 'dept': 'Research and Developement'}\n",
      "{'_id': 2, 'name': 'Sachin Bodkhe', 'post': 'PYTHON DEVELOPER', 'salary': 80000, 'location': 'Pune', 'mobile': 1234567890, 'email': 'sachin@gmail.com', 'dept': 'Research and Developement'}\n",
      "{'_id': 3, 'name': 'Garima Chauhan', 'post': 'ML Engineer', 'salary': 50000, 'location': 'Pune', 'mobile': 1234567890, 'email': 'garima@gmail.com', 'dept': 'Research and Developement'}\n"
     ]
    }
   ],
   "source": [
    "my_query = {'post':{'$regex':'^D'}}\n",
    "new_value = {'$set':{'post':'PYTHON DEVELOPER'}}\n",
    "\n",
    "mycol.update_many(my_query, new_value)\n",
    "\n",
    "for x in mycol.find():\n",
    "    print(x)"
   ]
  },
  {
   "cell_type": "markdown",
   "id": "517e17ac",
   "metadata": {},
   "source": [
    "### Limit Result"
   ]
  },
  {
   "cell_type": "markdown",
   "id": "6438ed5e",
   "metadata": {},
   "source": [
    "1. To limit the result in MongoDB, we use limit() method\n",
    "2. limit() method take s one parameter, number defining how many number of documents return"
   ]
  },
  {
   "cell_type": "code",
   "execution_count": null,
   "id": "0017dd34",
   "metadata": {},
   "outputs": [],
   "source": [
    "\n",
    "my_list = [\n",
    "    {\n",
    "    '_id': 4,\n",
    "    'name': 'Rashmi Kakode',\n",
    "    'post': 'Data Engineer',\n",
    "    'salary': 60000,\n",
    "    'location':'Pune',\n",
    "    'mobile': 1234567890,\n",
    "    'email': 'sakshi@gmail.com',\n",
    "    'dept': 'Research and Developement'\n",
    "    },\n",
    "    {\n",
    "    '_id': 5,\n",
    "    'name': 'Yogesh Gadekar',\n",
    "    'post': 'ML Engineer',\n",
    "    'salary': 80000,\n",
    "    'location':'Pune',\n",
    "    'mobile': 1234567890,\n",
    "    'email': 'sachin@gmail.com',\n",
    "    'dept': 'Research and Developement'\n",
    "    },\n",
    "     {\n",
    "    '_id': 6,\n",
    "    'name': 'Tejas Nachane',\n",
    "    'post': 'ML Engineer',\n",
    "    'salary': 50000,\n",
    "    'location':'Pune',\n",
    "    'mobile': 1234567890,\n",
    "    'email': 'garima@gmail.com',\n",
    "    'dept': 'Research and Developement'\n",
    "    }\n",
    "]\n",
    "\n",
    "x = mycol.insert_many(my_list)\n",
    "print(x.inserted_ids)"
   ]
  },
  {
   "cell_type": "code",
   "execution_count": 7,
   "id": "ef88925f",
   "metadata": {},
   "outputs": [
    {
     "name": "stdout",
     "output_type": "stream",
     "text": [
      "{'_id': 1, 'name': 'Sakshi Ambekar', 'post': 'PYTHON DEVELOPER', 'salary': 60000, 'location': 'Pune', 'mobile': 1234567890, 'email': 'sakshi@gmail.com', 'dept': 'Research and Developement'}\n",
      "{'_id': 2, 'name': 'Sachin Bodkhe', 'post': 'PYTHON DEVELOPER', 'salary': 80000, 'location': 'Pune', 'mobile': 1234567890, 'email': 'sachin@gmail.com', 'dept': 'Research and Developement'}\n",
      "{'_id': 3, 'name': 'Garima Chauhan', 'post': 'ML Engineer', 'salary': 50000, 'location': 'Pune', 'mobile': 1234567890, 'email': 'garima@gmail.com', 'dept': 'Research and Developement'}\n",
      "{'_id': 4, 'name': 'Rashmi Kakode', 'post': 'Data Engineer', 'salary': 60000, 'location': 'Pune', 'mobile': 1234567890, 'email': 'sakshi@gmail.com', 'dept': 'Research and Developement'}\n"
     ]
    }
   ],
   "source": [
    "my_result = mycol.find().limit(4)\n",
    "\n",
    "for x in my_result:\n",
    "    print(x)"
   ]
  },
  {
   "cell_type": "code",
   "execution_count": 8,
   "id": "566514f7",
   "metadata": {},
   "outputs": [
    {
     "name": "stdout",
     "output_type": "stream",
     "text": [
      "{'_id': 1, 'name': 'Sakshi Ambekar', 'post': 'PYTHON DEVELOPER', 'salary': 60000, 'location': 'Pune', 'mobile': 1234567890, 'email': 'sakshi@gmail.com', 'dept': 'Research and Developement'}\n",
      "{'_id': 2, 'name': 'Sachin Bodkhe', 'post': 'PYTHON DEVELOPER', 'salary': 80000, 'location': 'Pune', 'mobile': 1234567890, 'email': 'sachin@gmail.com', 'dept': 'Research and Developement'}\n",
      "{'_id': 3, 'name': 'Garima Chauhan', 'post': 'ML Engineer', 'salary': 50000, 'location': 'Pune', 'mobile': 1234567890, 'email': 'garima@gmail.com', 'dept': 'Research and Developement'}\n",
      "{'_id': 4, 'name': 'Rashmi Kakode', 'post': 'Data Engineer', 'salary': 60000, 'location': 'Pune', 'mobile': 1234567890, 'email': 'sakshi@gmail.com', 'dept': 'Research and Developement'}\n",
      "{'_id': 5, 'name': 'Yogesh Gadekar', 'post': 'ML Engineer', 'salary': 80000, 'location': 'Pune', 'mobile': 1234567890, 'email': 'sachin@gmail.com', 'dept': 'Research and Developement'}\n",
      "{'_id': 6, 'name': 'Tejas Nachane', 'post': 'ML Engineer', 'salary': 50000, 'location': 'Pune', 'mobile': 1234567890, 'email': 'garima@gmail.com', 'dept': 'Research and Developement'}\n"
     ]
    }
   ],
   "source": [
    "my_result = mycol.find()\n",
    "\n",
    "for x in my_result:\n",
    "    print(x)"
   ]
  },
  {
   "cell_type": "code",
   "execution_count": 9,
   "id": "17d826f6",
   "metadata": {},
   "outputs": [
    {
     "name": "stdout",
     "output_type": "stream",
     "text": [
      "{'_id': 1, 'name': 'Sakshi Ambekar', 'post': 'PYTHON DEVELOPER', 'salary': 60000, 'location': 'Pune', 'mobile': 1234567890, 'email': 'sakshi@gmail.com', 'dept': 'Research and Developement'}\n",
      "{'_id': 2, 'name': 'Sachin Bodkhe', 'post': 'PYTHON DEVELOPER', 'salary': 80000, 'location': 'Pune', 'mobile': 1234567890, 'email': 'sachin@gmail.com', 'dept': 'Research and Developement'}\n"
     ]
    }
   ],
   "source": [
    "my_result = mycol.find().limit(2)\n",
    "\n",
    "for x in my_result:\n",
    "    print(x)"
   ]
  },
  {
   "cell_type": "code",
   "execution_count": null,
   "id": "5499eb46",
   "metadata": {},
   "outputs": [],
   "source": []
  }
 ],
 "metadata": {
  "kernelspec": {
   "display_name": "Python 3",
   "language": "python",
   "name": "python3"
  },
  "language_info": {
   "codemirror_mode": {
    "name": "ipython",
    "version": 3
   },
   "file_extension": ".py",
   "mimetype": "text/x-python",
   "name": "python",
   "nbconvert_exporter": "python",
   "pygments_lexer": "ipython3",
   "version": "3.8.8"
  }
 },
 "nbformat": 4,
 "nbformat_minor": 5
}
