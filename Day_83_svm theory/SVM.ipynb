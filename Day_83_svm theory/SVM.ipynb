{
 "cells": [
  {
   "cell_type": "markdown",
   "metadata": {},
   "source": [
    "# Support Vector Machine"
   ]
  },
  {
   "cell_type": "markdown",
   "metadata": {},
   "source": [
    "1. It is supervised Machine learning algorithm in classification\n",
    "2. SVM is implemented in a slightly different way to other ML algorithm\n",
    "3. It is capable of performing classification, regression and outlier detection\n",
    "4. Support vector Machine is descriminative classifier that is formally degined by a separative hyperplane\n",
    "5. It is representation of examples as point in space that are mapped so that the points different categories separated by gap as wide as possible\n",
    "6. SVM can also work on non-linear classification "
   ]
  },
  {
   "cell_type": "markdown",
   "metadata": {},
   "source": [
    "![](https://static.javatpoint.com/tutorial/machine-learning/images/support-vector-machine-algorithm.png)"
   ]
  },
  {
   "cell_type": "markdown",
   "metadata": {},
   "source": [
    "## Advatanges"
   ]
  },
  {
   "cell_type": "markdown",
   "metadata": {},
   "source": [
    "1. Efeective in High Dimension space\n",
    "2. Still effective is cases where the number of dimensions is greater than the number of samples(Datapoints)\n",
    "3. Uses a subset of training points in the decision function that makes it memory efficient\n",
    "4. Different kernal function can be specified for the decision function that also make it versatile\n",
    "5. Easy to implement but powerful Algorithm"
   ]
  },
  {
   "cell_type": "markdown",
   "metadata": {},
   "source": [
    "## Disadvantages"
   ]
  },
  {
   "cell_type": "markdown",
   "metadata": {},
   "source": [
    "1. If the number of features is much larger than the number of samples,\n",
    "2. avoid ovrfitting is choosing **kernal function and regularization** term is crucial\n",
    "3. SVM do not directly provide probability estimates, these calculated using **five-fold-cross validation**"
   ]
  },
  {
   "cell_type": "markdown",
   "metadata": {},
   "source": [
    "## How does SVM Works?"
   ]
  },
  {
   "cell_type": "markdown",
   "metadata": {},
   "source": [
    "1. The main objective of SVM is to segregate the given data in the best possible way\n",
    "2. When the segregation of datapoints is done, the distance between nearest points is known as the **Margin**\n",
    "3. The apporoch is to select hyperplance with the maximum possible margin between the Support Vectors[data points]\n",
    "4. To Select the maximum hyperplane in the given dataset, Support Vector Machine follows:\n",
    "    1. Generate Hyperplane which segregate the classes in the best possible ways\n",
    "    2. Select the right hyperplane with maximum segregation from the either nearest data points"
   ]
  },
  {
   "cell_type": "markdown",
   "metadata": {},
   "source": [
    "**Major Kernal Functions in Support Vector Machine (SVM)**"
   ]
  },
  {
   "cell_type": "markdown",
   "metadata": {},
   "source": [
    "1. SVM adds more dimensions to a low dimensional space to make it easily segragate the data points\n",
    "2. Keranl Function is method used to data as input and transform into the required form of Proecessing data\n",
    "3. Keranl is used due to a set mathematical functions used in SVM providing the window manipulate data\n",
    "4. Kernal function is generally transforms the tranining data set so that non-linear decision is ability to transform to linear equation in higher dimension space\n",
    "5. It returns the inner product between two points in a standard features dimesion\n",
    "6. It converts the inseparable problem to separable problems by adding more dimension using kernal function trick."
   ]
  },
  {
   "cell_type": "markdown",
   "metadata": {},
   "source": [
    "**There are different types Kernal Function**"
   ]
  },
  {
   "cell_type": "markdown",
   "metadata": {},
   "source": [
    "![](https://techvidvan.com/tutorials/wp-content/uploads/sites/2/2020/03/types-of-kernel-functions.jpg)"
   ]
  },
  {
   "cell_type": "markdown",
   "metadata": {},
   "source": [
    "1. Polynomial Kernal Function:\n",
    "2. Gaussian RBF Kernal Function\n",
    "3. Sigmoid Kernal Function\n",
    "4. Linear Kernal Function\n",
    "5. Hyperbolic Tanget Kernal Function\n",
    "6. Graph Keranl Function\n",
    "7. String Kernal Function\n",
    "8. Tree Kernal Function"
   ]
  },
  {
   "cell_type": "markdown",
   "metadata": {},
   "source": [
    "https://techvidvan.com/tutorials/svm-kernel-functions/#:~:text=A%20kernel%20is%20a%20function,number%20of%20dimensions%20using%20kernels."
   ]
  },
  {
   "cell_type": "markdown",
   "metadata": {},
   "source": [
    "#### 1. Polynomial Kernal Function [ Image Processing]:\n",
    "    1. The polynomial kernel is a general representation of kernels with a degree of more than one. \n",
    "    2. It’s useful for **image processing.**\n",
    "    3. There are two types of Polynomial Kernal Function:\n",
    "        1. Homogenous Polynomial Kernel Function:\n",
    "            1. K(xi,xj) = (xi.xj)d, where ‘.’ is the dot product of both the numbers and d is the degree of the polynomial.\n",
    "        2. Inhomogeneous Polynomial Kernel Function:\n",
    "            1. K(xi,xj) = (xi.xj + c)d where c is a constant."
   ]
  },
  {
   "cell_type": "markdown",
   "metadata": {},
   "source": [
    "#### 2. Gaussian RBF Kernal Function"
   ]
  },
  {
   "cell_type": "code",
   "execution_count": null,
   "metadata": {},
   "outputs": [],
   "source": []
  }
 ],
 "metadata": {
  "kernelspec": {
   "display_name": "Python 3",
   "language": "python",
   "name": "python3"
  },
  "language_info": {
   "codemirror_mode": {
    "name": "ipython",
    "version": 3
   },
   "file_extension": ".py",
   "mimetype": "text/x-python",
   "name": "python",
   "nbconvert_exporter": "python",
   "pygments_lexer": "ipython3",
   "version": "3.8.5"
  }
 },
 "nbformat": 4,
 "nbformat_minor": 5
}
