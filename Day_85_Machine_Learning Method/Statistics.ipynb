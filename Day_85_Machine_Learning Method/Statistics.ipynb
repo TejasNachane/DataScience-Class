{
 "cells": [
  {
   "cell_type": "markdown",
   "metadata": {
    "id": "1761ad18"
   },
   "source": [
    "# Encoding Techniques"
   ]
  },
  {
   "cell_type": "markdown",
   "metadata": {
    "id": "3d237037"
   },
   "source": [
    "1. The variable only have define possible values.\n",
    "2. There are two kind of categorical data:\n",
    "    1. Nominal Encoding\n",
    "    2. Ordinal Encoding"
   ]
  },
  {
   "cell_type": "markdown",
   "metadata": {
    "id": "5d505b15"
   },
   "source": [
    "### 1. Nominal Encoding"
   ]
  },
  {
   "cell_type": "markdown",
   "metadata": {
    "id": "21495248"
   },
   "source": [
    "1. Variable comprises a finite set of descrete value with no relationship between values\n",
    "2. Nominal Encoding uses three different techniqus to Encoding value:\n",
    "    1. One Hot Encoding\n",
    "    2. One Hot Encoding with many categorical variable\n",
    "    3. Mean Encoding"
   ]
  },
  {
   "cell_type": "markdown",
   "metadata": {
    "id": "2fa82de3"
   },
   "source": [
    "### 2. Ordinal Encoding"
   ]
  },
  {
   "cell_type": "markdown",
   "metadata": {
    "id": "84ea6e2b"
   },
   "source": [
    "# 1. Variable companies a finite set of descrete values with a ranked ordering between values\n",
    "2. Ordinal encoding uses two techniques to encoding variable:\n",
    "    1. Label Encoding\n",
    "    2. Target Guided Ordinal Technques"
   ]
  },
  {
   "cell_type": "markdown",
   "metadata": {
    "id": "31ebd279"
   },
   "source": [
    "## 1. One Hot Encoding"
   ]
  },
  {
   "cell_type": "markdown",
   "metadata": {
    "id": "84ed083e"
   },
   "source": [
    "1. In one hot encoding, for each level of categorical features, we create a new variable\n",
    "2. Each category is mapped with binary variable containing either 0 and 1:\n",
    "    1. [0] - Represent absense of that variable\n",
    "    2. [1] - Represent presense of that variable\n",
    "3. Binary features also called dummy variable\n",
    "4. Number of dummy variable depends on the level present in categorical variable"
   ]
  },
  {
   "cell_type": "code",
   "execution_count": null,
   "metadata": {
    "id": "5278d2a8"
   },
   "outputs": [],
   "source": [
    "import pandas as pd\n",
    "import numpy as np"
   ]
  },
  {
   "cell_type": "code",
   "execution_count": null,
   "metadata": {
    "id": "80812da4"
   },
   "outputs": [],
   "source": [
    "df = pd.read_csv('employee.csv')"
   ]
  },
  {
   "cell_type": "code",
   "execution_count": null,
   "metadata": {
    "id": "7d4dd20f",
    "outputId": "fca9a7ff-f377-4aee-dcd7-6a73dc719ab3"
   },
   "outputs": [
    {
     "data": {
      "text/html": [
       "<div>\n",
       "<style scoped>\n",
       "    .dataframe tbody tr th:only-of-type {\n",
       "        vertical-align: middle;\n",
       "    }\n",
       "\n",
       "    .dataframe tbody tr th {\n",
       "        vertical-align: top;\n",
       "    }\n",
       "\n",
       "    .dataframe thead th {\n",
       "        text-align: right;\n",
       "    }\n",
       "</style>\n",
       "<table border=\"1\" class=\"dataframe\">\n",
       "  <thead>\n",
       "    <tr style=\"text-align: right;\">\n",
       "      <th></th>\n",
       "      <th>Employee_id</th>\n",
       "      <th>Gender</th>\n",
       "      <th>Remarks</th>\n",
       "    </tr>\n",
       "  </thead>\n",
       "  <tbody>\n",
       "    <tr>\n",
       "      <th>0</th>\n",
       "      <td>0</td>\n",
       "      <td>Male</td>\n",
       "      <td>Nice</td>\n",
       "    </tr>\n",
       "    <tr>\n",
       "      <th>1</th>\n",
       "      <td>1</td>\n",
       "      <td>Female</td>\n",
       "      <td>Good</td>\n",
       "    </tr>\n",
       "    <tr>\n",
       "      <th>2</th>\n",
       "      <td>2</td>\n",
       "      <td>Female</td>\n",
       "      <td>Great</td>\n",
       "    </tr>\n",
       "    <tr>\n",
       "      <th>3</th>\n",
       "      <td>3</td>\n",
       "      <td>Female</td>\n",
       "      <td>Nice</td>\n",
       "    </tr>\n",
       "    <tr>\n",
       "      <th>4</th>\n",
       "      <td>4</td>\n",
       "      <td>Male</td>\n",
       "      <td>Good</td>\n",
       "    </tr>\n",
       "  </tbody>\n",
       "</table>\n",
       "</div>"
      ],
      "text/plain": [
       "   Employee_id  Gender Remarks\n",
       "0            0    Male    Nice\n",
       "1            1  Female    Good\n",
       "2            2  Female   Great\n",
       "3            3  Female    Nice\n",
       "4            4    Male    Good"
      ]
     },
     "execution_count": 4,
     "metadata": {},
     "output_type": "execute_result"
    }
   ],
   "source": [
    "df.head()"
   ]
  },
  {
   "cell_type": "markdown",
   "metadata": {
    "id": "586e0e45"
   },
   "source": [
    "**Checking for table in the catogorical Parameters**"
   ]
  },
  {
   "cell_type": "code",
   "execution_count": null,
   "metadata": {
    "id": "cf38c422",
    "outputId": "f63fc957-72ed-42e7-896b-14542e0e9edc"
   },
   "outputs": [
    {
     "data": {
      "text/plain": [
       "array(['Male', 'Female'], dtype=object)"
      ]
     },
     "execution_count": 6,
     "metadata": {},
     "output_type": "execute_result"
    }
   ],
   "source": [
    "df['Gender'].unique()"
   ]
  },
  {
   "cell_type": "code",
   "execution_count": null,
   "metadata": {
    "id": "7294a66b",
    "outputId": "d621ebbe-8619-4c6d-e798-0daef8722feb"
   },
   "outputs": [
    {
     "data": {
      "text/plain": [
       "array(['Nice', 'Good', 'Great'], dtype=object)"
      ]
     },
     "execution_count": 7,
     "metadata": {},
     "output_type": "execute_result"
    }
   ],
   "source": [
    "df['Remarks'].unique()"
   ]
  },
  {
   "cell_type": "markdown",
   "metadata": {
    "id": "a8b65f8c"
   },
   "source": [
    "**Cheking for the label counts in the categorical features**"
   ]
  },
  {
   "cell_type": "code",
   "execution_count": null,
   "metadata": {
    "id": "a22f4230",
    "outputId": "c4c0e283-6360-4ad9-e887-b5af618853a7"
   },
   "outputs": [
    {
     "data": {
      "text/plain": [
       "Male      8\n",
       "Female    7\n",
       "Name: Gender, dtype: int64"
      ]
     },
     "execution_count": 9,
     "metadata": {},
     "output_type": "execute_result"
    }
   ],
   "source": [
    "df['Gender'].value_counts()"
   ]
  },
  {
   "cell_type": "code",
   "execution_count": null,
   "metadata": {
    "id": "c2831ff0",
    "outputId": "cedf9b73-a53a-48ec-cfb5-dc1e7dfc8128"
   },
   "outputs": [
    {
     "data": {
      "text/plain": [
       "Nice     6\n",
       "Good     6\n",
       "Great    3\n",
       "Name: Remarks, dtype: int64"
      ]
     },
     "execution_count": 10,
     "metadata": {},
     "output_type": "execute_result"
    }
   ],
   "source": [
    "df['Remarks'].value_counts()"
   ]
  },
  {
   "cell_type": "markdown",
   "metadata": {
    "id": "3f72aef8"
   },
   "source": [
    "**One- Hot encoding the categorical parameter using ge_dummies()**"
   ]
  },
  {
   "cell_type": "code",
   "execution_count": null,
   "metadata": {
    "id": "a61c4403"
   },
   "outputs": [],
   "source": [
    "one_hot_encoded_data = pd.get_dummies(df,columns=['Remarks', 'Gender'])"
   ]
  },
  {
   "cell_type": "code",
   "execution_count": null,
   "metadata": {
    "id": "5d6b36a3",
    "outputId": "0e698a20-80f9-44a2-b6f1-fcd049021821"
   },
   "outputs": [
    {
     "data": {
      "text/html": [
       "<div>\n",
       "<style scoped>\n",
       "    .dataframe tbody tr th:only-of-type {\n",
       "        vertical-align: middle;\n",
       "    }\n",
       "\n",
       "    .dataframe tbody tr th {\n",
       "        vertical-align: top;\n",
       "    }\n",
       "\n",
       "    .dataframe thead th {\n",
       "        text-align: right;\n",
       "    }\n",
       "</style>\n",
       "<table border=\"1\" class=\"dataframe\">\n",
       "  <thead>\n",
       "    <tr style=\"text-align: right;\">\n",
       "      <th></th>\n",
       "      <th>Employee_id</th>\n",
       "      <th>Remarks_Good</th>\n",
       "      <th>Remarks_Great</th>\n",
       "      <th>Remarks_Nice</th>\n",
       "      <th>Gender_Female</th>\n",
       "      <th>Gender_Male</th>\n",
       "    </tr>\n",
       "  </thead>\n",
       "  <tbody>\n",
       "    <tr>\n",
       "      <th>0</th>\n",
       "      <td>0</td>\n",
       "      <td>0</td>\n",
       "      <td>0</td>\n",
       "      <td>1</td>\n",
       "      <td>0</td>\n",
       "      <td>1</td>\n",
       "    </tr>\n",
       "    <tr>\n",
       "      <th>1</th>\n",
       "      <td>1</td>\n",
       "      <td>1</td>\n",
       "      <td>0</td>\n",
       "      <td>0</td>\n",
       "      <td>1</td>\n",
       "      <td>0</td>\n",
       "    </tr>\n",
       "    <tr>\n",
       "      <th>2</th>\n",
       "      <td>2</td>\n",
       "      <td>0</td>\n",
       "      <td>1</td>\n",
       "      <td>0</td>\n",
       "      <td>1</td>\n",
       "      <td>0</td>\n",
       "    </tr>\n",
       "    <tr>\n",
       "      <th>3</th>\n",
       "      <td>3</td>\n",
       "      <td>0</td>\n",
       "      <td>0</td>\n",
       "      <td>1</td>\n",
       "      <td>1</td>\n",
       "      <td>0</td>\n",
       "    </tr>\n",
       "    <tr>\n",
       "      <th>4</th>\n",
       "      <td>4</td>\n",
       "      <td>1</td>\n",
       "      <td>0</td>\n",
       "      <td>0</td>\n",
       "      <td>0</td>\n",
       "      <td>1</td>\n",
       "    </tr>\n",
       "    <tr>\n",
       "      <th>5</th>\n",
       "      <td>5</td>\n",
       "      <td>1</td>\n",
       "      <td>0</td>\n",
       "      <td>0</td>\n",
       "      <td>0</td>\n",
       "      <td>1</td>\n",
       "    </tr>\n",
       "    <tr>\n",
       "      <th>6</th>\n",
       "      <td>6</td>\n",
       "      <td>0</td>\n",
       "      <td>1</td>\n",
       "      <td>0</td>\n",
       "      <td>1</td>\n",
       "      <td>0</td>\n",
       "    </tr>\n",
       "    <tr>\n",
       "      <th>7</th>\n",
       "      <td>7</td>\n",
       "      <td>0</td>\n",
       "      <td>0</td>\n",
       "      <td>1</td>\n",
       "      <td>0</td>\n",
       "      <td>1</td>\n",
       "    </tr>\n",
       "    <tr>\n",
       "      <th>8</th>\n",
       "      <td>8</td>\n",
       "      <td>1</td>\n",
       "      <td>0</td>\n",
       "      <td>0</td>\n",
       "      <td>0</td>\n",
       "      <td>1</td>\n",
       "    </tr>\n",
       "    <tr>\n",
       "      <th>9</th>\n",
       "      <td>9</td>\n",
       "      <td>0</td>\n",
       "      <td>1</td>\n",
       "      <td>0</td>\n",
       "      <td>0</td>\n",
       "      <td>1</td>\n",
       "    </tr>\n",
       "    <tr>\n",
       "      <th>10</th>\n",
       "      <td>10</td>\n",
       "      <td>0</td>\n",
       "      <td>0</td>\n",
       "      <td>1</td>\n",
       "      <td>1</td>\n",
       "      <td>0</td>\n",
       "    </tr>\n",
       "    <tr>\n",
       "      <th>11</th>\n",
       "      <td>11</td>\n",
       "      <td>0</td>\n",
       "      <td>0</td>\n",
       "      <td>1</td>\n",
       "      <td>0</td>\n",
       "      <td>1</td>\n",
       "    </tr>\n",
       "    <tr>\n",
       "      <th>12</th>\n",
       "      <td>12</td>\n",
       "      <td>0</td>\n",
       "      <td>0</td>\n",
       "      <td>1</td>\n",
       "      <td>1</td>\n",
       "      <td>0</td>\n",
       "    </tr>\n",
       "    <tr>\n",
       "      <th>13</th>\n",
       "      <td>13</td>\n",
       "      <td>1</td>\n",
       "      <td>0</td>\n",
       "      <td>0</td>\n",
       "      <td>0</td>\n",
       "      <td>1</td>\n",
       "    </tr>\n",
       "    <tr>\n",
       "      <th>14</th>\n",
       "      <td>14</td>\n",
       "      <td>1</td>\n",
       "      <td>0</td>\n",
       "      <td>0</td>\n",
       "      <td>1</td>\n",
       "      <td>0</td>\n",
       "    </tr>\n",
       "  </tbody>\n",
       "</table>\n",
       "</div>"
      ],
      "text/plain": [
       "    Employee_id  Remarks_Good  Remarks_Great  Remarks_Nice  Gender_Female  \\\n",
       "0             0             0              0             1              0   \n",
       "1             1             1              0             0              1   \n",
       "2             2             0              1             0              1   \n",
       "3             3             0              0             1              1   \n",
       "4             4             1              0             0              0   \n",
       "5             5             1              0             0              0   \n",
       "6             6             0              1             0              1   \n",
       "7             7             0              0             1              0   \n",
       "8             8             1              0             0              0   \n",
       "9             9             0              1             0              0   \n",
       "10           10             0              0             1              1   \n",
       "11           11             0              0             1              0   \n",
       "12           12             0              0             1              1   \n",
       "13           13             1              0             0              0   \n",
       "14           14             1              0             0              1   \n",
       "\n",
       "    Gender_Male  \n",
       "0             1  \n",
       "1             0  \n",
       "2             0  \n",
       "3             0  \n",
       "4             1  \n",
       "5             1  \n",
       "6             0  \n",
       "7             1  \n",
       "8             1  \n",
       "9             1  \n",
       "10            0  \n",
       "11            1  \n",
       "12            0  \n",
       "13            1  \n",
       "14            0  "
      ]
     },
     "execution_count": 12,
     "metadata": {},
     "output_type": "execute_result"
    }
   ],
   "source": [
    "one_hot_encoded_data"
   ]
  },
  {
   "cell_type": "code",
   "execution_count": null,
   "metadata": {
    "id": "7ee102d9"
   },
   "outputs": [],
   "source": [
    "df1 = pd.DataFrame(one_hot_encoded_data)"
   ]
  },
  {
   "cell_type": "code",
   "execution_count": null,
   "metadata": {
    "id": "37cb342d"
   },
   "outputs": [],
   "source": [
    "df1.to_csv('clean_data.csv')"
   ]
  },
  {
   "cell_type": "markdown",
   "metadata": {
    "id": "17b7ce0d"
   },
   "source": [
    "### 2. Dummy Variable Encoding"
   ]
  },
  {
   "cell_type": "markdown",
   "metadata": {
    "id": "de8f5414"
   },
   "source": [
    "1. One hot encoding creates one binary variable for each category\n",
    "2. Problem is that this representation include redudancy\n",
    "3. Example [0, 0, 1]:\n",
    "    1. Red \n",
    "    2. Green\n",
    "    3. Blue"
   ]
  },
  {
   "cell_type": "markdown",
   "metadata": {
    "id": "04a2c1a4"
   },
   "source": [
    "### 2. Ordinal Encoding"
   ]
  },
  {
   "cell_type": "markdown",
   "metadata": {
    "id": "2af0b831"
   },
   "source": [
    "1. Ordinal encoding each unique category value is assigned an integer value\n",
    "2. Example[ Fruits ]:\n",
    "    1. [apple - 1]\n",
    "    2. [banana - 2]\n",
    "    3. [cherry - 3]\n",
    "    4. [Papaya - 4]\n",
    "    5. [Kiwi - 5 ]"
   ]
  },
  {
   "cell_type": "markdown",
   "metadata": {
    "id": "fde7d8d2"
   },
   "source": [
    "## 1. Label Encoding Techniques"
   ]
  },
  {
   "cell_type": "markdown",
   "metadata": {
    "id": "e9c71939"
   },
   "source": [
    "1. Label encoding is a popular encoding technique for handling categories variable\n",
    "2. Each value label [unique] \n",
    "3. Each label is assigned to a unique values based on alphabetical order"
   ]
  },
  {
   "cell_type": "code",
   "execution_count": null,
   "metadata": {
    "id": "8a6ace7f"
   },
   "outputs": [],
   "source": [
    "import numpy as np\n",
    "import pandas as pd"
   ]
  },
  {
   "cell_type": "markdown",
   "metadata": {
    "id": "92f9a238"
   },
   "source": [
    "#### Read Dataset"
   ]
  },
  {
   "cell_type": "code",
   "execution_count": null,
   "metadata": {
    "id": "c5c454c1"
   },
   "outputs": [],
   "source": [
    "df = pd.read_csv('Iris.csv')"
   ]
  },
  {
   "cell_type": "code",
   "execution_count": null,
   "metadata": {
    "id": "60366b92",
    "outputId": "a05d2f69-1ac1-4972-b5fe-d9a0033388e9"
   },
   "outputs": [
    {
     "data": {
      "text/html": [
       "<div>\n",
       "<style scoped>\n",
       "    .dataframe tbody tr th:only-of-type {\n",
       "        vertical-align: middle;\n",
       "    }\n",
       "\n",
       "    .dataframe tbody tr th {\n",
       "        vertical-align: top;\n",
       "    }\n",
       "\n",
       "    .dataframe thead th {\n",
       "        text-align: right;\n",
       "    }\n",
       "</style>\n",
       "<table border=\"1\" class=\"dataframe\">\n",
       "  <thead>\n",
       "    <tr style=\"text-align: right;\">\n",
       "      <th></th>\n",
       "      <th>Id</th>\n",
       "      <th>SepalLengthCm</th>\n",
       "      <th>SepalWidthCm</th>\n",
       "      <th>PetalLengthCm</th>\n",
       "      <th>PetalWidthCm</th>\n",
       "      <th>Species</th>\n",
       "    </tr>\n",
       "  </thead>\n",
       "  <tbody>\n",
       "    <tr>\n",
       "      <th>0</th>\n",
       "      <td>1</td>\n",
       "      <td>5.1</td>\n",
       "      <td>3.5</td>\n",
       "      <td>1.4</td>\n",
       "      <td>0.2</td>\n",
       "      <td>Iris-setosa</td>\n",
       "    </tr>\n",
       "    <tr>\n",
       "      <th>1</th>\n",
       "      <td>2</td>\n",
       "      <td>4.9</td>\n",
       "      <td>3.0</td>\n",
       "      <td>1.4</td>\n",
       "      <td>0.2</td>\n",
       "      <td>Iris-setosa</td>\n",
       "    </tr>\n",
       "    <tr>\n",
       "      <th>2</th>\n",
       "      <td>3</td>\n",
       "      <td>4.7</td>\n",
       "      <td>3.2</td>\n",
       "      <td>1.3</td>\n",
       "      <td>0.2</td>\n",
       "      <td>Iris-setosa</td>\n",
       "    </tr>\n",
       "    <tr>\n",
       "      <th>3</th>\n",
       "      <td>4</td>\n",
       "      <td>4.6</td>\n",
       "      <td>3.1</td>\n",
       "      <td>1.5</td>\n",
       "      <td>0.2</td>\n",
       "      <td>Iris-setosa</td>\n",
       "    </tr>\n",
       "    <tr>\n",
       "      <th>4</th>\n",
       "      <td>5</td>\n",
       "      <td>5.0</td>\n",
       "      <td>3.6</td>\n",
       "      <td>1.4</td>\n",
       "      <td>0.2</td>\n",
       "      <td>Iris-setosa</td>\n",
       "    </tr>\n",
       "  </tbody>\n",
       "</table>\n",
       "</div>"
      ],
      "text/plain": [
       "   Id  SepalLengthCm  SepalWidthCm  PetalLengthCm  PetalWidthCm      Species\n",
       "0   1            5.1           3.5            1.4           0.2  Iris-setosa\n",
       "1   2            4.9           3.0            1.4           0.2  Iris-setosa\n",
       "2   3            4.7           3.2            1.3           0.2  Iris-setosa\n",
       "3   4            4.6           3.1            1.5           0.2  Iris-setosa\n",
       "4   5            5.0           3.6            1.4           0.2  Iris-setosa"
      ]
     },
     "execution_count": 17,
     "metadata": {},
     "output_type": "execute_result"
    }
   ],
   "source": [
    "df.head()"
   ]
  },
  {
   "cell_type": "code",
   "execution_count": null,
   "metadata": {
    "id": "995a5f21",
    "outputId": "dc9f783c-1c09-46a9-8ec2-85edca6d381b"
   },
   "outputs": [
    {
     "data": {
      "text/plain": [
       "array(['Iris-setosa', 'Iris-versicolor', 'Iris-virginica'], dtype=object)"
      ]
     },
     "execution_count": 18,
     "metadata": {},
     "output_type": "execute_result"
    }
   ],
   "source": [
    "df['Species'].unique()"
   ]
  },
  {
   "cell_type": "markdown",
   "metadata": {
    "id": "4f3de435"
   },
   "source": [
    "#### apply Label Encoding"
   ]
  },
  {
   "cell_type": "code",
   "execution_count": null,
   "metadata": {
    "id": "150e3984"
   },
   "outputs": [],
   "source": [
    "from sklearn import preprocessing"
   ]
  },
  {
   "cell_type": "code",
   "execution_count": null,
   "metadata": {
    "id": "6e3796e7"
   },
   "outputs": [],
   "source": [
    "label_encoder = preprocessing.LabelEncoder()"
   ]
  },
  {
   "cell_type": "code",
   "execution_count": null,
   "metadata": {
    "id": "025aac10"
   },
   "outputs": [],
   "source": [
    "df['Species'] = label_encoder.fit_transform(df['Species'])"
   ]
  },
  {
   "cell_type": "code",
   "execution_count": null,
   "metadata": {
    "id": "f599dcbc",
    "outputId": "48d7ba37-4588-48d6-ae14-16578c530613"
   },
   "outputs": [
    {
     "data": {
      "text/plain": [
       "array([0, 1, 2])"
      ]
     },
     "execution_count": 22,
     "metadata": {},
     "output_type": "execute_result"
    }
   ],
   "source": [
    "df['Species'].unique()"
   ]
  },
  {
   "cell_type": "markdown",
   "metadata": {
    "id": "4f973fd8"
   },
   "source": [
    "1. Advantages\n",
    "2. Disadvantages\n",
    "3. Challeges\n",
    "4. Application"
   ]
  },
  {
   "cell_type": "markdown",
   "metadata": {
    "id": "e0785ae3"
   },
   "source": [
    "1. Machine Learning\n",
    "2. Digital Technique"
   ]
  },
  {
   "cell_type": "code",
   "execution_count": null,
   "metadata": {
    "id": "fbaaf344"
   },
   "outputs": [],
   "source": []
  }
 ],
 "metadata": {
  "colab": {
   "name": "Statistics.ipynb",
   "provenance": []
  },
  "kernelspec": {
   "display_name": "Python 3",
   "language": "python",
   "name": "python3"
  },
  "language_info": {
   "codemirror_mode": {
    "name": "ipython",
    "version": 3
   },
   "file_extension": ".py",
   "mimetype": "text/x-python",
   "name": "python",
   "nbconvert_exporter": "python",
   "pygments_lexer": "ipython3",
   "version": "3.8.5"
  }
 },
 "nbformat": 4,
 "nbformat_minor": 5
}
