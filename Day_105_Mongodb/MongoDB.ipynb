{
 "cells": [
  {
   "cell_type": "markdown",
   "metadata": {
    "id": "d45c812f"
   },
   "source": [
    "# MongoDB Database"
   ]
  },
  {
   "cell_type": "markdown",
   "metadata": {
    "id": "5e5bcaad"
   },
   "source": [
    "### What is MongoDB Database?"
   ]
  },
  {
   "cell_type": "markdown",
   "metadata": {
    "id": "1fc054c3"
   },
   "source": [
    "1. Mongo is most popular NOSQL database\n",
    "2. NoSQL databases are non-tabular databases and store data differently than relational tables.\n",
    "3. NoSQL databases come in a variety of types based on their data model.\n",
    "4. Open Source and document oriented database\n",
    "5. NoSQL statnds for Not Only Structure Query Language or 'Non Relational'\n",
    "6. NoSQL databases provides differnt mechanism for storage and retrival of data\n",
    "7. Format called as BSON (similar to JSON format)\n",
    "8. MongoDB offers hige speed,  High availability and High Scalability"
   ]
  },
  {
   "cell_type": "markdown",
   "metadata": {
    "id": "a16a1115"
   },
   "source": [
    "### Types of NoSQL Database?"
   ]
  },
  {
   "cell_type": "markdown",
   "metadata": {
    "id": "4ecb418f"
   },
   "source": [
    "1. Document Database:\n",
    "    1. store data in documents similar to JSON (JavScript Object Notation)\n",
    "    2. Each documents contains pairs of fields and values\n",
    "    3. The values can typically be a variety of types including things like strings, numbers, booleans, arrays or objects?\n",
    "2. Key-Value Database:\n",
    "    are a simpler type of database where each item contains keys and values\n",
    "3. Wide-Column Database:\n",
    "    1. store data in tables and rows, dynamic columns\n",
    "4. Graph Database:\n",
    "    1. store data in nodes and edges \n",
    "    2. Nodes typically store information about people, places, and things\n",
    "    3. while edges store information about the realtionships between the nodes"
   ]
  },
  {
   "cell_type": "markdown",
   "metadata": {
    "id": "89d84d9f"
   },
   "source": [
    "### Defination of Mongo DB"
   ]
  },
  {
   "cell_type": "markdown",
   "metadata": {
    "id": "d66bb86d"
   },
   "source": [
    "**MongoDB is cross platform, document oriented database that works on the concept of collection and documents**"
   ]
  },
  {
   "cell_type": "markdown",
   "metadata": {
    "id": "53a604c3"
   },
   "source": [
    "### Features of MongoDB"
   ]
  },
  {
   "cell_type": "markdown",
   "metadata": {
    "id": "77d922e7"
   },
   "source": [
    "1. Documents oriented\n",
    "2. Indexing\n",
    "3. Scalability - Data is Partitioned into data chunks using shord key\n",
    "4. Replication and High Availabilty\n",
    "5. Aggregation - Operation Process data record and reduced the computed result"
   ]
  },
  {
   "cell_type": "markdown",
   "metadata": {
    "id": "37b34d52"
   },
   "source": [
    "### Why do we use MongoDB database?"
   ]
  },
  {
   "cell_type": "markdown",
   "metadata": {
    "id": "46858990"
   },
   "source": [
    "1. Big Data\n",
    "2. Unstable Schema - Adding a new column in RDBMS is hard whereas \n",
    "3. Distributed Data"
   ]
  },
  {
   "cell_type": "markdown",
   "metadata": {
    "id": "a1c49ba2"
   },
   "source": [
    "#### 1. Big Data:\n",
    "    1. MongoDB has built in solution for partioning and sharding your database"
   ]
  },
  {
   "cell_type": "markdown",
   "metadata": {
    "id": "ad90c307"
   },
   "source": [
    "#### 2. Unstable Schema:\n",
    "    1. Adding a new columns in RDBMS database is hard whereas MongoDB is schema less\n",
    "    2. Adding a new feild, does not effect on old documents and will be very easy."
   ]
  },
  {
   "cell_type": "markdown",
   "metadata": {
    "id": "7862fb8d"
   },
   "source": [
    "#### 3. Distributed Data:\n",
    "    1. Multiple copies of data are stored across different severs, recovery of data is instant and safe"
   ]
  },
  {
   "cell_type": "markdown",
   "metadata": {
    "id": "aa1a5dda"
   },
   "source": [
    "#### 4. Reason for opt for MongoDB database:\n",
    "    1. It supports hirarchical Data Structure\n",
    "    2. It supports associates arrays like dictinary in Python\n",
    "    3. Built-in Python drives to connect python-application with database:\n",
    "        1. PyMongo\n",
    "    4. It is designed for Big Data\n",
    "    5. Deployement of MongoDB database is very easy"
   ]
  },
  {
   "cell_type": "markdown",
   "metadata": {
    "id": "347ae028"
   },
   "source": [
    "![difference_between_mongodb_sql.png](attachment:difference_between_mongodb_sql.png)"
   ]
  },
  {
   "cell_type": "markdown",
   "metadata": {
    "id": "e1ff9c9c"
   },
   "source": [
    "## PyMongo"
   ]
  },
  {
   "cell_type": "markdown",
   "metadata": {
    "id": "75b6312f"
   },
   "source": [
    "1. Python need a MongoDB drives to access the MongoDB database\n",
    "2. Use MongoDB drivers called as PyMongo"
   ]
  },
  {
   "cell_type": "markdown",
   "metadata": {
    "id": "d2f7ec96"
   },
   "source": [
    "### How to install PyMongo?"
   ]
  },
  {
   "cell_type": "markdown",
   "metadata": {
    "id": "6091c7af"
   },
   "source": [
    "**pip install pymongo**"
   ]
  },
  {
   "cell_type": "markdown",
   "metadata": {
    "id": "47ec41ac"
   },
   "source": [
    "### Version"
   ]
  },
  {
   "cell_type": "code",
   "execution_count": null,
   "metadata": {
    "id": "15a02ad8"
   },
   "outputs": [],
   "source": [
    "import pymongo"
   ]
  },
  {
   "cell_type": "code",
   "execution_count": null,
   "metadata": {
    "id": "e3fe429f",
    "outputId": "c1904ef5-99a3-47d7-b274-0685b1798671"
   },
   "outputs": [
    {
     "name": "stdout",
     "output_type": "stream",
     "text": [
      "<module 'pymongo' from 'C:\\\\Users\\\\shyam.DESKTOP-3EM50G2\\\\anaconda3\\\\lib\\\\site-packages\\\\pymongo\\\\__init__.py'>\n"
     ]
    }
   ],
   "source": [
    "print(pymongo)"
   ]
  },
  {
   "cell_type": "code",
   "execution_count": null,
   "metadata": {
    "id": "5719b2d4",
    "outputId": "ccd6dd96-c1cf-482f-caa8-c69a1ffa3c8f"
   },
   "outputs": [
    {
     "data": {
      "text/plain": [
       "'3.12.1'"
      ]
     },
     "execution_count": 3,
     "metadata": {},
     "output_type": "execute_result"
    }
   ],
   "source": [
    "pymongo.version"
   ]
  },
  {
   "cell_type": "code",
   "execution_count": null,
   "metadata": {
    "id": "b570653d"
   },
   "outputs": [],
   "source": []
  }
 ],
 "metadata": {
  "colab": {
   "name": "MongoDB.ipynb",
   "provenance": []
  },
  "kernelspec": {
   "display_name": "Python 3",
   "language": "python",
   "name": "python3"
  },
  "language_info": {
   "codemirror_mode": {
    "name": "ipython",
    "version": 3
   },
   "file_extension": ".py",
   "mimetype": "text/x-python",
   "name": "python",
   "nbconvert_exporter": "python",
   "pygments_lexer": "ipython3",
   "version": "3.8.5"
  }
 },
 "nbformat": 4,
 "nbformat_minor": 5
}
